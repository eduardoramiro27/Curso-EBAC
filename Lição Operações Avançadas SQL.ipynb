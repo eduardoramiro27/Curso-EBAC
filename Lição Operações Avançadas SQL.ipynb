{
 "cells": [
  {
   "cell_type": "markdown",
   "metadata": {
    "id": "2xcKXdd3WR17"
   },
   "source": [
    "# **MÓDULO 26 - Projeto Final do Aprofundamento de Analytics**"
   ]
  },
  {
   "cell_type": "markdown",
   "metadata": {
    "id": "JawTVJK2W-9v"
   },
   "source": [
    "Bem-vindos ao Projeto de Dashboard de E-commerce! Este projeto é uma oportunidade para vocês aplicarem habilidades essenciais de análise de dados em um cenário prático e realista. Vocês irão trabalhar com um conjunto de dados de transações de clientes de uma loja virtual, distribuídos em duas tabelas distintas. O objetivo final é construir um dashboard interativo que facilite a visualização e análise das informações relevantes do e-commerce, utilizando ferramentas como Looker Studio ou Power BI."
   ]
  },
  {
   "cell_type": "markdown",
   "metadata": {
    "id": "6_UQwlRYXJnG"
   },
   "source": [
    "**Objetivo do Projeto:**\n",
    "\n",
    "Tratamento de Dados: Realizar a junção (JOIN) de duas tabelas utilizando SQL para consolidar as informações.\n",
    "Análise de Dados: Exportar os dados resultantes para um arquivo CSV.\n",
    "Visualização de Dados: Desenvolver um dashboard interativo e informativo para visualização das principais métricas e insights do e-commerce."
   ]
  },
  {
   "cell_type": "markdown",
   "metadata": {
    "id": "70syl2pLXQ28"
   },
   "source": [
    "**Tabelas Disponibilizadas:**\n",
    "\n",
    "**Tabela de Transações:** Contém os registros de transações realizadas pelos clientes, incluindo detalhes como ID da transação, valor e outros.\n",
    "\n",
    "\n",
    "**Tabela de Dados Pessoais:** Contém as informações pessoais dos clientes, como ID do cliente, nome, genero, cidade, etc.\n",
    "\n",
    "**Chave de Ligação:** As tabelas se relacionam através da coluna ID_CLIENT, que é a chave identificadora dos clientes."
   ]
  },
  {
   "cell_type": "markdown",
   "metadata": {
    "id": "xkLSMEBoXeYT"
   },
   "source": [
    "# Etapas do Projeto:\n",
    "\n",
    "1. Realizar um JOIN SQL nas duas tabelas, unificando as informações através da coluna ID_CLIENT. Você deve justificar a escolha do JOIN (Inner/ Left/ Right ou Full).\n",
    "\n",
    "2. Exportar os dados consolidados resultantes do JOIN para um arquivo CSV.\n",
    "\n",
    "3. Utilizar Looker Studio ou Power BI para importar o arquivo CSV.\n",
    "\n",
    "4. Criar visualizações interativas que apresentem métricas importantes, como total de vendas, número de transações, distribuição geográfica dos clientes, perfil demográfico dos clientes, entre outros."
   ]
  },
  {
   "cell_type": "markdown",
   "metadata": {
    "id": "lRVU4Dl_X0V4"
   },
   "source": [
    "Abaixo temos a configuração do ambiente SQL:"
   ]
  },
  {
   "cell_type": "code",
   "execution_count": 11,
   "metadata": {
    "id": "5_Mqh988V-Tf"
   },
   "outputs": [],
   "source": [
    "import sqlite3\n",
    "import pandas as pd"
   ]
  },
  {
   "cell_type": "code",
   "execution_count": 13,
   "metadata": {
    "id": "JNEitpAKYJfJ"
   },
   "outputs": [],
   "source": [
    "df_transacoes = pd.read_csv(\"TB_TRANSACOES_PROJETO_ECOMM.csv\", delimiter=';')\n",
    "df_clientes = pd.read_csv(\"TB_CLIENTES_PROJETO_ECOMM.csv\", delimiter=';')"
   ]
  },
  {
   "cell_type": "code",
   "execution_count": 15,
   "metadata": {
    "colab": {
     "base_uri": "https://localhost:8080/"
    },
    "id": "WnmPtyP6YReh",
    "outputId": "7d1bb95d-1026-417a-d93e-033b91c69be8"
   },
   "outputs": [
    {
     "data": {
      "text/plain": [
       "175"
      ]
     },
     "execution_count": 15,
     "metadata": {},
     "output_type": "execute_result"
    }
   ],
   "source": [
    "conn = sqlite3.connect('projeto.db')\n",
    "# Carregar o DataFrame no banco de dados SQLite - criando tb_transacoes e tb_clientes\n",
    "df_transacoes.to_sql('tb_transacoes', conn, index=False, if_exists='replace')\n",
    "df_clientes.to_sql('tb_clientes', conn, index=False, if_exists='replace')"
   ]
  },
  {
   "cell_type": "code",
   "execution_count": 17,
   "metadata": {
    "id": "pMOeIO95Yfm4"
   },
   "outputs": [],
   "source": [
    "# Função para executar consultas SQL e retornar o resultado como um DataFrame\n",
    "def run_query(query):\n",
    "    return pd.read_sql_query(query, conn)"
   ]
  },
  {
   "cell_type": "code",
   "execution_count": 30,
   "metadata": {
    "id": "lMSQyM6qaIEu"
   },
   "outputs": [
    {
     "data": {
      "text/html": [
       "<div>\n",
       "<style scoped>\n",
       "    .dataframe tbody tr th:only-of-type {\n",
       "        vertical-align: middle;\n",
       "    }\n",
       "\n",
       "    .dataframe tbody tr th {\n",
       "        vertical-align: top;\n",
       "    }\n",
       "\n",
       "    .dataframe thead th {\n",
       "        text-align: right;\n",
       "    }\n",
       "</style>\n",
       "<table border=\"1\" class=\"dataframe\">\n",
       "  <thead>\n",
       "    <tr style=\"text-align: right;\">\n",
       "      <th></th>\n",
       "      <th>id_client</th>\n",
       "      <th>Category</th>\n",
       "      <th>Price</th>\n",
       "      <th>Card Type</th>\n",
       "      <th>state_name</th>\n",
       "      <th>First_name</th>\n",
       "      <th>Gender</th>\n",
       "      <th>Job_Title</th>\n",
       "      <th>Id_client</th>\n",
       "    </tr>\n",
       "  </thead>\n",
       "  <tbody>\n",
       "    <tr>\n",
       "      <th>0</th>\n",
       "      <td>37</td>\n",
       "      <td>Electronics</td>\n",
       "      <td>72,93</td>\n",
       "      <td>mastercard</td>\n",
       "      <td>ND</td>\n",
       "      <td>Cornie</td>\n",
       "      <td>Genderqueer</td>\n",
       "      <td>Editor</td>\n",
       "      <td>37.0</td>\n",
       "    </tr>\n",
       "    <tr>\n",
       "      <th>1</th>\n",
       "      <td>38</td>\n",
       "      <td>Jewelry</td>\n",
       "      <td>121,89</td>\n",
       "      <td>mastercard</td>\n",
       "      <td>PA</td>\n",
       "      <td>Rab</td>\n",
       "      <td>Male</td>\n",
       "      <td>Assistant Manager</td>\n",
       "      <td>38.0</td>\n",
       "    </tr>\n",
       "    <tr>\n",
       "      <th>2</th>\n",
       "      <td>39</td>\n",
       "      <td>Baby</td>\n",
       "      <td>64,3</td>\n",
       "      <td>mastercard</td>\n",
       "      <td>MA</td>\n",
       "      <td>Codie</td>\n",
       "      <td>Female</td>\n",
       "      <td>Financial Analyst</td>\n",
       "      <td>39.0</td>\n",
       "    </tr>\n",
       "    <tr>\n",
       "      <th>3</th>\n",
       "      <td>40</td>\n",
       "      <td>Outdoors</td>\n",
       "      <td>9,48</td>\n",
       "      <td>mastercard</td>\n",
       "      <td>OR</td>\n",
       "      <td>Scott</td>\n",
       "      <td>Female</td>\n",
       "      <td>Civil Engineer</td>\n",
       "      <td>40.0</td>\n",
       "    </tr>\n",
       "    <tr>\n",
       "      <th>4</th>\n",
       "      <td>5</td>\n",
       "      <td>Outdoors</td>\n",
       "      <td>61,95</td>\n",
       "      <td>mastercard</td>\n",
       "      <td>MN</td>\n",
       "      <td>Tanney</td>\n",
       "      <td>Female</td>\n",
       "      <td>VP Marketing</td>\n",
       "      <td>5.0</td>\n",
       "    </tr>\n",
       "    <tr>\n",
       "      <th>...</th>\n",
       "      <td>...</td>\n",
       "      <td>...</td>\n",
       "      <td>...</td>\n",
       "      <td>...</td>\n",
       "      <td>...</td>\n",
       "      <td>...</td>\n",
       "      <td>...</td>\n",
       "      <td>...</td>\n",
       "      <td>...</td>\n",
       "    </tr>\n",
       "    <tr>\n",
       "      <th>362</th>\n",
       "      <td>363</td>\n",
       "      <td>Jewelry</td>\n",
       "      <td>44,32</td>\n",
       "      <td>mastercard</td>\n",
       "      <td>None</td>\n",
       "      <td>None</td>\n",
       "      <td>None</td>\n",
       "      <td>None</td>\n",
       "      <td>NaN</td>\n",
       "    </tr>\n",
       "    <tr>\n",
       "      <th>363</th>\n",
       "      <td>364</td>\n",
       "      <td>Kids</td>\n",
       "      <td>120,42</td>\n",
       "      <td>mastercard</td>\n",
       "      <td>None</td>\n",
       "      <td>None</td>\n",
       "      <td>None</td>\n",
       "      <td>None</td>\n",
       "      <td>NaN</td>\n",
       "    </tr>\n",
       "    <tr>\n",
       "      <th>364</th>\n",
       "      <td>365</td>\n",
       "      <td>Grocery</td>\n",
       "      <td>24,31</td>\n",
       "      <td>mastercard</td>\n",
       "      <td>None</td>\n",
       "      <td>None</td>\n",
       "      <td>None</td>\n",
       "      <td>None</td>\n",
       "      <td>NaN</td>\n",
       "    </tr>\n",
       "    <tr>\n",
       "      <th>365</th>\n",
       "      <td>366</td>\n",
       "      <td>Tools</td>\n",
       "      <td>111,53</td>\n",
       "      <td>mastercard</td>\n",
       "      <td>None</td>\n",
       "      <td>None</td>\n",
       "      <td>None</td>\n",
       "      <td>None</td>\n",
       "      <td>NaN</td>\n",
       "    </tr>\n",
       "    <tr>\n",
       "      <th>366</th>\n",
       "      <td>367</td>\n",
       "      <td>Computers</td>\n",
       "      <td>84,57</td>\n",
       "      <td>mastercard</td>\n",
       "      <td>None</td>\n",
       "      <td>None</td>\n",
       "      <td>None</td>\n",
       "      <td>None</td>\n",
       "      <td>NaN</td>\n",
       "    </tr>\n",
       "  </tbody>\n",
       "</table>\n",
       "<p>367 rows × 9 columns</p>\n",
       "</div>"
      ],
      "text/plain": [
       "     id_client     Category   Price   Card Type state_name First_name  \\\n",
       "0           37  Electronics   72,93  mastercard         ND     Cornie   \n",
       "1           38      Jewelry  121,89  mastercard         PA        Rab   \n",
       "2           39         Baby    64,3  mastercard         MA      Codie   \n",
       "3           40     Outdoors    9,48  mastercard         OR      Scott   \n",
       "4            5     Outdoors   61,95  mastercard         MN     Tanney   \n",
       "..         ...          ...     ...         ...        ...        ...   \n",
       "362        363      Jewelry   44,32  mastercard       None       None   \n",
       "363        364         Kids  120,42  mastercard       None       None   \n",
       "364        365      Grocery   24,31  mastercard       None       None   \n",
       "365        366        Tools  111,53  mastercard       None       None   \n",
       "366        367    Computers   84,57  mastercard       None       None   \n",
       "\n",
       "          Gender          Job_Title  Id_client  \n",
       "0    Genderqueer             Editor       37.0  \n",
       "1           Male  Assistant Manager       38.0  \n",
       "2         Female  Financial Analyst       39.0  \n",
       "3         Female     Civil Engineer       40.0  \n",
       "4         Female       VP Marketing        5.0  \n",
       "..           ...                ...        ...  \n",
       "362         None               None        NaN  \n",
       "363         None               None        NaN  \n",
       "364         None               None        NaN  \n",
       "365         None               None        NaN  \n",
       "366         None               None        NaN  \n",
       "\n",
       "[367 rows x 9 columns]"
      ]
     },
     "execution_count": 30,
     "metadata": {},
     "output_type": "execute_result"
    }
   ],
   "source": [
    "query = \"\"\"\n",
    "SELECT\n",
    "*\n",
    "FROM tb_transacoes AS A\n",
    "LEFT JOIN tb_clientes AS B\n",
    "ON A.id_client = B.Id_client\n",
    "\"\"\"\n",
    "df = pd.read_sql(query, conn)\n",
    "df"
   ]
  },
  {
   "cell_type": "markdown",
   "metadata": {
    "id": "PfsVPMwQZlNe"
   },
   "source": [
    "Justifique a escolha do JOIN:"
   ]
  },
  {
   "cell_type": "markdown",
   "metadata": {},
   "source": [
    "Escolhi o LEFT JOIN pelo fato de poder unir os dados da tabela da esquerda e criar insights a partir deles, sem precisar dos dados da tabela da direita, que são mais limitados, e também, não interfere em nada trazer a tabela da esquerda toda, só tem a ajudar."
   ]
  },
  {
   "cell_type": "markdown",
   "metadata": {
    "id": "ca7R_MgCZ2eh"
   },
   "source": [
    "Exportando o arquivo como CSV:"
   ]
  },
  {
   "cell_type": "code",
   "execution_count": 35,
   "metadata": {
    "id": "06eFgBSpZ4Xh"
   },
   "outputs": [],
   "source": [
    "df.to_csv('dados_ecommerce_final.csv', index=False)"
   ]
  },
  {
   "cell_type": "markdown",
   "metadata": {
    "id": "yWnbq4nraMNv"
   },
   "source": [
    "**Dicas para o projeto:**\n",
    "- Se atente que, como o mesmo cliente realiza mais de 1 transação quando você for trazer alguma métrica relacionada a dados do cliente terá que utilizar o distinct para criar essas métricas no dashboard, se não acabará tendo os dados repetidos.\n",
    "\n",
    "- Análise sua tabela, entenda a dimensão dos dados, no excel, antes de enviar para o Powerbi ou Looker Studio.\n",
    "\n",
    "- Tente montar preveamente um roteiro de quais métricas e visualizações irá colocar no dashboard, isso tornará seu processo mais rápido.\n",
    "\n",
    "- Qualquer dificuldade para subir sua base para as ferramentas de visualização envie a base e o erro encontrado para que os tutores possam te ajudar."
   ]
  }
 ],
 "metadata": {
  "colab": {
   "provenance": []
  },
  "kernelspec": {
   "display_name": "Python 3 (ipykernel)",
   "language": "python",
   "name": "python3"
  },
  "language_info": {
   "codemirror_mode": {
    "name": "ipython",
    "version": 3
   },
   "file_extension": ".py",
   "mimetype": "text/x-python",
   "name": "python",
   "nbconvert_exporter": "python",
   "pygments_lexer": "ipython3",
   "version": "3.12.7"
  }
 },
 "nbformat": 4,
 "nbformat_minor": 4
}
