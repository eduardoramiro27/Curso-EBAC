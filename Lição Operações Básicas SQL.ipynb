{
 "cells": [
  {
   "cell_type": "markdown",
   "metadata": {
    "id": "4T5dCtwYXFS0"
   },
   "source": [
    "# **MÓDULO 25 - Operações Básicas SQL**"
   ]
  },
  {
   "cell_type": "markdown",
   "metadata": {
    "id": "tGub_MhcXTfu"
   },
   "source": [
    "Para nossa atividade inicial de SQL trabalharemos com uma base de vendas.\n",
    "Abaixo temos o ambiente de preparo para trabalharmos com o SQL lite."
   ]
  },
  {
   "cell_type": "code",
   "execution_count": 5,
   "metadata": {
    "id": "eQtWi0CfXCPn"
   },
   "outputs": [],
   "source": [
    "import sqlite3 #Importando a biblioteca necessária\n",
    "import pandas as pd"
   ]
  },
  {
   "cell_type": "code",
   "execution_count": 7,
   "metadata": {
    "id": "yKsW2EEpXQTK"
   },
   "outputs": [],
   "source": [
    "df_vendas = pd.read_csv(\"TB_VENDAS_TAREFA.csv\", delimiter=';')"
   ]
  },
  {
   "cell_type": "code",
   "execution_count": 9,
   "metadata": {
    "colab": {
     "base_uri": "https://localhost:8080/"
    },
    "id": "vbdvMKZgXtT5",
    "outputId": "aa99ea0f-70a5-40d2-c1c8-3230f04491b7"
   },
   "outputs": [
    {
     "data": {
      "text/plain": [
       "24"
      ]
     },
     "execution_count": 9,
     "metadata": {},
     "output_type": "execute_result"
    }
   ],
   "source": [
    "conn = sqlite3.connect(':memory:')\n",
    "df_vendas.to_sql('tb_vendas', conn, index=False, if_exists='replace')"
   ]
  },
  {
   "cell_type": "code",
   "execution_count": 11,
   "metadata": {
    "id": "Z3-elg3aXuiM"
   },
   "outputs": [],
   "source": [
    "def run_query(query):\n",
    "    return pd.read_sql_query(query, conn)"
   ]
  },
  {
   "cell_type": "code",
   "execution_count": 13,
   "metadata": {},
   "outputs": [
    {
     "name": "stdout",
     "output_type": "stream",
     "text": [
      "    ID_COMPRA  ID_CLIENTE   PRODUTO VALOR_UNID  UNIDADES\n",
      "0        1247        9081  CAMISETA       34,5         2\n",
      "1        1248        9081     CALCA       89,9         1\n",
      "2        1250        9560  CAMISETA       34,5         1\n",
      "3        1249        9630   BERMUDA       79,5         2\n",
      "4        1251        9425  CAMISETA       34,5         3\n",
      "5        1252        9425   VESTIDO        102         1\n",
      "6        1253        9481     CALCA       89,9         2\n",
      "7        1254        9785      MEIA       25,9         1\n",
      "8        1255        9786     CALCA       89,9         2\n",
      "9        1256        9787   VESTIDO        102         1\n",
      "10       1257        9788     CALCA       89,9         2\n",
      "11       1258        9789  CAMISETA       34,5         3\n",
      "12       1259        9790  CAMISETA       34,5         1\n",
      "13       1260        9791   BERMUDA       79,5         2\n",
      "14       1261        9792  CAMISETA       34,5         2\n",
      "15       1262        9793     CALCA       89,9         2\n",
      "16       1263        9794     CALCA       89,9         1\n",
      "17       1264        9795   BERMUDA       79,5         2\n",
      "18       1265        9796  CAMISETA       34,5         4\n",
      "19       1266        9797  CAMISETA       34,5         1\n",
      "20       1267        9798   VESTIDO        102         2\n",
      "21       1268        9799      MEIA       25,9         3\n",
      "22       1269        9800  CAMISETA       34,5         2\n",
      "23       1270        9801     CALCA       89,9         1\n"
     ]
    }
   ],
   "source": [
    "query = \"SELECT * FROM tb_vendas\"\n",
    "result_df = run_query(query)\n",
    "print(result_df)"
   ]
  },
  {
   "cell_type": "markdown",
   "metadata": {
    "id": "Z_EFXuNLXz7m"
   },
   "source": [
    "# 1) Faça uma consulta que retorne os nomes dos produtos distintos que temos na base de venda.\n"
   ]
  },
  {
   "cell_type": "code",
   "execution_count": 16,
   "metadata": {
    "id": "RXZK6kTcZ4BR"
   },
   "outputs": [
    {
     "name": "stdout",
     "output_type": "stream",
     "text": [
      "    PRODUTO\n",
      "0  CAMISETA\n",
      "1     CALCA\n",
      "2   BERMUDA\n",
      "3   VESTIDO\n",
      "4      MEIA\n"
     ]
    }
   ],
   "source": [
    "query = \"\"\"\n",
    "SELECT\n",
    "DISTINCT(PRODUTO)\n",
    "FROM\n",
    "tb_vendas\n",
    "\"\"\"\n",
    "result_df = run_query(query)\n",
    "print(result_df)"
   ]
  },
  {
   "cell_type": "markdown",
   "metadata": {
    "id": "i0m1rdHk1kHc"
   },
   "source": [
    "# 2) Faça uma consulta que retorne a contagem dos clientes distintos que temos na nossa base, não esqueça de renomear sua coluna.\n",
    "\n",
    "Dica: Você pode usar o distinct dentro do count()"
   ]
  },
  {
   "cell_type": "code",
   "execution_count": 19,
   "metadata": {
    "id": "uDGHdqIwZ72P"
   },
   "outputs": [
    {
     "name": "stdout",
     "output_type": "stream",
     "text": [
      "   CONTAGEM_CLIENTES\n",
      "0                 22\n"
     ]
    }
   ],
   "source": [
    "query = \"\"\"\n",
    "SELECT\n",
    "COUNT(DISTINCT(ID_CLIENTE)) AS CONTAGEM_CLIENTES\n",
    "FROM tb_vendas\n",
    "\"\"\"\n",
    "result_df = run_query(query)\n",
    "print(result_df)"
   ]
  },
  {
   "cell_type": "markdown",
   "metadata": {
    "id": "OvDezkJ516jd"
   },
   "source": [
    "# 3) Faça uma consulta que retorne uma coluna com os produtos distintos e o valor_unid de cada produto. Porém apenas para produtos onde o valor_unid é maior ou igual a 50 reais."
   ]
  },
  {
   "cell_type": "code",
   "execution_count": 22,
   "metadata": {
    "id": "_Feprb8JZ9Cg"
   },
   "outputs": [
    {
     "name": "stdout",
     "output_type": "stream",
     "text": [
      "   PRODUTO VALOR_UNID\n",
      "0    CALCA       89,9\n",
      "1  BERMUDA       79,5\n"
     ]
    }
   ],
   "source": [
    "query = \"\"\"\n",
    "SELECT\n",
    "DISTINCT(PRODUTO),\n",
    "VALOR_UNID\n",
    "FROM\n",
    "tb_vendas\n",
    "WHERE VALOR_UNID >= 50\n",
    "\"\"\"\n",
    "result_df = run_query(query)\n",
    "print(result_df)"
   ]
  },
  {
   "cell_type": "markdown",
   "metadata": {
    "id": "jcxg6MuX2c61"
   },
   "source": [
    "# [DESAFIO] 4) Faça uma consulta que retorne o ID das compras e o valor total gasto nessa compra (Valor_unidade X Unidades) das 5 compras com mais valor total gasto."
   ]
  },
  {
   "cell_type": "code",
   "execution_count": 25,
   "metadata": {
    "id": "rtmlv-MyZ99R"
   },
   "outputs": [
    {
     "name": "stdout",
     "output_type": "stream",
     "text": [
      "   ID_COMPRA  VALOR_COMPRA\n",
      "0       1267           204\n",
      "1       1253           178\n",
      "2       1255           178\n",
      "3       1257           178\n",
      "4       1262           178\n"
     ]
    }
   ],
   "source": [
    "query = \"\"\"\n",
    "SELECT\n",
    "ID_COMPRA,\n",
    "(VALOR_UNID * UNIDADES) AS VALOR_COMPRA\n",
    "FROM\n",
    "tb_vendas\n",
    "ORDER BY VALOR_COMPRA DESC\n",
    "LIMIT 5\n",
    "\"\"\"\n",
    "result_df = run_query(query)\n",
    "print(result_df)"
   ]
  },
  {
   "cell_type": "markdown",
   "metadata": {
    "id": "NJXkUmwH3EkG"
   },
   "source": [
    "# 5) Faça uma consulta que retorne os produtos e a média do preço da unidade dos produtos, ordenando do maior para o menor."
   ]
  },
  {
   "cell_type": "code",
   "execution_count": 28,
   "metadata": {
    "id": "el35t_f8Z_-j"
   },
   "outputs": [
    {
     "name": "stdout",
     "output_type": "stream",
     "text": [
      "    PRODUTO  MÉDIA_UNID\n",
      "0   VESTIDO       102.0\n",
      "1     CALCA        89.0\n",
      "2   BERMUDA        79.0\n",
      "3  CAMISETA        34.0\n",
      "4      MEIA        25.0\n"
     ]
    }
   ],
   "source": [
    "query = \"\"\"\n",
    "SELECT\n",
    "DISTINCT(PRODUTO),\n",
    "AVG(VALOR_UNID) AS MÉDIA_UNID\n",
    "FROM\n",
    "tb_vendas\n",
    "GROUP BY PRODUTO\n",
    "ORDER BY MÉDIA_UNID DESC\n",
    "\"\"\"\n",
    "result_df = run_query(query)\n",
    "print(result_df)"
   ]
  },
  {
   "cell_type": "markdown",
   "metadata": {
    "id": "KR1f3qbB3s8D"
   },
   "source": [
    "# 6) Faça uma consulta que retorne o id dos 3 clientes da base de vendas que mais relalizaram compras e a quantidade de compras realizadas."
   ]
  },
  {
   "cell_type": "code",
   "execution_count": 31,
   "metadata": {
    "id": "ZLZ8mkXjaA-f"
   },
   "outputs": [
    {
     "name": "stdout",
     "output_type": "stream",
     "text": [
      "   ID_CLIENTE  UNIDADES\n",
      "0        9796         4\n",
      "1        9425         3\n",
      "2        9789         3\n"
     ]
    }
   ],
   "source": [
    "query = \"\"\"\n",
    "SELECT\n",
    "ID_CLIENTE,\n",
    "UNIDADES\n",
    "FROM\n",
    "tb_vendas\n",
    "ORDER BY UNIDADES DESC\n",
    "LIMIT 3\n",
    "\"\"\"\n",
    "result_df = run_query(query)\n",
    "print(result_df)"
   ]
  }
 ],
 "metadata": {
  "colab": {
   "provenance": []
  },
  "kernelspec": {
   "display_name": "Python 3 (ipykernel)",
   "language": "python",
   "name": "python3"
  },
  "language_info": {
   "codemirror_mode": {
    "name": "ipython",
    "version": 3
   },
   "file_extension": ".py",
   "mimetype": "text/x-python",
   "name": "python",
   "nbconvert_exporter": "python",
   "pygments_lexer": "ipython3",
   "version": "3.12.7"
  }
 },
 "nbformat": 4,
 "nbformat_minor": 4
}
