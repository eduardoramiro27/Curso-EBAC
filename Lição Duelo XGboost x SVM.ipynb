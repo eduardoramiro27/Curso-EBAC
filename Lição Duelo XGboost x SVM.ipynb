{
 "cells": [
  {
   "cell_type": "markdown",
   "metadata": {
    "id": "X2EpQW3E84Ya"
   },
   "source": [
    "# **Exercicio Duelo de Modelos 4**"
   ]
  },
  {
   "cell_type": "markdown",
   "metadata": {
    "id": "Dqo2ronY9w4E"
   },
   "source": [
    "Nesta tarefa, vocês irão criar o seu próprio duelo de modelos, com o objetivo de superar os resultados apresentados em aula. O desafio é alcançar um desempenho superior ao que obtivemos, e para isso, será necessário aplicar todas as melhorias que vocês aprenderam ao longo dos módulos, utilizando a base de dados do Titanic."
   ]
  },
  {
   "cell_type": "markdown",
   "metadata": {
    "id": "ZG3kKnOQ91xm"
   },
   "source": [
    "**1. Escolha do Modelo:**\n",
    "Selecione um dos modelos que foram explorados nos duelos de modelos ao longo do curso. Pode ser SVM, Random Forest, XGBoost, ou qualquer outro que tenhamos abordado."
   ]
  },
  {
   "cell_type": "markdown",
   "metadata": {
    "id": "dVrtylnB97mf"
   },
   "source": [
    "**2. Aperfeiçoamento:**\n",
    "**Aplique as técnicas que aprendemos para melhorar o desempenho do seu modelo:**\n",
    "\n",
    "**Hiperparâmetros:** Utilize GridSearchCV ou RandomSearchCV para encontrar os melhores parâmetros.\n",
    "\n",
    "**Cross Validation:** Avalie a robustez do modelo utilizando validação cruzada para garantir que ele generaliza bem.\n",
    "\n",
    "**Balanceamento de Classes:** Se o seu modelo lida com problemas de classes desbalanceadas, explore técnicas como SMOTE, undersampling ou oversampling.\n",
    "\n",
    "**Padronização e Normalização:** Lembre-se de padronizar os dados, especialmente se for usar modelos que são sensíveis à escala das variáveis."
   ]
  },
  {
   "cell_type": "markdown",
   "metadata": {
    "id": "l5nrSntC-GtC"
   },
   "source": [
    "**3. Submissão no Kaggle:**\n",
    "Treine o seu modelo com os dados de treino e gere as previsões para os dados de teste. Lembre-se de que o conjunto de teste não possui a variável alvo (y_test), pois a avaliação será feita com base nas submissões no Kaggle.\n",
    "Submeta suas previsões na competição do Titanic no Kaggle."
   ]
  },
  {
   "cell_type": "markdown",
   "metadata": {
    "id": "I3k5a5jD-M2Q"
   },
   "source": [
    "**4. Entrega:**\n",
    "Envie o código que você desenvolveu, detalhando cada etapa do seu processo de modelagem, explicando as escolhas feitas e como essas ajudaram a melhorar o modelo.\n",
    "\n",
    "Junto com o código, envie um print do seu score obtido na plataforma do Kaggle. Esse score será a sua métrica final de avaliação, mostrando como o seu modelo se compara com os demais."
   ]
  },
  {
   "cell_type": "markdown",
   "metadata": {
    "id": "MnLbij2e-QLX"
   },
   "source": [
    "**5. Competição Saudável:**\n",
    "A ideia é trazer um senso de competição saudável, então não vale replicar exatamente o que fizemos na aula! Inove, explore novas combinações de parâmetros e técnicas, e mostre do que é capaz. O importante é exercitar o pensamento crítico e a capacidade de experimentar."
   ]
  },
  {
   "cell_type": "markdown",
   "metadata": {
    "id": "K0LftJMB-Vlu"
   },
   "source": [
    "**Dicas Finais:**\n",
    "\n",
    "Seja criativo e tenha um olhar crítico sobre o que pode ser melhorado.\n",
    "Teste diferentes abordagens e não se prenda a um único caminho.\n",
    "Lembre-se de que, mais do que alcançar o melhor score, o objetivo é aprender e aplicar o conhecimento de forma prática e eficaz.\n",
    "Boa sorte! Estamos ansiosos para ver como cada um de vocês vai se sair nesse desafio e quais insights irão surgir dessa competição!"
   ]
  },
  {
   "cell_type": "markdown",
   "metadata": {
    "id": "BE1hkFA6-XOM"
   },
   "source": [
    "Ao final dessa atividade vocês terão participado da primeira competição publica de ciência de dados de vocês = )\n",
    "\n",
    "\n"
   ]
  },
  {
   "cell_type": "code",
   "execution_count": null,
   "metadata": {
    "id": "4lQbGSKx82A5"
   },
   "outputs": [],
   "source": []
  }
 ],
 "metadata": {
  "colab": {
   "provenance": []
  },
  "kernelspec": {
   "display_name": "Python 3 (ipykernel)",
   "language": "python",
   "name": "python3"
  },
  "language_info": {
   "codemirror_mode": {
    "name": "ipython",
    "version": 3
   },
   "file_extension": ".py",
   "mimetype": "text/x-python",
   "name": "python",
   "nbconvert_exporter": "python",
   "pygments_lexer": "ipython3",
   "version": "3.12.7"
  }
 },
 "nbformat": 4,
 "nbformat_minor": 4
}
