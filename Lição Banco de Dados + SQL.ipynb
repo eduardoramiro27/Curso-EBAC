{
 "cells": [
  {
   "cell_type": "markdown",
   "metadata": {
    "id": "4T5dCtwYXFS0"
   },
   "source": [
    "# **MÓDULO 24 - Bancos de Dados + SQL**"
   ]
  },
  {
   "cell_type": "markdown",
   "metadata": {
    "id": "tGub_MhcXTfu"
   },
   "source": [
    "Para nossa atividade inicial de SQL trabalharemos com uma base de vendas.\n",
    "Abaixo temos o ambiente de preparo para trabalharmos com o SQL lite."
   ]
  },
  {
   "cell_type": "code",
   "execution_count": 3,
   "metadata": {
    "id": "eQtWi0CfXCPn"
   },
   "outputs": [],
   "source": [
    "import sqlite3 #Importando a biblioteca necessária\n",
    "import pandas as pd"
   ]
  },
  {
   "cell_type": "code",
   "execution_count": 4,
   "metadata": {
    "id": "yKsW2EEpXQTK"
   },
   "outputs": [],
   "source": [
    "df_vendas = pd.read_csv(\"TB_VENDAS_TAREFA.csv\", delimiter=';')"
   ]
  },
  {
   "cell_type": "code",
   "execution_count": 5,
   "metadata": {},
   "outputs": [],
   "source": [
    "df_vendas['VALOR_UNID'] = df_vendas['VALOR_UNID'].str.replace(',', '.').astype(float)"
   ]
  },
  {
   "cell_type": "code",
   "execution_count": 9,
   "metadata": {
    "colab": {
     "base_uri": "https://localhost:8080/"
    },
    "id": "vbdvMKZgXtT5",
    "outputId": "4ce7afac-73b7-4ff8-b010-2021cc410f6f"
   },
   "outputs": [
    {
     "data": {
      "text/plain": [
       "24"
      ]
     },
     "execution_count": 9,
     "metadata": {},
     "output_type": "execute_result"
    }
   ],
   "source": [
    "conn = sqlite3.connect(':memory:')\n",
    "df_vendas.to_sql('tb_vendas', conn, index=False, if_exists='replace')"
   ]
  },
  {
   "cell_type": "code",
   "execution_count": 11,
   "metadata": {
    "id": "Z3-elg3aXuiM"
   },
   "outputs": [],
   "source": [
    "def run_query(query):\n",
    "    return pd.read_sql_query(query, conn)"
   ]
  },
  {
   "cell_type": "markdown",
   "metadata": {
    "id": "Z_EFXuNLXz7m"
   },
   "source": [
    "# 1) Faça uma consulta que retorne todos os dados da nossa tabela de vendas, com todas linhas e todas colunas.\n"
   ]
  },
  {
   "cell_type": "code",
   "execution_count": 14,
   "metadata": {
    "id": "XQr_MBvmb4yC"
   },
   "outputs": [
    {
     "name": "stdout",
     "output_type": "stream",
     "text": [
      "    ID_COMPRA  ID_CLIENTE   PRODUTO  VALOR_UNID  UNIDADES\n",
      "0        1247        9081  CAMISETA        34.5         2\n",
      "1        1248        9081     CALCA        89.9         1\n",
      "2        1250        9560  CAMISETA        34.5         1\n",
      "3        1249        9630   BERMUDA        79.5         2\n",
      "4        1251        9425  CAMISETA        34.5         3\n",
      "5        1252        9425   VESTIDO       102.0         1\n",
      "6        1253        9481     CALCA        89.9         2\n",
      "7        1254        9785      MEIA        25.9         1\n",
      "8        1255        9786     CALCA        89.9         2\n",
      "9        1256        9787   VESTIDO       102.0         1\n",
      "10       1257        9788     CALCA        89.9         2\n",
      "11       1258        9789  CAMISETA        34.5         3\n",
      "12       1259        9790  CAMISETA        34.5         1\n",
      "13       1260        9791   BERMUDA        79.5         2\n",
      "14       1261        9792  CAMISETA        34.5         2\n",
      "15       1262        9793     CALCA        89.9         2\n",
      "16       1263        9794     CALCA        89.9         1\n",
      "17       1264        9795   BERMUDA        79.5         2\n",
      "18       1265        9796  CAMISETA        34.5         4\n",
      "19       1266        9797  CAMISETA        34.5         1\n",
      "20       1267        9798   VESTIDO       102.0         2\n",
      "21       1268        9799      MEIA        25.9         3\n",
      "22       1269        9800  CAMISETA        34.5         2\n",
      "23       1270        9801     CALCA        89.9         1\n"
     ]
    }
   ],
   "source": [
    "query = \"SELECT * FROM tb_vendas\"\n",
    "result_df = run_query(query)\n",
    "print(result_df)"
   ]
  },
  {
   "cell_type": "markdown",
   "metadata": {
    "id": "nyhYEkRLYMNY"
   },
   "source": [
    "# 2) Faça uma consulta que retorne apenas 10 linhas da coluna produto.\n"
   ]
  },
  {
   "cell_type": "code",
   "execution_count": 17,
   "metadata": {
    "id": "LfKnVQUCYLxE"
   },
   "outputs": [
    {
     "name": "stdout",
     "output_type": "stream",
     "text": [
      "    PRODUTO\n",
      "0  CAMISETA\n",
      "1     CALCA\n",
      "2  CAMISETA\n",
      "3   BERMUDA\n",
      "4  CAMISETA\n",
      "5   VESTIDO\n",
      "6     CALCA\n",
      "7      MEIA\n",
      "8     CALCA\n",
      "9   VESTIDO\n"
     ]
    }
   ],
   "source": [
    "query = \"SELECT PRODUTO FROM tb_vendas limit 10\"\n",
    "result_df = run_query(query)\n",
    "print(result_df)"
   ]
  },
  {
   "cell_type": "markdown",
   "metadata": {
    "id": "-hqcrP6CYiGF"
   },
   "source": [
    "# 3) Faça uma consulta que retorne a média do valor por unidade e também das unidades vendidas. Não se esqueça de renomear o nome das colunas ao cria-las."
   ]
  },
  {
   "cell_type": "code",
   "execution_count": 20,
   "metadata": {
    "id": "v1aJMTkMYhm4"
   },
   "outputs": [
    {
     "name": "stdout",
     "output_type": "stream",
     "text": [
      "   MÉDIA_VALOR_UNID\n",
      "0         64.004167\n"
     ]
    }
   ],
   "source": [
    "query = \"SELECT AVG(VALOR_UNID) AS MÉDIA_VALOR_UNID FROM tb_vendas\"\n",
    "result_df = run_query(query)\n",
    "print(result_df)"
   ]
  },
  {
   "cell_type": "code",
   "execution_count": 22,
   "metadata": {},
   "outputs": [
    {
     "name": "stdout",
     "output_type": "stream",
     "text": [
      "   MÉDIA_UNIDADES\n",
      "0        1.833333\n"
     ]
    }
   ],
   "source": [
    "query = \"SELECT AVG(UNIDADES) AS MÉDIA_UNIDADES FROM tb_vendas\"\n",
    "result_df = run_query(query)\n",
    "print(result_df)"
   ]
  },
  {
   "cell_type": "markdown",
   "metadata": {
    "id": "UJUIsVjAY8Jz"
   },
   "source": [
    "# 4) Note que na nossa tabela não temos o total de valor gasto por compra, temos o valor do produto e a quantidade vendida, para termos o valor total precisamos multiplicar essas duas colunas e para multiplicar colunas usamos o *.\n",
    "# Faça uma consulta que retorne a coluna ID_COMPRA, ID_CLIENTE e o valor total gasto.\n",
    "\n",
    "Ex: SELECT TICKET_MEDIO*UNIDADE FROM TB_EXEMPLO"
   ]
  },
  {
   "cell_type": "code",
   "execution_count": 31,
   "metadata": {
    "id": "rNQfkp6RY7qa"
   },
   "outputs": [
    {
     "name": "stdout",
     "output_type": "stream",
     "text": [
      "    ID_COMPRA  ID_CLIENTE  TICKET_MÉDIO\n",
      "0        1247        9081          69.0\n",
      "1        1248        9081          89.9\n",
      "2        1250        9560          34.5\n",
      "3        1249        9630         159.0\n",
      "4        1251        9425         103.5\n",
      "5        1252        9425         102.0\n",
      "6        1253        9481         179.8\n",
      "7        1254        9785          25.9\n",
      "8        1255        9786         179.8\n",
      "9        1256        9787         102.0\n",
      "10       1257        9788         179.8\n",
      "11       1258        9789         103.5\n",
      "12       1259        9790          34.5\n",
      "13       1260        9791         159.0\n",
      "14       1261        9792          69.0\n",
      "15       1262        9793         179.8\n",
      "16       1263        9794          89.9\n",
      "17       1264        9795         159.0\n",
      "18       1265        9796         138.0\n",
      "19       1266        9797          34.5\n",
      "20       1267        9798         204.0\n",
      "21       1268        9799          77.7\n",
      "22       1269        9800          69.0\n",
      "23       1270        9801          89.9\n"
     ]
    }
   ],
   "source": [
    "query = \"SELECT ID_COMPRA, ID_CLIENTE, VALOR_UNID * UNIDADES AS TICKET_MÉDIO FROM tb_vendas\"\n",
    "result_df = run_query(query)\n",
    "print(result_df)"
   ]
  },
  {
   "cell_type": "markdown",
   "metadata": {
    "id": "tuTDx7W3Zxlp"
   },
   "source": [
    "# 5) [DESAFIO] Faça uma consulta que traz a média do valor total gasto que foi calculado no exercício anterior. Note que não queremos a média por pedido e sim a média total, apenas essa informação deve vir na consulta."
   ]
  },
  {
   "cell_type": "code",
   "execution_count": 67,
   "metadata": {
    "id": "UPUskwJoaEgy"
   },
   "outputs": [
    {
     "name": "stdout",
     "output_type": "stream",
     "text": [
      "   MÉDIA_TOTAL\n",
      "0      108.625\n"
     ]
    }
   ],
   "source": [
    "query = \"SELECT AVG(VALOR_UNID * UNIDADES) AS MÉDIA_TOTAL FROM tb_vendas\"\n",
    "result_df = run_query(query)\n",
    "# Exibir o resultado\n",
    "print(result_df)"
   ]
  },
  {
   "cell_type": "markdown",
   "metadata": {
    "id": "0ezDHHigaONG"
   },
   "source": [
    "# 6) Diferencie com suas palavras, considerando o repertório que tem criado da área de dados, a utilizadade do SQL e do Python para ciência de dados.\n",
    "Minimo 2 linhas."
   ]
  },
  {
   "cell_type": "markdown",
   "metadata": {},
   "source": [
    "O SQL é recomendado para lidar com os dados, armazenando, manipulando eles, transformando, para no phyton ser feita a limpeza, o tratamento, e a análise deles."
   ]
  },
  {
   "cell_type": "markdown",
   "metadata": {
    "id": "F1xh_-UPaZU2"
   },
   "source": [
    "#7) Diferencie com suas palavras banco de dados relacionais de não relacionais.\n",
    "Minimo 3 linhas."
   ]
  },
  {
   "cell_type": "markdown",
   "metadata": {},
   "source": [
    "Bancos de dados relacionais têm uma estrutura rígida e usam SQL para manipulação de dados, sendo ideais para aplicações que requerem integridade de dados, e para a manipulação de dados mais complexos. Bancos de dados não relacionais (NoSQL) são mais flexíveis e adequados para grandes volumes de dados não estruturados, como redes sociais e Big Data."
   ]
  },
  {
   "cell_type": "markdown",
   "metadata": {
    "id": "GkKpxl52atNQ"
   },
   "source": [
    "#8) Queremos saber da sua opinião, acredita que o SQL pode ser mais prático que o Python para consultas rápidas? Justifique.\n",
    "Muitas vezes durante a carreia você terá que escolher qual linguagem utilizar para cada momento afim de entregar o que é solicitado o mais rápido e com qualidade possível, exercite sua argumentação = )\n",
    "\n",
    "Minimo 3 linhas."
   ]
  },
  {
   "cell_type": "markdown",
   "metadata": {},
   "source": [
    "Sim, pode ser, dependendo da quantidade de dados a serem analisados, o SQL pode prover uma consulta mais rápida, considerando que o SQL possui maneiras de ter um armazenamento mais compacto, já o phyton às vezes necessita de muitas linhas, muitos códigos para uma simples consulta, mas, novamente, depende muito da quantidade de dados e tipo de consulta a ser realizada."
   ]
  }
 ],
 "metadata": {
  "colab": {
   "provenance": []
  },
  "kernelspec": {
   "display_name": "Python 3 (ipykernel)",
   "language": "python",
   "name": "python3"
  },
  "language_info": {
   "codemirror_mode": {
    "name": "ipython",
    "version": 3
   },
   "file_extension": ".py",
   "mimetype": "text/x-python",
   "name": "python",
   "nbconvert_exporter": "python",
   "pygments_lexer": "ipython3",
   "version": "3.12.7"
  }
 },
 "nbformat": 4,
 "nbformat_minor": 4
}
