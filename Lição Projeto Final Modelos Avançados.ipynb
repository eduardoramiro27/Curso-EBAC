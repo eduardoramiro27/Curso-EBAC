{
 "cells": [
  {
   "cell_type": "markdown",
   "metadata": {
    "id": "y2fzPjyMc9N-"
   },
   "source": [
    "# **MÓDULO 33 - Projeto Final de Modelos Avançados**"
   ]
  },
  {
   "cell_type": "markdown",
   "metadata": {
    "id": "eVGXJqYzdJg_"
   },
   "source": [
    "**Objetivo do Projeto:**\n",
    "\n",
    "O objetivo deste projeto é aplicar os conceitos aprendidos nos módulos de conceitos avançados de modelagem para realizar uma segmentação de clientes utilizando o algoritmo de clustering K-Means. Ao final do projeto, você terá a oportunidade de consolidar seus conhecimentos em exploração de dados, pré-processamento, implementação e avaliação de modelos."
   ]
  },
  {
   "cell_type": "markdown",
   "metadata": {
    "id": "FSfCUC1zdnDR"
   },
   "source": [
    "**Exploração de Dados:**\n",
    "\n",
    "Inicie explorando o dataset fornecido, buscando entender as principais características das variáveis e a distribuição dos dados.\n",
    "\n",
    "Realize análises descritivas, identifique padrões, e verifique a presença de valores ausentes ou inconsistências que precisem ser tratadas."
   ]
  },
  {
   "cell_type": "markdown",
   "metadata": {
    "id": "5UJZEXwXdrrK"
   },
   "source": [
    "**Tratamento de Dados:**\n",
    "\n",
    "Realize os tratamentos necessários como limpeza de dados, normalização ou padronização das variáveis, e, se necessário, a criação de variáveis derivadas.\n",
    "\n",
    "Documente cada etapa do tratamento, explicando o motivo das escolhas feitas e como elas impactam no modelo."
   ]
  },
  {
   "cell_type": "markdown",
   "metadata": {
    "id": "tm2bQ7LLdyFe"
   },
   "source": [
    "**Implementação do Algoritmo K-Means:**\n",
    "\n",
    "Aplique o algoritmo K-Means no dataset tratado. Defina o número de clusters (k).\n",
    "Execute o algoritmo, ajuste os parâmetros conforme necessário, e documente o processo."
   ]
  },
  {
   "cell_type": "markdown",
   "metadata": {
    "id": "posaN_Ihd40d"
   },
   "source": [
    "**Avaliação e Interpretação dos Resultados:**\n",
    "\n",
    "Avalie a qualidade dos clusters gerados utilizando métricas adequadas.\n",
    "\n",
    "Interprete os resultados, descrevendo as características de cada cluster e como eles podem ser utilizados para a segmentação de clientes.\n",
    "\n",
    "Sugira aplicações práticas para os clusters identificados, como estratégias de marketing direcionadas ou personalização de ofertas."
   ]
  },
  {
   "cell_type": "markdown",
   "metadata": {
    "id": "X7lO1BL4klON"
   },
   "source": [
    "**O dataset a ser utilizado neste projeto contém informações de 200 clientes, com os seguintes atributos:**\n",
    "\n",
    "CustomerID: Identificador único atribuído a cada cliente.\n",
    "\n",
    "Gender: Gênero do cliente.\n",
    "\n",
    "Age: Idade do cliente.\n",
    "\n",
    "Annual Income (k$): Renda anual do cliente em milhares de dólares.\n",
    "\n",
    "Spending Score (1-100): Pontuação atribuída pelo shopping com base no\n",
    "comportamento e padrão de gastos do cliente."
   ]
  },
  {
   "cell_type": "markdown",
   "metadata": {
    "id": "DGVtJ9HEeDqG"
   },
   "source": [
    "Notem que neste projeto vocês terão autonomia para criar os passos e justificar, sempre, os passos escolhidos."
   ]
  },
  {
   "cell_type": "code",
   "execution_count": 91,
   "metadata": {},
   "outputs": [],
   "source": [
    "import plotly.express as px\n",
    "import plotly.graph_objects as go\n",
    "import pandas as pd\n",
    "from sklearn.cluster import KMeans\n",
    "from sklearn.preprocessing import StandardScaler\n",
    "import seaborn as sns"
   ]
  },
  {
   "cell_type": "code",
   "execution_count": 93,
   "metadata": {},
   "outputs": [],
   "source": [
    "df = pd.read_csv('Mall_Customers.csv', delimiter=',')"
   ]
  },
  {
   "cell_type": "code",
   "execution_count": 95,
   "metadata": {},
   "outputs": [
    {
     "data": {
      "text/html": [
       "<div>\n",
       "<style scoped>\n",
       "    .dataframe tbody tr th:only-of-type {\n",
       "        vertical-align: middle;\n",
       "    }\n",
       "\n",
       "    .dataframe tbody tr th {\n",
       "        vertical-align: top;\n",
       "    }\n",
       "\n",
       "    .dataframe thead th {\n",
       "        text-align: right;\n",
       "    }\n",
       "</style>\n",
       "<table border=\"1\" class=\"dataframe\">\n",
       "  <thead>\n",
       "    <tr style=\"text-align: right;\">\n",
       "      <th></th>\n",
       "      <th>CustomerID</th>\n",
       "      <th>Gender</th>\n",
       "      <th>Age</th>\n",
       "      <th>Annual Income (k$)</th>\n",
       "      <th>Spending Score (1-100)</th>\n",
       "    </tr>\n",
       "  </thead>\n",
       "  <tbody>\n",
       "    <tr>\n",
       "      <th>0</th>\n",
       "      <td>1</td>\n",
       "      <td>Male</td>\n",
       "      <td>19</td>\n",
       "      <td>15</td>\n",
       "      <td>39</td>\n",
       "    </tr>\n",
       "    <tr>\n",
       "      <th>1</th>\n",
       "      <td>2</td>\n",
       "      <td>Male</td>\n",
       "      <td>21</td>\n",
       "      <td>15</td>\n",
       "      <td>81</td>\n",
       "    </tr>\n",
       "    <tr>\n",
       "      <th>2</th>\n",
       "      <td>3</td>\n",
       "      <td>Female</td>\n",
       "      <td>20</td>\n",
       "      <td>16</td>\n",
       "      <td>6</td>\n",
       "    </tr>\n",
       "    <tr>\n",
       "      <th>3</th>\n",
       "      <td>4</td>\n",
       "      <td>Female</td>\n",
       "      <td>23</td>\n",
       "      <td>16</td>\n",
       "      <td>77</td>\n",
       "    </tr>\n",
       "    <tr>\n",
       "      <th>4</th>\n",
       "      <td>5</td>\n",
       "      <td>Female</td>\n",
       "      <td>31</td>\n",
       "      <td>17</td>\n",
       "      <td>40</td>\n",
       "    </tr>\n",
       "    <tr>\n",
       "      <th>...</th>\n",
       "      <td>...</td>\n",
       "      <td>...</td>\n",
       "      <td>...</td>\n",
       "      <td>...</td>\n",
       "      <td>...</td>\n",
       "    </tr>\n",
       "    <tr>\n",
       "      <th>195</th>\n",
       "      <td>196</td>\n",
       "      <td>Female</td>\n",
       "      <td>35</td>\n",
       "      <td>120</td>\n",
       "      <td>79</td>\n",
       "    </tr>\n",
       "    <tr>\n",
       "      <th>196</th>\n",
       "      <td>197</td>\n",
       "      <td>Female</td>\n",
       "      <td>45</td>\n",
       "      <td>126</td>\n",
       "      <td>28</td>\n",
       "    </tr>\n",
       "    <tr>\n",
       "      <th>197</th>\n",
       "      <td>198</td>\n",
       "      <td>Male</td>\n",
       "      <td>32</td>\n",
       "      <td>126</td>\n",
       "      <td>74</td>\n",
       "    </tr>\n",
       "    <tr>\n",
       "      <th>198</th>\n",
       "      <td>199</td>\n",
       "      <td>Male</td>\n",
       "      <td>32</td>\n",
       "      <td>137</td>\n",
       "      <td>18</td>\n",
       "    </tr>\n",
       "    <tr>\n",
       "      <th>199</th>\n",
       "      <td>200</td>\n",
       "      <td>Male</td>\n",
       "      <td>30</td>\n",
       "      <td>137</td>\n",
       "      <td>83</td>\n",
       "    </tr>\n",
       "  </tbody>\n",
       "</table>\n",
       "<p>200 rows × 5 columns</p>\n",
       "</div>"
      ],
      "text/plain": [
       "     CustomerID  Gender  Age  Annual Income (k$)  Spending Score (1-100)\n",
       "0             1    Male   19                  15                      39\n",
       "1             2    Male   21                  15                      81\n",
       "2             3  Female   20                  16                       6\n",
       "3             4  Female   23                  16                      77\n",
       "4             5  Female   31                  17                      40\n",
       "..          ...     ...  ...                 ...                     ...\n",
       "195         196  Female   35                 120                      79\n",
       "196         197  Female   45                 126                      28\n",
       "197         198    Male   32                 126                      74\n",
       "198         199    Male   32                 137                      18\n",
       "199         200    Male   30                 137                      83\n",
       "\n",
       "[200 rows x 5 columns]"
      ]
     },
     "execution_count": 95,
     "metadata": {},
     "output_type": "execute_result"
    }
   ],
   "source": [
    "df"
   ]
  },
  {
   "cell_type": "markdown",
   "metadata": {},
   "source": [
    "Aqui se inicia a exploração e o pré processamento dos dados, verificando dados faltantes, excluindo variáveis categóricas e tratando dados que necessitam de tratamento."
   ]
  },
  {
   "cell_type": "code",
   "execution_count": 97,
   "metadata": {},
   "outputs": [
    {
     "data": {
      "text/plain": [
       "array(['Male', 'Female'], dtype=object)"
      ]
     },
     "execution_count": 97,
     "metadata": {},
     "output_type": "execute_result"
    }
   ],
   "source": [
    "df['Gender'].unique()"
   ]
  },
  {
   "cell_type": "code",
   "execution_count": 99,
   "metadata": {},
   "outputs": [
    {
     "name": "stderr",
     "output_type": "stream",
     "text": [
      "C:\\Users\\dudir\\AppData\\Local\\Temp\\ipykernel_27404\\875886493.py:2: FutureWarning:\n",
      "\n",
      "Downcasting behavior in `replace` is deprecated and will be removed in a future version. To retain the old behavior, explicitly call `result.infer_objects(copy=False)`. To opt-in to the future behavior, set `pd.set_option('future.no_silent_downcasting', True)`\n",
      "\n"
     ]
    }
   ],
   "source": [
    "gender_mapping = {'Male': 0, 'Female': 1}\n",
    "df['Gender'] = df['Gender'].replace(gender_mapping)"
   ]
  },
  {
   "cell_type": "code",
   "execution_count": 101,
   "metadata": {},
   "outputs": [
    {
     "data": {
      "text/html": [
       "<div>\n",
       "<style scoped>\n",
       "    .dataframe tbody tr th:only-of-type {\n",
       "        vertical-align: middle;\n",
       "    }\n",
       "\n",
       "    .dataframe tbody tr th {\n",
       "        vertical-align: top;\n",
       "    }\n",
       "\n",
       "    .dataframe thead th {\n",
       "        text-align: right;\n",
       "    }\n",
       "</style>\n",
       "<table border=\"1\" class=\"dataframe\">\n",
       "  <thead>\n",
       "    <tr style=\"text-align: right;\">\n",
       "      <th></th>\n",
       "      <th>CustomerID</th>\n",
       "      <th>Gender</th>\n",
       "      <th>Age</th>\n",
       "      <th>Annual Income (k$)</th>\n",
       "      <th>Spending Score (1-100)</th>\n",
       "    </tr>\n",
       "  </thead>\n",
       "  <tbody>\n",
       "    <tr>\n",
       "      <th>0</th>\n",
       "      <td>1</td>\n",
       "      <td>0</td>\n",
       "      <td>19</td>\n",
       "      <td>15</td>\n",
       "      <td>39</td>\n",
       "    </tr>\n",
       "    <tr>\n",
       "      <th>1</th>\n",
       "      <td>2</td>\n",
       "      <td>0</td>\n",
       "      <td>21</td>\n",
       "      <td>15</td>\n",
       "      <td>81</td>\n",
       "    </tr>\n",
       "    <tr>\n",
       "      <th>2</th>\n",
       "      <td>3</td>\n",
       "      <td>1</td>\n",
       "      <td>20</td>\n",
       "      <td>16</td>\n",
       "      <td>6</td>\n",
       "    </tr>\n",
       "    <tr>\n",
       "      <th>3</th>\n",
       "      <td>4</td>\n",
       "      <td>1</td>\n",
       "      <td>23</td>\n",
       "      <td>16</td>\n",
       "      <td>77</td>\n",
       "    </tr>\n",
       "    <tr>\n",
       "      <th>4</th>\n",
       "      <td>5</td>\n",
       "      <td>1</td>\n",
       "      <td>31</td>\n",
       "      <td>17</td>\n",
       "      <td>40</td>\n",
       "    </tr>\n",
       "    <tr>\n",
       "      <th>...</th>\n",
       "      <td>...</td>\n",
       "      <td>...</td>\n",
       "      <td>...</td>\n",
       "      <td>...</td>\n",
       "      <td>...</td>\n",
       "    </tr>\n",
       "    <tr>\n",
       "      <th>195</th>\n",
       "      <td>196</td>\n",
       "      <td>1</td>\n",
       "      <td>35</td>\n",
       "      <td>120</td>\n",
       "      <td>79</td>\n",
       "    </tr>\n",
       "    <tr>\n",
       "      <th>196</th>\n",
       "      <td>197</td>\n",
       "      <td>1</td>\n",
       "      <td>45</td>\n",
       "      <td>126</td>\n",
       "      <td>28</td>\n",
       "    </tr>\n",
       "    <tr>\n",
       "      <th>197</th>\n",
       "      <td>198</td>\n",
       "      <td>0</td>\n",
       "      <td>32</td>\n",
       "      <td>126</td>\n",
       "      <td>74</td>\n",
       "    </tr>\n",
       "    <tr>\n",
       "      <th>198</th>\n",
       "      <td>199</td>\n",
       "      <td>0</td>\n",
       "      <td>32</td>\n",
       "      <td>137</td>\n",
       "      <td>18</td>\n",
       "    </tr>\n",
       "    <tr>\n",
       "      <th>199</th>\n",
       "      <td>200</td>\n",
       "      <td>0</td>\n",
       "      <td>30</td>\n",
       "      <td>137</td>\n",
       "      <td>83</td>\n",
       "    </tr>\n",
       "  </tbody>\n",
       "</table>\n",
       "<p>200 rows × 5 columns</p>\n",
       "</div>"
      ],
      "text/plain": [
       "     CustomerID  Gender  Age  Annual Income (k$)  Spending Score (1-100)\n",
       "0             1       0   19                  15                      39\n",
       "1             2       0   21                  15                      81\n",
       "2             3       1   20                  16                       6\n",
       "3             4       1   23                  16                      77\n",
       "4             5       1   31                  17                      40\n",
       "..          ...     ...  ...                 ...                     ...\n",
       "195         196       1   35                 120                      79\n",
       "196         197       1   45                 126                      28\n",
       "197         198       0   32                 126                      74\n",
       "198         199       0   32                 137                      18\n",
       "199         200       0   30                 137                      83\n",
       "\n",
       "[200 rows x 5 columns]"
      ]
     },
     "execution_count": 101,
     "metadata": {},
     "output_type": "execute_result"
    }
   ],
   "source": [
    "df"
   ]
  },
  {
   "cell_type": "code",
   "execution_count": 103,
   "metadata": {},
   "outputs": [
    {
     "data": {
      "text/plain": [
       "CustomerID                0\n",
       "Gender                    0\n",
       "Age                       0\n",
       "Annual Income (k$)        0\n",
       "Spending Score (1-100)    0\n",
       "dtype: int64"
      ]
     },
     "execution_count": 103,
     "metadata": {},
     "output_type": "execute_result"
    }
   ],
   "source": [
    "df.isnull().sum()"
   ]
  },
  {
   "cell_type": "code",
   "execution_count": 105,
   "metadata": {},
   "outputs": [
    {
     "data": {
      "text/plain": [
       "CustomerID                int64\n",
       "Gender                    int64\n",
       "Age                       int64\n",
       "Annual Income (k$)        int64\n",
       "Spending Score (1-100)    int64\n",
       "dtype: object"
      ]
     },
     "execution_count": 105,
     "metadata": {},
     "output_type": "execute_result"
    }
   ],
   "source": [
    "df.dtypes"
   ]
  },
  {
   "cell_type": "code",
   "execution_count": 107,
   "metadata": {},
   "outputs": [],
   "source": [
    "df.drop(columns='CustomerID', inplace=True)\n",
    "df.drop(columns='Gender', inplace=True)"
   ]
  },
  {
   "cell_type": "markdown",
   "metadata": {},
   "source": [
    "Aqui termina o pré processamento e a exploração dos dados e se inicia a padronização e verificação de como serão feitos os clusters através do k-means."
   ]
  },
  {
   "cell_type": "code",
   "execution_count": 109,
   "metadata": {},
   "outputs": [
    {
     "data": {
      "text/plain": [
       "<seaborn.axisgrid.PairGrid at 0x2c4fbc1ba10>"
      ]
     },
     "execution_count": 109,
     "metadata": {},
     "output_type": "execute_result"
    },
    {
     "data": {
      "image/png": "[encoded data removed]",
      "text/plain": [
       "<Figure size 750x750 with 12 Axes>"
      ]
     },
     "metadata": {},
     "output_type": "display_data"
    }
   ],
   "source": [
    "sns.pairplot(df)"
   ]
  },
  {
   "cell_type": "code",
   "execution_count": 113,
   "metadata": {},
   "outputs": [],
   "source": [
    "df_padronizado = df.copy()\n",
    "\n",
    "colunas_padronizar = ['Age', 'Annual Income (k$)','Spending Score (1-100)']\n",
    "\n",
    "scaler = StandardScaler()\n",
    "\n",
    "df_padronizado[colunas_padronizar] = scaler.fit_transform(df[colunas_padronizar])"
   ]
  },
  {
   "cell_type": "code",
   "execution_count": 115,
   "metadata": {},
   "outputs": [
    {
     "data": {
      "text/html": [
       "<div>\n",
       "<style scoped>\n",
       "    .dataframe tbody tr th:only-of-type {\n",
       "        vertical-align: middle;\n",
       "    }\n",
       "\n",
       "    .dataframe tbody tr th {\n",
       "        vertical-align: top;\n",
       "    }\n",
       "\n",
       "    .dataframe thead th {\n",
       "        text-align: right;\n",
       "    }\n",
       "</style>\n",
       "<table border=\"1\" class=\"dataframe\">\n",
       "  <thead>\n",
       "    <tr style=\"text-align: right;\">\n",
       "      <th></th>\n",
       "      <th>Age</th>\n",
       "      <th>Annual Income (k$)</th>\n",
       "      <th>Spending Score (1-100)</th>\n",
       "    </tr>\n",
       "  </thead>\n",
       "  <tbody>\n",
       "    <tr>\n",
       "      <th>0</th>\n",
       "      <td>-1.424569</td>\n",
       "      <td>-1.738999</td>\n",
       "      <td>-0.434801</td>\n",
       "    </tr>\n",
       "    <tr>\n",
       "      <th>1</th>\n",
       "      <td>-1.281035</td>\n",
       "      <td>-1.738999</td>\n",
       "      <td>1.195704</td>\n",
       "    </tr>\n",
       "    <tr>\n",
       "      <th>2</th>\n",
       "      <td>-1.352802</td>\n",
       "      <td>-1.700830</td>\n",
       "      <td>-1.715913</td>\n",
       "    </tr>\n",
       "    <tr>\n",
       "      <th>3</th>\n",
       "      <td>-1.137502</td>\n",
       "      <td>-1.700830</td>\n",
       "      <td>1.040418</td>\n",
       "    </tr>\n",
       "    <tr>\n",
       "      <th>4</th>\n",
       "      <td>-0.563369</td>\n",
       "      <td>-1.662660</td>\n",
       "      <td>-0.395980</td>\n",
       "    </tr>\n",
       "    <tr>\n",
       "      <th>...</th>\n",
       "      <td>...</td>\n",
       "      <td>...</td>\n",
       "      <td>...</td>\n",
       "    </tr>\n",
       "    <tr>\n",
       "      <th>195</th>\n",
       "      <td>-0.276302</td>\n",
       "      <td>2.268791</td>\n",
       "      <td>1.118061</td>\n",
       "    </tr>\n",
       "    <tr>\n",
       "      <th>196</th>\n",
       "      <td>0.441365</td>\n",
       "      <td>2.497807</td>\n",
       "      <td>-0.861839</td>\n",
       "    </tr>\n",
       "    <tr>\n",
       "      <th>197</th>\n",
       "      <td>-0.491602</td>\n",
       "      <td>2.497807</td>\n",
       "      <td>0.923953</td>\n",
       "    </tr>\n",
       "    <tr>\n",
       "      <th>198</th>\n",
       "      <td>-0.491602</td>\n",
       "      <td>2.917671</td>\n",
       "      <td>-1.250054</td>\n",
       "    </tr>\n",
       "    <tr>\n",
       "      <th>199</th>\n",
       "      <td>-0.635135</td>\n",
       "      <td>2.917671</td>\n",
       "      <td>1.273347</td>\n",
       "    </tr>\n",
       "  </tbody>\n",
       "</table>\n",
       "<p>200 rows × 3 columns</p>\n",
       "</div>"
      ],
      "text/plain": [
       "          Age  Annual Income (k$)  Spending Score (1-100)\n",
       "0   -1.424569           -1.738999               -0.434801\n",
       "1   -1.281035           -1.738999                1.195704\n",
       "2   -1.352802           -1.700830               -1.715913\n",
       "3   -1.137502           -1.700830                1.040418\n",
       "4   -0.563369           -1.662660               -0.395980\n",
       "..        ...                 ...                     ...\n",
       "195 -0.276302            2.268791                1.118061\n",
       "196  0.441365            2.497807               -0.861839\n",
       "197 -0.491602            2.497807                0.923953\n",
       "198 -0.491602            2.917671               -1.250054\n",
       "199 -0.635135            2.917671                1.273347\n",
       "\n",
       "[200 rows x 3 columns]"
      ]
     },
     "execution_count": 115,
     "metadata": {},
     "output_type": "execute_result"
    }
   ],
   "source": [
    "df_padronizado"
   ]
  },
  {
   "cell_type": "code",
   "execution_count": 117,
   "metadata": {},
   "outputs": [
    {
     "data": {
      "text/plain": [
       "<seaborn.axisgrid.PairGrid at 0x2c4fc267e60>"
      ]
     },
     "execution_count": 117,
     "metadata": {},
     "output_type": "execute_result"
    },
    {
     "data": {
      "image/png": "[encoded data removed]",
      "text/plain": [
       "<Figure size 750x750 with 12 Axes>"
      ]
     },
     "metadata": {},
     "output_type": "display_data"
    }
   ],
   "source": [
    "sns.pairplot(df_padronizado)"
   ]
  },
  {
   "cell_type": "markdown",
   "metadata": {},
   "source": [
    "Aqui terminamos o processo de padronização e começamos a implementação do k-means, tratei e padronizei excluindo variáveis como Gênero e CustomerID, e padronizando para que fique de mais fácil interpretação para a máquina implementar os clusters."
   ]
  },
  {
   "cell_type": "code",
   "execution_count": 119,
   "metadata": {},
   "outputs": [
    {
     "name": "stderr",
     "output_type": "stream",
     "text": [
      "C:\\Users\\dudir\\anaconda3\\Lib\\site-packages\\sklearn\\cluster\\_kmeans.py:1429: UserWarning:\n",
      "\n",
      "KMeans is known to have a memory leak on Windows with MKL, when there are less chunks than available threads. You can avoid it by setting the environment variable OMP_NUM_THREADS=1.\n",
      "\n"
     ]
    },
    {
     "data": {
      "text/html": [
       "<style>#sk-container-id-5 {\n",
       "  /* Definition of color scheme common for light and dark mode */\n",
       "  --sklearn-color-text: black;\n",
       "  --sklearn-color-line: gray;\n",
       "  /* Definition of color scheme for unfitted estimators */\n",
       "  --sklearn-color-unfitted-level-0: #fff5e6;\n",
       "  --sklearn-color-unfitted-level-1: #f6e4d2;\n",
       "  --sklearn-color-unfitted-level-2: #ffe0b3;\n",
       "  --sklearn-color-unfitted-level-3: chocolate;\n",
       "  /* Definition of color scheme for fitted estimators */\n",
       "  --sklearn-color-fitted-level-0: #f0f8ff;\n",
       "  --sklearn-color-fitted-level-1: #d4ebff;\n",
       "  --sklearn-color-fitted-level-2: #b3dbfd;\n",
       "  --sklearn-color-fitted-level-3: cornflowerblue;\n",
       "\n",
       "  /* Specific color for light theme */\n",
       "  --sklearn-color-text-on-default-background: var(--sg-text-color, var(--theme-code-foreground, var(--jp-content-font-color1, black)));\n",
       "  --sklearn-color-background: var(--sg-background-color, var(--theme-background, var(--jp-layout-color0, white)));\n",
       "  --sklearn-color-border-box: var(--sg-text-color, var(--theme-code-foreground, var(--jp-content-font-color1, black)));\n",
       "  --sklearn-color-icon: #696969;\n",
       "\n",
       "  @media (prefers-color-scheme: dark) {\n",
       "    /* Redefinition of color scheme for dark theme */\n",
       "    --sklearn-color-text-on-default-background: var(--sg-text-color, var(--theme-code-foreground, var(--jp-content-font-color1, white)));\n",
       "    --sklearn-color-background: var(--sg-background-color, var(--theme-background, var(--jp-layout-color0, #111)));\n",
       "    --sklearn-color-border-box: var(--sg-text-color, var(--theme-code-foreground, var(--jp-content-font-color1, white)));\n",
       "    --sklearn-color-icon: #878787;\n",
       "  }\n",
       "}\n",
       "\n",
       "#sk-container-id-5 {\n",
       "  color: var(--sklearn-color-text);\n",
       "}\n",
       "\n",
       "#sk-container-id-5 pre {\n",
       "  padding: 0;\n",
       "}\n",
       "\n",
       "#sk-container-id-5 input.sk-hidden--visually {\n",
       "  border: 0;\n",
       "  clip: rect(1px 1px 1px 1px);\n",
       "  clip: rect(1px, 1px, 1px, 1px);\n",
       "  height: 1px;\n",
       "  margin: -1px;\n",
       "  overflow: hidden;\n",
       "  padding: 0;\n",
       "  position: absolute;\n",
       "  width: 1px;\n",
       "}\n",
       "\n",
       "#sk-container-id-5 div.sk-dashed-wrapped {\n",
       "  border: 1px dashed var(--sklearn-color-line);\n",
       "  margin: 0 0.4em 0.5em 0.4em;\n",
       "  box-sizing: border-box;\n",
       "  padding-bottom: 0.4em;\n",
       "  background-color: var(--sklearn-color-background);\n",
       "}\n",
       "\n",
       "#sk-container-id-5 div.sk-container {\n",
       "  /* jupyter's `normalize.less` sets `[hidden] { display: none; }`\n",
       "     but bootstrap.min.css set `[hidden] { display: none !important; }`\n",
       "     so we also need the `!important` here to be able to override the\n",
       "     default hidden behavior on the sphinx rendered scikit-learn.org.\n",
       "     See: https://github.com/scikit-learn/scikit-learn/issues/21755 */\n",
       "  display: inline-block !important;\n",
       "  position: relative;\n",
       "}\n",
       "\n",
       "#sk-container-id-5 div.sk-text-repr-fallback {\n",
       "  display: none;\n",
       "}\n",
       "\n",
       "div.sk-parallel-item,\n",
       "div.sk-serial,\n",
       "div.sk-item {\n",
       "  /* draw centered vertical line to link estimators */\n",
       "  background-image: linear-gradient(var(--sklearn-color-text-on-default-background), var(--sklearn-color-text-on-default-background));\n",
       "  background-size: 2px 100%;\n",
       "  background-repeat: no-repeat;\n",
       "  background-position: center center;\n",
       "}\n",
       "\n",
       "/* Parallel-specific style estimator block */\n",
       "\n",
       "#sk-container-id-5 div.sk-parallel-item::after {\n",
       "  content: \"\";\n",
       "  width: 100%;\n",
       "  border-bottom: 2px solid var(--sklearn-color-text-on-default-background);\n",
       "  flex-grow: 1;\n",
       "}\n",
       "\n",
       "#sk-container-id-5 div.sk-parallel {\n",
       "  display: flex;\n",
       "  align-items: stretch;\n",
       "  justify-content: center;\n",
       "  background-color: var(--sklearn-color-background);\n",
       "  position: relative;\n",
       "}\n",
       "\n",
       "#sk-container-id-5 div.sk-parallel-item {\n",
       "  display: flex;\n",
       "  flex-direction: column;\n",
       "}\n",
       "\n",
       "#sk-container-id-5 div.sk-parallel-item:first-child::after {\n",
       "  align-self: flex-end;\n",
       "  width: 50%;\n",
       "}\n",
       "\n",
       "#sk-container-id-5 div.sk-parallel-item:last-child::after {\n",
       "  align-self: flex-start;\n",
       "  width: 50%;\n",
       "}\n",
       "\n",
       "#sk-container-id-5 div.sk-parallel-item:only-child::after {\n",
       "  width: 0;\n",
       "}\n",
       "\n",
       "/* Serial-specific style estimator block */\n",
       "\n",
       "#sk-container-id-5 div.sk-serial {\n",
       "  display: flex;\n",
       "  flex-direction: column;\n",
       "  align-items: center;\n",
       "  background-color: var(--sklearn-color-background);\n",
       "  padding-right: 1em;\n",
       "  padding-left: 1em;\n",
       "}\n",
       "\n",
       "\n",
       "/* Toggleable style: style used for estimator/Pipeline/ColumnTransformer box that is\n",
       "clickable and can be expanded/collapsed.\n",
       "- Pipeline and ColumnTransformer use this feature and define the default style\n",
       "- Estimators will overwrite some part of the style using the `sk-estimator` class\n",
       "*/\n",
       "\n",
       "/* Pipeline and ColumnTransformer style (default) */\n",
       "\n",
       "#sk-container-id-5 div.sk-toggleable {\n",
       "  /* Default theme specific background. It is overwritten whether we have a\n",
       "  specific estimator or a Pipeline/ColumnTransformer */\n",
       "  background-color: var(--sklearn-color-background);\n",
       "}\n",
       "\n",
       "/* Toggleable label */\n",
       "#sk-container-id-5 label.sk-toggleable__label {\n",
       "  cursor: pointer;\n",
       "  display: block;\n",
       "  width: 100%;\n",
       "  margin-bottom: 0;\n",
       "  padding: 0.5em;\n",
       "  box-sizing: border-box;\n",
       "  text-align: center;\n",
       "}\n",
       "\n",
       "#sk-container-id-5 label.sk-toggleable__label-arrow:before {\n",
       "  /* Arrow on the left of the label */\n",
       "  content: \"▸\";\n",
       "  float: left;\n",
       "  margin-right: 0.25em;\n",
       "  color: var(--sklearn-color-icon);\n",
       "}\n",
       "\n",
       "#sk-container-id-5 label.sk-toggleable__label-arrow:hover:before {\n",
       "  color: var(--sklearn-color-text);\n",
       "}\n",
       "\n",
       "/* Toggleable content - dropdown */\n",
       "\n",
       "#sk-container-id-5 div.sk-toggleable__content {\n",
       "  max-height: 0;\n",
       "  max-width: 0;\n",
       "  overflow: hidden;\n",
       "  text-align: left;\n",
       "  /* unfitted */\n",
       "  background-color: var(--sklearn-color-unfitted-level-0);\n",
       "}\n",
       "\n",
       "#sk-container-id-5 div.sk-toggleable__content.fitted {\n",
       "  /* fitted */\n",
       "  background-color: var(--sklearn-color-fitted-level-0);\n",
       "}\n",
       "\n",
       "#sk-container-id-5 div.sk-toggleable__content pre {\n",
       "  margin: 0.2em;\n",
       "  border-radius: 0.25em;\n",
       "  color: var(--sklearn-color-text);\n",
       "  /* unfitted */\n",
       "  background-color: var(--sklearn-color-unfitted-level-0);\n",
       "}\n",
       "\n",
       "#sk-container-id-5 div.sk-toggleable__content.fitted pre {\n",
       "  /* unfitted */\n",
       "  background-color: var(--sklearn-color-fitted-level-0);\n",
       "}\n",
       "\n",
       "#sk-container-id-5 input.sk-toggleable__control:checked~div.sk-toggleable__content {\n",
       "  /* Expand drop-down */\n",
       "  max-height: 200px;\n",
       "  max-width: 100%;\n",
       "  overflow: auto;\n",
       "}\n",
       "\n",
       "#sk-container-id-5 input.sk-toggleable__control:checked~label.sk-toggleable__label-arrow:before {\n",
       "  content: \"▾\";\n",
       "}\n",
       "\n",
       "/* Pipeline/ColumnTransformer-specific style */\n",
       "\n",
       "#sk-container-id-5 div.sk-label input.sk-toggleable__control:checked~label.sk-toggleable__label {\n",
       "  color: var(--sklearn-color-text);\n",
       "  background-color: var(--sklearn-color-unfitted-level-2);\n",
       "}\n",
       "\n",
       "#sk-container-id-5 div.sk-label.fitted input.sk-toggleable__control:checked~label.sk-toggleable__label {\n",
       "  background-color: var(--sklearn-color-fitted-level-2);\n",
       "}\n",
       "\n",
       "/* Estimator-specific style */\n",
       "\n",
       "/* Colorize estimator box */\n",
       "#sk-container-id-5 div.sk-estimator input.sk-toggleable__control:checked~label.sk-toggleable__label {\n",
       "  /* unfitted */\n",
       "  background-color: var(--sklearn-color-unfitted-level-2);\n",
       "}\n",
       "\n",
       "#sk-container-id-5 div.sk-estimator.fitted input.sk-toggleable__control:checked~label.sk-toggleable__label {\n",
       "  /* fitted */\n",
       "  background-color: var(--sklearn-color-fitted-level-2);\n",
       "}\n",
       "\n",
       "#sk-container-id-5 div.sk-label label.sk-toggleable__label,\n",
       "#sk-container-id-5 div.sk-label label {\n",
       "  /* The background is the default theme color */\n",
       "  color: var(--sklearn-color-text-on-default-background);\n",
       "}\n",
       "\n",
       "/* On hover, darken the color of the background */\n",
       "#sk-container-id-5 div.sk-label:hover label.sk-toggleable__label {\n",
       "  color: var(--sklearn-color-text);\n",
       "  background-color: var(--sklearn-color-unfitted-level-2);\n",
       "}\n",
       "\n",
       "/* Label box, darken color on hover, fitted */\n",
       "#sk-container-id-5 div.sk-label.fitted:hover label.sk-toggleable__label.fitted {\n",
       "  color: var(--sklearn-color-text);\n",
       "  background-color: var(--sklearn-color-fitted-level-2);\n",
       "}\n",
       "\n",
       "/* Estimator label */\n",
       "\n",
       "#sk-container-id-5 div.sk-label label {\n",
       "  font-family: monospace;\n",
       "  font-weight: bold;\n",
       "  display: inline-block;\n",
       "  line-height: 1.2em;\n",
       "}\n",
       "\n",
       "#sk-container-id-5 div.sk-label-container {\n",
       "  text-align: center;\n",
       "}\n",
       "\n",
       "/* Estimator-specific */\n",
       "#sk-container-id-5 div.sk-estimator {\n",
       "  font-family: monospace;\n",
       "  border: 1px dotted var(--sklearn-color-border-box);\n",
       "  border-radius: 0.25em;\n",
       "  box-sizing: border-box;\n",
       "  margin-bottom: 0.5em;\n",
       "  /* unfitted */\n",
       "  background-color: var(--sklearn-color-unfitted-level-0);\n",
       "}\n",
       "\n",
       "#sk-container-id-5 div.sk-estimator.fitted {\n",
       "  /* fitted */\n",
       "  background-color: var(--sklearn-color-fitted-level-0);\n",
       "}\n",
       "\n",
       "/* on hover */\n",
       "#sk-container-id-5 div.sk-estimator:hover {\n",
       "  /* unfitted */\n",
       "  background-color: var(--sklearn-color-unfitted-level-2);\n",
       "}\n",
       "\n",
       "#sk-container-id-5 div.sk-estimator.fitted:hover {\n",
       "  /* fitted */\n",
       "  background-color: var(--sklearn-color-fitted-level-2);\n",
       "}\n",
       "\n",
       "/* Specification for estimator info (e.g. \"i\" and \"?\") */\n",
       "\n",
       "/* Common style for \"i\" and \"?\" */\n",
       "\n",
       ".sk-estimator-doc-link,\n",
       "a:link.sk-estimator-doc-link,\n",
       "a:visited.sk-estimator-doc-link {\n",
       "  float: right;\n",
       "  font-size: smaller;\n",
       "  line-height: 1em;\n",
       "  font-family: monospace;\n",
       "  background-color: var(--sklearn-color-background);\n",
       "  border-radius: 1em;\n",
       "  height: 1em;\n",
       "  width: 1em;\n",
       "  text-decoration: none !important;\n",
       "  margin-left: 1ex;\n",
       "  /* unfitted */\n",
       "  border: var(--sklearn-color-unfitted-level-1) 1pt solid;\n",
       "  color: var(--sklearn-color-unfitted-level-1);\n",
       "}\n",
       "\n",
       ".sk-estimator-doc-link.fitted,\n",
       "a:link.sk-estimator-doc-link.fitted,\n",
       "a:visited.sk-estimator-doc-link.fitted {\n",
       "  /* fitted */\n",
       "  border: var(--sklearn-color-fitted-level-1) 1pt solid;\n",
       "  color: var(--sklearn-color-fitted-level-1);\n",
       "}\n",
       "\n",
       "/* On hover */\n",
       "div.sk-estimator:hover .sk-estimator-doc-link:hover,\n",
       ".sk-estimator-doc-link:hover,\n",
       "div.sk-label-container:hover .sk-estimator-doc-link:hover,\n",
       ".sk-estimator-doc-link:hover {\n",
       "  /* unfitted */\n",
       "  background-color: var(--sklearn-color-unfitted-level-3);\n",
       "  color: var(--sklearn-color-background);\n",
       "  text-decoration: none;\n",
       "}\n",
       "\n",
       "div.sk-estimator.fitted:hover .sk-estimator-doc-link.fitted:hover,\n",
       ".sk-estimator-doc-link.fitted:hover,\n",
       "div.sk-label-container:hover .sk-estimator-doc-link.fitted:hover,\n",
       ".sk-estimator-doc-link.fitted:hover {\n",
       "  /* fitted */\n",
       "  background-color: var(--sklearn-color-fitted-level-3);\n",
       "  color: var(--sklearn-color-background);\n",
       "  text-decoration: none;\n",
       "}\n",
       "\n",
       "/* Span, style for the box shown on hovering the info icon */\n",
       ".sk-estimator-doc-link span {\n",
       "  display: none;\n",
       "  z-index: 9999;\n",
       "  position: relative;\n",
       "  font-weight: normal;\n",
       "  right: .2ex;\n",
       "  padding: .5ex;\n",
       "  margin: .5ex;\n",
       "  width: min-content;\n",
       "  min-width: 20ex;\n",
       "  max-width: 50ex;\n",
       "  color: var(--sklearn-color-text);\n",
       "  box-shadow: 2pt 2pt 4pt #999;\n",
       "  /* unfitted */\n",
       "  background: var(--sklearn-color-unfitted-level-0);\n",
       "  border: .5pt solid var(--sklearn-color-unfitted-level-3);\n",
       "}\n",
       "\n",
       ".sk-estimator-doc-link.fitted span {\n",
       "  /* fitted */\n",
       "  background: var(--sklearn-color-fitted-level-0);\n",
       "  border: var(--sklearn-color-fitted-level-3);\n",
       "}\n",
       "\n",
       ".sk-estimator-doc-link:hover span {\n",
       "  display: block;\n",
       "}\n",
       "\n",
       "/* \"?\"-specific style due to the `<a>` HTML tag */\n",
       "\n",
       "#sk-container-id-5 a.estimator_doc_link {\n",
       "  float: right;\n",
       "  font-size: 1rem;\n",
       "  line-height: 1em;\n",
       "  font-family: monospace;\n",
       "  background-color: var(--sklearn-color-background);\n",
       "  border-radius: 1rem;\n",
       "  height: 1rem;\n",
       "  width: 1rem;\n",
       "  text-decoration: none;\n",
       "  /* unfitted */\n",
       "  color: var(--sklearn-color-unfitted-level-1);\n",
       "  border: var(--sklearn-color-unfitted-level-1) 1pt solid;\n",
       "}\n",
       "\n",
       "#sk-container-id-5 a.estimator_doc_link.fitted {\n",
       "  /* fitted */\n",
       "  border: var(--sklearn-color-fitted-level-1) 1pt solid;\n",
       "  color: var(--sklearn-color-fitted-level-1);\n",
       "}\n",
       "\n",
       "/* On hover */\n",
       "#sk-container-id-5 a.estimator_doc_link:hover {\n",
       "  /* unfitted */\n",
       "  background-color: var(--sklearn-color-unfitted-level-3);\n",
       "  color: var(--sklearn-color-background);\n",
       "  text-decoration: none;\n",
       "}\n",
       "\n",
       "#sk-container-id-5 a.estimator_doc_link.fitted:hover {\n",
       "  /* fitted */\n",
       "  background-color: var(--sklearn-color-fitted-level-3);\n",
       "}\n",
       "</style><div id=\"sk-container-id-5\" class=\"sk-top-container\"><div class=\"sk-text-repr-fallback\"><pre>KMeans(n_clusters=2, n_init=10, random_state=42)</pre><b>In a Jupyter environment, please rerun this cell to show the HTML representation or trust the notebook. <br />On GitHub, the HTML representation is unable to render, please try loading this page with nbviewer.org.</b></div><div class=\"sk-container\" hidden><div class=\"sk-item\"><div class=\"sk-estimator fitted sk-toggleable\"><input class=\"sk-toggleable__control sk-hidden--visually\" id=\"sk-estimator-id-5\" type=\"checkbox\" checked><label for=\"sk-estimator-id-5\" class=\"sk-toggleable__label fitted sk-toggleable__label-arrow fitted\">&nbsp;&nbsp;KMeans<a class=\"sk-estimator-doc-link fitted\" rel=\"noreferrer\" target=\"_blank\" href=\"https://scikit-learn.org/1.5/modules/generated/sklearn.cluster.KMeans.html\">?<span>Documentation for KMeans</span></a><span class=\"sk-estimator-doc-link fitted\">i<span>Fitted</span></span></label><div class=\"sk-toggleable__content fitted\"><pre>KMeans(n_clusters=2, n_init=10, random_state=42)</pre></div> </div></div></div></div>"
      ],
      "text/plain": [
       "KMeans(n_clusters=2, n_init=10, random_state=42)"
      ]
     },
     "execution_count": 119,
     "metadata": {},
     "output_type": "execute_result"
    }
   ],
   "source": [
    "kmeans_df_2 = KMeans (n_clusters=2, n_init=10, random_state=42)\n",
    "kmeans_df_2.fit(df_padronizado)"
   ]
  },
  {
   "cell_type": "code",
   "execution_count": 121,
   "metadata": {},
   "outputs": [
    {
     "data": {
      "text/plain": [
       "array([[ 0.70892251, -0.00247545, -0.69939115],\n",
       "       [-0.75277339,  0.00262858,  0.74265245]])"
      ]
     },
     "execution_count": 121,
     "metadata": {},
     "output_type": "execute_result"
    }
   ],
   "source": [
    "centroides_padronizados_2 = kmeans_df_2.cluster_centers_\n",
    "centroides_padronizados_2"
   ]
  },
  {
   "cell_type": "code",
   "execution_count": 123,
   "metadata": {},
   "outputs": [
    {
     "data": {
      "text/plain": [
       "array([[48.72815534, 60.49514563, 32.18446602],\n",
       "       [28.36082474, 60.62886598, 69.32989691]])"
      ]
     },
     "execution_count": 123,
     "metadata": {},
     "output_type": "execute_result"
    }
   ],
   "source": [
    "centroides_originais_2 = scaler.inverse_transform(centroides_padronizados_2)\n",
    "centroides_originais_2"
   ]
  },
  {
   "cell_type": "code",
   "execution_count": 125,
   "metadata": {},
   "outputs": [
    {
     "data": {
      "text/plain": [
       "array([1, 1, 0, 1, 1, 1, 0, 1, 0, 1, 0, 1, 0, 1, 0, 1, 0, 1, 0, 1, 0, 1,\n",
       "       0, 1, 0, 1, 0, 1, 0, 1, 0, 1, 0, 1, 0, 1, 0, 1, 0, 1, 0, 1, 0, 1,\n",
       "       0, 1, 0, 1, 1, 1, 0, 1, 1, 0, 0, 0, 0, 0, 1, 0, 0, 1, 0, 0, 0, 1,\n",
       "       0, 0, 1, 1, 0, 0, 0, 0, 0, 1, 0, 0, 1, 0, 0, 1, 0, 0, 1, 0, 0, 1,\n",
       "       1, 0, 0, 1, 0, 0, 1, 1, 0, 1, 0, 1, 1, 0, 0, 1, 0, 1, 0, 0, 0, 0,\n",
       "       0, 1, 0, 1, 1, 1, 0, 0, 0, 0, 1, 0, 1, 1, 1, 1, 0, 1, 0, 1, 0, 1,\n",
       "       1, 1, 0, 1, 0, 1, 0, 1, 0, 1, 1, 1, 0, 1, 0, 1, 0, 1, 0, 1, 0, 1,\n",
       "       0, 1, 0, 1, 0, 1, 0, 1, 0, 1, 0, 1, 0, 1, 0, 1, 0, 1, 0, 1, 0, 1,\n",
       "       0, 1, 0, 1, 0, 1, 0, 1, 0, 1, 0, 1, 0, 1, 0, 1, 0, 1, 0, 1, 0, 1,\n",
       "       0, 1])"
      ]
     },
     "execution_count": 125,
     "metadata": {},
     "output_type": "execute_result"
    }
   ],
   "source": [
    "labels_2 = kmeans_df_2.labels_\n",
    "labels_2"
   ]
  },
  {
   "cell_type": "code",
   "execution_count": 133,
   "metadata": {},
   "outputs": [
    {
     "name": "stderr",
     "output_type": "stream",
     "text": [
      "C:\\Users\\dudir\\anaconda3\\Lib\\site-packages\\sklearn\\cluster\\_kmeans.py:1429: UserWarning:\n",
      "\n",
      "KMeans is known to have a memory leak on Windows with MKL, when there are less chunks than available threads. You can avoid it by setting the environment variable OMP_NUM_THREADS=1.\n",
      "\n"
     ]
    },
    {
     "data": {
      "text/html": [
       "<style>#sk-container-id-6 {\n",
       "  /* Definition of color scheme common for light and dark mode */\n",
       "  --sklearn-color-text: black;\n",
       "  --sklearn-color-line: gray;\n",
       "  /* Definition of color scheme for unfitted estimators */\n",
       "  --sklearn-color-unfitted-level-0: #fff5e6;\n",
       "  --sklearn-color-unfitted-level-1: #f6e4d2;\n",
       "  --sklearn-color-unfitted-level-2: #ffe0b3;\n",
       "  --sklearn-color-unfitted-level-3: chocolate;\n",
       "  /* Definition of color scheme for fitted estimators */\n",
       "  --sklearn-color-fitted-level-0: #f0f8ff;\n",
       "  --sklearn-color-fitted-level-1: #d4ebff;\n",
       "  --sklearn-color-fitted-level-2: #b3dbfd;\n",
       "  --sklearn-color-fitted-level-3: cornflowerblue;\n",
       "\n",
       "  /* Specific color for light theme */\n",
       "  --sklearn-color-text-on-default-background: var(--sg-text-color, var(--theme-code-foreground, var(--jp-content-font-color1, black)));\n",
       "  --sklearn-color-background: var(--sg-background-color, var(--theme-background, var(--jp-layout-color0, white)));\n",
       "  --sklearn-color-border-box: var(--sg-text-color, var(--theme-code-foreground, var(--jp-content-font-color1, black)));\n",
       "  --sklearn-color-icon: #696969;\n",
       "\n",
       "  @media (prefers-color-scheme: dark) {\n",
       "    /* Redefinition of color scheme for dark theme */\n",
       "    --sklearn-color-text-on-default-background: var(--sg-text-color, var(--theme-code-foreground, var(--jp-content-font-color1, white)));\n",
       "    --sklearn-color-background: var(--sg-background-color, var(--theme-background, var(--jp-layout-color0, #111)));\n",
       "    --sklearn-color-border-box: var(--sg-text-color, var(--theme-code-foreground, var(--jp-content-font-color1, white)));\n",
       "    --sklearn-color-icon: #878787;\n",
       "  }\n",
       "}\n",
       "\n",
       "#sk-container-id-6 {\n",
       "  color: var(--sklearn-color-text);\n",
       "}\n",
       "\n",
       "#sk-container-id-6 pre {\n",
       "  padding: 0;\n",
       "}\n",
       "\n",
       "#sk-container-id-6 input.sk-hidden--visually {\n",
       "  border: 0;\n",
       "  clip: rect(1px 1px 1px 1px);\n",
       "  clip: rect(1px, 1px, 1px, 1px);\n",
       "  height: 1px;\n",
       "  margin: -1px;\n",
       "  overflow: hidden;\n",
       "  padding: 0;\n",
       "  position: absolute;\n",
       "  width: 1px;\n",
       "}\n",
       "\n",
       "#sk-container-id-6 div.sk-dashed-wrapped {\n",
       "  border: 1px dashed var(--sklearn-color-line);\n",
       "  margin: 0 0.4em 0.5em 0.4em;\n",
       "  box-sizing: border-box;\n",
       "  padding-bottom: 0.4em;\n",
       "  background-color: var(--sklearn-color-background);\n",
       "}\n",
       "\n",
       "#sk-container-id-6 div.sk-container {\n",
       "  /* jupyter's `normalize.less` sets `[hidden] { display: none; }`\n",
       "     but bootstrap.min.css set `[hidden] { display: none !important; }`\n",
       "     so we also need the `!important` here to be able to override the\n",
       "     default hidden behavior on the sphinx rendered scikit-learn.org.\n",
       "     See: https://github.com/scikit-learn/scikit-learn/issues/21755 */\n",
       "  display: inline-block !important;\n",
       "  position: relative;\n",
       "}\n",
       "\n",
       "#sk-container-id-6 div.sk-text-repr-fallback {\n",
       "  display: none;\n",
       "}\n",
       "\n",
       "div.sk-parallel-item,\n",
       "div.sk-serial,\n",
       "div.sk-item {\n",
       "  /* draw centered vertical line to link estimators */\n",
       "  background-image: linear-gradient(var(--sklearn-color-text-on-default-background), var(--sklearn-color-text-on-default-background));\n",
       "  background-size: 2px 100%;\n",
       "  background-repeat: no-repeat;\n",
       "  background-position: center center;\n",
       "}\n",
       "\n",
       "/* Parallel-specific style estimator block */\n",
       "\n",
       "#sk-container-id-6 div.sk-parallel-item::after {\n",
       "  content: \"\";\n",
       "  width: 100%;\n",
       "  border-bottom: 2px solid var(--sklearn-color-text-on-default-background);\n",
       "  flex-grow: 1;\n",
       "}\n",
       "\n",
       "#sk-container-id-6 div.sk-parallel {\n",
       "  display: flex;\n",
       "  align-items: stretch;\n",
       "  justify-content: center;\n",
       "  background-color: var(--sklearn-color-background);\n",
       "  position: relative;\n",
       "}\n",
       "\n",
       "#sk-container-id-6 div.sk-parallel-item {\n",
       "  display: flex;\n",
       "  flex-direction: column;\n",
       "}\n",
       "\n",
       "#sk-container-id-6 div.sk-parallel-item:first-child::after {\n",
       "  align-self: flex-end;\n",
       "  width: 50%;\n",
       "}\n",
       "\n",
       "#sk-container-id-6 div.sk-parallel-item:last-child::after {\n",
       "  align-self: flex-start;\n",
       "  width: 50%;\n",
       "}\n",
       "\n",
       "#sk-container-id-6 div.sk-parallel-item:only-child::after {\n",
       "  width: 0;\n",
       "}\n",
       "\n",
       "/* Serial-specific style estimator block */\n",
       "\n",
       "#sk-container-id-6 div.sk-serial {\n",
       "  display: flex;\n",
       "  flex-direction: column;\n",
       "  align-items: center;\n",
       "  background-color: var(--sklearn-color-background);\n",
       "  padding-right: 1em;\n",
       "  padding-left: 1em;\n",
       "}\n",
       "\n",
       "\n",
       "/* Toggleable style: style used for estimator/Pipeline/ColumnTransformer box that is\n",
       "clickable and can be expanded/collapsed.\n",
       "- Pipeline and ColumnTransformer use this feature and define the default style\n",
       "- Estimators will overwrite some part of the style using the `sk-estimator` class\n",
       "*/\n",
       "\n",
       "/* Pipeline and ColumnTransformer style (default) */\n",
       "\n",
       "#sk-container-id-6 div.sk-toggleable {\n",
       "  /* Default theme specific background. It is overwritten whether we have a\n",
       "  specific estimator or a Pipeline/ColumnTransformer */\n",
       "  background-color: var(--sklearn-color-background);\n",
       "}\n",
       "\n",
       "/* Toggleable label */\n",
       "#sk-container-id-6 label.sk-toggleable__label {\n",
       "  cursor: pointer;\n",
       "  display: block;\n",
       "  width: 100%;\n",
       "  margin-bottom: 0;\n",
       "  padding: 0.5em;\n",
       "  box-sizing: border-box;\n",
       "  text-align: center;\n",
       "}\n",
       "\n",
       "#sk-container-id-6 label.sk-toggleable__label-arrow:before {\n",
       "  /* Arrow on the left of the label */\n",
       "  content: \"▸\";\n",
       "  float: left;\n",
       "  margin-right: 0.25em;\n",
       "  color: var(--sklearn-color-icon);\n",
       "}\n",
       "\n",
       "#sk-container-id-6 label.sk-toggleable__label-arrow:hover:before {\n",
       "  color: var(--sklearn-color-text);\n",
       "}\n",
       "\n",
       "/* Toggleable content - dropdown */\n",
       "\n",
       "#sk-container-id-6 div.sk-toggleable__content {\n",
       "  max-height: 0;\n",
       "  max-width: 0;\n",
       "  overflow: hidden;\n",
       "  text-align: left;\n",
       "  /* unfitted */\n",
       "  background-color: var(--sklearn-color-unfitted-level-0);\n",
       "}\n",
       "\n",
       "#sk-container-id-6 div.sk-toggleable__content.fitted {\n",
       "  /* fitted */\n",
       "  background-color: var(--sklearn-color-fitted-level-0);\n",
       "}\n",
       "\n",
       "#sk-container-id-6 div.sk-toggleable__content pre {\n",
       "  margin: 0.2em;\n",
       "  border-radius: 0.25em;\n",
       "  color: var(--sklearn-color-text);\n",
       "  /* unfitted */\n",
       "  background-color: var(--sklearn-color-unfitted-level-0);\n",
       "}\n",
       "\n",
       "#sk-container-id-6 div.sk-toggleable__content.fitted pre {\n",
       "  /* unfitted */\n",
       "  background-color: var(--sklearn-color-fitted-level-0);\n",
       "}\n",
       "\n",
       "#sk-container-id-6 input.sk-toggleable__control:checked~div.sk-toggleable__content {\n",
       "  /* Expand drop-down */\n",
       "  max-height: 200px;\n",
       "  max-width: 100%;\n",
       "  overflow: auto;\n",
       "}\n",
       "\n",
       "#sk-container-id-6 input.sk-toggleable__control:checked~label.sk-toggleable__label-arrow:before {\n",
       "  content: \"▾\";\n",
       "}\n",
       "\n",
       "/* Pipeline/ColumnTransformer-specific style */\n",
       "\n",
       "#sk-container-id-6 div.sk-label input.sk-toggleable__control:checked~label.sk-toggleable__label {\n",
       "  color: var(--sklearn-color-text);\n",
       "  background-color: var(--sklearn-color-unfitted-level-2);\n",
       "}\n",
       "\n",
       "#sk-container-id-6 div.sk-label.fitted input.sk-toggleable__control:checked~label.sk-toggleable__label {\n",
       "  background-color: var(--sklearn-color-fitted-level-2);\n",
       "}\n",
       "\n",
       "/* Estimator-specific style */\n",
       "\n",
       "/* Colorize estimator box */\n",
       "#sk-container-id-6 div.sk-estimator input.sk-toggleable__control:checked~label.sk-toggleable__label {\n",
       "  /* unfitted */\n",
       "  background-color: var(--sklearn-color-unfitted-level-2);\n",
       "}\n",
       "\n",
       "#sk-container-id-6 div.sk-estimator.fitted input.sk-toggleable__control:checked~label.sk-toggleable__label {\n",
       "  /* fitted */\n",
       "  background-color: var(--sklearn-color-fitted-level-2);\n",
       "}\n",
       "\n",
       "#sk-container-id-6 div.sk-label label.sk-toggleable__label,\n",
       "#sk-container-id-6 div.sk-label label {\n",
       "  /* The background is the default theme color */\n",
       "  color: var(--sklearn-color-text-on-default-background);\n",
       "}\n",
       "\n",
       "/* On hover, darken the color of the background */\n",
       "#sk-container-id-6 div.sk-label:hover label.sk-toggleable__label {\n",
       "  color: var(--sklearn-color-text);\n",
       "  background-color: var(--sklearn-color-unfitted-level-2);\n",
       "}\n",
       "\n",
       "/* Label box, darken color on hover, fitted */\n",
       "#sk-container-id-6 div.sk-label.fitted:hover label.sk-toggleable__label.fitted {\n",
       "  color: var(--sklearn-color-text);\n",
       "  background-color: var(--sklearn-color-fitted-level-2);\n",
       "}\n",
       "\n",
       "/* Estimator label */\n",
       "\n",
       "#sk-container-id-6 div.sk-label label {\n",
       "  font-family: monospace;\n",
       "  font-weight: bold;\n",
       "  display: inline-block;\n",
       "  line-height: 1.2em;\n",
       "}\n",
       "\n",
       "#sk-container-id-6 div.sk-label-container {\n",
       "  text-align: center;\n",
       "}\n",
       "\n",
       "/* Estimator-specific */\n",
       "#sk-container-id-6 div.sk-estimator {\n",
       "  font-family: monospace;\n",
       "  border: 1px dotted var(--sklearn-color-border-box);\n",
       "  border-radius: 0.25em;\n",
       "  box-sizing: border-box;\n",
       "  margin-bottom: 0.5em;\n",
       "  /* unfitted */\n",
       "  background-color: var(--sklearn-color-unfitted-level-0);\n",
       "}\n",
       "\n",
       "#sk-container-id-6 div.sk-estimator.fitted {\n",
       "  /* fitted */\n",
       "  background-color: var(--sklearn-color-fitted-level-0);\n",
       "}\n",
       "\n",
       "/* on hover */\n",
       "#sk-container-id-6 div.sk-estimator:hover {\n",
       "  /* unfitted */\n",
       "  background-color: var(--sklearn-color-unfitted-level-2);\n",
       "}\n",
       "\n",
       "#sk-container-id-6 div.sk-estimator.fitted:hover {\n",
       "  /* fitted */\n",
       "  background-color: var(--sklearn-color-fitted-level-2);\n",
       "}\n",
       "\n",
       "/* Specification for estimator info (e.g. \"i\" and \"?\") */\n",
       "\n",
       "/* Common style for \"i\" and \"?\" */\n",
       "\n",
       ".sk-estimator-doc-link,\n",
       "a:link.sk-estimator-doc-link,\n",
       "a:visited.sk-estimator-doc-link {\n",
       "  float: right;\n",
       "  font-size: smaller;\n",
       "  line-height: 1em;\n",
       "  font-family: monospace;\n",
       "  background-color: var(--sklearn-color-background);\n",
       "  border-radius: 1em;\n",
       "  height: 1em;\n",
       "  width: 1em;\n",
       "  text-decoration: none !important;\n",
       "  margin-left: 1ex;\n",
       "  /* unfitted */\n",
       "  border: var(--sklearn-color-unfitted-level-1) 1pt solid;\n",
       "  color: var(--sklearn-color-unfitted-level-1);\n",
       "}\n",
       "\n",
       ".sk-estimator-doc-link.fitted,\n",
       "a:link.sk-estimator-doc-link.fitted,\n",
       "a:visited.sk-estimator-doc-link.fitted {\n",
       "  /* fitted */\n",
       "  border: var(--sklearn-color-fitted-level-1) 1pt solid;\n",
       "  color: var(--sklearn-color-fitted-level-1);\n",
       "}\n",
       "\n",
       "/* On hover */\n",
       "div.sk-estimator:hover .sk-estimator-doc-link:hover,\n",
       ".sk-estimator-doc-link:hover,\n",
       "div.sk-label-container:hover .sk-estimator-doc-link:hover,\n",
       ".sk-estimator-doc-link:hover {\n",
       "  /* unfitted */\n",
       "  background-color: var(--sklearn-color-unfitted-level-3);\n",
       "  color: var(--sklearn-color-background);\n",
       "  text-decoration: none;\n",
       "}\n",
       "\n",
       "div.sk-estimator.fitted:hover .sk-estimator-doc-link.fitted:hover,\n",
       ".sk-estimator-doc-link.fitted:hover,\n",
       "div.sk-label-container:hover .sk-estimator-doc-link.fitted:hover,\n",
       ".sk-estimator-doc-link.fitted:hover {\n",
       "  /* fitted */\n",
       "  background-color: var(--sklearn-color-fitted-level-3);\n",
       "  color: var(--sklearn-color-background);\n",
       "  text-decoration: none;\n",
       "}\n",
       "\n",
       "/* Span, style for the box shown on hovering the info icon */\n",
       ".sk-estimator-doc-link span {\n",
       "  display: none;\n",
       "  z-index: 9999;\n",
       "  position: relative;\n",
       "  font-weight: normal;\n",
       "  right: .2ex;\n",
       "  padding: .5ex;\n",
       "  margin: .5ex;\n",
       "  width: min-content;\n",
       "  min-width: 20ex;\n",
       "  max-width: 50ex;\n",
       "  color: var(--sklearn-color-text);\n",
       "  box-shadow: 2pt 2pt 4pt #999;\n",
       "  /* unfitted */\n",
       "  background: var(--sklearn-color-unfitted-level-0);\n",
       "  border: .5pt solid var(--sklearn-color-unfitted-level-3);\n",
       "}\n",
       "\n",
       ".sk-estimator-doc-link.fitted span {\n",
       "  /* fitted */\n",
       "  background: var(--sklearn-color-fitted-level-0);\n",
       "  border: var(--sklearn-color-fitted-level-3);\n",
       "}\n",
       "\n",
       ".sk-estimator-doc-link:hover span {\n",
       "  display: block;\n",
       "}\n",
       "\n",
       "/* \"?\"-specific style due to the `<a>` HTML tag */\n",
       "\n",
       "#sk-container-id-6 a.estimator_doc_link {\n",
       "  float: right;\n",
       "  font-size: 1rem;\n",
       "  line-height: 1em;\n",
       "  font-family: monospace;\n",
       "  background-color: var(--sklearn-color-background);\n",
       "  border-radius: 1rem;\n",
       "  height: 1rem;\n",
       "  width: 1rem;\n",
       "  text-decoration: none;\n",
       "  /* unfitted */\n",
       "  color: var(--sklearn-color-unfitted-level-1);\n",
       "  border: var(--sklearn-color-unfitted-level-1) 1pt solid;\n",
       "}\n",
       "\n",
       "#sk-container-id-6 a.estimator_doc_link.fitted {\n",
       "  /* fitted */\n",
       "  border: var(--sklearn-color-fitted-level-1) 1pt solid;\n",
       "  color: var(--sklearn-color-fitted-level-1);\n",
       "}\n",
       "\n",
       "/* On hover */\n",
       "#sk-container-id-6 a.estimator_doc_link:hover {\n",
       "  /* unfitted */\n",
       "  background-color: var(--sklearn-color-unfitted-level-3);\n",
       "  color: var(--sklearn-color-background);\n",
       "  text-decoration: none;\n",
       "}\n",
       "\n",
       "#sk-container-id-6 a.estimator_doc_link.fitted:hover {\n",
       "  /* fitted */\n",
       "  background-color: var(--sklearn-color-fitted-level-3);\n",
       "}\n",
       "</style><div id=\"sk-container-id-6\" class=\"sk-top-container\"><div class=\"sk-text-repr-fallback\"><pre>KMeans(n_clusters=5, n_init=10, random_state=42)</pre><b>In a Jupyter environment, please rerun this cell to show the HTML representation or trust the notebook. <br />On GitHub, the HTML representation is unable to render, please try loading this page with nbviewer.org.</b></div><div class=\"sk-container\" hidden><div class=\"sk-item\"><div class=\"sk-estimator fitted sk-toggleable\"><input class=\"sk-toggleable__control sk-hidden--visually\" id=\"sk-estimator-id-6\" type=\"checkbox\" checked><label for=\"sk-estimator-id-6\" class=\"sk-toggleable__label fitted sk-toggleable__label-arrow fitted\">&nbsp;&nbsp;KMeans<a class=\"sk-estimator-doc-link fitted\" rel=\"noreferrer\" target=\"_blank\" href=\"https://scikit-learn.org/1.5/modules/generated/sklearn.cluster.KMeans.html\">?<span>Documentation for KMeans</span></a><span class=\"sk-estimator-doc-link fitted\">i<span>Fitted</span></span></label><div class=\"sk-toggleable__content fitted\"><pre>KMeans(n_clusters=5, n_init=10, random_state=42)</pre></div> </div></div></div></div>"
      ],
      "text/plain": [
       "KMeans(n_clusters=5, n_init=10, random_state=42)"
      ]
     },
     "execution_count": 133,
     "metadata": {},
     "output_type": "execute_result"
    }
   ],
   "source": [
    "kmeans_df_5 = KMeans (n_clusters=5, n_init=10, random_state=42)\n",
    "kmeans_df_5.fit(df_padronizado)"
   ]
  },
  {
   "cell_type": "code",
   "execution_count": 135,
   "metadata": {},
   "outputs": [
    {
     "data": {
      "text/plain": [
       "array([[ 0.5310735 , -1.2905084 , -1.23646671],\n",
       "       [-0.98067852, -0.74305983,  0.46744035],\n",
       "       [-0.42880597,  0.97484722,  1.21608539],\n",
       "       [ 0.07333084,  0.97494509, -1.19729675],\n",
       "       [ 1.20484056, -0.23577338, -0.05236781]])"
      ]
     },
     "execution_count": 135,
     "metadata": {},
     "output_type": "execute_result"
    }
   ],
   "source": [
    "centroides_padronizados_5 = kmeans_df_5.cluster_centers_\n",
    "centroides_padronizados_5"
   ]
  },
  {
   "cell_type": "code",
   "execution_count": 137,
   "metadata": {},
   "outputs": [
    {
     "data": {
      "text/plain": [
       "array([[46.25      , 26.75      , 18.35      ],\n",
       "       [25.18518519, 41.09259259, 62.24074074],\n",
       "       [32.875     , 86.1       , 81.525     ],\n",
       "       [39.87179487, 86.1025641 , 19.35897436],\n",
       "       [55.63829787, 54.38297872, 48.85106383]])"
      ]
     },
     "execution_count": 137,
     "metadata": {},
     "output_type": "execute_result"
    }
   ],
   "source": [
    "centroides_originais_5 = scaler.inverse_transform(centroides_padronizados_5)\n",
    "centroides_originais_5"
   ]
  },
  {
   "cell_type": "code",
   "execution_count": 139,
   "metadata": {},
   "outputs": [
    {
     "data": {
      "text/plain": [
       "array([1, 1, 0, 1, 1, 1, 0, 1, 0, 1, 0, 1, 0, 1, 0, 1, 0, 1, 0, 1, 0, 1,\n",
       "       0, 1, 0, 1, 0, 1, 0, 1, 0, 1, 0, 1, 0, 1, 0, 1, 0, 1, 4, 1, 0, 1,\n",
       "       0, 1, 4, 1, 1, 1, 4, 1, 1, 4, 4, 4, 4, 4, 1, 4, 4, 1, 4, 4, 4, 1,\n",
       "       4, 4, 1, 1, 4, 4, 4, 4, 4, 1, 4, 4, 1, 4, 4, 1, 4, 4, 1, 4, 4, 1,\n",
       "       1, 4, 4, 1, 4, 4, 1, 1, 4, 1, 4, 1, 1, 4, 4, 1, 4, 1, 4, 4, 4, 4,\n",
       "       4, 1, 3, 1, 1, 1, 4, 4, 4, 4, 1, 3, 2, 2, 3, 2, 3, 2, 3, 2, 3, 2,\n",
       "       3, 2, 3, 2, 3, 2, 3, 2, 3, 2, 3, 2, 3, 2, 3, 2, 3, 2, 3, 2, 3, 2,\n",
       "       3, 2, 3, 2, 3, 2, 4, 2, 3, 2, 3, 2, 3, 2, 3, 2, 3, 2, 3, 2, 3, 2,\n",
       "       3, 2, 3, 2, 3, 2, 3, 2, 3, 2, 3, 2, 3, 2, 3, 2, 3, 2, 3, 2, 3, 2,\n",
       "       3, 2])"
      ]
     },
     "execution_count": 139,
     "metadata": {},
     "output_type": "execute_result"
    }
   ],
   "source": [
    "labels_5 = kmeans_df_5.labels_\n",
    "labels_5"
   ]
  },
  {
   "cell_type": "markdown",
   "metadata": {},
   "source": [
    "Aqui decidi testar o k-means com 2 e com 5 clusters, para identificar qual se adapta melhor às variáveis que temos."
   ]
  },
  {
   "cell_type": "code",
   "execution_count": 127,
   "metadata": {},
   "outputs": [
    {
     "data": {
      "application/vnd.plotly.v1+json": {
       "config": {
        "plotlyServerURL": "https://plot.ly"
       },
       "data": [
        {
         "hovertemplate": "cluster=1<br>Age=%{x}<br>Annual Income (k$)=%{y}<extra></extra>",
         "legendgroup": "1",
         "marker": {
          "color": "#636efa",
          "opacity": 0.7,
          "symbol": "circle"
         },
         "mode": "markers",
         "name": "1",
         "orientation": "v",
         "showlegend": true,
         "type": "scatter",
         "x": {
          "_inputArray": {
           "0": 19,
           "1": 21,
           "10": 20,
           "11": 35,
           "12": 25,
           "13": 31,
           "14": 29,
           "15": 35,
           "16": 23,
           "17": 21,
           "18": 18,
           "19": 21,
           "2": 23,
           "20": 30,
           "21": 20,
           "22": 24,
           "23": 31,
           "24": 24,
           "25": 27,
           "26": 29,
           "27": 31,
           "28": 33,
           "29": 31,
           "3": 31,
           "30": 27,
           "31": 19,
           "32": 18,
           "33": 19,
           "34": 32,
           "35": 26,
           "36": 23,
           "37": 38,
           "38": 21,
           "39": 22,
           "4": 22,
           "40": 34,
           "41": 18,
           "42": 32,
           "43": 24,
           "44": 27,
           "45": 20,
           "46": 23,
           "47": 26,
           "48": 21,
           "49": 19,
           "5": 23,
           "50": 19,
           "51": 18,
           "52": 19,
           "53": 27,
           "54": 40,
           "55": 39,
           "56": 23,
           "57": 31,
           "58": 40,
           "59": 38,
           "6": 30,
           "60": 39,
           "61": 25,
           "62": 31,
           "63": 29,
           "64": 32,
           "65": 35,
           "66": 32,
           "67": 28,
           "68": 32,
           "69": 28,
           "7": 35,
           "70": 32,
           "71": 34,
           "72": 39,
           "73": 38,
           "74": 27,
           "75": 30,
           "76": 30,
           "77": 29,
           "78": 31,
           "79": 36,
           "8": 24,
           "80": 33,
           "81": 32,
           "82": 28,
           "83": 36,
           "84": 30,
           "85": 27,
           "86": 35,
           "87": 32,
           "88": 29,
           "89": 30,
           "9": 22,
           "90": 28,
           "91": 36,
           "92": 32,
           "93": 38,
           "94": 35,
           "95": 32,
           "96": 30,
           "bdata": "ExUXHxYXHiMYFhQjGR8dIxcVEhUeFBgfGBsdHyEfGxMSEyAaFyYVFiISIBgbFBcaFRMTEhMbKCcXHygmJxkfHSAjIBwgHCAiJyYbHh4dHyQhIBwkHhsjIB0eHCQgJiMgHg==",
           "dtype": "i1",
           "shape": "97"
          },
          "bdata": "ExUXHxYXHiMYFhQjGR8dIxcVEhUeFBgfGBsdHyEfGxMSEyAaFyYVFiISIBgbFBcaFRMTEhMbKCcXHygmJxkfHSAjIBwgHCAiJyYbHh4dHyQhIBwkHhsjIB0eHCQgJiMgHg==",
          "dtype": "i1"
         },
         "xaxis": "x",
         "y": {
          "_inputArray": {
           "0": 15,
           "1": 15,
           "10": 21,
           "11": 23,
           "12": 24,
           "13": 25,
           "14": 28,
           "15": 28,
           "16": 29,
           "17": 30,
           "18": 33,
           "19": 33,
           "2": 16,
           "20": 34,
           "21": 37,
           "22": 38,
           "23": 39,
           "24": 39,
           "25": 40,
           "26": 40,
           "27": 40,
           "28": 42,
           "29": 43,
           "3": 17,
           "30": 46,
           "31": 46,
           "32": 48,
           "33": 48,
           "34": 48,
           "35": 54,
           "36": 54,
           "37": 54,
           "38": 54,
           "39": 57,
           "4": 17,
           "40": 58,
           "41": 59,
           "42": 60,
           "43": 60,
           "44": 60,
           "45": 61,
           "46": 62,
           "47": 62,
           "48": 62,
           "49": 63,
           "5": 18,
           "50": 64,
           "51": 65,
           "52": 65,
           "53": 67,
           "54": 69,
           "55": 69,
           "56": 70,
           "57": 70,
           "58": 71,
           "59": 71,
           "6": 19,
           "60": 71,
           "61": 72,
           "62": 72,
           "63": 73,
           "64": 73,
           "65": 74,
           "66": 75,
           "67": 76,
           "68": 76,
           "69": 77,
           "7": 19,
           "70": 77,
           "71": 78,
           "72": 78,
           "73": 78,
           "74": 78,
           "75": 78,
           "76": 78,
           "77": 79,
           "78": 81,
           "79": 85,
           "8": 20,
           "80": 86,
           "81": 87,
           "82": 87,
           "83": 87,
           "84": 88,
           "85": 88,
           "86": 93,
           "87": 97,
           "88": 98,
           "89": 99,
           "9": 20,
           "90": 101,
           "91": 103,
           "92": 103,
           "93": 113,
           "94": 120,
           "95": 126,
           "96": 137,
           "bdata": "DwAPABAAEQARABIAEwATABQAFAAVABcAGAAZABwAHAAdAB4AIQAhACIAJQAmACcAJwAoACgAKAAqACsALgAuADAAMAAwADYANgA2ADYAOQA6ADsAPAA8ADwAPQA+AD4APgA/AEAAQQBBAEMARQBFAEYARgBHAEcARwBIAEgASQBJAEoASwBMAEwATQBNAE4ATgBOAE4ATgBOAE8AUQBVAFYAVwBXAFcAWABYAF0AYQBiAGMAZQBnAGcAcQB4AH4AiQA=",
           "dtype": "i2",
           "shape": "97"
          },
          "bdata": "DwAPABAAEQARABIAEwATABQAFAAVABcAGAAZABwAHAAdAB4AIQAhACIAJQAmACcAJwAoACgAKAAqACsALgAuADAAMAAwADYANgA2ADYAOQA6ADsAPAA8ADwAPQA+AD4APgA/AEAAQQBBAEMARQBFAEYARgBHAEcARwBIAEgASQBJAEoASwBMAEwATQBNAE4ATgBOAE4ATgBOAE8AUQBVAFYAVwBXAFcAWABYAF0AYQBiAGMAZQBnAGcAcQB4AH4AiQA=",
          "dtype": "i2"
         },
         "yaxis": "y"
        },
        {
         "hovertemplate": "cluster=0<br>Age=%{x}<br>Annual Income (k$)=%{y}<extra></extra>",
         "legendgroup": "0",
         "marker": {
          "color": "#EF553B",
          "opacity": 0.7,
          "symbol": "circle"
         },
         "mode": "markers",
         "name": "0",
         "orientation": "v",
         "showlegend": true,
         "type": "scatter",
         "x": {
          "_inputArray": {
           "0": 20,
           "1": 35,
           "10": 54,
           "100": 47,
           "101": 45,
           "102": 32,
           "11": 45,
           "12": 40,
           "13": 60,
           "14": 53,
           "15": 49,
           "16": 42,
           "17": 36,
           "18": 65,
           "19": 48,
           "2": 64,
           "20": 49,
           "21": 50,
           "22": 49,
           "23": 59,
           "24": 50,
           "25": 47,
           "26": 51,
           "27": 69,
           "28": 53,
           "29": 70,
           "3": 67,
           "30": 67,
           "31": 54,
           "32": 63,
           "33": 43,
           "34": 68,
           "35": 70,
           "36": 47,
           "37": 60,
           "38": 60,
           "39": 59,
           "4": 58,
           "40": 45,
           "41": 40,
           "42": 49,
           "43": 57,
           "44": 67,
           "45": 46,
           "46": 48,
           "47": 55,
           "48": 50,
           "49": 68,
           "5": 37,
           "50": 48,
           "51": 40,
           "52": 47,
           "53": 48,
           "54": 49,
           "55": 67,
           "56": 49,
           "57": 66,
           "58": 54,
           "59": 68,
           "6": 35,
           "60": 66,
           "61": 65,
           "62": 38,
           "63": 63,
           "64": 49,
           "65": 51,
           "66": 50,
           "67": 38,
           "68": 43,
           "69": 59,
           "7": 52,
           "70": 47,
           "71": 20,
           "72": 44,
           "73": 19,
           "74": 57,
           "75": 25,
           "76": 48,
           "77": 34,
           "78": 43,
           "79": 44,
           "8": 35,
           "80": 47,
           "81": 37,
           "82": 34,
           "83": 56,
           "84": 19,
           "85": 50,
           "86": 42,
           "87": 36,
           "88": 40,
           "89": 36,
           "9": 46,
           "90": 52,
           "91": 58,
           "92": 59,
           "93": 37,
           "94": 46,
           "95": 41,
           "96": 54,
           "97": 41,
           "98": 34,
           "99": 33,
           "bdata": "FCNAQzolIzQjLjYtKDw1MSokQTAxMjE7Mi8zRTVGQzY/K0RGLzw8Oy0oMTlDLjA3MkQwKC8wMUMxQjZEQkEmPzEzMiYrOy8ULBM5GTAiKywvJSI4EzIqJCgkNDo7JS4pNikiIS8tIA==",
           "dtype": "i1",
           "shape": "103"
          },
          "bdata": "FCNAQzolIzQjLjYtKDw1MSokQTAxMjE7Mi8zRTVGQzY/K0RGLzw8Oy0oMTlDLjA3MkQwKC8wMUMxQjZEQkEmPzEzMiYrOy8ULBM5GTAiKywvJSI4EzIqJCgkNDo7JS4pNikiIS8tIA==",
          "dtype": "i1"
         },
         "xaxis": "x",
         "y": {
          "_inputArray": {
           "0": 16,
           "1": 18,
           "10": 28,
           "100": 120,
           "101": 126,
           "102": 137,
           "11": 28,
           "12": 29,
           "13": 30,
           "14": 33,
           "15": 33,
           "16": 34,
           "17": 37,
           "18": 38,
           "19": 39,
           "2": 19,
           "20": 39,
           "21": 40,
           "22": 42,
           "23": 43,
           "24": 43,
           "25": 43,
           "26": 44,
           "27": 44,
           "28": 46,
           "29": 46,
           "3": 19,
           "30": 47,
           "31": 47,
           "32": 48,
           "33": 48,
           "34": 48,
           "35": 49,
           "36": 49,
           "37": 50,
           "38": 50,
           "39": 54,
           "4": 20,
           "40": 54,
           "41": 54,
           "42": 54,
           "43": 54,
           "44": 54,
           "45": 54,
           "46": 54,
           "47": 57,
           "48": 58,
           "49": 59,
           "5": 20,
           "50": 60,
           "51": 60,
           "52": 60,
           "53": 61,
           "54": 62,
           "55": 62,
           "56": 62,
           "57": 63,
           "58": 63,
           "59": 63,
           "6": 21,
           "60": 63,
           "61": 63,
           "62": 64,
           "63": 65,
           "64": 65,
           "65": 67,
           "66": 67,
           "67": 67,
           "68": 71,
           "69": 71,
           "7": 23,
           "70": 71,
           "71": 73,
           "72": 73,
           "73": 74,
           "74": 75,
           "75": 77,
           "76": 77,
           "77": 78,
           "78": 78,
           "79": 78,
           "8": 24,
           "80": 78,
           "81": 78,
           "82": 78,
           "83": 79,
           "84": 81,
           "85": 85,
           "86": 86,
           "87": 87,
           "88": 87,
           "89": 87,
           "9": 25,
           "90": 88,
           "91": 88,
           "92": 93,
           "93": 97,
           "94": 98,
           "95": 99,
           "96": 101,
           "97": 103,
           "98": 103,
           "99": 113,
           "bdata": "EAASABMAEwAUABQAFQAXABgAGQAcABwAHQAeACEAIQAiACUAJgAnACcAKAAqACsAKwArACwALAAuAC4ALwAvADAAMAAwADEAMQAyADIANgA2ADYANgA2ADYANgA2ADkAOgA7ADwAPAA8AD0APgA+AD4APwA/AD8APwA/AEAAQQBBAEMAQwBDAEcARwBHAEkASQBKAEsATQBNAE4ATgBOAE4ATgBOAE8AUQBVAFYAVwBXAFcAWABYAF0AYQBiAGMAZQBnAGcAcQB4AH4AiQA=",
           "dtype": "i2",
           "shape": "103"
          },
          "bdata": "EAASABMAEwAUABQAFQAXABgAGQAcABwAHQAeACEAIQAiACUAJgAnACcAKAAqACsAKwArACwALAAuAC4ALwAvADAAMAAwADEAMQAyADIANgA2ADYANgA2ADYANgA2ADkAOgA7ADwAPAA8AD0APgA+AD4APwA/AD8APwA/AEAAQQBBAEMAQwBDAEcARwBHAEkASQBKAEsATQBNAE4ATgBOAE4ATgBOAE8AUQBVAFYAVwBXAFcAWABYAF0AYQBiAGMAZQBnAGcAcQB4AH4AiQA=",
          "dtype": "i2"
         },
         "yaxis": "y"
        },
        {
         "marker": {
          "color": "red",
          "size": 14,
          "symbol": "x"
         },
         "mode": "markers",
         "name": "Centroides",
         "type": "scatter",
         "x": {
          "_inputArray": {
           "0": 48.728155339805824,
           "1": 28.360824742268044,
           "bdata": "2G+1MTRdSED+oKMCX1w8QA==",
           "dtype": "f8",
           "shape": "2"
          },
          "bdata": "2G+1MTRdSED+oKMCX1w8QA==",
          "dtype": "f8"
         },
         "y": {
          "_inputArray": {
           "0": 60.49514563106797,
           "1": 60.62886597938145,
           "bdata": "3Bia7mA/TkBTgS+uflBOQA==",
           "dtype": "f8",
           "shape": "2"
          },
          "bdata": "3Bia7mA/TkBTgS+uflBOQA==",
          "dtype": "f8"
         }
        }
       ],
       "layout": {
        "autosize": true,
        "legend": {
         "title": {
          "text": "Cluster"
         },
         "tracegroupgap": 0
        },
        "template": {
         "data": {
          "bar": [
           {
            "error_x": {
             "color": "#2a3f5f"
            },
            "error_y": {
             "color": "#2a3f5f"
            },
            "marker": {
             "line": {
              "color": "#E5ECF6",
              "width": 0.5
             },
             "pattern": {
              "fillmode": "overlay",
              "size": 10,
              "solidity": 0.2
             }
            },
            "type": "bar"
           }
          ],
          "barpolar": [
           {
            "marker": {
             "line": {
              "color": "#E5ECF6",
              "width": 0.5
             },
             "pattern": {
              "fillmode": "overlay",
              "size": 10,
              "solidity": 0.2
             }
            },
            "type": "barpolar"
           }
          ],
          "carpet": [
           {
            "aaxis": {
             "endlinecolor": "#2a3f5f",
             "gridcolor": "white",
             "linecolor": "white",
             "minorgridcolor": "white",
             "startlinecolor": "#2a3f5f"
            },
            "baxis": {
             "endlinecolor": "#2a3f5f",
             "gridcolor": "white",
             "linecolor": "white",
             "minorgridcolor": "white",
             "startlinecolor": "#2a3f5f"
            },
            "type": "carpet"
           }
          ],
          "choropleth": [
           {
            "colorbar": {
             "outlinewidth": 0,
             "ticks": ""
            },
            "type": "choropleth"
           }
          ],
          "contour": [
           {
            "colorbar": {
             "outlinewidth": 0,
             "ticks": ""
            },
            "colorscale": [
             [
              0,
              "#0d0887"
             ],
             [
              0.1111111111111111,
              "#46039f"
             ],
             [
              0.2222222222222222,
              "#7201a8"
             ],
             [
              0.3333333333333333,
              "#9c179e"
             ],
             [
              0.4444444444444444,
              "#bd3786"
             ],
             [
              0.5555555555555556,
              "#d8576b"
             ],
             [
              0.6666666666666666,
              "#ed7953"
             ],
             [
              0.7777777777777778,
              "#fb9f3a"
             ],
             [
              0.8888888888888888,
              "#fdca26"
             ],
             [
              1,
              "#f0f921"
             ]
            ],
            "type": "contour"
           }
          ],
          "contourcarpet": [
           {
            "colorbar": {
             "outlinewidth": 0,
             "ticks": ""
            },
            "type": "contourcarpet"
           }
          ],
          "heatmap": [
           {
            "colorbar": {
             "outlinewidth": 0,
             "ticks": ""
            },
            "colorscale": [
             [
              0,
              "#0d0887"
             ],
             [
              0.1111111111111111,
              "#46039f"
             ],
             [
              0.2222222222222222,
              "#7201a8"
             ],
             [
              0.3333333333333333,
              "#9c179e"
             ],
             [
              0.4444444444444444,
              "#bd3786"
             ],
             [
              0.5555555555555556,
              "#d8576b"
             ],
             [
              0.6666666666666666,
              "#ed7953"
             ],
             [
              0.7777777777777778,
              "#fb9f3a"
             ],
             [
              0.8888888888888888,
              "#fdca26"
             ],
             [
              1,
              "#f0f921"
             ]
            ],
            "type": "heatmap"
           }
          ],
          "histogram": [
           {
            "marker": {
             "pattern": {
              "fillmode": "overlay",
              "size": 10,
              "solidity": 0.2
             }
            },
            "type": "histogram"
           }
          ],
          "histogram2d": [
           {
            "colorbar": {
             "outlinewidth": 0,
             "ticks": ""
            },
            "colorscale": [
             [
              0,
              "#0d0887"
             ],
             [
              0.1111111111111111,
              "#46039f"
             ],
             [
              0.2222222222222222,
              "#7201a8"
             ],
             [
              0.3333333333333333,
              "#9c179e"
             ],
             [
              0.4444444444444444,
              "#bd3786"
             ],
             [
              0.5555555555555556,
              "#d8576b"
             ],
             [
              0.6666666666666666,
              "#ed7953"
             ],
             [
              0.7777777777777778,
              "#fb9f3a"
             ],
             [
              0.8888888888888888,
              "#fdca26"
             ],
             [
              1,
              "#f0f921"
             ]
            ],
            "type": "histogram2d"
           }
          ],
          "histogram2dcontour": [
           {
            "colorbar": {
             "outlinewidth": 0,
             "ticks": ""
            },
            "colorscale": [
             [
              0,
              "#0d0887"
             ],
             [
              0.1111111111111111,
              "#46039f"
             ],
             [
              0.2222222222222222,
              "#7201a8"
             ],
             [
              0.3333333333333333,
              "#9c179e"
             ],
             [
              0.4444444444444444,
              "#bd3786"
             ],
             [
              0.5555555555555556,
              "#d8576b"
             ],
             [
              0.6666666666666666,
              "#ed7953"
             ],
             [
              0.7777777777777778,
              "#fb9f3a"
             ],
             [
              0.8888888888888888,
              "#fdca26"
             ],
             [
              1,
              "#f0f921"
             ]
            ],
            "type": "histogram2dcontour"
           }
          ],
          "mesh3d": [
           {
            "colorbar": {
             "outlinewidth": 0,
             "ticks": ""
            },
            "type": "mesh3d"
           }
          ],
          "parcoords": [
           {
            "line": {
             "colorbar": {
              "outlinewidth": 0,
              "ticks": ""
             }
            },
            "type": "parcoords"
           }
          ],
          "pie": [
           {
            "automargin": true,
            "type": "pie"
           }
          ],
          "scatter": [
           {
            "fillpattern": {
             "fillmode": "overlay",
             "size": 10,
             "solidity": 0.2
            },
            "type": "scatter"
           }
          ],
          "scatter3d": [
           {
            "line": {
             "colorbar": {
              "outlinewidth": 0,
              "ticks": ""
             }
            },
            "marker": {
             "colorbar": {
              "outlinewidth": 0,
              "ticks": ""
             }
            },
            "type": "scatter3d"
           }
          ],
          "scattercarpet": [
           {
            "marker": {
             "colorbar": {
              "outlinewidth": 0,
              "ticks": ""
             }
            },
            "type": "scattercarpet"
           }
          ],
          "scattergeo": [
           {
            "marker": {
             "colorbar": {
              "outlinewidth": 0,
              "ticks": ""
             }
            },
            "type": "scattergeo"
           }
          ],
          "scattergl": [
           {
            "marker": {
             "colorbar": {
              "outlinewidth": 0,
              "ticks": ""
             }
            },
            "type": "scattergl"
           }
          ],
          "scattermap": [
           {
            "marker": {
             "colorbar": {
              "outlinewidth": 0,
              "ticks": ""
             }
            },
            "type": "scattermap"
           }
          ],
          "scattermapbox": [
           {
            "marker": {
             "colorbar": {
              "outlinewidth": 0,
              "ticks": ""
             }
            },
            "type": "scattermapbox"
           }
          ],
          "scatterpolar": [
           {
            "marker": {
             "colorbar": {
              "outlinewidth": 0,
              "ticks": ""
             }
            },
            "type": "scatterpolar"
           }
          ],
          "scatterpolargl": [
           {
            "marker": {
             "colorbar": {
              "outlinewidth": 0,
              "ticks": ""
             }
            },
            "type": "scatterpolargl"
           }
          ],
          "scatterternary": [
           {
            "marker": {
             "colorbar": {
              "outlinewidth": 0,
              "ticks": ""
             }
            },
            "type": "scatterternary"
           }
          ],
          "surface": [
           {
            "colorbar": {
             "outlinewidth": 0,
             "ticks": ""
            },
            "colorscale": [
             [
              0,
              "#0d0887"
             ],
             [
              0.1111111111111111,
              "#46039f"
             ],
             [
              0.2222222222222222,
              "#7201a8"
             ],
             [
              0.3333333333333333,
              "#9c179e"
             ],
             [
              0.4444444444444444,
              "#bd3786"
             ],
             [
              0.5555555555555556,
              "#d8576b"
             ],
             [
              0.6666666666666666,
              "#ed7953"
             ],
             [
              0.7777777777777778,
              "#fb9f3a"
             ],
             [
              0.8888888888888888,
              "#fdca26"
             ],
             [
              1,
              "#f0f921"
             ]
            ],
            "type": "surface"
           }
          ],
          "table": [
           {
            "cells": {
             "fill": {
              "color": "#EBF0F8"
             },
             "line": {
              "color": "white"
             }
            },
            "header": {
             "fill": {
              "color": "#C8D4E3"
             },
             "line": {
              "color": "white"
             }
            },
            "type": "table"
           }
          ]
         },
         "layout": {
          "annotationdefaults": {
           "arrowcolor": "#2a3f5f",
           "arrowhead": 0,
           "arrowwidth": 1
          },
          "autotypenumbers": "strict",
          "coloraxis": {
           "colorbar": {
            "outlinewidth": 0,
            "ticks": ""
           }
          },
          "colorscale": {
           "diverging": [
            [
             0,
             "#8e0152"
            ],
            [
             0.1,
             "#c51b7d"
            ],
            [
             0.2,
             "#de77ae"
            ],
            [
             0.3,
             "#f1b6da"
            ],
            [
             0.4,
             "#fde0ef"
            ],
            [
             0.5,
             "#f7f7f7"
            ],
            [
             0.6,
             "#e6f5d0"
            ],
            [
             0.7,
             "#b8e186"
            ],
            [
             0.8,
             "#7fbc41"
            ],
            [
             0.9,
             "#4d9221"
            ],
            [
             1,
             "#276419"
            ]
           ],
           "sequential": [
            [
             0,
             "#0d0887"
            ],
            [
             0.1111111111111111,
             "#46039f"
            ],
            [
             0.2222222222222222,
             "#7201a8"
            ],
            [
             0.3333333333333333,
             "#9c179e"
            ],
            [
             0.4444444444444444,
             "#bd3786"
            ],
            [
             0.5555555555555556,
             "#d8576b"
            ],
            [
             0.6666666666666666,
             "#ed7953"
            ],
            [
             0.7777777777777778,
             "#fb9f3a"
            ],
            [
             0.8888888888888888,
             "#fdca26"
            ],
            [
             1,
             "#f0f921"
            ]
           ],
           "sequentialminus": [
            [
             0,
             "#0d0887"
            ],
            [
             0.1111111111111111,
             "#46039f"
            ],
            [
             0.2222222222222222,
             "#7201a8"
            ],
            [
             0.3333333333333333,
             "#9c179e"
            ],
            [
             0.4444444444444444,
             "#bd3786"
            ],
            [
             0.5555555555555556,
             "#d8576b"
            ],
            [
             0.6666666666666666,
             "#ed7953"
            ],
            [
             0.7777777777777778,
             "#fb9f3a"
            ],
            [
             0.8888888888888888,
             "#fdca26"
            ],
            [
             1,
             "#f0f921"
            ]
           ]
          },
          "colorway": [
           "#636efa",
           "#EF553B",
           "#00cc96",
           "#ab63fa",
           "#FFA15A",
           "#19d3f3",
           "#FF6692",
           "#B6E880",
           "#FF97FF",
           "#FECB52"
          ],
          "font": {
           "color": "#2a3f5f"
          },
          "geo": {
           "bgcolor": "white",
           "lakecolor": "white",
           "landcolor": "#E5ECF6",
           "showlakes": true,
           "showland": true,
           "subunitcolor": "white"
          },
          "hoverlabel": {
           "align": "left"
          },
          "hovermode": "closest",
          "mapbox": {
           "style": "light"
          },
          "paper_bgcolor": "white",
          "plot_bgcolor": "#E5ECF6",
          "polar": {
           "angularaxis": {
            "gridcolor": "white",
            "linecolor": "white",
            "ticks": ""
           },
           "bgcolor": "#E5ECF6",
           "radialaxis": {
            "gridcolor": "white",
            "linecolor": "white",
            "ticks": ""
           }
          },
          "scene": {
           "xaxis": {
            "backgroundcolor": "#E5ECF6",
            "gridcolor": "white",
            "gridwidth": 2,
            "linecolor": "white",
            "showbackground": true,
            "ticks": "",
            "zerolinecolor": "white"
           },
           "yaxis": {
            "backgroundcolor": "#E5ECF6",
            "gridcolor": "white",
            "gridwidth": 2,
            "linecolor": "white",
            "showbackground": true,
            "ticks": "",
            "zerolinecolor": "white"
           },
           "zaxis": {
            "backgroundcolor": "#E5ECF6",
            "gridcolor": "white",
            "gridwidth": 2,
            "linecolor": "white",
            "showbackground": true,
            "ticks": "",
            "zerolinecolor": "white"
           }
          },
          "shapedefaults": {
           "line": {
            "color": "#2a3f5f"
           }
          },
          "ternary": {
           "aaxis": {
            "gridcolor": "white",
            "linecolor": "white",
            "ticks": ""
           },
           "baxis": {
            "gridcolor": "white",
            "linecolor": "white",
            "ticks": ""
           },
           "bgcolor": "#E5ECF6",
           "caxis": {
            "gridcolor": "white",
            "linecolor": "white",
            "ticks": ""
           }
          },
          "title": {
           "x": 0.05
          },
          "xaxis": {
           "automargin": true,
           "gridcolor": "white",
           "linecolor": "white",
           "ticks": "",
           "title": {
            "standoff": 15
           },
           "zerolinecolor": "white",
           "zerolinewidth": 2
          },
          "yaxis": {
           "automargin": true,
           "gridcolor": "white",
           "linecolor": "white",
           "ticks": "",
           "title": {
            "standoff": 15
           },
           "zerolinecolor": "white",
           "zerolinewidth": 2
          }
         }
        },
        "title": {
         "text": "Clusters de Clientes de Shopping"
        },
        "xaxis": {
         "anchor": "y",
         "autorange": true,
         "domain": [
          0,
          1
         ],
         "range": [
          14.835873983739837,
          73.16412601626017
         ],
         "title": {
          "text": "Idade"
         },
         "type": "linear"
        },
        "yaxis": {
         "anchor": "x",
         "autorange": true,
         "domain": [
          0,
          1
         ],
         "range": [
          4.932038834951458,
          147.06796116504853
         ],
         "title": {
          "text": "Salário Anual"
         },
         "type": "linear"
        }
       }
      },
      "image/png": "[encoded data removed]"
     },
     "metadata": {},
     "output_type": "display_data"
    }
   ],
   "source": [
    "df_clusters_2 = pd.DataFrame({\n",
    "    'Age': df['Age'],\n",
    "    'Annual Income (k$)': df['Annual Income (k$)'],\n",
    "    'cluster': labels_2.astype(str)\n",
    "})\n",
    "\n",
    "fig = px.scatter(df_clusters_2, x='Age', y='Annual Income (k$)', color='cluster',\n",
    "                 color_continuous_scale='viridis', opacity=0.7,\n",
    "                 title='Clusters de Clientes de Shopping')\n",
    "\n",
    "fig.add_scatter(x=centroides_originais_2[:, 0], y=centroides_originais_2[:, 1],\n",
    "                mode='markers', marker=dict(color='red', symbol='x', size=14),\n",
    "                name='Centroides')\n",
    "\n",
    "\n",
    "fig.update_layout(xaxis_title='Idade', yaxis_title='Salário Anual',\n",
    "                  legend_title='Cluster')\n",
    "fig.show()"
   ]
  },
  {
   "cell_type": "code",
   "execution_count": 129,
   "metadata": {},
   "outputs": [
    {
     "data": {
      "application/vnd.plotly.v1+json": {
       "config": {
        "plotlyServerURL": "https://plot.ly"
       },
       "data": [
        {
         "hovertemplate": "cluster=1<br>Age=%{x}<br>Spending Score (1-100)=%{y}<extra></extra>",
         "legendgroup": "1",
         "marker": {
          "color": "#636efa",
          "opacity": 0.7,
          "symbol": "circle"
         },
         "mode": "markers",
         "name": "1",
         "orientation": "v",
         "showlegend": true,
         "type": "scatter",
         "x": {
          "_inputArray": {
           "0": 19,
           "1": 21,
           "10": 20,
           "11": 35,
           "12": 25,
           "13": 31,
           "14": 29,
           "15": 35,
           "16": 23,
           "17": 21,
           "18": 18,
           "19": 21,
           "2": 23,
           "20": 30,
           "21": 20,
           "22": 24,
           "23": 31,
           "24": 24,
           "25": 27,
           "26": 29,
           "27": 31,
           "28": 33,
           "29": 31,
           "3": 31,
           "30": 27,
           "31": 19,
           "32": 18,
           "33": 19,
           "34": 32,
           "35": 26,
           "36": 23,
           "37": 38,
           "38": 21,
           "39": 22,
           "4": 22,
           "40": 34,
           "41": 18,
           "42": 32,
           "43": 24,
           "44": 27,
           "45": 20,
           "46": 23,
           "47": 26,
           "48": 21,
           "49": 19,
           "5": 23,
           "50": 19,
           "51": 18,
           "52": 19,
           "53": 27,
           "54": 40,
           "55": 39,
           "56": 23,
           "57": 31,
           "58": 40,
           "59": 38,
           "6": 30,
           "60": 39,
           "61": 25,
           "62": 31,
           "63": 29,
           "64": 32,
           "65": 35,
           "66": 32,
           "67": 28,
           "68": 32,
           "69": 28,
           "7": 35,
           "70": 32,
           "71": 34,
           "72": 39,
           "73": 38,
           "74": 27,
           "75": 30,
           "76": 30,
           "77": 29,
           "78": 31,
           "79": 36,
           "8": 24,
           "80": 33,
           "81": 32,
           "82": 28,
           "83": 36,
           "84": 30,
           "85": 27,
           "86": 35,
           "87": 32,
           "88": 29,
           "89": 30,
           "9": 22,
           "90": 28,
           "91": 36,
           "92": 32,
           "93": 38,
           "94": 35,
           "95": 32,
           "96": 30,
           "bdata": "ExUXHxYXHiMYFhQjGR8dIxcVEhUeFBgfGBsdHyEfGxMSEyAaFyYVFiISIBgbFBcaFRMTEhMbKCcXHygmJxkfHSAjIBwgHCAiJyYbHh4dHyQhIBwkHhsjIB0eHCQgJiMgHg==",
           "dtype": "i1",
           "shape": "97"
          },
          "bdata": "ExUXHxYXHiMYFhQjGR8dIxcVEhUeFBgfGBsdHyEfGxMSEyAaFyYVFiISIBgbFBcaFRMTEhMbKCcXHygmJxkfHSAjIBwgHCAiJyYbHh4dHyQhIBwkHhsjIB0eHCQgJiMgHg==",
          "dtype": "i1"
         },
         "xaxis": "x",
         "y": {
          "_inputArray": {
           "0": 39,
           "1": 81,
           "10": 66,
           "11": 98,
           "12": 73,
           "13": 73,
           "14": 82,
           "15": 61,
           "16": 87,
           "17": 73,
           "18": 92,
           "19": 81,
           "2": 77,
           "20": 73,
           "21": 75,
           "22": 92,
           "23": 61,
           "24": 65,
           "25": 47,
           "26": 42,
           "27": 42,
           "28": 60,
           "29": 54,
           "3": 40,
           "30": 51,
           "31": 55,
           "32": 59,
           "33": 59,
           "34": 47,
           "35": 54,
           "36": 52,
           "37": 55,
           "38": 57,
           "39": 55,
           "4": 76,
           "40": 60,
           "41": 41,
           "42": 42,
           "43": 52,
           "44": 50,
           "45": 49,
           "46": 41,
           "47": 55,
           "48": 42,
           "49": 54,
           "5": 94,
           "50": 46,
           "51": 48,
           "52": 50,
           "53": 56,
           "54": 58,
           "55": 91,
           "56": 29,
           "57": 77,
           "58": 95,
           "59": 75,
           "6": 72,
           "60": 75,
           "61": 34,
           "62": 71,
           "63": 88,
           "64": 73,
           "65": 72,
           "66": 93,
           "67": 40,
           "68": 87,
           "69": 97,
           "7": 99,
           "70": 74,
           "71": 90,
           "72": 88,
           "73": 76,
           "74": 89,
           "75": 78,
           "76": 73,
           "77": 83,
           "78": 93,
           "79": 75,
           "8": 77,
           "80": 95,
           "81": 63,
           "82": 75,
           "83": 92,
           "84": 86,
           "85": 69,
           "86": 90,
           "87": 86,
           "88": 88,
           "89": 97,
           "9": 79,
           "90": 68,
           "91": 85,
           "92": 69,
           "93": 91,
           "94": 79,
           "95": 74,
           "96": 83,
           "bdata": "J1FNKExeSGNNT0JiSUlSPVdJXFFJS1w9QS8qKjw2Mzc7Oy82NDc5NzwpKjQyMSk3KjYuMDI4OlsdTV9LSyJHWElIXShXYUpaWExZTklTXUtfP0tcVkVaVlhhRFVFW09KUw==",
           "dtype": "i1",
           "shape": "97"
          },
          "bdata": "J1FNKExeSGNNT0JiSUlSPVdJXFFJS1w9QS8qKjw2Mzc7Oy82NDc5NzwpKjQyMSk3KjYuMDI4OlsdTV9LSyJHWElIXShXYUpaWExZTklTXUtfP0tcVkVaVlhhRFVFW09KUw==",
          "dtype": "i1"
         },
         "yaxis": "y"
        },
        {
         "hovertemplate": "cluster=0<br>Age=%{x}<br>Spending Score (1-100)=%{y}<extra></extra>",
         "legendgroup": "0",
         "marker": {
          "color": "#EF553B",
          "opacity": 0.7,
          "symbol": "circle"
         },
         "mode": "markers",
         "name": "0",
         "orientation": "v",
         "showlegend": true,
         "type": "scatter",
         "x": {
          "_inputArray": {
           "0": 20,
           "1": 35,
           "10": 54,
           "100": 47,
           "101": 45,
           "102": 32,
           "11": 45,
           "12": 40,
           "13": 60,
           "14": 53,
           "15": 49,
           "16": 42,
           "17": 36,
           "18": 65,
           "19": 48,
           "2": 64,
           "20": 49,
           "21": 50,
           "22": 49,
           "23": 59,
           "24": 50,
           "25": 47,
           "26": 51,
           "27": 69,
           "28": 53,
           "29": 70,
           "3": 67,
           "30": 67,
           "31": 54,
           "32": 63,
           "33": 43,
           "34": 68,
           "35": 70,
           "36": 47,
           "37": 60,
           "38": 60,
           "39": 59,
           "4": 58,
           "40": 45,
           "41": 40,
           "42": 49,
           "43": 57,
           "44": 67,
           "45": 46,
           "46": 48,
           "47": 55,
           "48": 50,
           "49": 68,
           "5": 37,
           "50": 48,
           "51": 40,
           "52": 47,
           "53": 48,
           "54": 49,
           "55": 67,
           "56": 49,
           "57": 66,
           "58": 54,
           "59": 68,
           "6": 35,
           "60": 66,
           "61": 65,
           "62": 38,
           "63": 63,
           "64": 49,
           "65": 51,
           "66": 50,
           "67": 38,
           "68": 43,
           "69": 59,
           "7": 52,
           "70": 47,
           "71": 20,
           "72": 44,
           "73": 19,
           "74": 57,
           "75": 25,
           "76": 48,
           "77": 34,
           "78": 43,
           "79": 44,
           "8": 35,
           "80": 47,
           "81": 37,
           "82": 34,
           "83": 56,
           "84": 19,
           "85": 50,
           "86": 42,
           "87": 36,
           "88": 40,
           "89": 36,
           "9": 46,
           "90": 52,
           "91": 58,
           "92": 59,
           "93": 37,
           "94": 46,
           "95": 41,
           "96": 54,
           "97": 41,
           "98": 34,
           "99": 33,
           "bdata": "FCNAQzolIzQjLjYtKDw1MSokQTAxMjE7Mi8zRTVGQzY/K0RGLzw8Oy0oMTlDLjA3MkQwKC8wMUMxQjZEQkEmPzEzMiYrOy8ULBM5GTAiKywvJSI4EzIqJCgkNDo7JS4pNikiIS8tIA==",
           "dtype": "i1",
           "shape": "103"
          },
          "bdata": "FCNAQzolIzQjLjYtKDw1MSokQTAxMjE7Mi8zRTVGQzY/K0RGLzw8Oy0oMTlDLjA3MkQwKC8wMUMxQjZEQkEmPzEzMiYrOy8ULBM5GTAiKywvJSI4EzIqJCgkNDo7JS4pNikiIS8tIA==",
          "dtype": "i1"
         },
         "xaxis": "x",
         "y": {
          "_inputArray": {
           "0": 6,
           "1": 6,
           "10": 14,
           "100": 16,
           "101": 28,
           "102": 18,
           "11": 32,
           "12": 31,
           "13": 4,
           "14": 4,
           "15": 14,
           "16": 17,
           "17": 26,
           "18": 35,
           "19": 36,
           "2": 3,
           "20": 28,
           "21": 55,
           "22": 52,
           "23": 60,
           "24": 45,
           "25": 41,
           "26": 50,
           "27": 46,
           "28": 46,
           "29": 56,
           "3": 14,
           "30": 52,
           "31": 59,
           "32": 51,
           "33": 50,
           "34": 48,
           "35": 55,
           "36": 42,
           "37": 49,
           "38": 56,
           "39": 47,
           "4": 15,
           "40": 53,
           "41": 48,
           "42": 42,
           "43": 51,
           "44": 41,
           "45": 44,
           "46": 46,
           "47": 58,
           "48": 46,
           "49": 55,
           "5": 13,
           "50": 49,
           "51": 40,
           "52": 47,
           "53": 42,
           "54": 48,
           "55": 59,
           "56": 56,
           "57": 50,
           "58": 46,
           "59": 43,
           "6": 35,
           "60": 48,
           "61": 52,
           "62": 42,
           "63": 43,
           "64": 59,
           "65": 43,
           "66": 57,
           "67": 40,
           "68": 35,
           "69": 11,
           "7": 29,
           "70": 9,
           "71": 5,
           "72": 7,
           "73": 10,
           "74": 5,
           "75": 12,
           "76": 36,
           "77": 22,
           "78": 17,
           "79": 20,
           "8": 35,
           "80": 16,
           "81": 1,
           "82": 1,
           "83": 35,
           "84": 5,
           "85": 26,
           "86": 20,
           "87": 27,
           "88": 13,
           "89": 10,
           "9": 5,
           "90": 13,
           "91": 15,
           "92": 14,
           "93": 32,
           "94": 15,
           "95": 39,
           "96": 24,
           "97": 17,
           "98": 23,
           "99": 8,
           "bdata": "BgYDDg8NIx0jBQ4gHwQEDhEaIyQcNzQ8LSkyLi44NDszMjA3KjE4LzUwKjMpLC46LjcxKC8qMDs4Mi4rMDQqKzsrOSgjCwkFBwoFDCQWERQQAQEjBRoUGw0KDQ8OIA8nGBEXCBAcEg==",
           "dtype": "i1",
           "shape": "103"
          },
          "bdata": "BgYDDg8NIx0jBQ4gHwQEDhEaIyQcNzQ8LSkyLi44NDszMjA3KjE4LzUwKjMpLC46LjcxKC8qMDs4Mi4rMDQqKzsrOSgjCwkFBwoFDCQWERQQAQEjBRoUGw0KDQ8OIA8nGBEXCBAcEg==",
          "dtype": "i1"
         },
         "yaxis": "y"
        },
        {
         "marker": {
          "color": "red",
          "size": 14,
          "symbol": "x"
         },
         "mode": "markers",
         "name": "Centroides",
         "type": "scatter",
         "x": {
          "_inputArray": {
           "0": 48.728155339805824,
           "1": 28.360824742268044,
           "bdata": "2G+1MTRdSED+oKMCX1w8QA==",
           "dtype": "f8",
           "shape": "2"
          },
          "bdata": "2G+1MTRdSED+oKMCX1w8QA==",
          "dtype": "f8"
         },
         "y": {
          "_inputArray": {
           "0": 32.18446601941748,
           "1": 69.3298969072165,
           "bdata": "iU8glZwXQED44uoHHVVRQA==",
           "dtype": "f8",
           "shape": "2"
          },
          "bdata": "iU8glZwXQED44uoHHVVRQA==",
          "dtype": "f8"
         }
        }
       ],
       "layout": {
        "autosize": true,
        "legend": {
         "title": {
          "text": "Cluster"
         },
         "tracegroupgap": 0
        },
        "template": {
         "data": {
          "bar": [
           {
            "error_x": {
             "color": "#2a3f5f"
            },
            "error_y": {
             "color": "#2a3f5f"
            },
            "marker": {
             "line": {
              "color": "#E5ECF6",
              "width": 0.5
             },
             "pattern": {
              "fillmode": "overlay",
              "size": 10,
              "solidity": 0.2
             }
            },
            "type": "bar"
           }
          ],
          "barpolar": [
           {
            "marker": {
             "line": {
              "color": "#E5ECF6",
              "width": 0.5
             },
             "pattern": {
              "fillmode": "overlay",
              "size": 10,
              "solidity": 0.2
             }
            },
            "type": "barpolar"
           }
          ],
          "carpet": [
           {
            "aaxis": {
             "endlinecolor": "#2a3f5f",
             "gridcolor": "white",
             "linecolor": "white",
             "minorgridcolor": "white",
             "startlinecolor": "#2a3f5f"
            },
            "baxis": {
             "endlinecolor": "#2a3f5f",
             "gridcolor": "white",
             "linecolor": "white",
             "minorgridcolor": "white",
             "startlinecolor": "#2a3f5f"
            },
            "type": "carpet"
           }
          ],
          "choropleth": [
           {
            "colorbar": {
             "outlinewidth": 0,
             "ticks": ""
            },
            "type": "choropleth"
           }
          ],
          "contour": [
           {
            "colorbar": {
             "outlinewidth": 0,
             "ticks": ""
            },
            "colorscale": [
             [
              0,
              "#0d0887"
             ],
             [
              0.1111111111111111,
              "#46039f"
             ],
             [
              0.2222222222222222,
              "#7201a8"
             ],
             [
              0.3333333333333333,
              "#9c179e"
             ],
             [
              0.4444444444444444,
              "#bd3786"
             ],
             [
              0.5555555555555556,
              "#d8576b"
             ],
             [
              0.6666666666666666,
              "#ed7953"
             ],
             [
              0.7777777777777778,
              "#fb9f3a"
             ],
             [
              0.8888888888888888,
              "#fdca26"
             ],
             [
              1,
              "#f0f921"
             ]
            ],
            "type": "contour"
           }
          ],
          "contourcarpet": [
           {
            "colorbar": {
             "outlinewidth": 0,
             "ticks": ""
            },
            "type": "contourcarpet"
           }
          ],
          "heatmap": [
           {
            "colorbar": {
             "outlinewidth": 0,
             "ticks": ""
            },
            "colorscale": [
             [
              0,
              "#0d0887"
             ],
             [
              0.1111111111111111,
              "#46039f"
             ],
             [
              0.2222222222222222,
              "#7201a8"
             ],
             [
              0.3333333333333333,
              "#9c179e"
             ],
             [
              0.4444444444444444,
              "#bd3786"
             ],
             [
              0.5555555555555556,
              "#d8576b"
             ],
             [
              0.6666666666666666,
              "#ed7953"
             ],
             [
              0.7777777777777778,
              "#fb9f3a"
             ],
             [
              0.8888888888888888,
              "#fdca26"
             ],
             [
              1,
              "#f0f921"
             ]
            ],
            "type": "heatmap"
           }
          ],
          "histogram": [
           {
            "marker": {
             "pattern": {
              "fillmode": "overlay",
              "size": 10,
              "solidity": 0.2
             }
            },
            "type": "histogram"
           }
          ],
          "histogram2d": [
           {
            "colorbar": {
             "outlinewidth": 0,
             "ticks": ""
            },
            "colorscale": [
             [
              0,
              "#0d0887"
             ],
             [
              0.1111111111111111,
              "#46039f"
             ],
             [
              0.2222222222222222,
              "#7201a8"
             ],
             [
              0.3333333333333333,
              "#9c179e"
             ],
             [
              0.4444444444444444,
              "#bd3786"
             ],
             [
              0.5555555555555556,
              "#d8576b"
             ],
             [
              0.6666666666666666,
              "#ed7953"
             ],
             [
              0.7777777777777778,
              "#fb9f3a"
             ],
             [
              0.8888888888888888,
              "#fdca26"
             ],
             [
              1,
              "#f0f921"
             ]
            ],
            "type": "histogram2d"
           }
          ],
          "histogram2dcontour": [
           {
            "colorbar": {
             "outlinewidth": 0,
             "ticks": ""
            },
            "colorscale": [
             [
              0,
              "#0d0887"
             ],
             [
              0.1111111111111111,
              "#46039f"
             ],
             [
              0.2222222222222222,
              "#7201a8"
             ],
             [
              0.3333333333333333,
              "#9c179e"
             ],
             [
              0.4444444444444444,
              "#bd3786"
             ],
             [
              0.5555555555555556,
              "#d8576b"
             ],
             [
              0.6666666666666666,
              "#ed7953"
             ],
             [
              0.7777777777777778,
              "#fb9f3a"
             ],
             [
              0.8888888888888888,
              "#fdca26"
             ],
             [
              1,
              "#f0f921"
             ]
            ],
            "type": "histogram2dcontour"
           }
          ],
          "mesh3d": [
           {
            "colorbar": {
             "outlinewidth": 0,
             "ticks": ""
            },
            "type": "mesh3d"
           }
          ],
          "parcoords": [
           {
            "line": {
             "colorbar": {
              "outlinewidth": 0,
              "ticks": ""
             }
            },
            "type": "parcoords"
           }
          ],
          "pie": [
           {
            "automargin": true,
            "type": "pie"
           }
          ],
          "scatter": [
           {
            "fillpattern": {
             "fillmode": "overlay",
             "size": 10,
             "solidity": 0.2
            },
            "type": "scatter"
           }
          ],
          "scatter3d": [
           {
            "line": {
             "colorbar": {
              "outlinewidth": 0,
              "ticks": ""
             }
            },
            "marker": {
             "colorbar": {
              "outlinewidth": 0,
              "ticks": ""
             }
            },
            "type": "scatter3d"
           }
          ],
          "scattercarpet": [
           {
            "marker": {
             "colorbar": {
              "outlinewidth": 0,
              "ticks": ""
             }
            },
            "type": "scattercarpet"
           }
          ],
          "scattergeo": [
           {
            "marker": {
             "colorbar": {
              "outlinewidth": 0,
              "ticks": ""
             }
            },
            "type": "scattergeo"
           }
          ],
          "scattergl": [
           {
            "marker": {
             "colorbar": {
              "outlinewidth": 0,
              "ticks": ""
             }
            },
            "type": "scattergl"
           }
          ],
          "scattermap": [
           {
            "marker": {
             "colorbar": {
              "outlinewidth": 0,
              "ticks": ""
             }
            },
            "type": "scattermap"
           }
          ],
          "scattermapbox": [
           {
            "marker": {
             "colorbar": {
              "outlinewidth": 0,
              "ticks": ""
             }
            },
            "type": "scattermapbox"
           }
          ],
          "scatterpolar": [
           {
            "marker": {
             "colorbar": {
              "outlinewidth": 0,
              "ticks": ""
             }
            },
            "type": "scatterpolar"
           }
          ],
          "scatterpolargl": [
           {
            "marker": {
             "colorbar": {
              "outlinewidth": 0,
              "ticks": ""
             }
            },
            "type": "scatterpolargl"
           }
          ],
          "scatterternary": [
           {
            "marker": {
             "colorbar": {
              "outlinewidth": 0,
              "ticks": ""
             }
            },
            "type": "scatterternary"
           }
          ],
          "surface": [
           {
            "colorbar": {
             "outlinewidth": 0,
             "ticks": ""
            },
            "colorscale": [
             [
              0,
              "#0d0887"
             ],
             [
              0.1111111111111111,
              "#46039f"
             ],
             [
              0.2222222222222222,
              "#7201a8"
             ],
             [
              0.3333333333333333,
              "#9c179e"
             ],
             [
              0.4444444444444444,
              "#bd3786"
             ],
             [
              0.5555555555555556,
              "#d8576b"
             ],
             [
              0.6666666666666666,
              "#ed7953"
             ],
             [
              0.7777777777777778,
              "#fb9f3a"
             ],
             [
              0.8888888888888888,
              "#fdca26"
             ],
             [
              1,
              "#f0f921"
             ]
            ],
            "type": "surface"
           }
          ],
          "table": [
           {
            "cells": {
             "fill": {
              "color": "#EBF0F8"
             },
             "line": {
              "color": "white"
             }
            },
            "header": {
             "fill": {
              "color": "#C8D4E3"
             },
             "line": {
              "color": "white"
             }
            },
            "type": "table"
           }
          ]
         },
         "layout": {
          "annotationdefaults": {
           "arrowcolor": "#2a3f5f",
           "arrowhead": 0,
           "arrowwidth": 1
          },
          "autotypenumbers": "strict",
          "coloraxis": {
           "colorbar": {
            "outlinewidth": 0,
            "ticks": ""
           }
          },
          "colorscale": {
           "diverging": [
            [
             0,
             "#8e0152"
            ],
            [
             0.1,
             "#c51b7d"
            ],
            [
             0.2,
             "#de77ae"
            ],
            [
             0.3,
             "#f1b6da"
            ],
            [
             0.4,
             "#fde0ef"
            ],
            [
             0.5,
             "#f7f7f7"
            ],
            [
             0.6,
             "#e6f5d0"
            ],
            [
             0.7,
             "#b8e186"
            ],
            [
             0.8,
             "#7fbc41"
            ],
            [
             0.9,
             "#4d9221"
            ],
            [
             1,
             "#276419"
            ]
           ],
           "sequential": [
            [
             0,
             "#0d0887"
            ],
            [
             0.1111111111111111,
             "#46039f"
            ],
            [
             0.2222222222222222,
             "#7201a8"
            ],
            [
             0.3333333333333333,
             "#9c179e"
            ],
            [
             0.4444444444444444,
             "#bd3786"
            ],
            [
             0.5555555555555556,
             "#d8576b"
            ],
            [
             0.6666666666666666,
             "#ed7953"
            ],
            [
             0.7777777777777778,
             "#fb9f3a"
            ],
            [
             0.8888888888888888,
             "#fdca26"
            ],
            [
             1,
             "#f0f921"
            ]
           ],
           "sequentialminus": [
            [
             0,
             "#0d0887"
            ],
            [
             0.1111111111111111,
             "#46039f"
            ],
            [
             0.2222222222222222,
             "#7201a8"
            ],
            [
             0.3333333333333333,
             "#9c179e"
            ],
            [
             0.4444444444444444,
             "#bd3786"
            ],
            [
             0.5555555555555556,
             "#d8576b"
            ],
            [
             0.6666666666666666,
             "#ed7953"
            ],
            [
             0.7777777777777778,
             "#fb9f3a"
            ],
            [
             0.8888888888888888,
             "#fdca26"
            ],
            [
             1,
             "#f0f921"
            ]
           ]
          },
          "colorway": [
           "#636efa",
           "#EF553B",
           "#00cc96",
           "#ab63fa",
           "#FFA15A",
           "#19d3f3",
           "#FF6692",
           "#B6E880",
           "#FF97FF",
           "#FECB52"
          ],
          "font": {
           "color": "#2a3f5f"
          },
          "geo": {
           "bgcolor": "white",
           "lakecolor": "white",
           "landcolor": "#E5ECF6",
           "showlakes": true,
           "showland": true,
           "subunitcolor": "white"
          },
          "hoverlabel": {
           "align": "left"
          },
          "hovermode": "closest",
          "mapbox": {
           "style": "light"
          },
          "paper_bgcolor": "white",
          "plot_bgcolor": "#E5ECF6",
          "polar": {
           "angularaxis": {
            "gridcolor": "white",
            "linecolor": "white",
            "ticks": ""
           },
           "bgcolor": "#E5ECF6",
           "radialaxis": {
            "gridcolor": "white",
            "linecolor": "white",
            "ticks": ""
           }
          },
          "scene": {
           "xaxis": {
            "backgroundcolor": "#E5ECF6",
            "gridcolor": "white",
            "gridwidth": 2,
            "linecolor": "white",
            "showbackground": true,
            "ticks": "",
            "zerolinecolor": "white"
           },
           "yaxis": {
            "backgroundcolor": "#E5ECF6",
            "gridcolor": "white",
            "gridwidth": 2,
            "linecolor": "white",
            "showbackground": true,
            "ticks": "",
            "zerolinecolor": "white"
           },
           "zaxis": {
            "backgroundcolor": "#E5ECF6",
            "gridcolor": "white",
            "gridwidth": 2,
            "linecolor": "white",
            "showbackground": true,
            "ticks": "",
            "zerolinecolor": "white"
           }
          },
          "shapedefaults": {
           "line": {
            "color": "#2a3f5f"
           }
          },
          "ternary": {
           "aaxis": {
            "gridcolor": "white",
            "linecolor": "white",
            "ticks": ""
           },
           "baxis": {
            "gridcolor": "white",
            "linecolor": "white",
            "ticks": ""
           },
           "bgcolor": "#E5ECF6",
           "caxis": {
            "gridcolor": "white",
            "linecolor": "white",
            "ticks": ""
           }
          },
          "title": {
           "x": 0.05
          },
          "xaxis": {
           "automargin": true,
           "gridcolor": "white",
           "linecolor": "white",
           "ticks": "",
           "title": {
            "standoff": 15
           },
           "zerolinecolor": "white",
           "zerolinewidth": 2
          },
          "yaxis": {
           "automargin": true,
           "gridcolor": "white",
           "linecolor": "white",
           "ticks": "",
           "title": {
            "standoff": 15
           },
           "zerolinecolor": "white",
           "zerolinewidth": 2
          }
         }
        },
        "title": {
         "text": "Clusters de Clientes de Shopping"
        },
        "xaxis": {
         "anchor": "y",
         "autorange": true,
         "domain": [
          0,
          1
         ],
         "range": [
          14.835873983739837,
          73.16412601626017
         ],
         "title": {
          "text": "Idade"
         },
         "type": "linear"
        },
        "yaxis": {
         "anchor": "x",
         "autorange": true,
         "domain": [
          0,
          1
         ],
         "range": [
          -7.0873786407766985,
          107.0873786407767
         ],
         "title": {
          "text": "Score de Gastos"
         },
         "type": "linear"
        }
       }
      },
      "image/png": "[encoded data removed]"
     },
     "metadata": {},
     "output_type": "display_data"
    }
   ],
   "source": [
    "df_clusters_2 = pd.DataFrame({\n",
    "    'Age': df['Age'],\n",
    "    'Spending Score (1-100)': df['Spending Score (1-100)'],\n",
    "    'cluster': labels_2.astype(str)\n",
    "})\n",
    "\n",
    "fig = px.scatter(df_clusters_2, x='Age', y='Spending Score (1-100)', color='cluster',\n",
    "                 color_continuous_scale='viridis', opacity=0.7,\n",
    "                 title='Clusters de Clientes de Shopping')\n",
    "\n",
    "fig.add_scatter(x=centroides_originais_2[:, 0], y=centroides_originais_2[:, 2],\n",
    "                mode='markers', marker=dict(color='red', symbol='x', size=14),\n",
    "                name='Centroides')\n",
    "\n",
    "\n",
    "fig.update_layout(xaxis_title='Idade', yaxis_title='Score de Gastos',\n",
    "                  legend_title='Cluster')\n",
    "fig.show()"
   ]
  },
  {
   "cell_type": "code",
   "execution_count": 141,
   "metadata": {},
   "outputs": [
    {
     "data": {
      "application/vnd.plotly.v1+json": {
       "config": {
        "plotlyServerURL": "https://plot.ly"
       },
       "data": [
        {
         "hovertemplate": "cluster=1<br>Annual Income (k$)=%{x}<br>Spending Score (1-100)=%{y}<extra></extra>",
         "legendgroup": "1",
         "marker": {
          "color": "#636efa",
          "opacity": 0.7,
          "symbol": "circle"
         },
         "mode": "markers",
         "name": "1",
         "orientation": "v",
         "showlegend": true,
         "type": "scatter",
         "x": {
          "_inputArray": {
           "0": 15,
           "1": 15,
           "10": 21,
           "11": 23,
           "12": 24,
           "13": 25,
           "14": 28,
           "15": 28,
           "16": 29,
           "17": 30,
           "18": 33,
           "19": 33,
           "2": 16,
           "20": 34,
           "21": 37,
           "22": 38,
           "23": 39,
           "24": 39,
           "25": 40,
           "26": 40,
           "27": 40,
           "28": 42,
           "29": 43,
           "3": 17,
           "30": 46,
           "31": 46,
           "32": 48,
           "33": 48,
           "34": 48,
           "35": 54,
           "36": 54,
           "37": 54,
           "38": 54,
           "39": 57,
           "4": 17,
           "40": 58,
           "41": 59,
           "42": 60,
           "43": 60,
           "44": 60,
           "45": 61,
           "46": 62,
           "47": 62,
           "48": 62,
           "49": 63,
           "5": 18,
           "50": 64,
           "51": 65,
           "52": 65,
           "53": 67,
           "54": 69,
           "55": 69,
           "56": 70,
           "57": 70,
           "58": 71,
           "59": 71,
           "6": 19,
           "60": 71,
           "61": 72,
           "62": 72,
           "63": 73,
           "64": 73,
           "65": 74,
           "66": 75,
           "67": 76,
           "68": 76,
           "69": 77,
           "7": 19,
           "70": 77,
           "71": 78,
           "72": 78,
           "73": 78,
           "74": 78,
           "75": 78,
           "76": 78,
           "77": 79,
           "78": 81,
           "79": 85,
           "8": 20,
           "80": 86,
           "81": 87,
           "82": 87,
           "83": 87,
           "84": 88,
           "85": 88,
           "86": 93,
           "87": 97,
           "88": 98,
           "89": 99,
           "9": 20,
           "90": 101,
           "91": 103,
           "92": 103,
           "93": 113,
           "94": 120,
           "95": 126,
           "96": 137,
           "bdata": "DwAPABAAEQARABIAEwATABQAFAAVABcAGAAZABwAHAAdAB4AIQAhACIAJQAmACcAJwAoACgAKAAqACsALgAuADAAMAAwADYANgA2ADYAOQA6ADsAPAA8ADwAPQA+AD4APgA/AEAAQQBBAEMARQBFAEYARgBHAEcARwBIAEgASQBJAEoASwBMAEwATQBNAE4ATgBOAE4ATgBOAE8AUQBVAFYAVwBXAFcAWABYAF0AYQBiAGMAZQBnAGcAcQB4AH4AiQA=",
           "dtype": "i2",
           "shape": "97"
          },
          "bdata": "DwAPABAAEQARABIAEwATABQAFAAVABcAGAAZABwAHAAdAB4AIQAhACIAJQAmACcAJwAoACgAKAAqACsALgAuADAAMAAwADYANgA2ADYAOQA6ADsAPAA8ADwAPQA+AD4APgA/AEAAQQBBAEMARQBFAEYARgBHAEcARwBIAEgASQBJAEoASwBMAEwATQBNAE4ATgBOAE4ATgBOAE8AUQBVAFYAVwBXAFcAWABYAF0AYQBiAGMAZQBnAGcAcQB4AH4AiQA=",
          "dtype": "i2"
         },
         "xaxis": "x",
         "y": {
          "_inputArray": {
           "0": 39,
           "1": 81,
           "10": 66,
           "11": 98,
           "12": 73,
           "13": 73,
           "14": 82,
           "15": 61,
           "16": 87,
           "17": 73,
           "18": 92,
           "19": 81,
           "2": 77,
           "20": 73,
           "21": 75,
           "22": 92,
           "23": 61,
           "24": 65,
           "25": 47,
           "26": 42,
           "27": 42,
           "28": 60,
           "29": 54,
           "3": 40,
           "30": 51,
           "31": 55,
           "32": 59,
           "33": 59,
           "34": 47,
           "35": 54,
           "36": 52,
           "37": 55,
           "38": 57,
           "39": 55,
           "4": 76,
           "40": 60,
           "41": 41,
           "42": 42,
           "43": 52,
           "44": 50,
           "45": 49,
           "46": 41,
           "47": 55,
           "48": 42,
           "49": 54,
           "5": 94,
           "50": 46,
           "51": 48,
           "52": 50,
           "53": 56,
           "54": 58,
           "55": 91,
           "56": 29,
           "57": 77,
           "58": 95,
           "59": 75,
           "6": 72,
           "60": 75,
           "61": 34,
           "62": 71,
           "63": 88,
           "64": 73,
           "65": 72,
           "66": 93,
           "67": 40,
           "68": 87,
           "69": 97,
           "7": 99,
           "70": 74,
           "71": 90,
           "72": 88,
           "73": 76,
           "74": 89,
           "75": 78,
           "76": 73,
           "77": 83,
           "78": 93,
           "79": 75,
           "8": 77,
           "80": 95,
           "81": 63,
           "82": 75,
           "83": 92,
           "84": 86,
           "85": 69,
           "86": 90,
           "87": 86,
           "88": 88,
           "89": 97,
           "9": 79,
           "90": 68,
           "91": 85,
           "92": 69,
           "93": 91,
           "94": 79,
           "95": 74,
           "96": 83,
           "bdata": "J1FNKExeSGNNT0JiSUlSPVdJXFFJS1w9QS8qKjw2Mzc7Oy82NDc5NzwpKjQyMSk3KjYuMDI4OlsdTV9LSyJHWElIXShXYUpaWExZTklTXUtfP0tcVkVaVlhhRFVFW09KUw==",
           "dtype": "i1",
           "shape": "97"
          },
          "bdata": "J1FNKExeSGNNT0JiSUlSPVdJXFFJS1w9QS8qKjw2Mzc7Oy82NDc5NzwpKjQyMSk3KjYuMDI4OlsdTV9LSyJHWElIXShXYUpaWExZTklTXUtfP0tcVkVaVlhhRFVFW09KUw==",
          "dtype": "i1"
         },
         "yaxis": "y"
        },
        {
         "hovertemplate": "cluster=0<br>Annual Income (k$)=%{x}<br>Spending Score (1-100)=%{y}<extra></extra>",
         "legendgroup": "0",
         "marker": {
          "color": "#EF553B",
          "opacity": 0.7,
          "symbol": "circle"
         },
         "mode": "markers",
         "name": "0",
         "orientation": "v",
         "showlegend": true,
         "type": "scatter",
         "x": {
          "_inputArray": {
           "0": 16,
           "1": 18,
           "10": 28,
           "100": 120,
           "101": 126,
           "102": 137,
           "11": 28,
           "12": 29,
           "13": 30,
           "14": 33,
           "15": 33,
           "16": 34,
           "17": 37,
           "18": 38,
           "19": 39,
           "2": 19,
           "20": 39,
           "21": 40,
           "22": 42,
           "23": 43,
           "24": 43,
           "25": 43,
           "26": 44,
           "27": 44,
           "28": 46,
           "29": 46,
           "3": 19,
           "30": 47,
           "31": 47,
           "32": 48,
           "33": 48,
           "34": 48,
           "35": 49,
           "36": 49,
           "37": 50,
           "38": 50,
           "39": 54,
           "4": 20,
           "40": 54,
           "41": 54,
           "42": 54,
           "43": 54,
           "44": 54,
           "45": 54,
           "46": 54,
           "47": 57,
           "48": 58,
           "49": 59,
           "5": 20,
           "50": 60,
           "51": 60,
           "52": 60,
           "53": 61,
           "54": 62,
           "55": 62,
           "56": 62,
           "57": 63,
           "58": 63,
           "59": 63,
           "6": 21,
           "60": 63,
           "61": 63,
           "62": 64,
           "63": 65,
           "64": 65,
           "65": 67,
           "66": 67,
           "67": 67,
           "68": 71,
           "69": 71,
           "7": 23,
           "70": 71,
           "71": 73,
           "72": 73,
           "73": 74,
           "74": 75,
           "75": 77,
           "76": 77,
           "77": 78,
           "78": 78,
           "79": 78,
           "8": 24,
           "80": 78,
           "81": 78,
           "82": 78,
           "83": 79,
           "84": 81,
           "85": 85,
           "86": 86,
           "87": 87,
           "88": 87,
           "89": 87,
           "9": 25,
           "90": 88,
           "91": 88,
           "92": 93,
           "93": 97,
           "94": 98,
           "95": 99,
           "96": 101,
           "97": 103,
           "98": 103,
           "99": 113,
           "bdata": "EAASABMAEwAUABQAFQAXABgAGQAcABwAHQAeACEAIQAiACUAJgAnACcAKAAqACsAKwArACwALAAuAC4ALwAvADAAMAAwADEAMQAyADIANgA2ADYANgA2ADYANgA2ADkAOgA7ADwAPAA8AD0APgA+AD4APwA/AD8APwA/AEAAQQBBAEMAQwBDAEcARwBHAEkASQBKAEsATQBNAE4ATgBOAE4ATgBOAE8AUQBVAFYAVwBXAFcAWABYAF0AYQBiAGMAZQBnAGcAcQB4AH4AiQA=",
           "dtype": "i2",
           "shape": "103"
          },
          "bdata": "EAASABMAEwAUABQAFQAXABgAGQAcABwAHQAeACEAIQAiACUAJgAnACcAKAAqACsAKwArACwALAAuAC4ALwAvADAAMAAwADEAMQAyADIANgA2ADYANgA2ADYANgA2ADkAOgA7ADwAPAA8AD0APgA+AD4APwA/AD8APwA/AEAAQQBBAEMAQwBDAEcARwBHAEkASQBKAEsATQBNAE4ATgBOAE4ATgBOAE8AUQBVAFYAVwBXAFcAWABYAF0AYQBiAGMAZQBnAGcAcQB4AH4AiQA=",
          "dtype": "i2"
         },
         "xaxis": "x",
         "y": {
          "_inputArray": {
           "0": 6,
           "1": 6,
           "10": 14,
           "100": 16,
           "101": 28,
           "102": 18,
           "11": 32,
           "12": 31,
           "13": 4,
           "14": 4,
           "15": 14,
           "16": 17,
           "17": 26,
           "18": 35,
           "19": 36,
           "2": 3,
           "20": 28,
           "21": 55,
           "22": 52,
           "23": 60,
           "24": 45,
           "25": 41,
           "26": 50,
           "27": 46,
           "28": 46,
           "29": 56,
           "3": 14,
           "30": 52,
           "31": 59,
           "32": 51,
           "33": 50,
           "34": 48,
           "35": 55,
           "36": 42,
           "37": 49,
           "38": 56,
           "39": 47,
           "4": 15,
           "40": 53,
           "41": 48,
           "42": 42,
           "43": 51,
           "44": 41,
           "45": 44,
           "46": 46,
           "47": 58,
           "48": 46,
           "49": 55,
           "5": 13,
           "50": 49,
           "51": 40,
           "52": 47,
           "53": 42,
           "54": 48,
           "55": 59,
           "56": 56,
           "57": 50,
           "58": 46,
           "59": 43,
           "6": 35,
           "60": 48,
           "61": 52,
           "62": 42,
           "63": 43,
           "64": 59,
           "65": 43,
           "66": 57,
           "67": 40,
           "68": 35,
           "69": 11,
           "7": 29,
           "70": 9,
           "71": 5,
           "72": 7,
           "73": 10,
           "74": 5,
           "75": 12,
           "76": 36,
           "77": 22,
           "78": 17,
           "79": 20,
           "8": 35,
           "80": 16,
           "81": 1,
           "82": 1,
           "83": 35,
           "84": 5,
           "85": 26,
           "86": 20,
           "87": 27,
           "88": 13,
           "89": 10,
           "9": 5,
           "90": 13,
           "91": 15,
           "92": 14,
           "93": 32,
           "94": 15,
           "95": 39,
           "96": 24,
           "97": 17,
           "98": 23,
           "99": 8,
           "bdata": "BgYDDg8NIx0jBQ4gHwQEDhEaIyQcNzQ8LSkyLi44NDszMjA3KjE4LzUwKjMpLC46LjcxKC8qMDs4Mi4rMDQqKzsrOSgjCwkFBwoFDCQWERQQAQEjBRoUGw0KDQ8OIA8nGBEXCBAcEg==",
           "dtype": "i1",
           "shape": "103"
          },
          "bdata": "BgYDDg8NIx0jBQ4gHwQEDhEaIyQcNzQ8LSkyLi44NDszMjA3KjE4LzUwKjMpLC46LjcxKC8qMDs4Mi4rMDQqKzsrOSgjCwkFBwoFDCQWERQQAQEjBRoUGw0KDQ8OIA8nGBEXCBAcEg==",
          "dtype": "i1"
         },
         "yaxis": "y"
        },
        {
         "marker": {
          "color": "red",
          "size": 14,
          "symbol": "x"
         },
         "mode": "markers",
         "name": "Centroides",
         "type": "scatter",
         "x": {
          "_inputArray": {
           "0": 60.49514563106797,
           "1": 60.62886597938145,
           "bdata": "3Bia7mA/TkBTgS+uflBOQA==",
           "dtype": "f8",
           "shape": "2"
          },
          "bdata": "3Bia7mA/TkBTgS+uflBOQA==",
          "dtype": "f8"
         },
         "y": {
          "_inputArray": {
           "0": 32.18446601941748,
           "1": 69.3298969072165,
           "bdata": "iU8glZwXQED44uoHHVVRQA==",
           "dtype": "f8",
           "shape": "2"
          },
          "bdata": "iU8glZwXQED44uoHHVVRQA==",
          "dtype": "f8"
         }
        }
       ],
       "layout": {
        "autosize": true,
        "legend": {
         "title": {
          "text": "Cluster"
         },
         "tracegroupgap": 0
        },
        "template": {
         "data": {
          "bar": [
           {
            "error_x": {
             "color": "#2a3f5f"
            },
            "error_y": {
             "color": "#2a3f5f"
            },
            "marker": {
             "line": {
              "color": "#E5ECF6",
              "width": 0.5
             },
             "pattern": {
              "fillmode": "overlay",
              "size": 10,
              "solidity": 0.2
             }
            },
            "type": "bar"
           }
          ],
          "barpolar": [
           {
            "marker": {
             "line": {
              "color": "#E5ECF6",
              "width": 0.5
             },
             "pattern": {
              "fillmode": "overlay",
              "size": 10,
              "solidity": 0.2
             }
            },
            "type": "barpolar"
           }
          ],
          "carpet": [
           {
            "aaxis": {
             "endlinecolor": "#2a3f5f",
             "gridcolor": "white",
             "linecolor": "white",
             "minorgridcolor": "white",
             "startlinecolor": "#2a3f5f"
            },
            "baxis": {
             "endlinecolor": "#2a3f5f",
             "gridcolor": "white",
             "linecolor": "white",
             "minorgridcolor": "white",
             "startlinecolor": "#2a3f5f"
            },
            "type": "carpet"
           }
          ],
          "choropleth": [
           {
            "colorbar": {
             "outlinewidth": 0,
             "ticks": ""
            },
            "type": "choropleth"
           }
          ],
          "contour": [
           {
            "colorbar": {
             "outlinewidth": 0,
             "ticks": ""
            },
            "colorscale": [
             [
              0,
              "#0d0887"
             ],
             [
              0.1111111111111111,
              "#46039f"
             ],
             [
              0.2222222222222222,
              "#7201a8"
             ],
             [
              0.3333333333333333,
              "#9c179e"
             ],
             [
              0.4444444444444444,
              "#bd3786"
             ],
             [
              0.5555555555555556,
              "#d8576b"
             ],
             [
              0.6666666666666666,
              "#ed7953"
             ],
             [
              0.7777777777777778,
              "#fb9f3a"
             ],
             [
              0.8888888888888888,
              "#fdca26"
             ],
             [
              1,
              "#f0f921"
             ]
            ],
            "type": "contour"
           }
          ],
          "contourcarpet": [
           {
            "colorbar": {
             "outlinewidth": 0,
             "ticks": ""
            },
            "type": "contourcarpet"
           }
          ],
          "heatmap": [
           {
            "colorbar": {
             "outlinewidth": 0,
             "ticks": ""
            },
            "colorscale": [
             [
              0,
              "#0d0887"
             ],
             [
              0.1111111111111111,
              "#46039f"
             ],
             [
              0.2222222222222222,
              "#7201a8"
             ],
             [
              0.3333333333333333,
              "#9c179e"
             ],
             [
              0.4444444444444444,
              "#bd3786"
             ],
             [
              0.5555555555555556,
              "#d8576b"
             ],
             [
              0.6666666666666666,
              "#ed7953"
             ],
             [
              0.7777777777777778,
              "#fb9f3a"
             ],
             [
              0.8888888888888888,
              "#fdca26"
             ],
             [
              1,
              "#f0f921"
             ]
            ],
            "type": "heatmap"
           }
          ],
          "histogram": [
           {
            "marker": {
             "pattern": {
              "fillmode": "overlay",
              "size": 10,
              "solidity": 0.2
             }
            },
            "type": "histogram"
           }
          ],
          "histogram2d": [
           {
            "colorbar": {
             "outlinewidth": 0,
             "ticks": ""
            },
            "colorscale": [
             [
              0,
              "#0d0887"
             ],
             [
              0.1111111111111111,
              "#46039f"
             ],
             [
              0.2222222222222222,
              "#7201a8"
             ],
             [
              0.3333333333333333,
              "#9c179e"
             ],
             [
              0.4444444444444444,
              "#bd3786"
             ],
             [
              0.5555555555555556,
              "#d8576b"
             ],
             [
              0.6666666666666666,
              "#ed7953"
             ],
             [
              0.7777777777777778,
              "#fb9f3a"
             ],
             [
              0.8888888888888888,
              "#fdca26"
             ],
             [
              1,
              "#f0f921"
             ]
            ],
            "type": "histogram2d"
           }
          ],
          "histogram2dcontour": [
           {
            "colorbar": {
             "outlinewidth": 0,
             "ticks": ""
            },
            "colorscale": [
             [
              0,
              "#0d0887"
             ],
             [
              0.1111111111111111,
              "#46039f"
             ],
             [
              0.2222222222222222,
              "#7201a8"
             ],
             [
              0.3333333333333333,
              "#9c179e"
             ],
             [
              0.4444444444444444,
              "#bd3786"
             ],
             [
              0.5555555555555556,
              "#d8576b"
             ],
             [
              0.6666666666666666,
              "#ed7953"
             ],
             [
              0.7777777777777778,
              "#fb9f3a"
             ],
             [
              0.8888888888888888,
              "#fdca26"
             ],
             [
              1,
              "#f0f921"
             ]
            ],
            "type": "histogram2dcontour"
           }
          ],
          "mesh3d": [
           {
            "colorbar": {
             "outlinewidth": 0,
             "ticks": ""
            },
            "type": "mesh3d"
           }
          ],
          "parcoords": [
           {
            "line": {
             "colorbar": {
              "outlinewidth": 0,
              "ticks": ""
             }
            },
            "type": "parcoords"
           }
          ],
          "pie": [
           {
            "automargin": true,
            "type": "pie"
           }
          ],
          "scatter": [
           {
            "fillpattern": {
             "fillmode": "overlay",
             "size": 10,
             "solidity": 0.2
            },
            "type": "scatter"
           }
          ],
          "scatter3d": [
           {
            "line": {
             "colorbar": {
              "outlinewidth": 0,
              "ticks": ""
             }
            },
            "marker": {
             "colorbar": {
              "outlinewidth": 0,
              "ticks": ""
             }
            },
            "type": "scatter3d"
           }
          ],
          "scattercarpet": [
           {
            "marker": {
             "colorbar": {
              "outlinewidth": 0,
              "ticks": ""
             }
            },
            "type": "scattercarpet"
           }
          ],
          "scattergeo": [
           {
            "marker": {
             "colorbar": {
              "outlinewidth": 0,
              "ticks": ""
             }
            },
            "type": "scattergeo"
           }
          ],
          "scattergl": [
           {
            "marker": {
             "colorbar": {
              "outlinewidth": 0,
              "ticks": ""
             }
            },
            "type": "scattergl"
           }
          ],
          "scattermap": [
           {
            "marker": {
             "colorbar": {
              "outlinewidth": 0,
              "ticks": ""
             }
            },
            "type": "scattermap"
           }
          ],
          "scattermapbox": [
           {
            "marker": {
             "colorbar": {
              "outlinewidth": 0,
              "ticks": ""
             }
            },
            "type": "scattermapbox"
           }
          ],
          "scatterpolar": [
           {
            "marker": {
             "colorbar": {
              "outlinewidth": 0,
              "ticks": ""
             }
            },
            "type": "scatterpolar"
           }
          ],
          "scatterpolargl": [
           {
            "marker": {
             "colorbar": {
              "outlinewidth": 0,
              "ticks": ""
             }
            },
            "type": "scatterpolargl"
           }
          ],
          "scatterternary": [
           {
            "marker": {
             "colorbar": {
              "outlinewidth": 0,
              "ticks": ""
             }
            },
            "type": "scatterternary"
           }
          ],
          "surface": [
           {
            "colorbar": {
             "outlinewidth": 0,
             "ticks": ""
            },
            "colorscale": [
             [
              0,
              "#0d0887"
             ],
             [
              0.1111111111111111,
              "#46039f"
             ],
             [
              0.2222222222222222,
              "#7201a8"
             ],
             [
              0.3333333333333333,
              "#9c179e"
             ],
             [
              0.4444444444444444,
              "#bd3786"
             ],
             [
              0.5555555555555556,
              "#d8576b"
             ],
             [
              0.6666666666666666,
              "#ed7953"
             ],
             [
              0.7777777777777778,
              "#fb9f3a"
             ],
             [
              0.8888888888888888,
              "#fdca26"
             ],
             [
              1,
              "#f0f921"
             ]
            ],
            "type": "surface"
           }
          ],
          "table": [
           {
            "cells": {
             "fill": {
              "color": "#EBF0F8"
             },
             "line": {
              "color": "white"
             }
            },
            "header": {
             "fill": {
              "color": "#C8D4E3"
             },
             "line": {
              "color": "white"
             }
            },
            "type": "table"
           }
          ]
         },
         "layout": {
          "annotationdefaults": {
           "arrowcolor": "#2a3f5f",
           "arrowhead": 0,
           "arrowwidth": 1
          },
          "autotypenumbers": "strict",
          "coloraxis": {
           "colorbar": {
            "outlinewidth": 0,
            "ticks": ""
           }
          },
          "colorscale": {
           "diverging": [
            [
             0,
             "#8e0152"
            ],
            [
             0.1,
             "#c51b7d"
            ],
            [
             0.2,
             "#de77ae"
            ],
            [
             0.3,
             "#f1b6da"
            ],
            [
             0.4,
             "#fde0ef"
            ],
            [
             0.5,
             "#f7f7f7"
            ],
            [
             0.6,
             "#e6f5d0"
            ],
            [
             0.7,
             "#b8e186"
            ],
            [
             0.8,
             "#7fbc41"
            ],
            [
             0.9,
             "#4d9221"
            ],
            [
             1,
             "#276419"
            ]
           ],
           "sequential": [
            [
             0,
             "#0d0887"
            ],
            [
             0.1111111111111111,
             "#46039f"
            ],
            [
             0.2222222222222222,
             "#7201a8"
            ],
            [
             0.3333333333333333,
             "#9c179e"
            ],
            [
             0.4444444444444444,
             "#bd3786"
            ],
            [
             0.5555555555555556,
             "#d8576b"
            ],
            [
             0.6666666666666666,
             "#ed7953"
            ],
            [
             0.7777777777777778,
             "#fb9f3a"
            ],
            [
             0.8888888888888888,
             "#fdca26"
            ],
            [
             1,
             "#f0f921"
            ]
           ],
           "sequentialminus": [
            [
             0,
             "#0d0887"
            ],
            [
             0.1111111111111111,
             "#46039f"
            ],
            [
             0.2222222222222222,
             "#7201a8"
            ],
            [
             0.3333333333333333,
             "#9c179e"
            ],
            [
             0.4444444444444444,
             "#bd3786"
            ],
            [
             0.5555555555555556,
             "#d8576b"
            ],
            [
             0.6666666666666666,
             "#ed7953"
            ],
            [
             0.7777777777777778,
             "#fb9f3a"
            ],
            [
             0.8888888888888888,
             "#fdca26"
            ],
            [
             1,
             "#f0f921"
            ]
           ]
          },
          "colorway": [
           "#636efa",
           "#EF553B",
           "#00cc96",
           "#ab63fa",
           "#FFA15A",
           "#19d3f3",
           "#FF6692",
           "#B6E880",
           "#FF97FF",
           "#FECB52"
          ],
          "font": {
           "color": "#2a3f5f"
          },
          "geo": {
           "bgcolor": "white",
           "lakecolor": "white",
           "landcolor": "#E5ECF6",
           "showlakes": true,
           "showland": true,
           "subunitcolor": "white"
          },
          "hoverlabel": {
           "align": "left"
          },
          "hovermode": "closest",
          "mapbox": {
           "style": "light"
          },
          "paper_bgcolor": "white",
          "plot_bgcolor": "#E5ECF6",
          "polar": {
           "angularaxis": {
            "gridcolor": "white",
            "linecolor": "white",
            "ticks": ""
           },
           "bgcolor": "#E5ECF6",
           "radialaxis": {
            "gridcolor": "white",
            "linecolor": "white",
            "ticks": ""
           }
          },
          "scene": {
           "xaxis": {
            "backgroundcolor": "#E5ECF6",
            "gridcolor": "white",
            "gridwidth": 2,
            "linecolor": "white",
            "showbackground": true,
            "ticks": "",
            "zerolinecolor": "white"
           },
           "yaxis": {
            "backgroundcolor": "#E5ECF6",
            "gridcolor": "white",
            "gridwidth": 2,
            "linecolor": "white",
            "showbackground": true,
            "ticks": "",
            "zerolinecolor": "white"
           },
           "zaxis": {
            "backgroundcolor": "#E5ECF6",
            "gridcolor": "white",
            "gridwidth": 2,
            "linecolor": "white",
            "showbackground": true,
            "ticks": "",
            "zerolinecolor": "white"
           }
          },
          "shapedefaults": {
           "line": {
            "color": "#2a3f5f"
           }
          },
          "ternary": {
           "aaxis": {
            "gridcolor": "white",
            "linecolor": "white",
            "ticks": ""
           },
           "baxis": {
            "gridcolor": "white",
            "linecolor": "white",
            "ticks": ""
           },
           "bgcolor": "#E5ECF6",
           "caxis": {
            "gridcolor": "white",
            "linecolor": "white",
            "ticks": ""
           }
          },
          "title": {
           "x": 0.05
          },
          "xaxis": {
           "automargin": true,
           "gridcolor": "white",
           "linecolor": "white",
           "ticks": "",
           "title": {
            "standoff": 15
           },
           "zerolinecolor": "white",
           "zerolinewidth": 2
          },
          "yaxis": {
           "automargin": true,
           "gridcolor": "white",
           "linecolor": "white",
           "ticks": "",
           "title": {
            "standoff": 15
           },
           "zerolinecolor": "white",
           "zerolinewidth": 2
          }
         }
        },
        "title": {
         "text": "Clusters de Clientes de Shopping"
        },
        "xaxis": {
         "anchor": "y",
         "autorange": true,
         "domain": [
          0,
          1
         ],
         "range": [
          7.576473577235772,
          144.42352642276424
         ],
         "title": {
          "text": "Salário Anual"
         },
         "type": "linear"
        },
        "yaxis": {
         "anchor": "x",
         "autorange": true,
         "domain": [
          0,
          1
         ],
         "range": [
          -7.0873786407766985,
          107.0873786407767
         ],
         "title": {
          "text": "Score de Gastos"
         },
         "type": "linear"
        }
       }
      },
      "image/png": "[encoded data removed]"
     },
     "metadata": {},
     "output_type": "display_data"
    }
   ],
   "source": [
    "df_clusters_2 = pd.DataFrame({\n",
    "    'Annual Income (k$)': df['Annual Income (k$)'],\n",
    "    'Spending Score (1-100)': df['Spending Score (1-100)'],\n",
    "    'cluster': labels_2.astype(str)\n",
    "})\n",
    "\n",
    "fig = px.scatter(df_clusters_2, x='Annual Income (k$)', y='Spending Score (1-100)', color='cluster',\n",
    "                 color_continuous_scale='viridis', opacity=0.7,\n",
    "                 title='Clusters de Clientes de Shopping')\n",
    "\n",
    "fig.add_scatter(x=centroides_originais_2[:, 1], y=centroides_originais_2[:, 2],\n",
    "                mode='markers', marker=dict(color='red', symbol='x', size=14),\n",
    "                name='Centroides')\n",
    "\n",
    "\n",
    "fig.update_layout(xaxis_title='Salário Anual', yaxis_title='Score de Gastos',\n",
    "                  legend_title='Cluster')\n",
    "fig.show()"
   ]
  },
  {
   "cell_type": "code",
   "execution_count": 143,
   "metadata": {},
   "outputs": [
    {
     "data": {
      "application/vnd.plotly.v1+json": {
       "config": {
        "plotlyServerURL": "https://plot.ly"
       },
       "data": [
        {
         "hovertemplate": "cluster=1<br>Age=%{x}<br>Annual Income (k$)=%{y}<extra></extra>",
         "legendgroup": "1",
         "marker": {
          "color": "#636efa",
          "opacity": 0.7,
          "symbol": "circle"
         },
         "mode": "markers",
         "name": "1",
         "orientation": "v",
         "showlegend": true,
         "type": "scatter",
         "x": {
          "_inputArray": {
           "0": 19,
           "1": 21,
           "10": 20,
           "11": 35,
           "12": 25,
           "13": 31,
           "14": 29,
           "15": 35,
           "16": 23,
           "17": 21,
           "18": 18,
           "19": 21,
           "2": 23,
           "20": 30,
           "21": 20,
           "22": 24,
           "23": 31,
           "24": 24,
           "25": 27,
           "26": 29,
           "27": 31,
           "28": 33,
           "29": 31,
           "3": 31,
           "30": 27,
           "31": 19,
           "32": 18,
           "33": 19,
           "34": 32,
           "35": 26,
           "36": 23,
           "37": 38,
           "38": 21,
           "39": 22,
           "4": 22,
           "40": 34,
           "41": 18,
           "42": 32,
           "43": 24,
           "44": 27,
           "45": 20,
           "46": 23,
           "47": 26,
           "48": 21,
           "49": 19,
           "5": 23,
           "50": 19,
           "51": 18,
           "52": 19,
           "53": 27,
           "6": 30,
           "7": 35,
           "8": 24,
           "9": 22,
           "bdata": "ExUXHxYXHiMYFhQjGR8dIxcVEhUeFBgfGBsdHyEfGxMSEyAaFyYVFiISIBgbFBcaFRMTEhMb",
           "dtype": "i1",
           "shape": "54"
          },
          "bdata": "ExUXHxYXHiMYFhQjGR8dIxcVEhUeFBgfGBsdHyEfGxMSEyAaFyYVFiISIBgbFBcaFRMTEhMb",
          "dtype": "i1"
         },
         "xaxis": "x",
         "y": {
          "_inputArray": {
           "0": 15,
           "1": 15,
           "10": 21,
           "11": 23,
           "12": 24,
           "13": 25,
           "14": 28,
           "15": 28,
           "16": 29,
           "17": 30,
           "18": 33,
           "19": 33,
           "2": 16,
           "20": 34,
           "21": 37,
           "22": 38,
           "23": 39,
           "24": 39,
           "25": 40,
           "26": 40,
           "27": 40,
           "28": 42,
           "29": 43,
           "3": 17,
           "30": 46,
           "31": 46,
           "32": 48,
           "33": 48,
           "34": 48,
           "35": 54,
           "36": 54,
           "37": 54,
           "38": 54,
           "39": 57,
           "4": 17,
           "40": 58,
           "41": 59,
           "42": 60,
           "43": 60,
           "44": 60,
           "45": 61,
           "46": 62,
           "47": 62,
           "48": 62,
           "49": 63,
           "5": 18,
           "50": 64,
           "51": 65,
           "52": 65,
           "53": 67,
           "6": 19,
           "7": 19,
           "8": 20,
           "9": 20,
           "bdata": "Dw8QERESExMUFBUXGBkcHB0eISEiJSYnJygoKCorLi4wMDA2NjY2OTo7PDw8PT4+Pj9AQUFD",
           "dtype": "i1",
           "shape": "54"
          },
          "bdata": "Dw8QERESExMUFBUXGBkcHB0eISEiJSYnJygoKCorLi4wMDA2NjY2OTo7PDw8PT4+Pj9AQUFD",
          "dtype": "i1"
         },
         "yaxis": "y"
        },
        {
         "hovertemplate": "cluster=0<br>Age=%{x}<br>Annual Income (k$)=%{y}<extra></extra>",
         "legendgroup": "0",
         "marker": {
          "color": "#EF553B",
          "opacity": 0.7,
          "symbol": "circle"
         },
         "mode": "markers",
         "name": "0",
         "orientation": "v",
         "showlegend": true,
         "type": "scatter",
         "x": {
          "_inputArray": {
           "0": 20,
           "1": 35,
           "10": 54,
           "11": 45,
           "12": 40,
           "13": 60,
           "14": 53,
           "15": 49,
           "16": 42,
           "17": 36,
           "18": 48,
           "19": 49,
           "2": 64,
           "3": 67,
           "4": 58,
           "5": 37,
           "6": 35,
           "7": 52,
           "8": 35,
           "9": 46,
           "bdata": "FCNAQzolIzQjLjYtKDw1MSokMDE=",
           "dtype": "i1",
           "shape": "20"
          },
          "bdata": "FCNAQzolIzQjLjYtKDw1MSokMDE=",
          "dtype": "i1"
         },
         "xaxis": "x",
         "y": {
          "_inputArray": {
           "0": 16,
           "1": 18,
           "10": 28,
           "11": 28,
           "12": 29,
           "13": 30,
           "14": 33,
           "15": 33,
           "16": 34,
           "17": 37,
           "18": 39,
           "19": 39,
           "2": 19,
           "3": 19,
           "4": 20,
           "5": 20,
           "6": 21,
           "7": 23,
           "8": 24,
           "9": 25,
           "bdata": "EBITExQUFRcYGRwcHR4hISIlJyc=",
           "dtype": "i1",
           "shape": "20"
          },
          "bdata": "EBITExQUFRcYGRwcHR4hISIlJyc=",
          "dtype": "i1"
         },
         "yaxis": "y"
        },
        {
         "hovertemplate": "cluster=4<br>Age=%{x}<br>Annual Income (k$)=%{y}<extra></extra>",
         "legendgroup": "4",
         "marker": {
          "color": "#00cc96",
          "opacity": 0.7,
          "symbol": "circle"
         },
         "mode": "markers",
         "name": "4",
         "orientation": "v",
         "showlegend": true,
         "type": "scatter",
         "x": {
          "_inputArray": {
           "0": 65,
           "1": 50,
           "10": 67,
           "11": 54,
           "12": 63,
           "13": 43,
           "14": 68,
           "15": 70,
           "16": 47,
           "17": 60,
           "18": 60,
           "19": 59,
           "2": 49,
           "20": 45,
           "21": 40,
           "22": 49,
           "23": 57,
           "24": 67,
           "25": 46,
           "26": 48,
           "27": 55,
           "28": 50,
           "29": 68,
           "3": 59,
           "30": 48,
           "31": 40,
           "32": 47,
           "33": 48,
           "34": 49,
           "35": 67,
           "36": 49,
           "37": 66,
           "38": 54,
           "39": 68,
           "4": 50,
           "40": 66,
           "41": 65,
           "42": 63,
           "43": 49,
           "44": 51,
           "45": 50,
           "46": 56,
           "5": 47,
           "6": 51,
           "7": 69,
           "8": 53,
           "9": 70,
           "bdata": "QTIxOzIvM0U1RkM2PytERi88PDstKDE5Qy4wNzJEMCgvMDFDMUI2REJBPzEzMjg=",
           "dtype": "i1",
           "shape": "47"
          },
          "bdata": "QTIxOzIvM0U1RkM2PytERi88PDstKDE5Qy4wNzJEMCgvMDFDMUI2REJBPzEzMjg=",
          "dtype": "i1"
         },
         "xaxis": "x",
         "y": {
          "_inputArray": {
           "0": 38,
           "1": 40,
           "10": 47,
           "11": 47,
           "12": 48,
           "13": 48,
           "14": 48,
           "15": 49,
           "16": 49,
           "17": 50,
           "18": 50,
           "19": 54,
           "2": 42,
           "20": 54,
           "21": 54,
           "22": 54,
           "23": 54,
           "24": 54,
           "25": 54,
           "26": 54,
           "27": 57,
           "28": 58,
           "29": 59,
           "3": 43,
           "30": 60,
           "31": 60,
           "32": 60,
           "33": 61,
           "34": 62,
           "35": 62,
           "36": 62,
           "37": 63,
           "38": 63,
           "39": 63,
           "4": 43,
           "40": 63,
           "41": 63,
           "42": 65,
           "43": 65,
           "44": 67,
           "45": 67,
           "46": 79,
           "5": 43,
           "6": 44,
           "7": 44,
           "8": 46,
           "9": 46,
           "bdata": "JigqKysrLCwuLi8vMDAwMTEyMjY2NjY2NjY2OTo7PDw8PT4+Pj8/Pz8/QUFDQ08=",
           "dtype": "i1",
           "shape": "47"
          },
          "bdata": "JigqKysrLCwuLi8vMDAwMTEyMjY2NjY2NjY2OTo7PDw8PT4+Pj8/Pz8/QUFDQ08=",
          "dtype": "i1"
         },
         "yaxis": "y"
        },
        {
         "hovertemplate": "cluster=3<br>Age=%{x}<br>Annual Income (k$)=%{y}<extra></extra>",
         "legendgroup": "3",
         "marker": {
          "color": "#ab63fa",
          "opacity": 0.7,
          "symbol": "circle"
         },
         "mode": "markers",
         "name": "3",
         "orientation": "v",
         "showlegend": true,
         "type": "scatter",
         "x": {
          "_inputArray": {
           "0": 38,
           "1": 38,
           "10": 57,
           "11": 28,
           "12": 25,
           "13": 48,
           "14": 34,
           "15": 43,
           "16": 44,
           "17": 47,
           "18": 37,
           "19": 34,
           "2": 23,
           "20": 19,
           "21": 50,
           "22": 42,
           "23": 36,
           "24": 40,
           "25": 36,
           "26": 52,
           "27": 58,
           "28": 59,
           "29": 37,
           "3": 43,
           "30": 46,
           "31": 41,
           "32": 54,
           "33": 41,
           "34": 34,
           "35": 33,
           "36": 47,
           "37": 45,
           "38": 32,
           "4": 59,
           "5": 47,
           "6": 25,
           "7": 20,
           "8": 44,
           "9": 19,
           "bdata": "JiYXKzsvGRQsEzkcGTAiKywvJSITMiokKCQ0OjslLik2KSIhLy0g",
           "dtype": "i1",
           "shape": "39"
          },
          "bdata": "JiYXKzsvGRQsEzkcGTAiKywvJSITMiokKCQ0OjslLik2KSIhLy0g",
          "dtype": "i1"
         },
         "xaxis": "x",
         "y": {
          "_inputArray": {
           "0": 64,
           "1": 67,
           "10": 75,
           "11": 76,
           "12": 77,
           "13": 77,
           "14": 78,
           "15": 78,
           "16": 78,
           "17": 78,
           "18": 78,
           "19": 78,
           "2": 70,
           "20": 81,
           "21": 85,
           "22": 86,
           "23": 87,
           "24": 87,
           "25": 87,
           "26": 88,
           "27": 88,
           "28": 93,
           "29": 97,
           "3": 71,
           "30": 98,
           "31": 99,
           "32": 101,
           "33": 103,
           "34": 103,
           "35": 113,
           "36": 120,
           "37": 126,
           "38": 137,
           "4": 71,
           "5": 71,
           "6": 72,
           "7": 73,
           "8": 73,
           "9": 74,
           "bdata": "QABDAEYARwBHAEcASABJAEkASgBLAEwATQBNAE4ATgBOAE4ATgBOAFEAVQBWAFcAVwBXAFgAWABdAGEAYgBjAGUAZwBnAHEAeAB+AIkA",
           "dtype": "i2",
           "shape": "39"
          },
          "bdata": "QABDAEYARwBHAEcASABJAEkASgBLAEwATQBNAE4ATgBOAE4ATgBOAFEAVQBWAFcAVwBXAFgAWABdAGEAYgBjAGUAZwBnAHEAeAB+AIkA",
          "dtype": "i2"
         },
         "yaxis": "y"
        },
        {
         "hovertemplate": "cluster=2<br>Age=%{x}<br>Annual Income (k$)=%{y}<extra></extra>",
         "legendgroup": "2",
         "marker": {
          "color": "#FFA15A",
          "opacity": 0.7,
          "symbol": "circle"
         },
         "mode": "markers",
         "name": "2",
         "orientation": "v",
         "showlegend": true,
         "type": "scatter",
         "visible": true,
         "x": {
          "_inputArray": {
           "0": 40,
           "1": 39,
           "10": 32,
           "11": 32,
           "12": 28,
           "13": 32,
           "14": 34,
           "15": 39,
           "16": 38,
           "17": 27,
           "18": 30,
           "19": 30,
           "2": 31,
           "20": 29,
           "21": 31,
           "22": 36,
           "23": 33,
           "24": 32,
           "25": 28,
           "26": 36,
           "27": 30,
           "28": 27,
           "29": 35,
           "3": 40,
           "30": 32,
           "31": 29,
           "32": 30,
           "33": 28,
           "34": 36,
           "35": 32,
           "36": 38,
           "37": 35,
           "38": 32,
           "39": 30,
           "4": 38,
           "5": 39,
           "6": 31,
           "7": 29,
           "8": 32,
           "9": 35,
           "bdata": "KCcfKCYnHx0gIyAgHCAiJyYbHh4dHyQhIBwkHhsjIB0eHCQgJiMgHg==",
           "dtype": "i1",
           "shape": "40"
          },
          "bdata": "KCcfKCYnHx0gIyAgHCAiJyYbHh4dHyQhIBwkHhsjIB0eHCQgJiMgHg==",
          "dtype": "i1"
         },
         "xaxis": "x",
         "y": {
          "_inputArray": {
           "0": 69,
           "1": 69,
           "10": 75,
           "11": 76,
           "12": 77,
           "13": 77,
           "14": 78,
           "15": 78,
           "16": 78,
           "17": 78,
           "18": 78,
           "19": 78,
           "2": 70,
           "20": 79,
           "21": 81,
           "22": 85,
           "23": 86,
           "24": 87,
           "25": 87,
           "26": 87,
           "27": 88,
           "28": 88,
           "29": 93,
           "3": 71,
           "30": 97,
           "31": 98,
           "32": 99,
           "33": 101,
           "34": 103,
           "35": 103,
           "36": 113,
           "37": 120,
           "38": 126,
           "39": 137,
           "4": 71,
           "5": 71,
           "6": 72,
           "7": 73,
           "8": 73,
           "9": 74,
           "bdata": "RQBFAEYARwBHAEcASABJAEkASgBLAEwATQBNAE4ATgBOAE4ATgBOAE8AUQBVAFYAVwBXAFcAWABYAF0AYQBiAGMAZQBnAGcAcQB4AH4AiQA=",
           "dtype": "i2",
           "shape": "40"
          },
          "bdata": "RQBFAEYARwBHAEcASABJAEkASgBLAEwATQBNAE4ATgBOAE4ATgBOAE8AUQBVAFYAVwBXAFcAWABYAF0AYQBiAGMAZQBnAGcAcQB4AH4AiQA=",
          "dtype": "i2"
         },
         "yaxis": "y"
        },
        {
         "marker": {
          "color": "red",
          "size": 14,
          "symbol": "x"
         },
         "mode": "markers",
         "name": "Centroides",
         "type": "scatter",
         "x": {
          "_inputArray": {
           "0": 46.25,
           "1": 25.18518518518519,
           "2": 32.875,
           "3": 39.87179487179487,
           "4": 55.63829787234043,
           "bdata": "AAAAAAAgR0D4EtpLaC85QAAAAAAAcEBA+ZZv+ZbvQ0B+Z6O+s9FLQA==",
           "dtype": "f8",
           "shape": "5"
          },
          "bdata": "AAAAAAAgR0D4EtpLaC85QAAAAAAAcEBA+ZZv+ZbvQ0B+Z6O+s9FLQA==",
          "dtype": "f8"
         },
         "y": {
          "_inputArray": {
           "0": 26.75,
           "1": 41.092592592592595,
           "2": 86.1,
           "3": 86.10256410256409,
           "4": 54.382978723404264,
           "bdata": "AAAAAADAOkC+hPYS2otEQGZmZmZmhlVAaJAGaZCGVUDmCmJyBTFLQA==",
           "dtype": "f8",
           "shape": "5"
          },
          "bdata": "AAAAAADAOkC+hPYS2otEQGZmZmZmhlVAaJAGaZCGVUDmCmJyBTFLQA==",
          "dtype": "f8"
         }
        }
       ],
       "layout": {
        "autosize": true,
        "legend": {
         "title": {
          "text": "Cluster"
         },
         "tracegroupgap": 0
        },
        "template": {
         "data": {
          "bar": [
           {
            "error_x": {
             "color": "#2a3f5f"
            },
            "error_y": {
             "color": "#2a3f5f"
            },
            "marker": {
             "line": {
              "color": "#E5ECF6",
              "width": 0.5
             },
             "pattern": {
              "fillmode": "overlay",
              "size": 10,
              "solidity": 0.2
             }
            },
            "type": "bar"
           }
          ],
          "barpolar": [
           {
            "marker": {
             "line": {
              "color": "#E5ECF6",
              "width": 0.5
             },
             "pattern": {
              "fillmode": "overlay",
              "size": 10,
              "solidity": 0.2
             }
            },
            "type": "barpolar"
           }
          ],
          "carpet": [
           {
            "aaxis": {
             "endlinecolor": "#2a3f5f",
             "gridcolor": "white",
             "linecolor": "white",
             "minorgridcolor": "white",
             "startlinecolor": "#2a3f5f"
            },
            "baxis": {
             "endlinecolor": "#2a3f5f",
             "gridcolor": "white",
             "linecolor": "white",
             "minorgridcolor": "white",
             "startlinecolor": "#2a3f5f"
            },
            "type": "carpet"
           }
          ],
          "choropleth": [
           {
            "colorbar": {
             "outlinewidth": 0,
             "ticks": ""
            },
            "type": "choropleth"
           }
          ],
          "contour": [
           {
            "colorbar": {
             "outlinewidth": 0,
             "ticks": ""
            },
            "colorscale": [
             [
              0,
              "#0d0887"
             ],
             [
              0.1111111111111111,
              "#46039f"
             ],
             [
              0.2222222222222222,
              "#7201a8"
             ],
             [
              0.3333333333333333,
              "#9c179e"
             ],
             [
              0.4444444444444444,
              "#bd3786"
             ],
             [
              0.5555555555555556,
              "#d8576b"
             ],
             [
              0.6666666666666666,
              "#ed7953"
             ],
             [
              0.7777777777777778,
              "#fb9f3a"
             ],
             [
              0.8888888888888888,
              "#fdca26"
             ],
             [
              1,
              "#f0f921"
             ]
            ],
            "type": "contour"
           }
          ],
          "contourcarpet": [
           {
            "colorbar": {
             "outlinewidth": 0,
             "ticks": ""
            },
            "type": "contourcarpet"
           }
          ],
          "heatmap": [
           {
            "colorbar": {
             "outlinewidth": 0,
             "ticks": ""
            },
            "colorscale": [
             [
              0,
              "#0d0887"
             ],
             [
              0.1111111111111111,
              "#46039f"
             ],
             [
              0.2222222222222222,
              "#7201a8"
             ],
             [
              0.3333333333333333,
              "#9c179e"
             ],
             [
              0.4444444444444444,
              "#bd3786"
             ],
             [
              0.5555555555555556,
              "#d8576b"
             ],
             [
              0.6666666666666666,
              "#ed7953"
             ],
             [
              0.7777777777777778,
              "#fb9f3a"
             ],
             [
              0.8888888888888888,
              "#fdca26"
             ],
             [
              1,
              "#f0f921"
             ]
            ],
            "type": "heatmap"
           }
          ],
          "histogram": [
           {
            "marker": {
             "pattern": {
              "fillmode": "overlay",
              "size": 10,
              "solidity": 0.2
             }
            },
            "type": "histogram"
           }
          ],
          "histogram2d": [
           {
            "colorbar": {
             "outlinewidth": 0,
             "ticks": ""
            },
            "colorscale": [
             [
              0,
              "#0d0887"
             ],
             [
              0.1111111111111111,
              "#46039f"
             ],
             [
              0.2222222222222222,
              "#7201a8"
             ],
             [
              0.3333333333333333,
              "#9c179e"
             ],
             [
              0.4444444444444444,
              "#bd3786"
             ],
             [
              0.5555555555555556,
              "#d8576b"
             ],
             [
              0.6666666666666666,
              "#ed7953"
             ],
             [
              0.7777777777777778,
              "#fb9f3a"
             ],
             [
              0.8888888888888888,
              "#fdca26"
             ],
             [
              1,
              "#f0f921"
             ]
            ],
            "type": "histogram2d"
           }
          ],
          "histogram2dcontour": [
           {
            "colorbar": {
             "outlinewidth": 0,
             "ticks": ""
            },
            "colorscale": [
             [
              0,
              "#0d0887"
             ],
             [
              0.1111111111111111,
              "#46039f"
             ],
             [
              0.2222222222222222,
              "#7201a8"
             ],
             [
              0.3333333333333333,
              "#9c179e"
             ],
             [
              0.4444444444444444,
              "#bd3786"
             ],
             [
              0.5555555555555556,
              "#d8576b"
             ],
             [
              0.6666666666666666,
              "#ed7953"
             ],
             [
              0.7777777777777778,
              "#fb9f3a"
             ],
             [
              0.8888888888888888,
              "#fdca26"
             ],
             [
              1,
              "#f0f921"
             ]
            ],
            "type": "histogram2dcontour"
           }
          ],
          "mesh3d": [
           {
            "colorbar": {
             "outlinewidth": 0,
             "ticks": ""
            },
            "type": "mesh3d"
           }
          ],
          "parcoords": [
           {
            "line": {
             "colorbar": {
              "outlinewidth": 0,
              "ticks": ""
             }
            },
            "type": "parcoords"
           }
          ],
          "pie": [
           {
            "automargin": true,
            "type": "pie"
           }
          ],
          "scatter": [
           {
            "fillpattern": {
             "fillmode": "overlay",
             "size": 10,
             "solidity": 0.2
            },
            "type": "scatter"
           }
          ],
          "scatter3d": [
           {
            "line": {
             "colorbar": {
              "outlinewidth": 0,
              "ticks": ""
             }
            },
            "marker": {
             "colorbar": {
              "outlinewidth": 0,
              "ticks": ""
             }
            },
            "type": "scatter3d"
           }
          ],
          "scattercarpet": [
           {
            "marker": {
             "colorbar": {
              "outlinewidth": 0,
              "ticks": ""
             }
            },
            "type": "scattercarpet"
           }
          ],
          "scattergeo": [
           {
            "marker": {
             "colorbar": {
              "outlinewidth": 0,
              "ticks": ""
             }
            },
            "type": "scattergeo"
           }
          ],
          "scattergl": [
           {
            "marker": {
             "colorbar": {
              "outlinewidth": 0,
              "ticks": ""
             }
            },
            "type": "scattergl"
           }
          ],
          "scattermap": [
           {
            "marker": {
             "colorbar": {
              "outlinewidth": 0,
              "ticks": ""
             }
            },
            "type": "scattermap"
           }
          ],
          "scattermapbox": [
           {
            "marker": {
             "colorbar": {
              "outlinewidth": 0,
              "ticks": ""
             }
            },
            "type": "scattermapbox"
           }
          ],
          "scatterpolar": [
           {
            "marker": {
             "colorbar": {
              "outlinewidth": 0,
              "ticks": ""
             }
            },
            "type": "scatterpolar"
           }
          ],
          "scatterpolargl": [
           {
            "marker": {
             "colorbar": {
              "outlinewidth": 0,
              "ticks": ""
             }
            },
            "type": "scatterpolargl"
           }
          ],
          "scatterternary": [
           {
            "marker": {
             "colorbar": {
              "outlinewidth": 0,
              "ticks": ""
             }
            },
            "type": "scatterternary"
           }
          ],
          "surface": [
           {
            "colorbar": {
             "outlinewidth": 0,
             "ticks": ""
            },
            "colorscale": [
             [
              0,
              "#0d0887"
             ],
             [
              0.1111111111111111,
              "#46039f"
             ],
             [
              0.2222222222222222,
              "#7201a8"
             ],
             [
              0.3333333333333333,
              "#9c179e"
             ],
             [
              0.4444444444444444,
              "#bd3786"
             ],
             [
              0.5555555555555556,
              "#d8576b"
             ],
             [
              0.6666666666666666,
              "#ed7953"
             ],
             [
              0.7777777777777778,
              "#fb9f3a"
             ],
             [
              0.8888888888888888,
              "#fdca26"
             ],
             [
              1,
              "#f0f921"
             ]
            ],
            "type": "surface"
           }
          ],
          "table": [
           {
            "cells": {
             "fill": {
              "color": "#EBF0F8"
             },
             "line": {
              "color": "white"
             }
            },
            "header": {
             "fill": {
              "color": "#C8D4E3"
             },
             "line": {
              "color": "white"
             }
            },
            "type": "table"
           }
          ]
         },
         "layout": {
          "annotationdefaults": {
           "arrowcolor": "#2a3f5f",
           "arrowhead": 0,
           "arrowwidth": 1
          },
          "autotypenumbers": "strict",
          "coloraxis": {
           "colorbar": {
            "outlinewidth": 0,
            "ticks": ""
           }
          },
          "colorscale": {
           "diverging": [
            [
             0,
             "#8e0152"
            ],
            [
             0.1,
             "#c51b7d"
            ],
            [
             0.2,
             "#de77ae"
            ],
            [
             0.3,
             "#f1b6da"
            ],
            [
             0.4,
             "#fde0ef"
            ],
            [
             0.5,
             "#f7f7f7"
            ],
            [
             0.6,
             "#e6f5d0"
            ],
            [
             0.7,
             "#b8e186"
            ],
            [
             0.8,
             "#7fbc41"
            ],
            [
             0.9,
             "#4d9221"
            ],
            [
             1,
             "#276419"
            ]
           ],
           "sequential": [
            [
             0,
             "#0d0887"
            ],
            [
             0.1111111111111111,
             "#46039f"
            ],
            [
             0.2222222222222222,
             "#7201a8"
            ],
            [
             0.3333333333333333,
             "#9c179e"
            ],
            [
             0.4444444444444444,
             "#bd3786"
            ],
            [
             0.5555555555555556,
             "#d8576b"
            ],
            [
             0.6666666666666666,
             "#ed7953"
            ],
            [
             0.7777777777777778,
             "#fb9f3a"
            ],
            [
             0.8888888888888888,
             "#fdca26"
            ],
            [
             1,
             "#f0f921"
            ]
           ],
           "sequentialminus": [
            [
             0,
             "#0d0887"
            ],
            [
             0.1111111111111111,
             "#46039f"
            ],
            [
             0.2222222222222222,
             "#7201a8"
            ],
            [
             0.3333333333333333,
             "#9c179e"
            ],
            [
             0.4444444444444444,
             "#bd3786"
            ],
            [
             0.5555555555555556,
             "#d8576b"
            ],
            [
             0.6666666666666666,
             "#ed7953"
            ],
            [
             0.7777777777777778,
             "#fb9f3a"
            ],
            [
             0.8888888888888888,
             "#fdca26"
            ],
            [
             1,
             "#f0f921"
            ]
           ]
          },
          "colorway": [
           "#636efa",
           "#EF553B",
           "#00cc96",
           "#ab63fa",
           "#FFA15A",
           "#19d3f3",
           "#FF6692",
           "#B6E880",
           "#FF97FF",
           "#FECB52"
          ],
          "font": {
           "color": "#2a3f5f"
          },
          "geo": {
           "bgcolor": "white",
           "lakecolor": "white",
           "landcolor": "#E5ECF6",
           "showlakes": true,
           "showland": true,
           "subunitcolor": "white"
          },
          "hoverlabel": {
           "align": "left"
          },
          "hovermode": "closest",
          "mapbox": {
           "style": "light"
          },
          "paper_bgcolor": "white",
          "plot_bgcolor": "#E5ECF6",
          "polar": {
           "angularaxis": {
            "gridcolor": "white",
            "linecolor": "white",
            "ticks": ""
           },
           "bgcolor": "#E5ECF6",
           "radialaxis": {
            "gridcolor": "white",
            "linecolor": "white",
            "ticks": ""
           }
          },
          "scene": {
           "xaxis": {
            "backgroundcolor": "#E5ECF6",
            "gridcolor": "white",
            "gridwidth": 2,
            "linecolor": "white",
            "showbackground": true,
            "ticks": "",
            "zerolinecolor": "white"
           },
           "yaxis": {
            "backgroundcolor": "#E5ECF6",
            "gridcolor": "white",
            "gridwidth": 2,
            "linecolor": "white",
            "showbackground": true,
            "ticks": "",
            "zerolinecolor": "white"
           },
           "zaxis": {
            "backgroundcolor": "#E5ECF6",
            "gridcolor": "white",
            "gridwidth": 2,
            "linecolor": "white",
            "showbackground": true,
            "ticks": "",
            "zerolinecolor": "white"
           }
          },
          "shapedefaults": {
           "line": {
            "color": "#2a3f5f"
           }
          },
          "ternary": {
           "aaxis": {
            "gridcolor": "white",
            "linecolor": "white",
            "ticks": ""
           },
           "baxis": {
            "gridcolor": "white",
            "linecolor": "white",
            "ticks": ""
           },
           "bgcolor": "#E5ECF6",
           "caxis": {
            "gridcolor": "white",
            "linecolor": "white",
            "ticks": ""
           }
          },
          "title": {
           "x": 0.05
          },
          "xaxis": {
           "automargin": true,
           "gridcolor": "white",
           "linecolor": "white",
           "ticks": "",
           "title": {
            "standoff": 15
           },
           "zerolinecolor": "white",
           "zerolinewidth": 2
          },
          "yaxis": {
           "automargin": true,
           "gridcolor": "white",
           "linecolor": "white",
           "ticks": "",
           "title": {
            "standoff": 15
           },
           "zerolinecolor": "white",
           "zerolinewidth": 2
          }
         }
        },
        "title": {
         "text": "Clusters de Clientes de Shopping"
        },
        "xaxis": {
         "anchor": "y",
         "autorange": true,
         "domain": [
          0,
          1
         ],
         "range": [
          14.835873983739837,
          73.16412601626017
         ],
         "title": {
          "text": "Idade"
         },
         "type": "linear"
        },
        "yaxis": {
         "anchor": "x",
         "autorange": true,
         "domain": [
          0,
          1
         ],
         "range": [
          4.932038834951458,
          147.06796116504853
         ],
         "title": {
          "text": "Salário Anual"
         },
         "type": "linear"
        }
       }
      },
      "image/png": "[encoded data removed]"
     },
     "metadata": {},
     "output_type": "display_data"
    }
   ],
   "source": [
    "df_clusters_5 = pd.DataFrame({\n",
    "    'Age': df['Age'],\n",
    "    'Annual Income (k$)': df['Annual Income (k$)'],\n",
    "    'cluster': labels_5.astype(str)\n",
    "})\n",
    "\n",
    "fig = px.scatter(df_clusters_5, x='Age', y='Annual Income (k$)', color='cluster',\n",
    "                 color_continuous_scale='viridis', opacity=0.7,\n",
    "                 title='Clusters de Clientes de Shopping')\n",
    "\n",
    "fig.add_scatter(x=centroides_originais_5[:, 0], y=centroides_originais_5[:, 1],\n",
    "                mode='markers', marker=dict(color='red', symbol='x', size=14),\n",
    "                name='Centroides')\n",
    "\n",
    "\n",
    "fig.update_layout(xaxis_title='Idade', yaxis_title='Salário Anual',\n",
    "                  legend_title='Cluster')\n",
    "fig.show()"
   ]
  },
  {
   "cell_type": "code",
   "execution_count": 145,
   "metadata": {},
   "outputs": [
    {
     "data": {
      "application/vnd.plotly.v1+json": {
       "config": {
        "plotlyServerURL": "https://plot.ly"
       },
       "data": [
        {
         "hovertemplate": "cluster=1<br>Age=%{x}<br>Spending Score (1-100)=%{y}<extra></extra>",
         "legendgroup": "1",
         "marker": {
          "color": "#636efa",
          "opacity": 0.7,
          "symbol": "circle"
         },
         "mode": "markers",
         "name": "1",
         "orientation": "v",
         "showlegend": true,
         "type": "scatter",
         "x": {
          "_inputArray": {
           "0": 19,
           "1": 21,
           "10": 20,
           "11": 35,
           "12": 25,
           "13": 31,
           "14": 29,
           "15": 35,
           "16": 23,
           "17": 21,
           "18": 18,
           "19": 21,
           "2": 23,
           "20": 30,
           "21": 20,
           "22": 24,
           "23": 31,
           "24": 24,
           "25": 27,
           "26": 29,
           "27": 31,
           "28": 33,
           "29": 31,
           "3": 31,
           "30": 27,
           "31": 19,
           "32": 18,
           "33": 19,
           "34": 32,
           "35": 26,
           "36": 23,
           "37": 38,
           "38": 21,
           "39": 22,
           "4": 22,
           "40": 34,
           "41": 18,
           "42": 32,
           "43": 24,
           "44": 27,
           "45": 20,
           "46": 23,
           "47": 26,
           "48": 21,
           "49": 19,
           "5": 23,
           "50": 19,
           "51": 18,
           "52": 19,
           "53": 27,
           "6": 30,
           "7": 35,
           "8": 24,
           "9": 22,
           "bdata": "ExUXHxYXHiMYFhQjGR8dIxcVEhUeFBgfGBsdHyEfGxMSEyAaFyYVFiISIBgbFBcaFRMTEhMb",
           "dtype": "i1",
           "shape": "54"
          },
          "bdata": "ExUXHxYXHiMYFhQjGR8dIxcVEhUeFBgfGBsdHyEfGxMSEyAaFyYVFiISIBgbFBcaFRMTEhMb",
          "dtype": "i1"
         },
         "xaxis": "x",
         "y": {
          "_inputArray": {
           "0": 39,
           "1": 81,
           "10": 66,
           "11": 98,
           "12": 73,
           "13": 73,
           "14": 82,
           "15": 61,
           "16": 87,
           "17": 73,
           "18": 92,
           "19": 81,
           "2": 77,
           "20": 73,
           "21": 75,
           "22": 92,
           "23": 61,
           "24": 65,
           "25": 47,
           "26": 42,
           "27": 42,
           "28": 60,
           "29": 54,
           "3": 40,
           "30": 51,
           "31": 55,
           "32": 59,
           "33": 59,
           "34": 47,
           "35": 54,
           "36": 52,
           "37": 55,
           "38": 57,
           "39": 55,
           "4": 76,
           "40": 60,
           "41": 41,
           "42": 42,
           "43": 52,
           "44": 50,
           "45": 49,
           "46": 41,
           "47": 55,
           "48": 42,
           "49": 54,
           "5": 94,
           "50": 46,
           "51": 48,
           "52": 50,
           "53": 56,
           "6": 72,
           "7": 99,
           "8": 77,
           "9": 79,
           "bdata": "J1FNKExeSGNNT0JiSUlSPVdJXFFJS1w9QS8qKjw2Mzc7Oy82NDc5NzwpKjQyMSk3KjYuMDI4",
           "dtype": "i1",
           "shape": "54"
          },
          "bdata": "J1FNKExeSGNNT0JiSUlSPVdJXFFJS1w9QS8qKjw2Mzc7Oy82NDc5NzwpKjQyMSk3KjYuMDI4",
          "dtype": "i1"
         },
         "yaxis": "y"
        },
        {
         "hovertemplate": "cluster=0<br>Age=%{x}<br>Spending Score (1-100)=%{y}<extra></extra>",
         "legendgroup": "0",
         "marker": {
          "color": "#EF553B",
          "opacity": 0.7,
          "symbol": "circle"
         },
         "mode": "markers",
         "name": "0",
         "orientation": "v",
         "showlegend": true,
         "type": "scatter",
         "x": {
          "_inputArray": {
           "0": 20,
           "1": 35,
           "10": 54,
           "11": 45,
           "12": 40,
           "13": 60,
           "14": 53,
           "15": 49,
           "16": 42,
           "17": 36,
           "18": 48,
           "19": 49,
           "2": 64,
           "3": 67,
           "4": 58,
           "5": 37,
           "6": 35,
           "7": 52,
           "8": 35,
           "9": 46,
           "bdata": "FCNAQzolIzQjLjYtKDw1MSokMDE=",
           "dtype": "i1",
           "shape": "20"
          },
          "bdata": "FCNAQzolIzQjLjYtKDw1MSokMDE=",
          "dtype": "i1"
         },
         "xaxis": "x",
         "y": {
          "_inputArray": {
           "0": 6,
           "1": 6,
           "10": 14,
           "11": 32,
           "12": 31,
           "13": 4,
           "14": 4,
           "15": 14,
           "16": 17,
           "17": 26,
           "18": 36,
           "19": 28,
           "2": 3,
           "3": 14,
           "4": 15,
           "5": 13,
           "6": 35,
           "7": 29,
           "8": 35,
           "9": 5,
           "bdata": "BgYDDg8NIx0jBQ4gHwQEDhEaJBw=",
           "dtype": "i1",
           "shape": "20"
          },
          "bdata": "BgYDDg8NIx0jBQ4gHwQEDhEaJBw=",
          "dtype": "i1"
         },
         "yaxis": "y"
        },
        {
         "hovertemplate": "cluster=4<br>Age=%{x}<br>Spending Score (1-100)=%{y}<extra></extra>",
         "legendgroup": "4",
         "marker": {
          "color": "#00cc96",
          "opacity": 0.7,
          "symbol": "circle"
         },
         "mode": "markers",
         "name": "4",
         "orientation": "v",
         "showlegend": true,
         "type": "scatter",
         "x": {
          "_inputArray": {
           "0": 65,
           "1": 50,
           "10": 67,
           "11": 54,
           "12": 63,
           "13": 43,
           "14": 68,
           "15": 70,
           "16": 47,
           "17": 60,
           "18": 60,
           "19": 59,
           "2": 49,
           "20": 45,
           "21": 40,
           "22": 49,
           "23": 57,
           "24": 67,
           "25": 46,
           "26": 48,
           "27": 55,
           "28": 50,
           "29": 68,
           "3": 59,
           "30": 48,
           "31": 40,
           "32": 47,
           "33": 48,
           "34": 49,
           "35": 67,
           "36": 49,
           "37": 66,
           "38": 54,
           "39": 68,
           "4": 50,
           "40": 66,
           "41": 65,
           "42": 63,
           "43": 49,
           "44": 51,
           "45": 50,
           "46": 56,
           "5": 47,
           "6": 51,
           "7": 69,
           "8": 53,
           "9": 70,
           "bdata": "QTIxOzIvM0U1RkM2PytERi88PDstKDE5Qy4wNzJEMCgvMDFDMUI2REJBPzEzMjg=",
           "dtype": "i1",
           "shape": "47"
          },
          "bdata": "QTIxOzIvM0U1RkM2PytERi88PDstKDE5Qy4wNzJEMCgvMDFDMUI2REJBPzEzMjg=",
          "dtype": "i1"
         },
         "xaxis": "x",
         "y": {
          "_inputArray": {
           "0": 35,
           "1": 55,
           "10": 52,
           "11": 59,
           "12": 51,
           "13": 50,
           "14": 48,
           "15": 55,
           "16": 42,
           "17": 49,
           "18": 56,
           "19": 47,
           "2": 52,
           "20": 53,
           "21": 48,
           "22": 42,
           "23": 51,
           "24": 41,
           "25": 44,
           "26": 46,
           "27": 58,
           "28": 46,
           "29": 55,
           "3": 60,
           "30": 49,
           "31": 40,
           "32": 47,
           "33": 42,
           "34": 48,
           "35": 59,
           "36": 56,
           "37": 50,
           "38": 46,
           "39": 43,
           "4": 45,
           "40": 48,
           "41": 52,
           "42": 43,
           "43": 59,
           "44": 43,
           "45": 57,
           "46": 35,
           "5": 41,
           "6": 50,
           "7": 46,
           "8": 46,
           "9": 56,
           "bdata": "Izc0PC0pMi4uODQ7MzIwNyoxOC81MCozKSwuOi43MSgvKjA7ODIuKzA0KzsrOSM=",
           "dtype": "i1",
           "shape": "47"
          },
          "bdata": "Izc0PC0pMi4uODQ7MzIwNyoxOC81MCozKSwuOi43MSgvKjA7ODIuKzA0KzsrOSM=",
          "dtype": "i1"
         },
         "yaxis": "y"
        },
        {
         "hovertemplate": "cluster=3<br>Age=%{x}<br>Spending Score (1-100)=%{y}<extra></extra>",
         "legendgroup": "3",
         "marker": {
          "color": "#ab63fa",
          "opacity": 0.7,
          "symbol": "circle"
         },
         "mode": "markers",
         "name": "3",
         "orientation": "v",
         "showlegend": true,
         "type": "scatter",
         "x": {
          "_inputArray": {
           "0": 38,
           "1": 38,
           "10": 57,
           "11": 28,
           "12": 25,
           "13": 48,
           "14": 34,
           "15": 43,
           "16": 44,
           "17": 47,
           "18": 37,
           "19": 34,
           "2": 23,
           "20": 19,
           "21": 50,
           "22": 42,
           "23": 36,
           "24": 40,
           "25": 36,
           "26": 52,
           "27": 58,
           "28": 59,
           "29": 37,
           "3": 43,
           "30": 46,
           "31": 41,
           "32": 54,
           "33": 41,
           "34": 34,
           "35": 33,
           "36": 47,
           "37": 45,
           "38": 32,
           "4": 59,
           "5": 47,
           "6": 25,
           "7": 20,
           "8": 44,
           "9": 19,
           "bdata": "JiYXKzsvGRQsEzkcGTAiKywvJSITMiokKCQ0OjslLik2KSIhLy0g",
           "dtype": "i1",
           "shape": "39"
          },
          "bdata": "JiYXKzsvGRQsEzkcGTAiKywvJSITMiokKCQ0OjslLik2KSIhLy0g",
          "dtype": "i1"
         },
         "xaxis": "x",
         "y": {
          "_inputArray": {
           "0": 42,
           "1": 40,
           "10": 5,
           "11": 40,
           "12": 12,
           "13": 36,
           "14": 22,
           "15": 17,
           "16": 20,
           "17": 16,
           "18": 1,
           "19": 1,
           "2": 29,
           "20": 5,
           "21": 26,
           "22": 20,
           "23": 27,
           "24": 13,
           "25": 10,
           "26": 13,
           "27": 15,
           "28": 14,
           "29": 32,
           "3": 35,
           "30": 15,
           "31": 39,
           "32": 24,
           "33": 17,
           "34": 23,
           "35": 8,
           "36": 16,
           "37": 28,
           "38": 18,
           "4": 11,
           "5": 9,
           "6": 34,
           "7": 5,
           "8": 7,
           "9": 10,
           "bdata": "KigdIwsJIgUHCgUoDCQWERQQAQEFGhQbDQoNDw4gDycYERcIEBwS",
           "dtype": "i1",
           "shape": "39"
          },
          "bdata": "KigdIwsJIgUHCgUoDCQWERQQAQEFGhQbDQoNDw4gDycYERcIEBwS",
          "dtype": "i1"
         },
         "yaxis": "y"
        },
        {
         "hovertemplate": "cluster=2<br>Age=%{x}<br>Spending Score (1-100)=%{y}<extra></extra>",
         "legendgroup": "2",
         "marker": {
          "color": "#FFA15A",
          "opacity": 0.7,
          "symbol": "circle"
         },
         "mode": "markers",
         "name": "2",
         "orientation": "v",
         "showlegend": true,
         "type": "scatter",
         "x": {
          "_inputArray": {
           "0": 40,
           "1": 39,
           "10": 32,
           "11": 32,
           "12": 28,
           "13": 32,
           "14": 34,
           "15": 39,
           "16": 38,
           "17": 27,
           "18": 30,
           "19": 30,
           "2": 31,
           "20": 29,
           "21": 31,
           "22": 36,
           "23": 33,
           "24": 32,
           "25": 28,
           "26": 36,
           "27": 30,
           "28": 27,
           "29": 35,
           "3": 40,
           "30": 32,
           "31": 29,
           "32": 30,
           "33": 28,
           "34": 36,
           "35": 32,
           "36": 38,
           "37": 35,
           "38": 32,
           "39": 30,
           "4": 38,
           "5": 39,
           "6": 31,
           "7": 29,
           "8": 32,
           "9": 35,
           "bdata": "KCcfKCYnHx0gIyAgHCAiJyYbHh4dHyQhIBwkHhsjIB0eHCQgJiMgHg==",
           "dtype": "i1",
           "shape": "40"
          },
          "bdata": "KCcfKCYnHx0gIyAgHCAiJyYbHh4dHyQhIBwkHhsjIB0eHCQgJiMgHg==",
          "dtype": "i1"
         },
         "xaxis": "x",
         "y": {
          "_inputArray": {
           "0": 58,
           "1": 91,
           "10": 93,
           "11": 87,
           "12": 97,
           "13": 74,
           "14": 90,
           "15": 88,
           "16": 76,
           "17": 89,
           "18": 78,
           "19": 73,
           "2": 77,
           "20": 83,
           "21": 93,
           "22": 75,
           "23": 95,
           "24": 63,
           "25": 75,
           "26": 92,
           "27": 86,
           "28": 69,
           "29": 90,
           "3": 95,
           "30": 86,
           "31": 88,
           "32": 97,
           "33": 68,
           "34": 85,
           "35": 69,
           "36": 91,
           "37": 79,
           "38": 74,
           "39": 83,
           "4": 75,
           "5": 75,
           "6": 71,
           "7": 88,
           "8": 73,
           "9": 72,
           "bdata": "OltNX0tLR1hJSF1XYUpaWExZTklTXUtfP0tcVkVaVlhhRFVFW09KUw==",
           "dtype": "i1",
           "shape": "40"
          },
          "bdata": "OltNX0tLR1hJSF1XYUpaWExZTklTXUtfP0tcVkVaVlhhRFVFW09KUw==",
          "dtype": "i1"
         },
         "yaxis": "y"
        },
        {
         "marker": {
          "color": "red",
          "size": 14,
          "symbol": "x"
         },
         "mode": "markers",
         "name": "Centroides",
         "type": "scatter",
         "x": {
          "_inputArray": {
           "0": 46.25,
           "1": 25.18518518518519,
           "2": 32.875,
           "3": 39.87179487179487,
           "4": 55.63829787234043,
           "bdata": "AAAAAAAgR0D4EtpLaC85QAAAAAAAcEBA+ZZv+ZbvQ0B+Z6O+s9FLQA==",
           "dtype": "f8",
           "shape": "5"
          },
          "bdata": "AAAAAAAgR0D4EtpLaC85QAAAAAAAcEBA+ZZv+ZbvQ0B+Z6O+s9FLQA==",
          "dtype": "f8"
         },
         "y": {
          "_inputArray": {
           "0": 18.349999999999998,
           "1": 62.24074074074074,
           "2": 81.525,
           "3": 19.358974358974354,
           "4": 48.851063829787236,
           "bdata": "mZmZmZlZMkDtJbSX0B5PQJqZmZmZYVRAveVbvuVbM0BS39mo72xIQA==",
           "dtype": "f8",
           "shape": "5"
          },
          "bdata": "mZmZmZlZMkDtJbSX0B5PQJqZmZmZYVRAveVbvuVbM0BS39mo72xIQA==",
          "dtype": "f8"
         }
        }
       ],
       "layout": {
        "autosize": true,
        "legend": {
         "title": {
          "text": "Cluster"
         },
         "tracegroupgap": 0
        },
        "template": {
         "data": {
          "bar": [
           {
            "error_x": {
             "color": "#2a3f5f"
            },
            "error_y": {
             "color": "#2a3f5f"
            },
            "marker": {
             "line": {
              "color": "#E5ECF6",
              "width": 0.5
             },
             "pattern": {
              "fillmode": "overlay",
              "size": 10,
              "solidity": 0.2
             }
            },
            "type": "bar"
           }
          ],
          "barpolar": [
           {
            "marker": {
             "line": {
              "color": "#E5ECF6",
              "width": 0.5
             },
             "pattern": {
              "fillmode": "overlay",
              "size": 10,
              "solidity": 0.2
             }
            },
            "type": "barpolar"
           }
          ],
          "carpet": [
           {
            "aaxis": {
             "endlinecolor": "#2a3f5f",
             "gridcolor": "white",
             "linecolor": "white",
             "minorgridcolor": "white",
             "startlinecolor": "#2a3f5f"
            },
            "baxis": {
             "endlinecolor": "#2a3f5f",
             "gridcolor": "white",
             "linecolor": "white",
             "minorgridcolor": "white",
             "startlinecolor": "#2a3f5f"
            },
            "type": "carpet"
           }
          ],
          "choropleth": [
           {
            "colorbar": {
             "outlinewidth": 0,
             "ticks": ""
            },
            "type": "choropleth"
           }
          ],
          "contour": [
           {
            "colorbar": {
             "outlinewidth": 0,
             "ticks": ""
            },
            "colorscale": [
             [
              0,
              "#0d0887"
             ],
             [
              0.1111111111111111,
              "#46039f"
             ],
             [
              0.2222222222222222,
              "#7201a8"
             ],
             [
              0.3333333333333333,
              "#9c179e"
             ],
             [
              0.4444444444444444,
              "#bd3786"
             ],
             [
              0.5555555555555556,
              "#d8576b"
             ],
             [
              0.6666666666666666,
              "#ed7953"
             ],
             [
              0.7777777777777778,
              "#fb9f3a"
             ],
             [
              0.8888888888888888,
              "#fdca26"
             ],
             [
              1,
              "#f0f921"
             ]
            ],
            "type": "contour"
           }
          ],
          "contourcarpet": [
           {
            "colorbar": {
             "outlinewidth": 0,
             "ticks": ""
            },
            "type": "contourcarpet"
           }
          ],
          "heatmap": [
           {
            "colorbar": {
             "outlinewidth": 0,
             "ticks": ""
            },
            "colorscale": [
             [
              0,
              "#0d0887"
             ],
             [
              0.1111111111111111,
              "#46039f"
             ],
             [
              0.2222222222222222,
              "#7201a8"
             ],
             [
              0.3333333333333333,
              "#9c179e"
             ],
             [
              0.4444444444444444,
              "#bd3786"
             ],
             [
              0.5555555555555556,
              "#d8576b"
             ],
             [
              0.6666666666666666,
              "#ed7953"
             ],
             [
              0.7777777777777778,
              "#fb9f3a"
             ],
             [
              0.8888888888888888,
              "#fdca26"
             ],
             [
              1,
              "#f0f921"
             ]
            ],
            "type": "heatmap"
           }
          ],
          "histogram": [
           {
            "marker": {
             "pattern": {
              "fillmode": "overlay",
              "size": 10,
              "solidity": 0.2
             }
            },
            "type": "histogram"
           }
          ],
          "histogram2d": [
           {
            "colorbar": {
             "outlinewidth": 0,
             "ticks": ""
            },
            "colorscale": [
             [
              0,
              "#0d0887"
             ],
             [
              0.1111111111111111,
              "#46039f"
             ],
             [
              0.2222222222222222,
              "#7201a8"
             ],
             [
              0.3333333333333333,
              "#9c179e"
             ],
             [
              0.4444444444444444,
              "#bd3786"
             ],
             [
              0.5555555555555556,
              "#d8576b"
             ],
             [
              0.6666666666666666,
              "#ed7953"
             ],
             [
              0.7777777777777778,
              "#fb9f3a"
             ],
             [
              0.8888888888888888,
              "#fdca26"
             ],
             [
              1,
              "#f0f921"
             ]
            ],
            "type": "histogram2d"
           }
          ],
          "histogram2dcontour": [
           {
            "colorbar": {
             "outlinewidth": 0,
             "ticks": ""
            },
            "colorscale": [
             [
              0,
              "#0d0887"
             ],
             [
              0.1111111111111111,
              "#46039f"
             ],
             [
              0.2222222222222222,
              "#7201a8"
             ],
             [
              0.3333333333333333,
              "#9c179e"
             ],
             [
              0.4444444444444444,
              "#bd3786"
             ],
             [
              0.5555555555555556,
              "#d8576b"
             ],
             [
              0.6666666666666666,
              "#ed7953"
             ],
             [
              0.7777777777777778,
              "#fb9f3a"
             ],
             [
              0.8888888888888888,
              "#fdca26"
             ],
             [
              1,
              "#f0f921"
             ]
            ],
            "type": "histogram2dcontour"
           }
          ],
          "mesh3d": [
           {
            "colorbar": {
             "outlinewidth": 0,
             "ticks": ""
            },
            "type": "mesh3d"
           }
          ],
          "parcoords": [
           {
            "line": {
             "colorbar": {
              "outlinewidth": 0,
              "ticks": ""
             }
            },
            "type": "parcoords"
           }
          ],
          "pie": [
           {
            "automargin": true,
            "type": "pie"
           }
          ],
          "scatter": [
           {
            "fillpattern": {
             "fillmode": "overlay",
             "size": 10,
             "solidity": 0.2
            },
            "type": "scatter"
           }
          ],
          "scatter3d": [
           {
            "line": {
             "colorbar": {
              "outlinewidth": 0,
              "ticks": ""
             }
            },
            "marker": {
             "colorbar": {
              "outlinewidth": 0,
              "ticks": ""
             }
            },
            "type": "scatter3d"
           }
          ],
          "scattercarpet": [
           {
            "marker": {
             "colorbar": {
              "outlinewidth": 0,
              "ticks": ""
             }
            },
            "type": "scattercarpet"
           }
          ],
          "scattergeo": [
           {
            "marker": {
             "colorbar": {
              "outlinewidth": 0,
              "ticks": ""
             }
            },
            "type": "scattergeo"
           }
          ],
          "scattergl": [
           {
            "marker": {
             "colorbar": {
              "outlinewidth": 0,
              "ticks": ""
             }
            },
            "type": "scattergl"
           }
          ],
          "scattermap": [
           {
            "marker": {
             "colorbar": {
              "outlinewidth": 0,
              "ticks": ""
             }
            },
            "type": "scattermap"
           }
          ],
          "scattermapbox": [
           {
            "marker": {
             "colorbar": {
              "outlinewidth": 0,
              "ticks": ""
             }
            },
            "type": "scattermapbox"
           }
          ],
          "scatterpolar": [
           {
            "marker": {
             "colorbar": {
              "outlinewidth": 0,
              "ticks": ""
             }
            },
            "type": "scatterpolar"
           }
          ],
          "scatterpolargl": [
           {
            "marker": {
             "colorbar": {
              "outlinewidth": 0,
              "ticks": ""
             }
            },
            "type": "scatterpolargl"
           }
          ],
          "scatterternary": [
           {
            "marker": {
             "colorbar": {
              "outlinewidth": 0,
              "ticks": ""
             }
            },
            "type": "scatterternary"
           }
          ],
          "surface": [
           {
            "colorbar": {
             "outlinewidth": 0,
             "ticks": ""
            },
            "colorscale": [
             [
              0,
              "#0d0887"
             ],
             [
              0.1111111111111111,
              "#46039f"
             ],
             [
              0.2222222222222222,
              "#7201a8"
             ],
             [
              0.3333333333333333,
              "#9c179e"
             ],
             [
              0.4444444444444444,
              "#bd3786"
             ],
             [
              0.5555555555555556,
              "#d8576b"
             ],
             [
              0.6666666666666666,
              "#ed7953"
             ],
             [
              0.7777777777777778,
              "#fb9f3a"
             ],
             [
              0.8888888888888888,
              "#fdca26"
             ],
             [
              1,
              "#f0f921"
             ]
            ],
            "type": "surface"
           }
          ],
          "table": [
           {
            "cells": {
             "fill": {
              "color": "#EBF0F8"
             },
             "line": {
              "color": "white"
             }
            },
            "header": {
             "fill": {
              "color": "#C8D4E3"
             },
             "line": {
              "color": "white"
             }
            },
            "type": "table"
           }
          ]
         },
         "layout": {
          "annotationdefaults": {
           "arrowcolor": "#2a3f5f",
           "arrowhead": 0,
           "arrowwidth": 1
          },
          "autotypenumbers": "strict",
          "coloraxis": {
           "colorbar": {
            "outlinewidth": 0,
            "ticks": ""
           }
          },
          "colorscale": {
           "diverging": [
            [
             0,
             "#8e0152"
            ],
            [
             0.1,
             "#c51b7d"
            ],
            [
             0.2,
             "#de77ae"
            ],
            [
             0.3,
             "#f1b6da"
            ],
            [
             0.4,
             "#fde0ef"
            ],
            [
             0.5,
             "#f7f7f7"
            ],
            [
             0.6,
             "#e6f5d0"
            ],
            [
             0.7,
             "#b8e186"
            ],
            [
             0.8,
             "#7fbc41"
            ],
            [
             0.9,
             "#4d9221"
            ],
            [
             1,
             "#276419"
            ]
           ],
           "sequential": [
            [
             0,
             "#0d0887"
            ],
            [
             0.1111111111111111,
             "#46039f"
            ],
            [
             0.2222222222222222,
             "#7201a8"
            ],
            [
             0.3333333333333333,
             "#9c179e"
            ],
            [
             0.4444444444444444,
             "#bd3786"
            ],
            [
             0.5555555555555556,
             "#d8576b"
            ],
            [
             0.6666666666666666,
             "#ed7953"
            ],
            [
             0.7777777777777778,
             "#fb9f3a"
            ],
            [
             0.8888888888888888,
             "#fdca26"
            ],
            [
             1,
             "#f0f921"
            ]
           ],
           "sequentialminus": [
            [
             0,
             "#0d0887"
            ],
            [
             0.1111111111111111,
             "#46039f"
            ],
            [
             0.2222222222222222,
             "#7201a8"
            ],
            [
             0.3333333333333333,
             "#9c179e"
            ],
            [
             0.4444444444444444,
             "#bd3786"
            ],
            [
             0.5555555555555556,
             "#d8576b"
            ],
            [
             0.6666666666666666,
             "#ed7953"
            ],
            [
             0.7777777777777778,
             "#fb9f3a"
            ],
            [
             0.8888888888888888,
             "#fdca26"
            ],
            [
             1,
             "#f0f921"
            ]
           ]
          },
          "colorway": [
           "#636efa",
           "#EF553B",
           "#00cc96",
           "#ab63fa",
           "#FFA15A",
           "#19d3f3",
           "#FF6692",
           "#B6E880",
           "#FF97FF",
           "#FECB52"
          ],
          "font": {
           "color": "#2a3f5f"
          },
          "geo": {
           "bgcolor": "white",
           "lakecolor": "white",
           "landcolor": "#E5ECF6",
           "showlakes": true,
           "showland": true,
           "subunitcolor": "white"
          },
          "hoverlabel": {
           "align": "left"
          },
          "hovermode": "closest",
          "mapbox": {
           "style": "light"
          },
          "paper_bgcolor": "white",
          "plot_bgcolor": "#E5ECF6",
          "polar": {
           "angularaxis": {
            "gridcolor": "white",
            "linecolor": "white",
            "ticks": ""
           },
           "bgcolor": "#E5ECF6",
           "radialaxis": {
            "gridcolor": "white",
            "linecolor": "white",
            "ticks": ""
           }
          },
          "scene": {
           "xaxis": {
            "backgroundcolor": "#E5ECF6",
            "gridcolor": "white",
            "gridwidth": 2,
            "linecolor": "white",
            "showbackground": true,
            "ticks": "",
            "zerolinecolor": "white"
           },
           "yaxis": {
            "backgroundcolor": "#E5ECF6",
            "gridcolor": "white",
            "gridwidth": 2,
            "linecolor": "white",
            "showbackground": true,
            "ticks": "",
            "zerolinecolor": "white"
           },
           "zaxis": {
            "backgroundcolor": "#E5ECF6",
            "gridcolor": "white",
            "gridwidth": 2,
            "linecolor": "white",
            "showbackground": true,
            "ticks": "",
            "zerolinecolor": "white"
           }
          },
          "shapedefaults": {
           "line": {
            "color": "#2a3f5f"
           }
          },
          "ternary": {
           "aaxis": {
            "gridcolor": "white",
            "linecolor": "white",
            "ticks": ""
           },
           "baxis": {
            "gridcolor": "white",
            "linecolor": "white",
            "ticks": ""
           },
           "bgcolor": "#E5ECF6",
           "caxis": {
            "gridcolor": "white",
            "linecolor": "white",
            "ticks": ""
           }
          },
          "title": {
           "x": 0.05
          },
          "xaxis": {
           "automargin": true,
           "gridcolor": "white",
           "linecolor": "white",
           "ticks": "",
           "title": {
            "standoff": 15
           },
           "zerolinecolor": "white",
           "zerolinewidth": 2
          },
          "yaxis": {
           "automargin": true,
           "gridcolor": "white",
           "linecolor": "white",
           "ticks": "",
           "title": {
            "standoff": 15
           },
           "zerolinecolor": "white",
           "zerolinewidth": 2
          }
         }
        },
        "title": {
         "text": "Clusters de Clientes de Shopping"
        },
        "xaxis": {
         "anchor": "y",
         "autorange": true,
         "domain": [
          0,
          1
         ],
         "range": [
          14.835873983739837,
          73.16412601626017
         ],
         "title": {
          "text": "Idade"
         },
         "type": "linear"
        },
        "yaxis": {
         "anchor": "x",
         "autorange": true,
         "domain": [
          0,
          1
         ],
         "range": [
          -7.0873786407766985,
          107.0873786407767
         ],
         "title": {
          "text": "Score de Gastos"
         },
         "type": "linear"
        }
       }
      },
      "image/png": "[encoded data removed]"
     },
     "metadata": {},
     "output_type": "display_data"
    }
   ],
   "source": [
    "df_clusters_5 = pd.DataFrame({\n",
    "    'Age': df['Age'],\n",
    "    'Spending Score (1-100)': df['Spending Score (1-100)'],\n",
    "    'cluster': labels_5.astype(str)\n",
    "})\n",
    "\n",
    "fig = px.scatter(df_clusters_5, x='Age', y='Spending Score (1-100)', color='cluster',\n",
    "                 color_continuous_scale='viridis', opacity=0.7,\n",
    "                 title='Clusters de Clientes de Shopping')\n",
    "\n",
    "fig.add_scatter(x=centroides_originais_5[:, 0], y=centroides_originais_5[:, 2],\n",
    "                mode='markers', marker=dict(color='red', symbol='x', size=14),\n",
    "                name='Centroides')\n",
    "\n",
    "\n",
    "fig.update_layout(xaxis_title='Idade', yaxis_title='Score de Gastos',\n",
    "                  legend_title='Cluster')\n",
    "fig.show()"
   ]
  },
  {
   "cell_type": "code",
   "execution_count": 147,
   "metadata": {},
   "outputs": [
    {
     "data": {
      "application/vnd.plotly.v1+json": {
       "config": {
        "plotlyServerURL": "https://plot.ly"
       },
       "data": [
        {
         "hovertemplate": "cluster=1<br>Annual Income (k$)=%{x}<br>Spending Score (1-100)=%{y}<extra></extra>",
         "legendgroup": "1",
         "marker": {
          "color": "#636efa",
          "opacity": 0.7,
          "symbol": "circle"
         },
         "mode": "markers",
         "name": "1",
         "orientation": "v",
         "showlegend": true,
         "type": "scatter",
         "x": {
          "_inputArray": {
           "0": 15,
           "1": 15,
           "10": 21,
           "11": 23,
           "12": 24,
           "13": 25,
           "14": 28,
           "15": 28,
           "16": 29,
           "17": 30,
           "18": 33,
           "19": 33,
           "2": 16,
           "20": 34,
           "21": 37,
           "22": 38,
           "23": 39,
           "24": 39,
           "25": 40,
           "26": 40,
           "27": 40,
           "28": 42,
           "29": 43,
           "3": 17,
           "30": 46,
           "31": 46,
           "32": 48,
           "33": 48,
           "34": 48,
           "35": 54,
           "36": 54,
           "37": 54,
           "38": 54,
           "39": 57,
           "4": 17,
           "40": 58,
           "41": 59,
           "42": 60,
           "43": 60,
           "44": 60,
           "45": 61,
           "46": 62,
           "47": 62,
           "48": 62,
           "49": 63,
           "5": 18,
           "50": 64,
           "51": 65,
           "52": 65,
           "53": 67,
           "6": 19,
           "7": 19,
           "8": 20,
           "9": 20,
           "bdata": "Dw8QERESExMUFBUXGBkcHB0eISEiJSYnJygoKCorLi4wMDA2NjY2OTo7PDw8PT4+Pj9AQUFD",
           "dtype": "i1",
           "shape": "54"
          },
          "bdata": "Dw8QERESExMUFBUXGBkcHB0eISEiJSYnJygoKCorLi4wMDA2NjY2OTo7PDw8PT4+Pj9AQUFD",
          "dtype": "i1"
         },
         "xaxis": "x",
         "y": {
          "_inputArray": {
           "0": 39,
           "1": 81,
           "10": 66,
           "11": 98,
           "12": 73,
           "13": 73,
           "14": 82,
           "15": 61,
           "16": 87,
           "17": 73,
           "18": 92,
           "19": 81,
           "2": 77,
           "20": 73,
           "21": 75,
           "22": 92,
           "23": 61,
           "24": 65,
           "25": 47,
           "26": 42,
           "27": 42,
           "28": 60,
           "29": 54,
           "3": 40,
           "30": 51,
           "31": 55,
           "32": 59,
           "33": 59,
           "34": 47,
           "35": 54,
           "36": 52,
           "37": 55,
           "38": 57,
           "39": 55,
           "4": 76,
           "40": 60,
           "41": 41,
           "42": 42,
           "43": 52,
           "44": 50,
           "45": 49,
           "46": 41,
           "47": 55,
           "48": 42,
           "49": 54,
           "5": 94,
           "50": 46,
           "51": 48,
           "52": 50,
           "53": 56,
           "6": 72,
           "7": 99,
           "8": 77,
           "9": 79,
           "bdata": "J1FNKExeSGNNT0JiSUlSPVdJXFFJS1w9QS8qKjw2Mzc7Oy82NDc5NzwpKjQyMSk3KjYuMDI4",
           "dtype": "i1",
           "shape": "54"
          },
          "bdata": "J1FNKExeSGNNT0JiSUlSPVdJXFFJS1w9QS8qKjw2Mzc7Oy82NDc5NzwpKjQyMSk3KjYuMDI4",
          "dtype": "i1"
         },
         "yaxis": "y"
        },
        {
         "hovertemplate": "cluster=0<br>Annual Income (k$)=%{x}<br>Spending Score (1-100)=%{y}<extra></extra>",
         "legendgroup": "0",
         "marker": {
          "color": "#EF553B",
          "opacity": 0.7,
          "symbol": "circle"
         },
         "mode": "markers",
         "name": "0",
         "orientation": "v",
         "showlegend": true,
         "type": "scatter",
         "x": {
          "_inputArray": {
           "0": 16,
           "1": 18,
           "10": 28,
           "11": 28,
           "12": 29,
           "13": 30,
           "14": 33,
           "15": 33,
           "16": 34,
           "17": 37,
           "18": 39,
           "19": 39,
           "2": 19,
           "3": 19,
           "4": 20,
           "5": 20,
           "6": 21,
           "7": 23,
           "8": 24,
           "9": 25,
           "bdata": "EBITExQUFRcYGRwcHR4hISIlJyc=",
           "dtype": "i1",
           "shape": "20"
          },
          "bdata": "EBITExQUFRcYGRwcHR4hISIlJyc=",
          "dtype": "i1"
         },
         "xaxis": "x",
         "y": {
          "_inputArray": {
           "0": 6,
           "1": 6,
           "10": 14,
           "11": 32,
           "12": 31,
           "13": 4,
           "14": 4,
           "15": 14,
           "16": 17,
           "17": 26,
           "18": 36,
           "19": 28,
           "2": 3,
           "3": 14,
           "4": 15,
           "5": 13,
           "6": 35,
           "7": 29,
           "8": 35,
           "9": 5,
           "bdata": "BgYDDg8NIx0jBQ4gHwQEDhEaJBw=",
           "dtype": "i1",
           "shape": "20"
          },
          "bdata": "BgYDDg8NIx0jBQ4gHwQEDhEaJBw=",
          "dtype": "i1"
         },
         "yaxis": "y"
        },
        {
         "hovertemplate": "cluster=4<br>Annual Income (k$)=%{x}<br>Spending Score (1-100)=%{y}<extra></extra>",
         "legendgroup": "4",
         "marker": {
          "color": "#00cc96",
          "opacity": 0.7,
          "symbol": "circle"
         },
         "mode": "markers",
         "name": "4",
         "orientation": "v",
         "showlegend": true,
         "type": "scatter",
         "x": {
          "_inputArray": {
           "0": 38,
           "1": 40,
           "10": 47,
           "11": 47,
           "12": 48,
           "13": 48,
           "14": 48,
           "15": 49,
           "16": 49,
           "17": 50,
           "18": 50,
           "19": 54,
           "2": 42,
           "20": 54,
           "21": 54,
           "22": 54,
           "23": 54,
           "24": 54,
           "25": 54,
           "26": 54,
           "27": 57,
           "28": 58,
           "29": 59,
           "3": 43,
           "30": 60,
           "31": 60,
           "32": 60,
           "33": 61,
           "34": 62,
           "35": 62,
           "36": 62,
           "37": 63,
           "38": 63,
           "39": 63,
           "4": 43,
           "40": 63,
           "41": 63,
           "42": 65,
           "43": 65,
           "44": 67,
           "45": 67,
           "46": 79,
           "5": 43,
           "6": 44,
           "7": 44,
           "8": 46,
           "9": 46,
           "bdata": "JigqKysrLCwuLi8vMDAwMTEyMjY2NjY2NjY2OTo7PDw8PT4+Pj8/Pz8/QUFDQ08=",
           "dtype": "i1",
           "shape": "47"
          },
          "bdata": "JigqKysrLCwuLi8vMDAwMTEyMjY2NjY2NjY2OTo7PDw8PT4+Pj8/Pz8/QUFDQ08=",
          "dtype": "i1"
         },
         "xaxis": "x",
         "y": {
          "_inputArray": {
           "0": 35,
           "1": 55,
           "10": 52,
           "11": 59,
           "12": 51,
           "13": 50,
           "14": 48,
           "15": 55,
           "16": 42,
           "17": 49,
           "18": 56,
           "19": 47,
           "2": 52,
           "20": 53,
           "21": 48,
           "22": 42,
           "23": 51,
           "24": 41,
           "25": 44,
           "26": 46,
           "27": 58,
           "28": 46,
           "29": 55,
           "3": 60,
           "30": 49,
           "31": 40,
           "32": 47,
           "33": 42,
           "34": 48,
           "35": 59,
           "36": 56,
           "37": 50,
           "38": 46,
           "39": 43,
           "4": 45,
           "40": 48,
           "41": 52,
           "42": 43,
           "43": 59,
           "44": 43,
           "45": 57,
           "46": 35,
           "5": 41,
           "6": 50,
           "7": 46,
           "8": 46,
           "9": 56,
           "bdata": "Izc0PC0pMi4uODQ7MzIwNyoxOC81MCozKSwuOi43MSgvKjA7ODIuKzA0KzsrOSM=",
           "dtype": "i1",
           "shape": "47"
          },
          "bdata": "Izc0PC0pMi4uODQ7MzIwNyoxOC81MCozKSwuOi43MSgvKjA7ODIuKzA0KzsrOSM=",
          "dtype": "i1"
         },
         "yaxis": "y"
        },
        {
         "hovertemplate": "cluster=3<br>Annual Income (k$)=%{x}<br>Spending Score (1-100)=%{y}<extra></extra>",
         "legendgroup": "3",
         "marker": {
          "color": "#ab63fa",
          "opacity": 0.7,
          "symbol": "circle"
         },
         "mode": "markers",
         "name": "3",
         "orientation": "v",
         "showlegend": true,
         "type": "scatter",
         "x": {
          "_inputArray": {
           "0": 64,
           "1": 67,
           "10": 75,
           "11": 76,
           "12": 77,
           "13": 77,
           "14": 78,
           "15": 78,
           "16": 78,
           "17": 78,
           "18": 78,
           "19": 78,
           "2": 70,
           "20": 81,
           "21": 85,
           "22": 86,
           "23": 87,
           "24": 87,
           "25": 87,
           "26": 88,
           "27": 88,
           "28": 93,
           "29": 97,
           "3": 71,
           "30": 98,
           "31": 99,
           "32": 101,
           "33": 103,
           "34": 103,
           "35": 113,
           "36": 120,
           "37": 126,
           "38": 137,
           "4": 71,
           "5": 71,
           "6": 72,
           "7": 73,
           "8": 73,
           "9": 74,
           "bdata": "QABDAEYARwBHAEcASABJAEkASgBLAEwATQBNAE4ATgBOAE4ATgBOAFEAVQBWAFcAVwBXAFgAWABdAGEAYgBjAGUAZwBnAHEAeAB+AIkA",
           "dtype": "i2",
           "shape": "39"
          },
          "bdata": "QABDAEYARwBHAEcASABJAEkASgBLAEwATQBNAE4ATgBOAE4ATgBOAFEAVQBWAFcAVwBXAFgAWABdAGEAYgBjAGUAZwBnAHEAeAB+AIkA",
          "dtype": "i2"
         },
         "xaxis": "x",
         "y": {
          "_inputArray": {
           "0": 42,
           "1": 40,
           "10": 5,
           "11": 40,
           "12": 12,
           "13": 36,
           "14": 22,
           "15": 17,
           "16": 20,
           "17": 16,
           "18": 1,
           "19": 1,
           "2": 29,
           "20": 5,
           "21": 26,
           "22": 20,
           "23": 27,
           "24": 13,
           "25": 10,
           "26": 13,
           "27": 15,
           "28": 14,
           "29": 32,
           "3": 35,
           "30": 15,
           "31": 39,
           "32": 24,
           "33": 17,
           "34": 23,
           "35": 8,
           "36": 16,
           "37": 28,
           "38": 18,
           "4": 11,
           "5": 9,
           "6": 34,
           "7": 5,
           "8": 7,
           "9": 10,
           "bdata": "KigdIwsJIgUHCgUoDCQWERQQAQEFGhQbDQoNDw4gDycYERcIEBwS",
           "dtype": "i1",
           "shape": "39"
          },
          "bdata": "KigdIwsJIgUHCgUoDCQWERQQAQEFGhQbDQoNDw4gDycYERcIEBwS",
          "dtype": "i1"
         },
         "yaxis": "y"
        },
        {
         "hovertemplate": "cluster=2<br>Annual Income (k$)=%{x}<br>Spending Score (1-100)=%{y}<extra></extra>",
         "legendgroup": "2",
         "marker": {
          "color": "#FFA15A",
          "opacity": 0.7,
          "symbol": "circle"
         },
         "mode": "markers",
         "name": "2",
         "orientation": "v",
         "showlegend": true,
         "type": "scatter",
         "visible": true,
         "x": {
          "_inputArray": {
           "0": 69,
           "1": 69,
           "10": 75,
           "11": 76,
           "12": 77,
           "13": 77,
           "14": 78,
           "15": 78,
           "16": 78,
           "17": 78,
           "18": 78,
           "19": 78,
           "2": 70,
           "20": 79,
           "21": 81,
           "22": 85,
           "23": 86,
           "24": 87,
           "25": 87,
           "26": 87,
           "27": 88,
           "28": 88,
           "29": 93,
           "3": 71,
           "30": 97,
           "31": 98,
           "32": 99,
           "33": 101,
           "34": 103,
           "35": 103,
           "36": 113,
           "37": 120,
           "38": 126,
           "39": 137,
           "4": 71,
           "5": 71,
           "6": 72,
           "7": 73,
           "8": 73,
           "9": 74,
           "bdata": "RQBFAEYARwBHAEcASABJAEkASgBLAEwATQBNAE4ATgBOAE4ATgBOAE8AUQBVAFYAVwBXAFcAWABYAF0AYQBiAGMAZQBnAGcAcQB4AH4AiQA=",
           "dtype": "i2",
           "shape": "40"
          },
          "bdata": "RQBFAEYARwBHAEcASABJAEkASgBLAEwATQBNAE4ATgBOAE4ATgBOAE8AUQBVAFYAVwBXAFcAWABYAF0AYQBiAGMAZQBnAGcAcQB4AH4AiQA=",
          "dtype": "i2"
         },
         "xaxis": "x",
         "y": {
          "_inputArray": {
           "0": 58,
           "1": 91,
           "10": 93,
           "11": 87,
           "12": 97,
           "13": 74,
           "14": 90,
           "15": 88,
           "16": 76,
           "17": 89,
           "18": 78,
           "19": 73,
           "2": 77,
           "20": 83,
           "21": 93,
           "22": 75,
           "23": 95,
           "24": 63,
           "25": 75,
           "26": 92,
           "27": 86,
           "28": 69,
           "29": 90,
           "3": 95,
           "30": 86,
           "31": 88,
           "32": 97,
           "33": 68,
           "34": 85,
           "35": 69,
           "36": 91,
           "37": 79,
           "38": 74,
           "39": 83,
           "4": 75,
           "5": 75,
           "6": 71,
           "7": 88,
           "8": 73,
           "9": 72,
           "bdata": "OltNX0tLR1hJSF1XYUpaWExZTklTXUtfP0tcVkVaVlhhRFVFW09KUw==",
           "dtype": "i1",
           "shape": "40"
          },
          "bdata": "OltNX0tLR1hJSF1XYUpaWExZTklTXUtfP0tcVkVaVlhhRFVFW09KUw==",
          "dtype": "i1"
         },
         "yaxis": "y"
        },
        {
         "marker": {
          "color": "red",
          "size": 14,
          "symbol": "x"
         },
         "mode": "markers",
         "name": "Centroides",
         "type": "scatter",
         "x": {
          "_inputArray": {
           "0": 26.75,
           "1": 41.092592592592595,
           "2": 86.1,
           "3": 86.10256410256409,
           "4": 54.382978723404264,
           "bdata": "AAAAAADAOkC+hPYS2otEQGZmZmZmhlVAaJAGaZCGVUDmCmJyBTFLQA==",
           "dtype": "f8",
           "shape": "5"
          },
          "bdata": "AAAAAADAOkC+hPYS2otEQGZmZmZmhlVAaJAGaZCGVUDmCmJyBTFLQA==",
          "dtype": "f8"
         },
         "y": {
          "_inputArray": {
           "0": 18.349999999999998,
           "1": 62.24074074074074,
           "2": 81.525,
           "3": 19.358974358974354,
           "4": 48.851063829787236,
           "bdata": "mZmZmZlZMkDtJbSX0B5PQJqZmZmZYVRAveVbvuVbM0BS39mo72xIQA==",
           "dtype": "f8",
           "shape": "5"
          },
          "bdata": "mZmZmZlZMkDtJbSX0B5PQJqZmZmZYVRAveVbvuVbM0BS39mo72xIQA==",
          "dtype": "f8"
         }
        }
       ],
       "layout": {
        "autosize": true,
        "legend": {
         "title": {
          "text": "Cluster"
         },
         "tracegroupgap": 0
        },
        "template": {
         "data": {
          "bar": [
           {
            "error_x": {
             "color": "#2a3f5f"
            },
            "error_y": {
             "color": "#2a3f5f"
            },
            "marker": {
             "line": {
              "color": "#E5ECF6",
              "width": 0.5
             },
             "pattern": {
              "fillmode": "overlay",
              "size": 10,
              "solidity": 0.2
             }
            },
            "type": "bar"
           }
          ],
          "barpolar": [
           {
            "marker": {
             "line": {
              "color": "#E5ECF6",
              "width": 0.5
             },
             "pattern": {
              "fillmode": "overlay",
              "size": 10,
              "solidity": 0.2
             }
            },
            "type": "barpolar"
           }
          ],
          "carpet": [
           {
            "aaxis": {
             "endlinecolor": "#2a3f5f",
             "gridcolor": "white",
             "linecolor": "white",
             "minorgridcolor": "white",
             "startlinecolor": "#2a3f5f"
            },
            "baxis": {
             "endlinecolor": "#2a3f5f",
             "gridcolor": "white",
             "linecolor": "white",
             "minorgridcolor": "white",
             "startlinecolor": "#2a3f5f"
            },
            "type": "carpet"
           }
          ],
          "choropleth": [
           {
            "colorbar": {
             "outlinewidth": 0,
             "ticks": ""
            },
            "type": "choropleth"
           }
          ],
          "contour": [
           {
            "colorbar": {
             "outlinewidth": 0,
             "ticks": ""
            },
            "colorscale": [
             [
              0,
              "#0d0887"
             ],
             [
              0.1111111111111111,
              "#46039f"
             ],
             [
              0.2222222222222222,
              "#7201a8"
             ],
             [
              0.3333333333333333,
              "#9c179e"
             ],
             [
              0.4444444444444444,
              "#bd3786"
             ],
             [
              0.5555555555555556,
              "#d8576b"
             ],
             [
              0.6666666666666666,
              "#ed7953"
             ],
             [
              0.7777777777777778,
              "#fb9f3a"
             ],
             [
              0.8888888888888888,
              "#fdca26"
             ],
             [
              1,
              "#f0f921"
             ]
            ],
            "type": "contour"
           }
          ],
          "contourcarpet": [
           {
            "colorbar": {
             "outlinewidth": 0,
             "ticks": ""
            },
            "type": "contourcarpet"
           }
          ],
          "heatmap": [
           {
            "colorbar": {
             "outlinewidth": 0,
             "ticks": ""
            },
            "colorscale": [
             [
              0,
              "#0d0887"
             ],
             [
              0.1111111111111111,
              "#46039f"
             ],
             [
              0.2222222222222222,
              "#7201a8"
             ],
             [
              0.3333333333333333,
              "#9c179e"
             ],
             [
              0.4444444444444444,
              "#bd3786"
             ],
             [
              0.5555555555555556,
              "#d8576b"
             ],
             [
              0.6666666666666666,
              "#ed7953"
             ],
             [
              0.7777777777777778,
              "#fb9f3a"
             ],
             [
              0.8888888888888888,
              "#fdca26"
             ],
             [
              1,
              "#f0f921"
             ]
            ],
            "type": "heatmap"
           }
          ],
          "histogram": [
           {
            "marker": {
             "pattern": {
              "fillmode": "overlay",
              "size": 10,
              "solidity": 0.2
             }
            },
            "type": "histogram"
           }
          ],
          "histogram2d": [
           {
            "colorbar": {
             "outlinewidth": 0,
             "ticks": ""
            },
            "colorscale": [
             [
              0,
              "#0d0887"
             ],
             [
              0.1111111111111111,
              "#46039f"
             ],
             [
              0.2222222222222222,
              "#7201a8"
             ],
             [
              0.3333333333333333,
              "#9c179e"
             ],
             [
              0.4444444444444444,
              "#bd3786"
             ],
             [
              0.5555555555555556,
              "#d8576b"
             ],
             [
              0.6666666666666666,
              "#ed7953"
             ],
             [
              0.7777777777777778,
              "#fb9f3a"
             ],
             [
              0.8888888888888888,
              "#fdca26"
             ],
             [
              1,
              "#f0f921"
             ]
            ],
            "type": "histogram2d"
           }
          ],
          "histogram2dcontour": [
           {
            "colorbar": {
             "outlinewidth": 0,
             "ticks": ""
            },
            "colorscale": [
             [
              0,
              "#0d0887"
             ],
             [
              0.1111111111111111,
              "#46039f"
             ],
             [
              0.2222222222222222,
              "#7201a8"
             ],
             [
              0.3333333333333333,
              "#9c179e"
             ],
             [
              0.4444444444444444,
              "#bd3786"
             ],
             [
              0.5555555555555556,
              "#d8576b"
             ],
             [
              0.6666666666666666,
              "#ed7953"
             ],
             [
              0.7777777777777778,
              "#fb9f3a"
             ],
             [
              0.8888888888888888,
              "#fdca26"
             ],
             [
              1,
              "#f0f921"
             ]
            ],
            "type": "histogram2dcontour"
           }
          ],
          "mesh3d": [
           {
            "colorbar": {
             "outlinewidth": 0,
             "ticks": ""
            },
            "type": "mesh3d"
           }
          ],
          "parcoords": [
           {
            "line": {
             "colorbar": {
              "outlinewidth": 0,
              "ticks": ""
             }
            },
            "type": "parcoords"
           }
          ],
          "pie": [
           {
            "automargin": true,
            "type": "pie"
           }
          ],
          "scatter": [
           {
            "fillpattern": {
             "fillmode": "overlay",
             "size": 10,
             "solidity": 0.2
            },
            "type": "scatter"
           }
          ],
          "scatter3d": [
           {
            "line": {
             "colorbar": {
              "outlinewidth": 0,
              "ticks": ""
             }
            },
            "marker": {
             "colorbar": {
              "outlinewidth": 0,
              "ticks": ""
             }
            },
            "type": "scatter3d"
           }
          ],
          "scattercarpet": [
           {
            "marker": {
             "colorbar": {
              "outlinewidth": 0,
              "ticks": ""
             }
            },
            "type": "scattercarpet"
           }
          ],
          "scattergeo": [
           {
            "marker": {
             "colorbar": {
              "outlinewidth": 0,
              "ticks": ""
             }
            },
            "type": "scattergeo"
           }
          ],
          "scattergl": [
           {
            "marker": {
             "colorbar": {
              "outlinewidth": 0,
              "ticks": ""
             }
            },
            "type": "scattergl"
           }
          ],
          "scattermap": [
           {
            "marker": {
             "colorbar": {
              "outlinewidth": 0,
              "ticks": ""
             }
            },
            "type": "scattermap"
           }
          ],
          "scattermapbox": [
           {
            "marker": {
             "colorbar": {
              "outlinewidth": 0,
              "ticks": ""
             }
            },
            "type": "scattermapbox"
           }
          ],
          "scatterpolar": [
           {
            "marker": {
             "colorbar": {
              "outlinewidth": 0,
              "ticks": ""
             }
            },
            "type": "scatterpolar"
           }
          ],
          "scatterpolargl": [
           {
            "marker": {
             "colorbar": {
              "outlinewidth": 0,
              "ticks": ""
             }
            },
            "type": "scatterpolargl"
           }
          ],
          "scatterternary": [
           {
            "marker": {
             "colorbar": {
              "outlinewidth": 0,
              "ticks": ""
             }
            },
            "type": "scatterternary"
           }
          ],
          "surface": [
           {
            "colorbar": {
             "outlinewidth": 0,
             "ticks": ""
            },
            "colorscale": [
             [
              0,
              "#0d0887"
             ],
             [
              0.1111111111111111,
              "#46039f"
             ],
             [
              0.2222222222222222,
              "#7201a8"
             ],
             [
              0.3333333333333333,
              "#9c179e"
             ],
             [
              0.4444444444444444,
              "#bd3786"
             ],
             [
              0.5555555555555556,
              "#d8576b"
             ],
             [
              0.6666666666666666,
              "#ed7953"
             ],
             [
              0.7777777777777778,
              "#fb9f3a"
             ],
             [
              0.8888888888888888,
              "#fdca26"
             ],
             [
              1,
              "#f0f921"
             ]
            ],
            "type": "surface"
           }
          ],
          "table": [
           {
            "cells": {
             "fill": {
              "color": "#EBF0F8"
             },
             "line": {
              "color": "white"
             }
            },
            "header": {
             "fill": {
              "color": "#C8D4E3"
             },
             "line": {
              "color": "white"
             }
            },
            "type": "table"
           }
          ]
         },
         "layout": {
          "annotationdefaults": {
           "arrowcolor": "#2a3f5f",
           "arrowhead": 0,
           "arrowwidth": 1
          },
          "autotypenumbers": "strict",
          "coloraxis": {
           "colorbar": {
            "outlinewidth": 0,
            "ticks": ""
           }
          },
          "colorscale": {
           "diverging": [
            [
             0,
             "#8e0152"
            ],
            [
             0.1,
             "#c51b7d"
            ],
            [
             0.2,
             "#de77ae"
            ],
            [
             0.3,
             "#f1b6da"
            ],
            [
             0.4,
             "#fde0ef"
            ],
            [
             0.5,
             "#f7f7f7"
            ],
            [
             0.6,
             "#e6f5d0"
            ],
            [
             0.7,
             "#b8e186"
            ],
            [
             0.8,
             "#7fbc41"
            ],
            [
             0.9,
             "#4d9221"
            ],
            [
             1,
             "#276419"
            ]
           ],
           "sequential": [
            [
             0,
             "#0d0887"
            ],
            [
             0.1111111111111111,
             "#46039f"
            ],
            [
             0.2222222222222222,
             "#7201a8"
            ],
            [
             0.3333333333333333,
             "#9c179e"
            ],
            [
             0.4444444444444444,
             "#bd3786"
            ],
            [
             0.5555555555555556,
             "#d8576b"
            ],
            [
             0.6666666666666666,
             "#ed7953"
            ],
            [
             0.7777777777777778,
             "#fb9f3a"
            ],
            [
             0.8888888888888888,
             "#fdca26"
            ],
            [
             1,
             "#f0f921"
            ]
           ],
           "sequentialminus": [
            [
             0,
             "#0d0887"
            ],
            [
             0.1111111111111111,
             "#46039f"
            ],
            [
             0.2222222222222222,
             "#7201a8"
            ],
            [
             0.3333333333333333,
             "#9c179e"
            ],
            [
             0.4444444444444444,
             "#bd3786"
            ],
            [
             0.5555555555555556,
             "#d8576b"
            ],
            [
             0.6666666666666666,
             "#ed7953"
            ],
            [
             0.7777777777777778,
             "#fb9f3a"
            ],
            [
             0.8888888888888888,
             "#fdca26"
            ],
            [
             1,
             "#f0f921"
            ]
           ]
          },
          "colorway": [
           "#636efa",
           "#EF553B",
           "#00cc96",
           "#ab63fa",
           "#FFA15A",
           "#19d3f3",
           "#FF6692",
           "#B6E880",
           "#FF97FF",
           "#FECB52"
          ],
          "font": {
           "color": "#2a3f5f"
          },
          "geo": {
           "bgcolor": "white",
           "lakecolor": "white",
           "landcolor": "#E5ECF6",
           "showlakes": true,
           "showland": true,
           "subunitcolor": "white"
          },
          "hoverlabel": {
           "align": "left"
          },
          "hovermode": "closest",
          "mapbox": {
           "style": "light"
          },
          "paper_bgcolor": "white",
          "plot_bgcolor": "#E5ECF6",
          "polar": {
           "angularaxis": {
            "gridcolor": "white",
            "linecolor": "white",
            "ticks": ""
           },
           "bgcolor": "#E5ECF6",
           "radialaxis": {
            "gridcolor": "white",
            "linecolor": "white",
            "ticks": ""
           }
          },
          "scene": {
           "xaxis": {
            "backgroundcolor": "#E5ECF6",
            "gridcolor": "white",
            "gridwidth": 2,
            "linecolor": "white",
            "showbackground": true,
            "ticks": "",
            "zerolinecolor": "white"
           },
           "yaxis": {
            "backgroundcolor": "#E5ECF6",
            "gridcolor": "white",
            "gridwidth": 2,
            "linecolor": "white",
            "showbackground": true,
            "ticks": "",
            "zerolinecolor": "white"
           },
           "zaxis": {
            "backgroundcolor": "#E5ECF6",
            "gridcolor": "white",
            "gridwidth": 2,
            "linecolor": "white",
            "showbackground": true,
            "ticks": "",
            "zerolinecolor": "white"
           }
          },
          "shapedefaults": {
           "line": {
            "color": "#2a3f5f"
           }
          },
          "ternary": {
           "aaxis": {
            "gridcolor": "white",
            "linecolor": "white",
            "ticks": ""
           },
           "baxis": {
            "gridcolor": "white",
            "linecolor": "white",
            "ticks": ""
           },
           "bgcolor": "#E5ECF6",
           "caxis": {
            "gridcolor": "white",
            "linecolor": "white",
            "ticks": ""
           }
          },
          "title": {
           "x": 0.05
          },
          "xaxis": {
           "automargin": true,
           "gridcolor": "white",
           "linecolor": "white",
           "ticks": "",
           "title": {
            "standoff": 15
           },
           "zerolinecolor": "white",
           "zerolinewidth": 2
          },
          "yaxis": {
           "automargin": true,
           "gridcolor": "white",
           "linecolor": "white",
           "ticks": "",
           "title": {
            "standoff": 15
           },
           "zerolinecolor": "white",
           "zerolinewidth": 2
          }
         }
        },
        "title": {
         "text": "Clusters de Clientes de Shopping"
        },
        "xaxis": {
         "anchor": "y",
         "autorange": true,
         "domain": [
          0,
          1
         ],
         "range": [
          7.576473577235772,
          144.42352642276424
         ],
         "title": {
          "text": "Salário Anual"
         },
         "type": "linear"
        },
        "yaxis": {
         "anchor": "x",
         "autorange": true,
         "domain": [
          0,
          1
         ],
         "range": [
          -7.0873786407766985,
          107.0873786407767
         ],
         "title": {
          "text": "Score de Gastos"
         },
         "type": "linear"
        }
       }
      },
      "image/png": "[encoded data removed]"
     },
     "metadata": {},
     "output_type": "display_data"
    }
   ],
   "source": [
    "df_clusters_5 = pd.DataFrame({\n",
    "    'Annual Income (k$)': df['Annual Income (k$)'],\n",
    "    'Spending Score (1-100)': df['Spending Score (1-100)'],\n",
    "    'cluster': labels_5.astype(str)\n",
    "})\n",
    "\n",
    "fig = px.scatter(df_clusters_5, x='Annual Income (k$)', y='Spending Score (1-100)', color='cluster',\n",
    "                 color_continuous_scale='viridis', opacity=0.7,\n",
    "                 title='Clusters de Clientes de Shopping')\n",
    "\n",
    "fig.add_scatter(x=centroides_originais_5[:, 1], y=centroides_originais_5[:, 2],\n",
    "                mode='markers', marker=dict(color='red', symbol='x', size=14),\n",
    "                name='Centroides')\n",
    "\n",
    "\n",
    "fig.update_layout(xaxis_title='Salário Anual', yaxis_title='Score de Gastos',\n",
    "                  legend_title='Cluster')\n",
    "fig.show()"
   ]
  },
  {
   "cell_type": "markdown",
   "metadata": {},
   "source": [
    "Aqui se encerra a atividade, tendo testado as relações das variáveis com 2 e 5 clusters, podemos perceber que com 5 clusters fica de melhor interpretação e tirar alguns insights:"
   ]
  },
  {
   "cell_type": "markdown",
   "metadata": {},
   "source": [
    "• Em relação ao gráfico de idade x score de gastos podemos ver clusters claros, 1 e 2 são de clientes de score alto e pouca idade, muito provavelmente retratando jovens que frequentam bastante o shopping e gastam quando vão também, para esses clientes, o procedimento seria enviar promoções e notificações de eventos com uma frequência alta. Os clusters 0 e 3 são de pessoas de meia idade, média entre 40 e 50, e gastam pouco, pois são as de score mais baixo, para essas pessoas, deveríamos enviar esporadicamente promoções e eventos para pessoas de meia idade. E por último, o cluster 4 representa pessoas mais velhas que pouco frequentam e gastam no shopping, para essas, deveríamos raramente divulgar eventos para pessoas mais velhas."
   ]
  },
  {
   "cell_type": "markdown",
   "metadata": {},
   "source": [
    "• Já se tratando do gráfico salário anual x score de gastos, o cluster 0 representa pessoas com salário baixo e score de gastos baixos também, para essas, deveríamos enviar promoções e eventos baratos, mas com muito pouca frequência. Nos clusters 1 e 4, temos pessoas que não tem um salário acima dea média, mas que tem um score entre médio e alto, o que significa divulgar coisas com bastante frequência, mas que sejam mais baratas, dado o salário baixo. O cluster 3 representa pessoas que possuem um salário alto, mas que têm um score baixo, o que significa que gastam pouco, para esses clientes, deveríamos enviar notificações raramente, mas de eventos e compras mais caras quando for enviado. E por último o cluster 2 representa o tipo de cliente que possui um salário bem alto, e também um score bem alto, o que significa que ganham e gastam muito e com frequência, para esses devemos enviar bastante promoções e eventos, e que podem ser de um vaor mais alto, pois eles têm tendência a gastar."
   ]
  }
 ],
 "metadata": {
  "colab": {
   "provenance": []
  },
  "kernelspec": {
   "display_name": "Python 3 (ipykernel)",
   "language": "python",
   "name": "python3"
  },
  "language_info": {
   "codemirror_mode": {
    "name": "ipython",
    "version": 3
   },
   "file_extension": ".py",
   "mimetype": "text/x-python",
   "name": "python",
   "nbconvert_exporter": "python",
   "pygments_lexer": "ipython3",
   "version": "3.12.7"
  }
 },
 "nbformat": 4,
 "nbformat_minor": 4
}
