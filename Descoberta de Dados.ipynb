{
 "cells": [
  {
   "cell_type": "markdown",
   "metadata": {
    "id": "VOTu7U3Mvxzq"
   },
   "source": [
    "# **MÓDULO 13**\n",
    "# Projeto - Fundamentos da Descoberta de Dados"
   ]
  },
  {
   "cell_type": "markdown",
   "metadata": {
    "id": "-HYgkdAywLd0"
   },
   "source": [
    "Nesse projeto trabalharemos com a base de dados de produtos de um supermercado do Chile.\n",
    "A ideia é que vocês apliquem os conceitos estatísticos vistos no último módulo, mais os conceitos de visualizações de dados através de gráficos e finalizem publicando no seu github!"
   ]
  },
  {
   "cell_type": "code",
   "execution_count": 37,
   "metadata": {
    "id": "OTdTnbzUwE2X"
   },
   "outputs": [],
   "source": [
    "import pandas as pd\n",
    "import matplotlib.pyplot as plt\n",
    "import plotly.express as px\n",
    "import seaborn as sns"
   ]
  },
  {
   "cell_type": "markdown",
   "metadata": {
    "id": "ky1Dk_KWywEa"
   },
   "source": [
    "Faça a leitura dos dados do arquivo CSV:\n",
    "\n",
    "\n",
    "Altere o código abaixo de acordo com seu diretório."
   ]
  },
  {
   "cell_type": "code",
   "execution_count": 39,
   "metadata": {
    "colab": {
     "base_uri": "https://localhost:8080/",
     "height": 363
    },
    "id": "bRBFyVB5wlny",
    "outputId": "cde5190b-fecf-48f8-e98c-5ec7e469bcfb"
   },
   "outputs": [
    {
     "data": {
      "text/html": [
       "<div>\n",
       "<style scoped>\n",
       "    .dataframe tbody tr th:only-of-type {\n",
       "        vertical-align: middle;\n",
       "    }\n",
       "\n",
       "    .dataframe tbody tr th {\n",
       "        vertical-align: top;\n",
       "    }\n",
       "\n",
       "    .dataframe thead th {\n",
       "        text-align: right;\n",
       "    }\n",
       "</style>\n",
       "<table border=\"1\" class=\"dataframe\">\n",
       "  <thead>\n",
       "    <tr style=\"text-align: right;\">\n",
       "      <th></th>\n",
       "      <th>title</th>\n",
       "      <th>Marca</th>\n",
       "      <th>Preco_Normal</th>\n",
       "      <th>Preco_Desconto</th>\n",
       "      <th>Preco_Anterior</th>\n",
       "      <th>Desconto</th>\n",
       "      <th>Categoria</th>\n",
       "    </tr>\n",
       "  </thead>\n",
       "  <tbody>\n",
       "    <tr>\n",
       "      <th>0</th>\n",
       "      <td>Pack 12 un, Leche extra proteína 1 L</td>\n",
       "      <td>Loncoleche</td>\n",
       "      <td>19788</td>\n",
       "      <td>0</td>\n",
       "      <td>0</td>\n",
       "      <td>0</td>\n",
       "      <td>lacteos</td>\n",
       "    </tr>\n",
       "    <tr>\n",
       "      <th>1</th>\n",
       "      <td>Pack 12 un, Leche chocolate receta original 1 L</td>\n",
       "      <td>Soprole</td>\n",
       "      <td>18228</td>\n",
       "      <td>0</td>\n",
       "      <td>0</td>\n",
       "      <td>0</td>\n",
       "      <td>lacteos</td>\n",
       "    </tr>\n",
       "    <tr>\n",
       "      <th>2</th>\n",
       "      <td>Pack 12 un, Leche semidescremada chocolate 1 L</td>\n",
       "      <td>Soprole</td>\n",
       "      <td>18228</td>\n",
       "      <td>0</td>\n",
       "      <td>0</td>\n",
       "      <td>0</td>\n",
       "      <td>lacteos</td>\n",
       "    </tr>\n",
       "    <tr>\n",
       "      <th>3</th>\n",
       "      <td>Pack 12 un, Leche semidescremada frutilla 1 L</td>\n",
       "      <td>Soprole</td>\n",
       "      <td>18228</td>\n",
       "      <td>0</td>\n",
       "      <td>0</td>\n",
       "      <td>0</td>\n",
       "      <td>lacteos</td>\n",
       "    </tr>\n",
       "    <tr>\n",
       "      <th>4</th>\n",
       "      <td>Pack 12 un, Leche sin lactosa chocolate 1 L</td>\n",
       "      <td>Loncoleche</td>\n",
       "      <td>17988</td>\n",
       "      <td>0</td>\n",
       "      <td>0</td>\n",
       "      <td>0</td>\n",
       "      <td>lacteos</td>\n",
       "    </tr>\n",
       "    <tr>\n",
       "      <th>5</th>\n",
       "      <td>Pack 12 un, Leche sin lactosa frutilla 1 L</td>\n",
       "      <td>Loncoleche</td>\n",
       "      <td>17988</td>\n",
       "      <td>0</td>\n",
       "      <td>0</td>\n",
       "      <td>0</td>\n",
       "      <td>lacteos</td>\n",
       "    </tr>\n",
       "    <tr>\n",
       "      <th>6</th>\n",
       "      <td>Pack 12 un, Leche saborizada light chocolate 1 L</td>\n",
       "      <td>Loncoleche</td>\n",
       "      <td>17988</td>\n",
       "      <td>0</td>\n",
       "      <td>0</td>\n",
       "      <td>0</td>\n",
       "      <td>lacteos</td>\n",
       "    </tr>\n",
       "    <tr>\n",
       "      <th>7</th>\n",
       "      <td>Pack 12 un, Leche saborizada frutilla 1 L</td>\n",
       "      <td>Colun</td>\n",
       "      <td>17388</td>\n",
       "      <td>0</td>\n",
       "      <td>0</td>\n",
       "      <td>0</td>\n",
       "      <td>lacteos</td>\n",
       "    </tr>\n",
       "    <tr>\n",
       "      <th>8</th>\n",
       "      <td>Pack 12 un, Leche saborizada vainilla 1 L</td>\n",
       "      <td>Colun</td>\n",
       "      <td>17388</td>\n",
       "      <td>0</td>\n",
       "      <td>0</td>\n",
       "      <td>0</td>\n",
       "      <td>lacteos</td>\n",
       "    </tr>\n",
       "    <tr>\n",
       "      <th>9</th>\n",
       "      <td>Pack 12 un, Leche saborizada manjar 1 L</td>\n",
       "      <td>Colun</td>\n",
       "      <td>17388</td>\n",
       "      <td>0</td>\n",
       "      <td>0</td>\n",
       "      <td>0</td>\n",
       "      <td>lacteos</td>\n",
       "    </tr>\n",
       "  </tbody>\n",
       "</table>\n",
       "</div>"
      ],
      "text/plain": [
       "                                              title       Marca  Preco_Normal  \\\n",
       "0              Pack 12 un, Leche extra proteína 1 L  Loncoleche         19788   \n",
       "1   Pack 12 un, Leche chocolate receta original 1 L     Soprole         18228   \n",
       "2    Pack 12 un, Leche semidescremada chocolate 1 L     Soprole         18228   \n",
       "3     Pack 12 un, Leche semidescremada frutilla 1 L     Soprole         18228   \n",
       "4       Pack 12 un, Leche sin lactosa chocolate 1 L  Loncoleche         17988   \n",
       "5        Pack 12 un, Leche sin lactosa frutilla 1 L  Loncoleche         17988   \n",
       "6  Pack 12 un, Leche saborizada light chocolate 1 L  Loncoleche         17988   \n",
       "7         Pack 12 un, Leche saborizada frutilla 1 L       Colun         17388   \n",
       "8         Pack 12 un, Leche saborizada vainilla 1 L       Colun         17388   \n",
       "9           Pack 12 un, Leche saborizada manjar 1 L       Colun         17388   \n",
       "\n",
       "   Preco_Desconto  Preco_Anterior  Desconto Categoria  \n",
       "0               0               0         0   lacteos  \n",
       "1               0               0         0   lacteos  \n",
       "2               0               0         0   lacteos  \n",
       "3               0               0         0   lacteos  \n",
       "4               0               0         0   lacteos  \n",
       "5               0               0         0   lacteos  \n",
       "6               0               0         0   lacteos  \n",
       "7               0               0         0   lacteos  \n",
       "8               0               0         0   lacteos  \n",
       "9               0               0         0   lacteos  "
      ]
     },
     "execution_count": 39,
     "metadata": {},
     "output_type": "execute_result"
    }
   ],
   "source": [
    "df = pd.read_csv(\"Projeto_Mercado.csv\", delimiter=',')\n",
    "\n",
    "df.head(10)"
   ]
  },
  {
   "cell_type": "markdown",
   "metadata": {
    "id": "YJgKJ7Nxwtw2"
   },
   "source": [
    "Os campos do nosso dataframe são:\n",
    "\n",
    "**Title:** Nome do produto.\n",
    "\n",
    "\n",
    "**Marca:** A marca do produto.\n",
    "\n",
    "\n",
    "**Preco_Normal:** O preço em que o produto costuma ser vendido quando não há desconto.\n",
    "\n",
    "\n",
    "**Preco_Desconto:** O preço vendido após o desconto ser aplicado.\n",
    "\n",
    "\n",
    "**Preco_Anterior:** Preço em que era comercializado o produto antes do desconto aplicado.\n",
    "\n",
    "\n",
    "**Desconto:** Total de desconto aplicado.\n",
    "\n",
    "\n",
    "\n",
    "\n",
    "\n",
    "\n",
    "As colunas que aparecem com valores 0 são para os produtos onde não tivemos descontos aplicados.\n",
    "\n",
    "\n",
    "As categorias estão em espanhol!"
   ]
  },
  {
   "cell_type": "markdown",
   "metadata": {
    "id": "4u6WBeyyy6ri"
   },
   "source": [
    "# 1 - Traga a média e a mediana dos preços - coluna Preco_Normal - por categoria de produto.\n",
    "# Identifique as categorias que parecem ter um valor de média abaixo ou acima da mediana."
   ]
  },
  {
   "cell_type": "code",
   "execution_count": 42,
   "metadata": {
    "id": "E7B7FolOzVcJ"
   },
   "outputs": [
    {
     "data": {
      "text/html": [
       "<div>\n",
       "<style scoped>\n",
       "    .dataframe tbody tr th:only-of-type {\n",
       "        vertical-align: middle;\n",
       "    }\n",
       "\n",
       "    .dataframe tbody tr th {\n",
       "        vertical-align: top;\n",
       "    }\n",
       "\n",
       "    .dataframe thead th {\n",
       "        text-align: right;\n",
       "    }\n",
       "</style>\n",
       "<table border=\"1\" class=\"dataframe\">\n",
       "  <thead>\n",
       "    <tr style=\"text-align: right;\">\n",
       "      <th></th>\n",
       "      <th>Categoria</th>\n",
       "      <th>Preco_Normal</th>\n",
       "    </tr>\n",
       "  </thead>\n",
       "  <tbody>\n",
       "    <tr>\n",
       "      <th>1</th>\n",
       "      <td>comidas-preparadas</td>\n",
       "      <td>3095.043478</td>\n",
       "    </tr>\n",
       "    <tr>\n",
       "      <th>5</th>\n",
       "      <td>lacteos</td>\n",
       "      <td>2385.219239</td>\n",
       "    </tr>\n",
       "    <tr>\n",
       "      <th>2</th>\n",
       "      <td>congelados</td>\n",
       "      <td>2108.042553</td>\n",
       "    </tr>\n",
       "    <tr>\n",
       "      <th>0</th>\n",
       "      <td>belleza-y-cuidado-personal</td>\n",
       "      <td>1783.556485</td>\n",
       "    </tr>\n",
       "    <tr>\n",
       "      <th>3</th>\n",
       "      <td>frutas</td>\n",
       "      <td>1724.473684</td>\n",
       "    </tr>\n",
       "    <tr>\n",
       "      <th>6</th>\n",
       "      <td>verduras</td>\n",
       "      <td>1343.296875</td>\n",
       "    </tr>\n",
       "    <tr>\n",
       "      <th>4</th>\n",
       "      <td>instantaneos-y-sopas</td>\n",
       "      <td>765.491228</td>\n",
       "    </tr>\n",
       "  </tbody>\n",
       "</table>\n",
       "</div>"
      ],
      "text/plain": [
       "                    Categoria  Preco_Normal\n",
       "1          comidas-preparadas   3095.043478\n",
       "5                     lacteos   2385.219239\n",
       "2                  congelados   2108.042553\n",
       "0  belleza-y-cuidado-personal   1783.556485\n",
       "3                      frutas   1724.473684\n",
       "6                    verduras   1343.296875\n",
       "4        instantaneos-y-sopas    765.491228"
      ]
     },
     "execution_count": 42,
     "metadata": {},
     "output_type": "execute_result"
    }
   ],
   "source": [
    "#Seu código aqui para a média\n",
    "df.groupby('Categoria')['Preco_Normal'].mean().reset_index().sort_values(by='Preco_Normal', ascending=False)"
   ]
  },
  {
   "cell_type": "code",
   "execution_count": 43,
   "metadata": {
    "id": "Rwf4V3hnzZwh"
   },
   "outputs": [
    {
     "data": {
      "text/html": [
       "<div>\n",
       "<style scoped>\n",
       "    .dataframe tbody tr th:only-of-type {\n",
       "        vertical-align: middle;\n",
       "    }\n",
       "\n",
       "    .dataframe tbody tr th {\n",
       "        vertical-align: top;\n",
       "    }\n",
       "\n",
       "    .dataframe thead th {\n",
       "        text-align: right;\n",
       "    }\n",
       "</style>\n",
       "<table border=\"1\" class=\"dataframe\">\n",
       "  <thead>\n",
       "    <tr style=\"text-align: right;\">\n",
       "      <th></th>\n",
       "      <th>Categoria</th>\n",
       "      <th>Preco_Normal</th>\n",
       "    </tr>\n",
       "  </thead>\n",
       "  <tbody>\n",
       "    <tr>\n",
       "      <th>1</th>\n",
       "      <td>comidas-preparadas</td>\n",
       "      <td>3290.0</td>\n",
       "    </tr>\n",
       "    <tr>\n",
       "      <th>0</th>\n",
       "      <td>belleza-y-cuidado-personal</td>\n",
       "      <td>1569.0</td>\n",
       "    </tr>\n",
       "    <tr>\n",
       "      <th>2</th>\n",
       "      <td>congelados</td>\n",
       "      <td>1519.0</td>\n",
       "    </tr>\n",
       "    <tr>\n",
       "      <th>3</th>\n",
       "      <td>frutas</td>\n",
       "      <td>1195.0</td>\n",
       "    </tr>\n",
       "    <tr>\n",
       "      <th>6</th>\n",
       "      <td>verduras</td>\n",
       "      <td>1180.0</td>\n",
       "    </tr>\n",
       "    <tr>\n",
       "      <th>5</th>\n",
       "      <td>lacteos</td>\n",
       "      <td>989.0</td>\n",
       "    </tr>\n",
       "    <tr>\n",
       "      <th>4</th>\n",
       "      <td>instantaneos-y-sopas</td>\n",
       "      <td>439.0</td>\n",
       "    </tr>\n",
       "  </tbody>\n",
       "</table>\n",
       "</div>"
      ],
      "text/plain": [
       "                    Categoria  Preco_Normal\n",
       "1          comidas-preparadas        3290.0\n",
       "0  belleza-y-cuidado-personal        1569.0\n",
       "2                  congelados        1519.0\n",
       "3                      frutas        1195.0\n",
       "6                    verduras        1180.0\n",
       "5                     lacteos         989.0\n",
       "4        instantaneos-y-sopas         439.0"
      ]
     },
     "execution_count": 43,
     "metadata": {},
     "output_type": "execute_result"
    }
   ],
   "source": [
    "#Seu código aqui para a mediana\n",
    "df.groupby('Categoria')['Preco_Normal'].median().reset_index().sort_values(by='Preco_Normal', ascending=False)"
   ]
  },
  {
   "cell_type": "markdown",
   "metadata": {
    "id": "nKBFOh-mzyWX"
   },
   "source": [
    "comidas-preparadas é o único em que a média está abaixo da mediana. Todos os outros, lacteos, congelados, belleza-y-cuidado-personal, frutas, verduras e instantaneos-y-sopas a média é acima da mediana. Sendo lacteos a maior diferença entre média e mediana."
   ]
  },
  {
   "cell_type": "markdown",
   "metadata": {
    "id": "jdHZurzDzca0"
   },
   "source": [
    "# 2 - Traga o desvio padrão por categoria de produto.\n",
    "# Qual o comportamento da média e mediana nas categorias com maior desvio?"
   ]
  },
  {
   "cell_type": "code",
   "execution_count": 50,
   "metadata": {
    "id": "xEXT1gtoz135"
   },
   "outputs": [
    {
     "data": {
      "text/html": [
       "<div>\n",
       "<style scoped>\n",
       "    .dataframe tbody tr th:only-of-type {\n",
       "        vertical-align: middle;\n",
       "    }\n",
       "\n",
       "    .dataframe tbody tr th {\n",
       "        vertical-align: top;\n",
       "    }\n",
       "\n",
       "    .dataframe thead th {\n",
       "        text-align: right;\n",
       "    }\n",
       "</style>\n",
       "<table border=\"1\" class=\"dataframe\">\n",
       "  <thead>\n",
       "    <tr style=\"text-align: right;\">\n",
       "      <th></th>\n",
       "      <th>Categoria</th>\n",
       "      <th>Preco_Normal</th>\n",
       "    </tr>\n",
       "  </thead>\n",
       "  <tbody>\n",
       "    <tr>\n",
       "      <th>5</th>\n",
       "      <td>lacteos</td>\n",
       "      <td>3925.816164</td>\n",
       "    </tr>\n",
       "    <tr>\n",
       "      <th>0</th>\n",
       "      <td>belleza-y-cuidado-personal</td>\n",
       "      <td>2210.041719</td>\n",
       "    </tr>\n",
       "    <tr>\n",
       "      <th>2</th>\n",
       "      <td>congelados</td>\n",
       "      <td>2111.539896</td>\n",
       "    </tr>\n",
       "    <tr>\n",
       "      <th>1</th>\n",
       "      <td>comidas-preparadas</td>\n",
       "      <td>2019.911428</td>\n",
       "    </tr>\n",
       "    <tr>\n",
       "      <th>3</th>\n",
       "      <td>frutas</td>\n",
       "      <td>1639.151114</td>\n",
       "    </tr>\n",
       "    <tr>\n",
       "      <th>4</th>\n",
       "      <td>instantaneos-y-sopas</td>\n",
       "      <td>1170.232869</td>\n",
       "    </tr>\n",
       "    <tr>\n",
       "      <th>6</th>\n",
       "      <td>verduras</td>\n",
       "      <td>1012.699625</td>\n",
       "    </tr>\n",
       "  </tbody>\n",
       "</table>\n",
       "</div>"
      ],
      "text/plain": [
       "                    Categoria  Preco_Normal\n",
       "5                     lacteos   3925.816164\n",
       "0  belleza-y-cuidado-personal   2210.041719\n",
       "2                  congelados   2111.539896\n",
       "1          comidas-preparadas   2019.911428\n",
       "3                      frutas   1639.151114\n",
       "4        instantaneos-y-sopas   1170.232869\n",
       "6                    verduras   1012.699625"
      ]
     },
     "execution_count": 50,
     "metadata": {},
     "output_type": "execute_result"
    }
   ],
   "source": [
    "#Seu código aqui\n",
    "desvio_padrao_por_categoria = df.groupby('Categoria')['Preco_Normal'].std().reset_index().sort_values(by='Preco_Normal', ascending=False)\n",
    "desvio_padrao_por_categoria"
   ]
  },
  {
   "cell_type": "markdown",
   "metadata": {
    "id": "HzsLO4nOz3yJ"
   },
   "source": [
    "Pegando o exemplo do maior desvio padrão, que são os lacteos, a média e a mediana possuem uma grande diferença, a maior dentre todas, exatamente pelo desvio padrão ser muito grande."
   ]
  },
  {
   "cell_type": "markdown",
   "metadata": {
    "id": "4aW51rCHBr2w"
   },
   "source": [
    "# 3 - Plot um boxplot da distribuição do Preco_Normal para a categoria que você identificou que tem o maior desvio padrão. Como é a distribuição desses dados segundo o boxplot? Você identifica muitos outliers?"
   ]
  },
  {
   "cell_type": "markdown",
   "metadata": {
    "id": "kwPKkUZnEUSb"
   },
   "source": [
    "Dica: Para trazer apenas os dados da categoria que você deseja você pode usar o df.loc[df['Categoria'] == 'CATEGORIA ESCOLHIDA'"
   ]
  },
  {
   "cell_type": "code",
   "execution_count": 57,
   "metadata": {
    "id": "_02thblTCKEF"
   },
   "outputs": [
    {
     "data": {
      "image/png": "[encoded data removed]",
      "text/plain": [
       "<Figure size 1000x600 with 1 Axes>"
      ]
     },
     "metadata": {},
     "output_type": "display_data"
    }
   ],
   "source": [
    "#Seu código aqui\n",
    "df_categoria = df.loc[df['Categoria'] == 'lacteos']\n",
    "\n",
    "plt.figure(figsize=(10, 6)) \n",
    "sns.boxplot(x=df_categoria['Preco_Normal'], color='skyblue') \n",
    "plt.title('Distribuição do Preço Normal para lacteos') \n",
    "plt.xlabel('Preço Normal') \n",
    "plt.grid(axis='x', linestyle='--', alpha=0.7) \n",
    "plt.show()\n",
    "\n",
    "#plt.figure(figsize=(10, 6))\n",
    "#fig = px.box(df_categoria, y='Categoria', title='Distribuição do Preço Normal para lacteos')\n",
    "#fig.show()"
   ]
  },
  {
   "cell_type": "code",
   "execution_count": null,
   "metadata": {},
   "outputs": [],
   "source": [
    "A distribuição dos dados não é muito constante, a média não fica exatamente no meio do gráfico por conta dos muitos outliers que a categoria possui, o que faz com que a mediana tenha tanta diferença em relação a média. Existem muitos outliers, que vão de aproximadamente 6.000 até quase 20.000, tendo em conta que a média é aproximadamente 2.385, os outliers possuem uma grande diferença."
   ]
  },
  {
   "cell_type": "markdown",
   "metadata": {
    "id": "w5xgQBC_0Hg-"
   },
   "source": [
    "# 4 - Plote um gráfico de barras onde temos a média de descontos por categoria."
   ]
  },
  {
   "cell_type": "code",
   "execution_count": 56,
   "metadata": {
    "id": "DBj5zAdI0QfI"
   },
   "outputs": [
    {
     "data": {
      "image/png": "[encoded data removed]",
      "text/plain": [
       "<Figure size 1000x600 with 1 Axes>"
      ]
     },
     "metadata": {},
     "output_type": "display_data"
    }
   ],
   "source": [
    "# Seu código aqui\n",
    "media_desconto_por_categoria = df.groupby('Categoria')['Desconto'].mean()\n",
    "\n",
    "plt.figure(figsize=(10, 6))\n",
    "bars = plt.bar(media_desconto_por_categoria.index, media_desconto_por_categoria, color='lightblue')\n",
    "\n",
    "for bar in bars:\n",
    "    plt.text(bar.get_x() + bar.get_width() / 2, bar.get_height(), round(bar.get_height(), 2),\n",
    "             ha='center', va='bottom', fontsize=10)\n",
    "\n",
    "plt.title('Média de Desconto por Categoria', fontsize=16)\n",
    "plt.xlabel('Categoria', fontsize=12)\n",
    "plt.ylabel('Média de Desconto', fontsize=12)\n",
    "plt.xticks(rotation=45)\n",
    "plt.grid(True, linestyle='--', alpha=0.7)\n",
    "plt.show()"
   ]
  },
  {
   "cell_type": "markdown",
   "metadata": {
    "id": "vqlx0w7E07uC"
   },
   "source": [
    "# 5 - Plote um gráfico de mapa interativo agrupando os dados por categoria, marca e trazendo a média de desconto."
   ]
  },
  {
   "cell_type": "code",
   "execution_count": 62,
   "metadata": {
    "id": "D-JWM64Q1NzB"
   },
   "outputs": [
    {
     "data": {
      "application/vnd.plotly.v1+json": {
       "config": {
        "plotlyServerURL": "https://plot.ly"
       },
       "data": [
        {
         "branchvalues": "total",
         "customdata": [
          [
           "Protex"
          ],
          [
           "Qualy"
          ],
          [
           "Viennetta Bresler"
          ],
          [
           "Old Spice"
          ],
          [
           "King"
          ],
          [
           "1+1 Soprole"
          ],
          [
           "Activia"
          ],
          [
           "Quillayes"
          ],
          [
           "Agrosano"
          ],
          [
           "Alcafood"
          ],
          [
           "Alimentos Shen"
          ],
          [
           "Rana"
          ],
          [
           "Always"
          ],
          [
           "Aquafresh"
          ],
          [
           "Receta Del Abuelo"
          ],
          [
           "Kotex"
          ],
          [
           "Gourmet"
          ],
          [
           "Kumey"
          ],
          [
           "Astra"
          ],
          [
           "Regimel"
          ],
          [
           "Rexona"
          ],
          [
           "Axe"
          ],
          [
           "Omega 3"
          ],
          [
           "La Crianza"
          ],
          [
           "Rexona Clinical"
          ],
          [
           "Rexona Men"
          ],
          [
           "Rexona Men Clinical"
          ],
          [
           "Babyland"
          ],
          [
           "Rikü"
          ],
          [
           "Rock"
          ],
          [
           "Sadia"
          ],
          [
           "Guallarauco"
          ],
          [
           "Ballerina"
          ],
          [
           "Base Culinar"
          ],
          [
           "Sadia"
          ],
          [
           "Head & Shoulders"
          ],
          [
           "Oral Fresh"
          ],
          [
           "La Crianza"
          ],
          [
           "Sahne Nuss"
          ],
          [
           "Sahne Nuss"
          ],
          [
           "San Francisco De Loncomilla"
          ],
          [
           "Bellekiss"
          ],
          [
           "Yogu - Yogu"
          ],
          [
           "BiO"
          ],
          [
           "Bonella"
          ],
          [
           "Bravissimo"
          ],
          [
           "Bredenmaster"
          ],
          [
           "Bresler"
          ],
          [
           "Brooks"
          ],
          [
           "Calan"
          ],
          [
           "Lady Speed Stick"
          ],
          [
           "Calo"
          ],
          [
           "Not Ice Cream"
          ],
          [
           "Zerolacto"
          ],
          [
           "Not Milk"
          ],
          [
           "Ladysoft"
          ],
          [
           "Carefree"
          ],
          [
           "Carozzi"
          ],
          [
           "Carte Dor"
          ],
          [
           "Oral-B"
          ],
          [
           "Le Sancy"
          ],
          [
           "Chamyto"
          ],
          [
           "Chiquitín"
          ],
          [
           "Cintazul"
          ],
          [
           "PF"
          ],
          [
           "San Ignacio"
          ],
          [
           "Colgate"
          ],
          [
           "Zole"
          ],
          [
           "Lefersa"
          ],
          [
           "Collico"
          ],
          [
           "San Jorge"
          ],
          [
           "Light & Free"
          ],
          [
           "Herbal"
          ],
          [
           "Colun"
          ],
          [
           "Copacabana"
          ],
          [
           "Corbac"
          ],
          [
           "Santa Isabel"
          ],
          [
           "Santa Isabel"
          ],
          [
           "Cotidian"
          ],
          [
           "Cotosan"
          ],
          [
           "Santa Isabel"
          ],
          [
           "Santa Marta"
          ],
          [
           "PF"
          ],
          [
           "Linic"
          ],
          [
           "Savory"
          ],
          [
           "Listerine"
          ],
          [
           "Loncoleche"
          ],
          [
           "Los Alerces"
          ],
          [
           "Schick"
          ],
          [
           "Pamperita"
          ],
          [
           "Crucina"
          ],
          [
           "Pantene"
          ],
          [
           "Sedal"
          ],
          [
           "Sensodyne"
          ],
          [
           "Shake A Shake Lonco Leche"
          ],
          [
           "Signore Mario"
          ],
          [
           "Cuisine & Co"
          ],
          [
           "Cuisine & Co"
          ],
          [
           "Cuisine & Co"
          ],
          [
           "Maggi"
          ],
          [
           "Magnum"
          ],
          [
           "Marco Polo"
          ],
          [
           "Simond'S"
          ],
          [
           "Simonds"
          ],
          [
           "Cuisine & Co"
          ],
          [
           "Sofruco"
          ],
          [
           "Danone"
          ],
          [
           "Deline"
          ],
          [
           "Mega"
          ],
          [
           "Herbal Essences"
          ],
          [
           "Solo Italia"
          ],
          [
           "Dento"
          ],
          [
           "Dole"
          ],
          [
           "Dove"
          ],
          [
           "Dove Men"
          ],
          [
           "Soprole"
          ],
          [
           "Soprole Activ"
          ],
          [
           "Hoffmann"
          ],
          [
           "Minuto Verde"
          ],
          [
           "Speed Stick"
          ],
          [
           "Duralón"
          ],
          [
           "Elite"
          ],
          [
           "Elvive"
          ],
          [
           "Familand"
          ],
          [
           "Mister Veggie"
          ],
          [
           "Máxima MP"
          ],
          [
           "Ideal"
          ],
          [
           "Máxima MP"
          ],
          [
           "Naturella"
          ],
          [
           "Super Beef"
          ],
          [
           "Naturezza"
          ],
          [
           "Super Cerdo"
          ],
          [
           "Nesquik"
          ],
          [
           "Ilicit"
          ],
          [
           "Pepsodent"
          ],
          [
           "Super Pollo"
          ],
          [
           "Sureña"
          ],
          [
           "Nestlé"
          ],
          [
           "Family Care"
          ],
          [
           "Fiesta"
          ],
          [
           "Fructis"
          ],
          [
           "Surlat"
          ],
          [
           "Svelty"
          ],
          [
           "Frutas Y Verduras Propias"
          ],
          [
           "Frutas Y Verduras Propias"
          ],
          [
           "Oikos"
          ],
          [
           "Jumbo"
          ],
          [
           "Tena"
          ],
          [
           "Tivoni"
          ],
          [
           "Frutas Y Verduras Santa Isabel"
          ],
          [
           "Next"
          ],
          [
           "Nido"
          ],
          [
           "Nivea"
          ],
          [
           "Traverso"
          ],
          [
           "Trianon"
          ],
          [
           "Turkey Hill"
          ],
          [
           "Frutos Del Maipo"
          ],
          [
           "Nivea For Men"
          ],
          [
           "Plenitud"
          ],
          [
           "Garnier"
          ],
          [
           "Nosotras"
          ],
          [
           "Gillette"
          ],
          [
           "Giselle"
          ],
          [
           "Not Burger"
          ],
          [
           "Tío Nacho"
          ],
          [
           "Vanart"
          ],
          [
           "Not Chicken"
          ],
          [
           "(?)"
          ],
          [
           "(?)"
          ],
          [
           "(?)"
          ],
          [
           "(?)"
          ],
          [
           "(?)"
          ],
          [
           "(?)"
          ],
          [
           "(?)"
          ]
         ],
         "domain": {
          "x": [
           0,
           1
          ],
          "y": [
           0,
           1
          ]
         },
         "hovertemplate": "labels=%{label}<br>Desconto=%{value}<br>parent=%{parent}<br>id=%{id}<br>Marca=%{customdata[0]}<extra></extra>",
         "ids": [
          "belleza-y-cuidado-personal/Protex",
          "lacteos/Qualy",
          "congelados/Viennetta Bresler",
          "belleza-y-cuidado-personal/Old Spice",
          "congelados/King",
          "lacteos/1+1 Soprole",
          "lacteos/Activia",
          "lacteos/Quillayes",
          "verduras/Agrosano",
          "instantaneos-y-sopas/Alcafood",
          "congelados/Alimentos Shen",
          "comidas-preparadas/Rana",
          "belleza-y-cuidado-personal/Always",
          "belleza-y-cuidado-personal/Aquafresh",
          "congelados/Receta Del Abuelo",
          "belleza-y-cuidado-personal/Kotex",
          "instantaneos-y-sopas/Gourmet",
          "lacteos/Kumey",
          "lacteos/Astra",
          "lacteos/Regimel",
          "belleza-y-cuidado-personal/Rexona",
          "belleza-y-cuidado-personal/Axe",
          "lacteos/Omega 3",
          "comidas-preparadas/La Crianza",
          "belleza-y-cuidado-personal/Rexona Clinical",
          "belleza-y-cuidado-personal/Rexona Men",
          "belleza-y-cuidado-personal/Rexona Men Clinical",
          "belleza-y-cuidado-personal/Babyland",
          "congelados/Rikü",
          "congelados/Rock",
          "comidas-preparadas/Sadia",
          "congelados/Guallarauco",
          "belleza-y-cuidado-personal/Ballerina",
          "lacteos/Base Culinar",
          "congelados/Sadia",
          "belleza-y-cuidado-personal/Head & Shoulders",
          "belleza-y-cuidado-personal/Oral Fresh",
          "congelados/La Crianza",
          "congelados/Sahne Nuss",
          "lacteos/Sahne Nuss",
          "congelados/San Francisco De Loncomilla",
          "belleza-y-cuidado-personal/Bellekiss",
          "lacteos/Yogu - Yogu",
          "belleza-y-cuidado-personal/BiO",
          "lacteos/Bonella",
          "congelados/Bravissimo",
          "comidas-preparadas/Bredenmaster",
          "congelados/Bresler",
          "belleza-y-cuidado-personal/Brooks",
          "lacteos/Calan",
          "belleza-y-cuidado-personal/Lady Speed Stick",
          "lacteos/Calo",
          "congelados/Not Ice Cream",
          "lacteos/Zerolacto",
          "lacteos/Not Milk",
          "belleza-y-cuidado-personal/Ladysoft",
          "belleza-y-cuidado-personal/Carefree",
          "instantaneos-y-sopas/Carozzi",
          "congelados/Carte Dor",
          "belleza-y-cuidado-personal/Oral-B",
          "belleza-y-cuidado-personal/Le Sancy",
          "lacteos/Chamyto",
          "lacteos/Chiquitín",
          "lacteos/Cintazul",
          "comidas-preparadas/PF",
          "lacteos/San Ignacio",
          "belleza-y-cuidado-personal/Colgate",
          "congelados/Zole",
          "lacteos/Lefersa",
          "lacteos/Collico",
          "congelados/San Jorge",
          "lacteos/Light & Free",
          "belleza-y-cuidado-personal/Herbal",
          "lacteos/Colun",
          "lacteos/Copacabana",
          "comidas-preparadas/Corbac",
          "comidas-preparadas/Santa Isabel",
          "instantaneos-y-sopas/Santa Isabel",
          "belleza-y-cuidado-personal/Cotidian",
          "belleza-y-cuidado-personal/Cotosan",
          "lacteos/Santa Isabel",
          "lacteos/Santa Marta",
          "congelados/PF",
          "belleza-y-cuidado-personal/Linic",
          "congelados/Savory",
          "belleza-y-cuidado-personal/Listerine",
          "lacteos/Loncoleche",
          "lacteos/Los Alerces",
          "belleza-y-cuidado-personal/Schick",
          "lacteos/Pamperita",
          "lacteos/Crucina",
          "belleza-y-cuidado-personal/Pantene",
          "belleza-y-cuidado-personal/Sedal",
          "belleza-y-cuidado-personal/Sensodyne",
          "lacteos/Shake A Shake Lonco Leche",
          "lacteos/Signore Mario",
          "comidas-preparadas/Cuisine & Co",
          "congelados/Cuisine & Co",
          "instantaneos-y-sopas/Cuisine & Co",
          "instantaneos-y-sopas/Maggi",
          "congelados/Magnum",
          "lacteos/Marco Polo",
          "belleza-y-cuidado-personal/Simond'S",
          "belleza-y-cuidado-personal/Simonds",
          "lacteos/Cuisine & Co",
          "frutas/Sofruco",
          "lacteos/Danone",
          "lacteos/Deline",
          "congelados/Mega",
          "belleza-y-cuidado-personal/Herbal Essences",
          "comidas-preparadas/Solo Italia",
          "belleza-y-cuidado-personal/Dento",
          "verduras/Dole",
          "belleza-y-cuidado-personal/Dove",
          "belleza-y-cuidado-personal/Dove Men",
          "lacteos/Soprole",
          "lacteos/Soprole Activ",
          "instantaneos-y-sopas/Hoffmann",
          "congelados/Minuto Verde",
          "belleza-y-cuidado-personal/Speed Stick",
          "belleza-y-cuidado-personal/Duralón",
          "belleza-y-cuidado-personal/Elite",
          "belleza-y-cuidado-personal/Elvive",
          "belleza-y-cuidado-personal/Familand",
          "congelados/Mister Veggie",
          "instantaneos-y-sopas/Máxima MP",
          "lacteos/Ideal",
          "lacteos/Máxima MP",
          "belleza-y-cuidado-personal/Naturella",
          "congelados/Super Beef",
          "instantaneos-y-sopas/Naturezza",
          "congelados/Super Cerdo",
          "lacteos/Nesquik",
          "belleza-y-cuidado-personal/Ilicit",
          "belleza-y-cuidado-personal/Pepsodent",
          "congelados/Super Pollo",
          "lacteos/Sureña",
          "lacteos/Nestlé",
          "belleza-y-cuidado-personal/Family Care",
          "congelados/Fiesta",
          "belleza-y-cuidado-personal/Fructis",
          "lacteos/Surlat",
          "lacteos/Svelty",
          "frutas/Frutas Y Verduras Propias",
          "verduras/Frutas Y Verduras Propias",
          "lacteos/Oikos",
          "verduras/Jumbo",
          "belleza-y-cuidado-personal/Tena",
          "congelados/Tivoni",
          "frutas/Frutas Y Verduras Santa Isabel",
          "lacteos/Next",
          "lacteos/Nido",
          "belleza-y-cuidado-personal/Nivea",
          "instantaneos-y-sopas/Traverso",
          "belleza-y-cuidado-personal/Trianon",
          "congelados/Turkey Hill",
          "congelados/Frutos Del Maipo",
          "belleza-y-cuidado-personal/Nivea For Men",
          "belleza-y-cuidado-personal/Plenitud",
          "belleza-y-cuidado-personal/Garnier",
          "belleza-y-cuidado-personal/Nosotras",
          "belleza-y-cuidado-personal/Gillette",
          "belleza-y-cuidado-personal/Giselle",
          "congelados/Not Burger",
          "belleza-y-cuidado-personal/Tío Nacho",
          "belleza-y-cuidado-personal/Vanart",
          "congelados/Not Chicken",
          "belleza-y-cuidado-personal",
          "comidas-preparadas",
          "congelados",
          "frutas",
          "instantaneos-y-sopas",
          "lacteos",
          "verduras"
         ],
         "labels": [
          "Protex",
          "Qualy",
          "Viennetta Bresler",
          "Old Spice",
          "King",
          "1+1 Soprole",
          "Activia",
          "Quillayes",
          "Agrosano",
          "Alcafood",
          "Alimentos Shen",
          "Rana",
          "Always",
          "Aquafresh",
          "Receta Del Abuelo",
          "Kotex",
          "Gourmet",
          "Kumey",
          "Astra",
          "Regimel",
          "Rexona",
          "Axe",
          "Omega 3",
          "La Crianza",
          "Rexona Clinical",
          "Rexona Men",
          "Rexona Men Clinical",
          "Babyland",
          "Rikü",
          "Rock",
          "Sadia",
          "Guallarauco",
          "Ballerina",
          "Base Culinar",
          "Sadia",
          "Head & Shoulders",
          "Oral Fresh",
          "La Crianza",
          "Sahne Nuss",
          "Sahne Nuss",
          "San Francisco De Loncomilla",
          "Bellekiss",
          "Yogu - Yogu",
          "BiO",
          "Bonella",
          "Bravissimo",
          "Bredenmaster",
          "Bresler",
          "Brooks",
          "Calan",
          "Lady Speed Stick",
          "Calo",
          "Not Ice Cream",
          "Zerolacto",
          "Not Milk",
          "Ladysoft",
          "Carefree",
          "Carozzi",
          "Carte Dor",
          "Oral-B",
          "Le Sancy",
          "Chamyto",
          "Chiquitín",
          "Cintazul",
          "PF",
          "San Ignacio",
          "Colgate",
          "Zole",
          "Lefersa",
          "Collico",
          "San Jorge",
          "Light & Free",
          "Herbal",
          "Colun",
          "Copacabana",
          "Corbac",
          "Santa Isabel",
          "Santa Isabel",
          "Cotidian",
          "Cotosan",
          "Santa Isabel",
          "Santa Marta",
          "PF",
          "Linic",
          "Savory",
          "Listerine",
          "Loncoleche",
          "Los Alerces",
          "Schick",
          "Pamperita",
          "Crucina",
          "Pantene",
          "Sedal",
          "Sensodyne",
          "Shake A Shake Lonco Leche",
          "Signore Mario",
          "Cuisine & Co",
          "Cuisine & Co",
          "Cuisine & Co",
          "Maggi",
          "Magnum",
          "Marco Polo",
          "Simond'S",
          "Simonds",
          "Cuisine & Co",
          "Sofruco",
          "Danone",
          "Deline",
          "Mega",
          "Herbal Essences",
          "Solo Italia",
          "Dento",
          "Dole",
          "Dove",
          "Dove Men",
          "Soprole",
          "Soprole Activ",
          "Hoffmann",
          "Minuto Verde",
          "Speed Stick",
          "Duralón",
          "Elite",
          "Elvive",
          "Familand",
          "Mister Veggie",
          "Máxima MP",
          "Ideal",
          "Máxima MP",
          "Naturella",
          "Super Beef",
          "Naturezza",
          "Super Cerdo",
          "Nesquik",
          "Ilicit",
          "Pepsodent",
          "Super Pollo",
          "Sureña",
          "Nestlé",
          "Family Care",
          "Fiesta",
          "Fructis",
          "Surlat",
          "Svelty",
          "Frutas Y Verduras Propias",
          "Frutas Y Verduras Propias",
          "Oikos",
          "Jumbo",
          "Tena",
          "Tivoni",
          "Frutas Y Verduras Santa Isabel",
          "Next",
          "Nido",
          "Nivea",
          "Traverso",
          "Trianon",
          "Turkey Hill",
          "Frutos Del Maipo",
          "Nivea For Men",
          "Plenitud",
          "Garnier",
          "Nosotras",
          "Gillette",
          "Giselle",
          "Not Burger",
          "Tío Nacho",
          "Vanart",
          "Not Chicken",
          "belleza-y-cuidado-personal",
          "comidas-preparadas",
          "congelados",
          "frutas",
          "instantaneos-y-sopas",
          "lacteos",
          "verduras"
         ],
         "level": "44bdf3",
         "marker": {
          "colors": [
           "#636efa",
           "#EF553B",
           "#00cc96",
           "#ab63fa",
           "#FFA15A",
           "#19d3f3",
           "#FF6692",
           "#B6E880",
           "#FF97FF",
           "#FECB52",
           "#636efa",
           "#EF553B",
           "#00cc96",
           "#ab63fa",
           "#FFA15A",
           "#19d3f3",
           "#FF6692",
           "#B6E880",
           "#FF97FF",
           "#FECB52",
           "#636efa",
           "#EF553B",
           "#00cc96",
           "#ab63fa",
           "#FFA15A",
           "#19d3f3",
           "#FF6692",
           "#B6E880",
           "#FF97FF",
           "#FECB52",
           "#636efa",
           "#EF553B",
           "#00cc96",
           "#ab63fa",
           "#636efa",
           "#FFA15A",
           "#19d3f3",
           "#ab63fa",
           "#FF6692",
           "#FF6692",
           "#B6E880",
           "#FF97FF",
           "#FECB52",
           "#636efa",
           "#EF553B",
           "#00cc96",
           "#ab63fa",
           "#FFA15A",
           "#19d3f3",
           "#FF6692",
           "#B6E880",
           "#FF97FF",
           "#FECB52",
           "#636efa",
           "#EF553B",
           "#00cc96",
           "#ab63fa",
           "#FFA15A",
           "#19d3f3",
           "#FF6692",
           "#B6E880",
           "#FF97FF",
           "#FECB52",
           "#636efa",
           "#EF553B",
           "#00cc96",
           "#ab63fa",
           "#FFA15A",
           "#19d3f3",
           "#FF6692",
           "#B6E880",
           "#FF97FF",
           "#FECB52",
           "#636efa",
           "#EF553B",
           "#00cc96",
           "#ab63fa",
           "#ab63fa",
           "#FFA15A",
           "#19d3f3",
           "#ab63fa",
           "#FF6692",
           "#EF553B",
           "#B6E880",
           "#FF97FF",
           "#FECB52",
           "#636efa",
           "#EF553B",
           "#00cc96",
           "#ab63fa",
           "#FFA15A",
           "#19d3f3",
           "#FF6692",
           "#B6E880",
           "#FF97FF",
           "#FECB52",
           "#636efa",
           "#636efa",
           "#636efa",
           "#EF553B",
           "#00cc96",
           "#ab63fa",
           "#FFA15A",
           "#19d3f3",
           "#636efa",
           "#FF6692",
           "#B6E880",
           "#FF97FF",
           "#FECB52",
           "#636efa",
           "#EF553B",
           "#00cc96",
           "#ab63fa",
           "#FFA15A",
           "#19d3f3",
           "#FF6692",
           "#B6E880",
           "#FF97FF",
           "#FECB52",
           "#636efa",
           "#EF553B",
           "#00cc96",
           "#ab63fa",
           "#FFA15A",
           "#19d3f3",
           "#FF6692",
           "#B6E880",
           "#FF6692",
           "#FF97FF",
           "#FECB52",
           "#636efa",
           "#EF553B",
           "#00cc96",
           "#ab63fa",
           "#FFA15A",
           "#19d3f3",
           "#FF6692",
           "#B6E880",
           "#FF97FF",
           "#FECB52",
           "#636efa",
           "#EF553B",
           "#00cc96",
           "#ab63fa",
           "#ab63fa",
           "#FFA15A",
           "#19d3f3",
           "#FF6692",
           "#B6E880",
           "#FF97FF",
           "#FECB52",
           "#636efa",
           "#EF553B",
           "#00cc96",
           "#ab63fa",
           "#FFA15A",
           "#19d3f3",
           "#FF6692",
           "#B6E880",
           "#FF97FF",
           "#FECB52",
           "#636efa",
           "#EF553B",
           "#00cc96",
           "#ab63fa",
           "#FFA15A",
           "#19d3f3",
           "#FF6692",
           "#FF6692",
           "#FF6692",
           "#FF6692",
           "#FF6692",
           "#FF6692",
           "#FF6692"
          ]
         },
         "name": "",
         "parents": [
          "belleza-y-cuidado-personal",
          "lacteos",
          "congelados",
          "belleza-y-cuidado-personal",
          "congelados",
          "lacteos",
          "lacteos",
          "lacteos",
          "verduras",
          "instantaneos-y-sopas",
          "congelados",
          "comidas-preparadas",
          "belleza-y-cuidado-personal",
          "belleza-y-cuidado-personal",
          "congelados",
          "belleza-y-cuidado-personal",
          "instantaneos-y-sopas",
          "lacteos",
          "lacteos",
          "lacteos",
          "belleza-y-cuidado-personal",
          "belleza-y-cuidado-personal",
          "lacteos",
          "comidas-preparadas",
          "belleza-y-cuidado-personal",
          "belleza-y-cuidado-personal",
          "belleza-y-cuidado-personal",
          "belleza-y-cuidado-personal",
          "congelados",
          "congelados",
          "comidas-preparadas",
          "congelados",
          "belleza-y-cuidado-personal",
          "lacteos",
          "congelados",
          "belleza-y-cuidado-personal",
          "belleza-y-cuidado-personal",
          "congelados",
          "congelados",
          "lacteos",
          "congelados",
          "belleza-y-cuidado-personal",
          "lacteos",
          "belleza-y-cuidado-personal",
          "lacteos",
          "congelados",
          "comidas-preparadas",
          "congelados",
          "belleza-y-cuidado-personal",
          "lacteos",
          "belleza-y-cuidado-personal",
          "lacteos",
          "congelados",
          "lacteos",
          "lacteos",
          "belleza-y-cuidado-personal",
          "belleza-y-cuidado-personal",
          "instantaneos-y-sopas",
          "congelados",
          "belleza-y-cuidado-personal",
          "belleza-y-cuidado-personal",
          "lacteos",
          "lacteos",
          "lacteos",
          "comidas-preparadas",
          "lacteos",
          "belleza-y-cuidado-personal",
          "congelados",
          "lacteos",
          "lacteos",
          "congelados",
          "lacteos",
          "belleza-y-cuidado-personal",
          "lacteos",
          "lacteos",
          "comidas-preparadas",
          "comidas-preparadas",
          "instantaneos-y-sopas",
          "belleza-y-cuidado-personal",
          "belleza-y-cuidado-personal",
          "lacteos",
          "lacteos",
          "congelados",
          "belleza-y-cuidado-personal",
          "congelados",
          "belleza-y-cuidado-personal",
          "lacteos",
          "lacteos",
          "belleza-y-cuidado-personal",
          "lacteos",
          "lacteos",
          "belleza-y-cuidado-personal",
          "belleza-y-cuidado-personal",
          "belleza-y-cuidado-personal",
          "lacteos",
          "lacteos",
          "comidas-preparadas",
          "congelados",
          "instantaneos-y-sopas",
          "instantaneos-y-sopas",
          "congelados",
          "lacteos",
          "belleza-y-cuidado-personal",
          "belleza-y-cuidado-personal",
          "lacteos",
          "frutas",
          "lacteos",
          "lacteos",
          "congelados",
          "belleza-y-cuidado-personal",
          "comidas-preparadas",
          "belleza-y-cuidado-personal",
          "verduras",
          "belleza-y-cuidado-personal",
          "belleza-y-cuidado-personal",
          "lacteos",
          "lacteos",
          "instantaneos-y-sopas",
          "congelados",
          "belleza-y-cuidado-personal",
          "belleza-y-cuidado-personal",
          "belleza-y-cuidado-personal",
          "belleza-y-cuidado-personal",
          "belleza-y-cuidado-personal",
          "congelados",
          "instantaneos-y-sopas",
          "lacteos",
          "lacteos",
          "belleza-y-cuidado-personal",
          "congelados",
          "instantaneos-y-sopas",
          "congelados",
          "lacteos",
          "belleza-y-cuidado-personal",
          "belleza-y-cuidado-personal",
          "congelados",
          "lacteos",
          "lacteos",
          "belleza-y-cuidado-personal",
          "congelados",
          "belleza-y-cuidado-personal",
          "lacteos",
          "lacteos",
          "frutas",
          "verduras",
          "lacteos",
          "verduras",
          "belleza-y-cuidado-personal",
          "congelados",
          "frutas",
          "lacteos",
          "lacteos",
          "belleza-y-cuidado-personal",
          "instantaneos-y-sopas",
          "belleza-y-cuidado-personal",
          "congelados",
          "congelados",
          "belleza-y-cuidado-personal",
          "belleza-y-cuidado-personal",
          "belleza-y-cuidado-personal",
          "belleza-y-cuidado-personal",
          "belleza-y-cuidado-personal",
          "belleza-y-cuidado-personal",
          "congelados",
          "belleza-y-cuidado-personal",
          "belleza-y-cuidado-personal",
          "congelados",
          "",
          "",
          "",
          "",
          "",
          "",
          ""
         ],
         "type": "treemap",
         "values": [
          304.5,
          0,
          546,
          0,
          0,
          0,
          0,
          0,
          0,
          0,
          0,
          0,
          123.75,
          444.6666666666667,
          0,
          55.166666666666664,
          0,
          0,
          0,
          0,
          660,
          590,
          0,
          0,
          795,
          660,
          795,
          0,
          0,
          0,
          0,
          0,
          34.083333333333336,
          0,
          0,
          0,
          797,
          0,
          164.25,
          0,
          0,
          0,
          0,
          650,
          0,
          0,
          0,
          429.7857142857143,
          0,
          0,
          0,
          0,
          0,
          0,
          160,
          94.83333333333333,
          0,
          0,
          357.5,
          88.55555555555556,
          0,
          0,
          0,
          0,
          200,
          0,
          117.0952380952381,
          0,
          0,
          0,
          70,
          0,
          0,
          4.471264367816092,
          0,
          0,
          0,
          0,
          0,
          0,
          0,
          149.5,
          0,
          0,
          456.15625,
          0,
          0,
          0,
          0,
          0,
          0,
          684.8571428571429,
          0,
          0,
          0,
          0,
          0,
          148.34285714285716,
          0,
          0,
          955,
          0,
          0,
          300,
          16.318181818181817,
          0,
          0,
          0,
          657,
          0,
          0,
          0,
          0,
          429.8666666666667,
          252.25,
          10.852941176470589,
          0,
          0,
          19.5,
          0,
          0,
          0,
          0,
          0,
          0,
          0,
          0,
          0,
          0,
          120,
          0,
          0,
          0,
          0,
          344.3333333333333,
          0,
          261,
          1.7674418604651163,
          0,
          0,
          0,
          0,
          0,
          0,
          0,
          0,
          0,
          0,
          0,
          0,
          0,
          869.8,
          0,
          0,
          0,
          0,
          136.26666666666668,
          0,
          0,
          0,
          103.45454545454545,
          0,
          0,
          210,
          0,
          0,
          0,
          8324.412481962481,
          200,
          4269.801488095238,
          0,
          0,
          1473.7098292229334,
          0
         ]
        }
       ],
       "layout": {
        "autosize": true,
        "legend": {
         "tracegroupgap": 0
        },
        "template": {
         "data": {
          "bar": [
           {
            "error_x": {
             "color": "#2a3f5f"
            },
            "error_y": {
             "color": "#2a3f5f"
            },
            "marker": {
             "line": {
              "color": "#E5ECF6",
              "width": 0.5
             },
             "pattern": {
              "fillmode": "overlay",
              "size": 10,
              "solidity": 0.2
             }
            },
            "type": "bar"
           }
          ],
          "barpolar": [
           {
            "marker": {
             "line": {
              "color": "#E5ECF6",
              "width": 0.5
             },
             "pattern": {
              "fillmode": "overlay",
              "size": 10,
              "solidity": 0.2
             }
            },
            "type": "barpolar"
           }
          ],
          "carpet": [
           {
            "aaxis": {
             "endlinecolor": "#2a3f5f",
             "gridcolor": "white",
             "linecolor": "white",
             "minorgridcolor": "white",
             "startlinecolor": "#2a3f5f"
            },
            "baxis": {
             "endlinecolor": "#2a3f5f",
             "gridcolor": "white",
             "linecolor": "white",
             "minorgridcolor": "white",
             "startlinecolor": "#2a3f5f"
            },
            "type": "carpet"
           }
          ],
          "choropleth": [
           {
            "colorbar": {
             "outlinewidth": 0,
             "ticks": ""
            },
            "type": "choropleth"
           }
          ],
          "contour": [
           {
            "colorbar": {
             "outlinewidth": 0,
             "ticks": ""
            },
            "colorscale": [
             [
              0,
              "#0d0887"
             ],
             [
              0.1111111111111111,
              "#46039f"
             ],
             [
              0.2222222222222222,
              "#7201a8"
             ],
             [
              0.3333333333333333,
              "#9c179e"
             ],
             [
              0.4444444444444444,
              "#bd3786"
             ],
             [
              0.5555555555555556,
              "#d8576b"
             ],
             [
              0.6666666666666666,
              "#ed7953"
             ],
             [
              0.7777777777777778,
              "#fb9f3a"
             ],
             [
              0.8888888888888888,
              "#fdca26"
             ],
             [
              1,
              "#f0f921"
             ]
            ],
            "type": "contour"
           }
          ],
          "contourcarpet": [
           {
            "colorbar": {
             "outlinewidth": 0,
             "ticks": ""
            },
            "type": "contourcarpet"
           }
          ],
          "heatmap": [
           {
            "colorbar": {
             "outlinewidth": 0,
             "ticks": ""
            },
            "colorscale": [
             [
              0,
              "#0d0887"
             ],
             [
              0.1111111111111111,
              "#46039f"
             ],
             [
              0.2222222222222222,
              "#7201a8"
             ],
             [
              0.3333333333333333,
              "#9c179e"
             ],
             [
              0.4444444444444444,
              "#bd3786"
             ],
             [
              0.5555555555555556,
              "#d8576b"
             ],
             [
              0.6666666666666666,
              "#ed7953"
             ],
             [
              0.7777777777777778,
              "#fb9f3a"
             ],
             [
              0.8888888888888888,
              "#fdca26"
             ],
             [
              1,
              "#f0f921"
             ]
            ],
            "type": "heatmap"
           }
          ],
          "heatmapgl": [
           {
            "colorbar": {
             "outlinewidth": 0,
             "ticks": ""
            },
            "colorscale": [
             [
              0,
              "#0d0887"
             ],
             [
              0.1111111111111111,
              "#46039f"
             ],
             [
              0.2222222222222222,
              "#7201a8"
             ],
             [
              0.3333333333333333,
              "#9c179e"
             ],
             [
              0.4444444444444444,
              "#bd3786"
             ],
             [
              0.5555555555555556,
              "#d8576b"
             ],
             [
              0.6666666666666666,
              "#ed7953"
             ],
             [
              0.7777777777777778,
              "#fb9f3a"
             ],
             [
              0.8888888888888888,
              "#fdca26"
             ],
             [
              1,
              "#f0f921"
             ]
            ],
            "type": "heatmapgl"
           }
          ],
          "histogram": [
           {
            "marker": {
             "pattern": {
              "fillmode": "overlay",
              "size": 10,
              "solidity": 0.2
             }
            },
            "type": "histogram"
           }
          ],
          "histogram2d": [
           {
            "colorbar": {
             "outlinewidth": 0,
             "ticks": ""
            },
            "colorscale": [
             [
              0,
              "#0d0887"
             ],
             [
              0.1111111111111111,
              "#46039f"
             ],
             [
              0.2222222222222222,
              "#7201a8"
             ],
             [
              0.3333333333333333,
              "#9c179e"
             ],
             [
              0.4444444444444444,
              "#bd3786"
             ],
             [
              0.5555555555555556,
              "#d8576b"
             ],
             [
              0.6666666666666666,
              "#ed7953"
             ],
             [
              0.7777777777777778,
              "#fb9f3a"
             ],
             [
              0.8888888888888888,
              "#fdca26"
             ],
             [
              1,
              "#f0f921"
             ]
            ],
            "type": "histogram2d"
           }
          ],
          "histogram2dcontour": [
           {
            "colorbar": {
             "outlinewidth": 0,
             "ticks": ""
            },
            "colorscale": [
             [
              0,
              "#0d0887"
             ],
             [
              0.1111111111111111,
              "#46039f"
             ],
             [
              0.2222222222222222,
              "#7201a8"
             ],
             [
              0.3333333333333333,
              "#9c179e"
             ],
             [
              0.4444444444444444,
              "#bd3786"
             ],
             [
              0.5555555555555556,
              "#d8576b"
             ],
             [
              0.6666666666666666,
              "#ed7953"
             ],
             [
              0.7777777777777778,
              "#fb9f3a"
             ],
             [
              0.8888888888888888,
              "#fdca26"
             ],
             [
              1,
              "#f0f921"
             ]
            ],
            "type": "histogram2dcontour"
           }
          ],
          "mesh3d": [
           {
            "colorbar": {
             "outlinewidth": 0,
             "ticks": ""
            },
            "type": "mesh3d"
           }
          ],
          "parcoords": [
           {
            "line": {
             "colorbar": {
              "outlinewidth": 0,
              "ticks": ""
             }
            },
            "type": "parcoords"
           }
          ],
          "pie": [
           {
            "automargin": true,
            "type": "pie"
           }
          ],
          "scatter": [
           {
            "fillpattern": {
             "fillmode": "overlay",
             "size": 10,
             "solidity": 0.2
            },
            "type": "scatter"
           }
          ],
          "scatter3d": [
           {
            "line": {
             "colorbar": {
              "outlinewidth": 0,
              "ticks": ""
             }
            },
            "marker": {
             "colorbar": {
              "outlinewidth": 0,
              "ticks": ""
             }
            },
            "type": "scatter3d"
           }
          ],
          "scattercarpet": [
           {
            "marker": {
             "colorbar": {
              "outlinewidth": 0,
              "ticks": ""
             }
            },
            "type": "scattercarpet"
           }
          ],
          "scattergeo": [
           {
            "marker": {
             "colorbar": {
              "outlinewidth": 0,
              "ticks": ""
             }
            },
            "type": "scattergeo"
           }
          ],
          "scattergl": [
           {
            "marker": {
             "colorbar": {
              "outlinewidth": 0,
              "ticks": ""
             }
            },
            "type": "scattergl"
           }
          ],
          "scattermapbox": [
           {
            "marker": {
             "colorbar": {
              "outlinewidth": 0,
              "ticks": ""
             }
            },
            "type": "scattermapbox"
           }
          ],
          "scatterpolar": [
           {
            "marker": {
             "colorbar": {
              "outlinewidth": 0,
              "ticks": ""
             }
            },
            "type": "scatterpolar"
           }
          ],
          "scatterpolargl": [
           {
            "marker": {
             "colorbar": {
              "outlinewidth": 0,
              "ticks": ""
             }
            },
            "type": "scatterpolargl"
           }
          ],
          "scatterternary": [
           {
            "marker": {
             "colorbar": {
              "outlinewidth": 0,
              "ticks": ""
             }
            },
            "type": "scatterternary"
           }
          ],
          "surface": [
           {
            "colorbar": {
             "outlinewidth": 0,
             "ticks": ""
            },
            "colorscale": [
             [
              0,
              "#0d0887"
             ],
             [
              0.1111111111111111,
              "#46039f"
             ],
             [
              0.2222222222222222,
              "#7201a8"
             ],
             [
              0.3333333333333333,
              "#9c179e"
             ],
             [
              0.4444444444444444,
              "#bd3786"
             ],
             [
              0.5555555555555556,
              "#d8576b"
             ],
             [
              0.6666666666666666,
              "#ed7953"
             ],
             [
              0.7777777777777778,
              "#fb9f3a"
             ],
             [
              0.8888888888888888,
              "#fdca26"
             ],
             [
              1,
              "#f0f921"
             ]
            ],
            "type": "surface"
           }
          ],
          "table": [
           {
            "cells": {
             "fill": {
              "color": "#EBF0F8"
             },
             "line": {
              "color": "white"
             }
            },
            "header": {
             "fill": {
              "color": "#C8D4E3"
             },
             "line": {
              "color": "white"
             }
            },
            "type": "table"
           }
          ]
         },
         "layout": {
          "annotationdefaults": {
           "arrowcolor": "#2a3f5f",
           "arrowhead": 0,
           "arrowwidth": 1
          },
          "autotypenumbers": "strict",
          "coloraxis": {
           "colorbar": {
            "outlinewidth": 0,
            "ticks": ""
           }
          },
          "colorscale": {
           "diverging": [
            [
             0,
             "#8e0152"
            ],
            [
             0.1,
             "#c51b7d"
            ],
            [
             0.2,
             "#de77ae"
            ],
            [
             0.3,
             "#f1b6da"
            ],
            [
             0.4,
             "#fde0ef"
            ],
            [
             0.5,
             "#f7f7f7"
            ],
            [
             0.6,
             "#e6f5d0"
            ],
            [
             0.7,
             "#b8e186"
            ],
            [
             0.8,
             "#7fbc41"
            ],
            [
             0.9,
             "#4d9221"
            ],
            [
             1,
             "#276419"
            ]
           ],
           "sequential": [
            [
             0,
             "#0d0887"
            ],
            [
             0.1111111111111111,
             "#46039f"
            ],
            [
             0.2222222222222222,
             "#7201a8"
            ],
            [
             0.3333333333333333,
             "#9c179e"
            ],
            [
             0.4444444444444444,
             "#bd3786"
            ],
            [
             0.5555555555555556,
             "#d8576b"
            ],
            [
             0.6666666666666666,
             "#ed7953"
            ],
            [
             0.7777777777777778,
             "#fb9f3a"
            ],
            [
             0.8888888888888888,
             "#fdca26"
            ],
            [
             1,
             "#f0f921"
            ]
           ],
           "sequentialminus": [
            [
             0,
             "#0d0887"
            ],
            [
             0.1111111111111111,
             "#46039f"
            ],
            [
             0.2222222222222222,
             "#7201a8"
            ],
            [
             0.3333333333333333,
             "#9c179e"
            ],
            [
             0.4444444444444444,
             "#bd3786"
            ],
            [
             0.5555555555555556,
             "#d8576b"
            ],
            [
             0.6666666666666666,
             "#ed7953"
            ],
            [
             0.7777777777777778,
             "#fb9f3a"
            ],
            [
             0.8888888888888888,
             "#fdca26"
            ],
            [
             1,
             "#f0f921"
            ]
           ]
          },
          "colorway": [
           "#636efa",
           "#EF553B",
           "#00cc96",
           "#ab63fa",
           "#FFA15A",
           "#19d3f3",
           "#FF6692",
           "#B6E880",
           "#FF97FF",
           "#FECB52"
          ],
          "font": {
           "color": "#2a3f5f"
          },
          "geo": {
           "bgcolor": "white",
           "lakecolor": "white",
           "landcolor": "#E5ECF6",
           "showlakes": true,
           "showland": true,
           "subunitcolor": "white"
          },
          "hoverlabel": {
           "align": "left"
          },
          "hovermode": "closest",
          "mapbox": {
           "style": "light"
          },
          "paper_bgcolor": "white",
          "plot_bgcolor": "#E5ECF6",
          "polar": {
           "angularaxis": {
            "gridcolor": "white",
            "linecolor": "white",
            "ticks": ""
           },
           "bgcolor": "#E5ECF6",
           "radialaxis": {
            "gridcolor": "white",
            "linecolor": "white",
            "ticks": ""
           }
          },
          "scene": {
           "xaxis": {
            "backgroundcolor": "#E5ECF6",
            "gridcolor": "white",
            "gridwidth": 2,
            "linecolor": "white",
            "showbackground": true,
            "ticks": "",
            "zerolinecolor": "white"
           },
           "yaxis": {
            "backgroundcolor": "#E5ECF6",
            "gridcolor": "white",
            "gridwidth": 2,
            "linecolor": "white",
            "showbackground": true,
            "ticks": "",
            "zerolinecolor": "white"
           },
           "zaxis": {
            "backgroundcolor": "#E5ECF6",
            "gridcolor": "white",
            "gridwidth": 2,
            "linecolor": "white",
            "showbackground": true,
            "ticks": "",
            "zerolinecolor": "white"
           }
          },
          "shapedefaults": {
           "line": {
            "color": "#2a3f5f"
           }
          },
          "ternary": {
           "aaxis": {
            "gridcolor": "white",
            "linecolor": "white",
            "ticks": ""
           },
           "baxis": {
            "gridcolor": "white",
            "linecolor": "white",
            "ticks": ""
           },
           "bgcolor": "#E5ECF6",
           "caxis": {
            "gridcolor": "white",
            "linecolor": "white",
            "ticks": ""
           }
          },
          "title": {
           "x": 0.05
          },
          "xaxis": {
           "automargin": true,
           "gridcolor": "white",
           "linecolor": "white",
           "ticks": "",
           "title": {
            "standoff": 15
           },
           "zerolinecolor": "white",
           "zerolinewidth": 2
          },
          "yaxis": {
           "automargin": true,
           "gridcolor": "white",
           "linecolor": "white",
           "ticks": "",
           "title": {
            "standoff": 15
           },
           "zerolinecolor": "white",
           "zerolinewidth": 2
          }
         }
        },
        "title": {
         "text": "Desconto por Categoria e Marca"
        }
       }
      },
      "image/png": "[encoded data removed]",
      "text/html": [
       "<div>                            <div id=\"c07547f5-eb71-4adb-946b-c689a64c0eab\" class=\"plotly-graph-div\" style=\"height:525px; width:100%;\"></div>            <script type=\"text/javascript\">                require([\"plotly\"], function(Plotly) {                    window.PLOTLYENV=window.PLOTLYENV || {};                                    if (document.getElementById(\"c07547f5-eb71-4adb-946b-c689a64c0eab\")) {                    Plotly.newPlot(                        \"c07547f5-eb71-4adb-946b-c689a64c0eab\",                        [{\"branchvalues\":\"total\",\"customdata\":[[\"Protex\"],[\"Qualy\"],[\"Viennetta Bresler\"],[\"Old Spice\"],[\"King\"],[\"1+1 Soprole\"],[\"Activia\"],[\"Quillayes\"],[\"Agrosano\"],[\"Alcafood\"],[\"Alimentos Shen\"],[\"Rana\"],[\"Always\"],[\"Aquafresh\"],[\"Receta Del Abuelo\"],[\"Kotex\"],[\"Gourmet\"],[\"Kumey\"],[\"Astra\"],[\"Regimel\"],[\"Rexona\"],[\"Axe\"],[\"Omega 3\"],[\"La Crianza\"],[\"Rexona Clinical\"],[\"Rexona Men\"],[\"Rexona Men Clinical\"],[\"Babyland\"],[\"Rik\\u00fc\"],[\"Rock\"],[\"Sadia\"],[\"Guallarauco\"],[\"Ballerina\"],[\"Base Culinar\"],[\"Sadia\"],[\"Head & Shoulders\"],[\"Oral Fresh\"],[\"La Crianza\"],[\"Sahne Nuss\"],[\"Sahne Nuss\"],[\"San Francisco De Loncomilla\"],[\"Bellekiss\"],[\"Yogu - Yogu\"],[\"BiO\"],[\"Bonella\"],[\"Bravissimo\"],[\"Bredenmaster\"],[\"Bresler\"],[\"Brooks\"],[\"Calan\"],[\"Lady Speed Stick\"],[\"Calo\"],[\"Not Ice Cream\"],[\"Zerolacto\"],[\"Not Milk\"],[\"Ladysoft\"],[\"Carefree\"],[\"Carozzi\"],[\"Carte Dor\"],[\"Oral-B\"],[\"Le Sancy\"],[\"Chamyto\"],[\"Chiquit\\u00edn\"],[\"Cintazul\"],[\"PF\"],[\"San Ignacio\"],[\"Colgate\"],[\"Zole\"],[\"Lefersa\"],[\"Collico\"],[\"San Jorge\"],[\"Light & Free\"],[\"Herbal\"],[\"Colun\"],[\"Copacabana\"],[\"Corbac\"],[\"Santa Isabel\"],[\"Santa Isabel\"],[\"Cotidian\"],[\"Cotosan\"],[\"Santa Isabel\"],[\"Santa Marta\"],[\"PF\"],[\"Linic\"],[\"Savory\"],[\"Listerine\"],[\"Loncoleche\"],[\"Los Alerces\"],[\"Schick\"],[\"Pamperita\"],[\"Crucina\"],[\"Pantene\"],[\"Sedal\"],[\"Sensodyne\"],[\"Shake A Shake Lonco Leche\"],[\"Signore Mario\"],[\"Cuisine & Co\"],[\"Cuisine & Co\"],[\"Cuisine & Co\"],[\"Maggi\"],[\"Magnum\"],[\"Marco Polo\"],[\"Simond'S\"],[\"Simonds\"],[\"Cuisine & Co\"],[\"Sofruco\"],[\"Danone\"],[\"Deline\"],[\"Mega\"],[\"Herbal Essences\"],[\"Solo Italia\"],[\"Dento\"],[\"Dole\"],[\"Dove\"],[\"Dove Men\"],[\"Soprole\"],[\"Soprole Activ\"],[\"Hoffmann\"],[\"Minuto Verde\"],[\"Speed Stick\"],[\"Dural\\u00f3n\"],[\"Elite\"],[\"Elvive\"],[\"Familand\"],[\"Mister Veggie\"],[\"M\\u00e1xima MP\"],[\"Ideal\"],[\"M\\u00e1xima MP\"],[\"Naturella\"],[\"Super Beef\"],[\"Naturezza\"],[\"Super Cerdo\"],[\"Nesquik\"],[\"Ilicit\"],[\"Pepsodent\"],[\"Super Pollo\"],[\"Sure\\u00f1a\"],[\"Nestl\\u00e9\"],[\"Family Care\"],[\"Fiesta\"],[\"Fructis\"],[\"Surlat\"],[\"Svelty\"],[\"Frutas Y Verduras Propias\"],[\"Frutas Y Verduras Propias\"],[\"Oikos\"],[\"Jumbo\"],[\"Tena\"],[\"Tivoni\"],[\"Frutas Y Verduras Santa Isabel\"],[\"Next\"],[\"Nido\"],[\"Nivea\"],[\"Traverso\"],[\"Trianon\"],[\"Turkey Hill\"],[\"Frutos Del Maipo\"],[\"Nivea For Men\"],[\"Plenitud\"],[\"Garnier\"],[\"Nosotras\"],[\"Gillette\"],[\"Giselle\"],[\"Not Burger\"],[\"T\\u00edo Nacho\"],[\"Vanart\"],[\"Not Chicken\"],[\"(?)\"],[\"(?)\"],[\"(?)\"],[\"(?)\"],[\"(?)\"],[\"(?)\"],[\"(?)\"]],\"domain\":{\"x\":[0.0,1.0],\"y\":[0.0,1.0]},\"hovertemplate\":\"labels=%{label}\\u003cbr\\u003eDesconto=%{value}\\u003cbr\\u003eparent=%{parent}\\u003cbr\\u003eid=%{id}\\u003cbr\\u003eMarca=%{customdata[0]}\\u003cextra\\u003e\\u003c\\u002fextra\\u003e\",\"ids\":[\"belleza-y-cuidado-personal\\u002fProtex\",\"lacteos\\u002fQualy\",\"congelados\\u002fViennetta Bresler\",\"belleza-y-cuidado-personal\\u002fOld Spice\",\"congelados\\u002fKing\",\"lacteos\\u002f1+1 Soprole\",\"lacteos\\u002fActivia\",\"lacteos\\u002fQuillayes\",\"verduras\\u002fAgrosano\",\"instantaneos-y-sopas\\u002fAlcafood\",\"congelados\\u002fAlimentos Shen\",\"comidas-preparadas\\u002fRana\",\"belleza-y-cuidado-personal\\u002fAlways\",\"belleza-y-cuidado-personal\\u002fAquafresh\",\"congelados\\u002fReceta Del Abuelo\",\"belleza-y-cuidado-personal\\u002fKotex\",\"instantaneos-y-sopas\\u002fGourmet\",\"lacteos\\u002fKumey\",\"lacteos\\u002fAstra\",\"lacteos\\u002fRegimel\",\"belleza-y-cuidado-personal\\u002fRexona\",\"belleza-y-cuidado-personal\\u002fAxe\",\"lacteos\\u002fOmega 3\",\"comidas-preparadas\\u002fLa Crianza\",\"belleza-y-cuidado-personal\\u002fRexona Clinical\",\"belleza-y-cuidado-personal\\u002fRexona Men\",\"belleza-y-cuidado-personal\\u002fRexona Men Clinical\",\"belleza-y-cuidado-personal\\u002fBabyland\",\"congelados\\u002fRik\\u00fc\",\"congelados\\u002fRock\",\"comidas-preparadas\\u002fSadia\",\"congelados\\u002fGuallarauco\",\"belleza-y-cuidado-personal\\u002fBallerina\",\"lacteos\\u002fBase Culinar\",\"congelados\\u002fSadia\",\"belleza-y-cuidado-personal\\u002fHead & Shoulders\",\"belleza-y-cuidado-personal\\u002fOral Fresh\",\"congelados\\u002fLa Crianza\",\"congelados\\u002fSahne Nuss\",\"lacteos\\u002fSahne Nuss\",\"congelados\\u002fSan Francisco De Loncomilla\",\"belleza-y-cuidado-personal\\u002fBellekiss\",\"lacteos\\u002fYogu - Yogu\",\"belleza-y-cuidado-personal\\u002fBiO\",\"lacteos\\u002fBonella\",\"congelados\\u002fBravissimo\",\"comidas-preparadas\\u002fBredenmaster\",\"congelados\\u002fBresler\",\"belleza-y-cuidado-personal\\u002fBrooks\",\"lacteos\\u002fCalan\",\"belleza-y-cuidado-personal\\u002fLady Speed Stick\",\"lacteos\\u002fCalo\",\"congelados\\u002fNot Ice Cream\",\"lacteos\\u002fZerolacto\",\"lacteos\\u002fNot Milk\",\"belleza-y-cuidado-personal\\u002fLadysoft\",\"belleza-y-cuidado-personal\\u002fCarefree\",\"instantaneos-y-sopas\\u002fCarozzi\",\"congelados\\u002fCarte Dor\",\"belleza-y-cuidado-personal\\u002fOral-B\",\"belleza-y-cuidado-personal\\u002fLe Sancy\",\"lacteos\\u002fChamyto\",\"lacteos\\u002fChiquit\\u00edn\",\"lacteos\\u002fCintazul\",\"comidas-preparadas\\u002fPF\",\"lacteos\\u002fSan Ignacio\",\"belleza-y-cuidado-personal\\u002fColgate\",\"congelados\\u002fZole\",\"lacteos\\u002fLefersa\",\"lacteos\\u002fCollico\",\"congelados\\u002fSan Jorge\",\"lacteos\\u002fLight & Free\",\"belleza-y-cuidado-personal\\u002fHerbal\",\"lacteos\\u002fColun\",\"lacteos\\u002fCopacabana\",\"comidas-preparadas\\u002fCorbac\",\"comidas-preparadas\\u002fSanta Isabel\",\"instantaneos-y-sopas\\u002fSanta Isabel\",\"belleza-y-cuidado-personal\\u002fCotidian\",\"belleza-y-cuidado-personal\\u002fCotosan\",\"lacteos\\u002fSanta Isabel\",\"lacteos\\u002fSanta Marta\",\"congelados\\u002fPF\",\"belleza-y-cuidado-personal\\u002fLinic\",\"congelados\\u002fSavory\",\"belleza-y-cuidado-personal\\u002fListerine\",\"lacteos\\u002fLoncoleche\",\"lacteos\\u002fLos Alerces\",\"belleza-y-cuidado-personal\\u002fSchick\",\"lacteos\\u002fPamperita\",\"lacteos\\u002fCrucina\",\"belleza-y-cuidado-personal\\u002fPantene\",\"belleza-y-cuidado-personal\\u002fSedal\",\"belleza-y-cuidado-personal\\u002fSensodyne\",\"lacteos\\u002fShake A Shake Lonco Leche\",\"lacteos\\u002fSignore Mario\",\"comidas-preparadas\\u002fCuisine & Co\",\"congelados\\u002fCuisine & Co\",\"instantaneos-y-sopas\\u002fCuisine & Co\",\"instantaneos-y-sopas\\u002fMaggi\",\"congelados\\u002fMagnum\",\"lacteos\\u002fMarco Polo\",\"belleza-y-cuidado-personal\\u002fSimond'S\",\"belleza-y-cuidado-personal\\u002fSimonds\",\"lacteos\\u002fCuisine & Co\",\"frutas\\u002fSofruco\",\"lacteos\\u002fDanone\",\"lacteos\\u002fDeline\",\"congelados\\u002fMega\",\"belleza-y-cuidado-personal\\u002fHerbal Essences\",\"comidas-preparadas\\u002fSolo Italia\",\"belleza-y-cuidado-personal\\u002fDento\",\"verduras\\u002fDole\",\"belleza-y-cuidado-personal\\u002fDove\",\"belleza-y-cuidado-personal\\u002fDove Men\",\"lacteos\\u002fSoprole\",\"lacteos\\u002fSoprole Activ\",\"instantaneos-y-sopas\\u002fHoffmann\",\"congelados\\u002fMinuto Verde\",\"belleza-y-cuidado-personal\\u002fSpeed Stick\",\"belleza-y-cuidado-personal\\u002fDural\\u00f3n\",\"belleza-y-cuidado-personal\\u002fElite\",\"belleza-y-cuidado-personal\\u002fElvive\",\"belleza-y-cuidado-personal\\u002fFamiland\",\"congelados\\u002fMister Veggie\",\"instantaneos-y-sopas\\u002fM\\u00e1xima MP\",\"lacteos\\u002fIdeal\",\"lacteos\\u002fM\\u00e1xima MP\",\"belleza-y-cuidado-personal\\u002fNaturella\",\"congelados\\u002fSuper Beef\",\"instantaneos-y-sopas\\u002fNaturezza\",\"congelados\\u002fSuper Cerdo\",\"lacteos\\u002fNesquik\",\"belleza-y-cuidado-personal\\u002fIlicit\",\"belleza-y-cuidado-personal\\u002fPepsodent\",\"congelados\\u002fSuper Pollo\",\"lacteos\\u002fSure\\u00f1a\",\"lacteos\\u002fNestl\\u00e9\",\"belleza-y-cuidado-personal\\u002fFamily Care\",\"congelados\\u002fFiesta\",\"belleza-y-cuidado-personal\\u002fFructis\",\"lacteos\\u002fSurlat\",\"lacteos\\u002fSvelty\",\"frutas\\u002fFrutas Y Verduras Propias\",\"verduras\\u002fFrutas Y Verduras Propias\",\"lacteos\\u002fOikos\",\"verduras\\u002fJumbo\",\"belleza-y-cuidado-personal\\u002fTena\",\"congelados\\u002fTivoni\",\"frutas\\u002fFrutas Y Verduras Santa Isabel\",\"lacteos\\u002fNext\",\"lacteos\\u002fNido\",\"belleza-y-cuidado-personal\\u002fNivea\",\"instantaneos-y-sopas\\u002fTraverso\",\"belleza-y-cuidado-personal\\u002fTrianon\",\"congelados\\u002fTurkey Hill\",\"congelados\\u002fFrutos Del Maipo\",\"belleza-y-cuidado-personal\\u002fNivea For Men\",\"belleza-y-cuidado-personal\\u002fPlenitud\",\"belleza-y-cuidado-personal\\u002fGarnier\",\"belleza-y-cuidado-personal\\u002fNosotras\",\"belleza-y-cuidado-personal\\u002fGillette\",\"belleza-y-cuidado-personal\\u002fGiselle\",\"congelados\\u002fNot Burger\",\"belleza-y-cuidado-personal\\u002fT\\u00edo Nacho\",\"belleza-y-cuidado-personal\\u002fVanart\",\"congelados\\u002fNot Chicken\",\"belleza-y-cuidado-personal\",\"comidas-preparadas\",\"congelados\",\"frutas\",\"instantaneos-y-sopas\",\"lacteos\",\"verduras\"],\"labels\":[\"Protex\",\"Qualy\",\"Viennetta Bresler\",\"Old Spice\",\"King\",\"1+1 Soprole\",\"Activia\",\"Quillayes\",\"Agrosano\",\"Alcafood\",\"Alimentos Shen\",\"Rana\",\"Always\",\"Aquafresh\",\"Receta Del Abuelo\",\"Kotex\",\"Gourmet\",\"Kumey\",\"Astra\",\"Regimel\",\"Rexona\",\"Axe\",\"Omega 3\",\"La Crianza\",\"Rexona Clinical\",\"Rexona Men\",\"Rexona Men Clinical\",\"Babyland\",\"Rik\\u00fc\",\"Rock\",\"Sadia\",\"Guallarauco\",\"Ballerina\",\"Base Culinar\",\"Sadia\",\"Head & Shoulders\",\"Oral Fresh\",\"La Crianza\",\"Sahne Nuss\",\"Sahne Nuss\",\"San Francisco De Loncomilla\",\"Bellekiss\",\"Yogu - Yogu\",\"BiO\",\"Bonella\",\"Bravissimo\",\"Bredenmaster\",\"Bresler\",\"Brooks\",\"Calan\",\"Lady Speed Stick\",\"Calo\",\"Not Ice Cream\",\"Zerolacto\",\"Not Milk\",\"Ladysoft\",\"Carefree\",\"Carozzi\",\"Carte Dor\",\"Oral-B\",\"Le Sancy\",\"Chamyto\",\"Chiquit\\u00edn\",\"Cintazul\",\"PF\",\"San Ignacio\",\"Colgate\",\"Zole\",\"Lefersa\",\"Collico\",\"San Jorge\",\"Light & Free\",\"Herbal\",\"Colun\",\"Copacabana\",\"Corbac\",\"Santa Isabel\",\"Santa Isabel\",\"Cotidian\",\"Cotosan\",\"Santa Isabel\",\"Santa Marta\",\"PF\",\"Linic\",\"Savory\",\"Listerine\",\"Loncoleche\",\"Los Alerces\",\"Schick\",\"Pamperita\",\"Crucina\",\"Pantene\",\"Sedal\",\"Sensodyne\",\"Shake A Shake Lonco Leche\",\"Signore Mario\",\"Cuisine & Co\",\"Cuisine & Co\",\"Cuisine & Co\",\"Maggi\",\"Magnum\",\"Marco Polo\",\"Simond'S\",\"Simonds\",\"Cuisine & Co\",\"Sofruco\",\"Danone\",\"Deline\",\"Mega\",\"Herbal Essences\",\"Solo Italia\",\"Dento\",\"Dole\",\"Dove\",\"Dove Men\",\"Soprole\",\"Soprole Activ\",\"Hoffmann\",\"Minuto Verde\",\"Speed Stick\",\"Dural\\u00f3n\",\"Elite\",\"Elvive\",\"Familand\",\"Mister Veggie\",\"M\\u00e1xima MP\",\"Ideal\",\"M\\u00e1xima MP\",\"Naturella\",\"Super Beef\",\"Naturezza\",\"Super Cerdo\",\"Nesquik\",\"Ilicit\",\"Pepsodent\",\"Super Pollo\",\"Sure\\u00f1a\",\"Nestl\\u00e9\",\"Family Care\",\"Fiesta\",\"Fructis\",\"Surlat\",\"Svelty\",\"Frutas Y Verduras Propias\",\"Frutas Y Verduras Propias\",\"Oikos\",\"Jumbo\",\"Tena\",\"Tivoni\",\"Frutas Y Verduras Santa Isabel\",\"Next\",\"Nido\",\"Nivea\",\"Traverso\",\"Trianon\",\"Turkey Hill\",\"Frutos Del Maipo\",\"Nivea For Men\",\"Plenitud\",\"Garnier\",\"Nosotras\",\"Gillette\",\"Giselle\",\"Not Burger\",\"T\\u00edo Nacho\",\"Vanart\",\"Not Chicken\",\"belleza-y-cuidado-personal\",\"comidas-preparadas\",\"congelados\",\"frutas\",\"instantaneos-y-sopas\",\"lacteos\",\"verduras\"],\"marker\":{\"colors\":[\"#636efa\",\"#EF553B\",\"#00cc96\",\"#ab63fa\",\"#FFA15A\",\"#19d3f3\",\"#FF6692\",\"#B6E880\",\"#FF97FF\",\"#FECB52\",\"#636efa\",\"#EF553B\",\"#00cc96\",\"#ab63fa\",\"#FFA15A\",\"#19d3f3\",\"#FF6692\",\"#B6E880\",\"#FF97FF\",\"#FECB52\",\"#636efa\",\"#EF553B\",\"#00cc96\",\"#ab63fa\",\"#FFA15A\",\"#19d3f3\",\"#FF6692\",\"#B6E880\",\"#FF97FF\",\"#FECB52\",\"#636efa\",\"#EF553B\",\"#00cc96\",\"#ab63fa\",\"#636efa\",\"#FFA15A\",\"#19d3f3\",\"#ab63fa\",\"#FF6692\",\"#FF6692\",\"#B6E880\",\"#FF97FF\",\"#FECB52\",\"#636efa\",\"#EF553B\",\"#00cc96\",\"#ab63fa\",\"#FFA15A\",\"#19d3f3\",\"#FF6692\",\"#B6E880\",\"#FF97FF\",\"#FECB52\",\"#636efa\",\"#EF553B\",\"#00cc96\",\"#ab63fa\",\"#FFA15A\",\"#19d3f3\",\"#FF6692\",\"#B6E880\",\"#FF97FF\",\"#FECB52\",\"#636efa\",\"#EF553B\",\"#00cc96\",\"#ab63fa\",\"#FFA15A\",\"#19d3f3\",\"#FF6692\",\"#B6E880\",\"#FF97FF\",\"#FECB52\",\"#636efa\",\"#EF553B\",\"#00cc96\",\"#ab63fa\",\"#ab63fa\",\"#FFA15A\",\"#19d3f3\",\"#ab63fa\",\"#FF6692\",\"#EF553B\",\"#B6E880\",\"#FF97FF\",\"#FECB52\",\"#636efa\",\"#EF553B\",\"#00cc96\",\"#ab63fa\",\"#FFA15A\",\"#19d3f3\",\"#FF6692\",\"#B6E880\",\"#FF97FF\",\"#FECB52\",\"#636efa\",\"#636efa\",\"#636efa\",\"#EF553B\",\"#00cc96\",\"#ab63fa\",\"#FFA15A\",\"#19d3f3\",\"#636efa\",\"#FF6692\",\"#B6E880\",\"#FF97FF\",\"#FECB52\",\"#636efa\",\"#EF553B\",\"#00cc96\",\"#ab63fa\",\"#FFA15A\",\"#19d3f3\",\"#FF6692\",\"#B6E880\",\"#FF97FF\",\"#FECB52\",\"#636efa\",\"#EF553B\",\"#00cc96\",\"#ab63fa\",\"#FFA15A\",\"#19d3f3\",\"#FF6692\",\"#B6E880\",\"#FF6692\",\"#FF97FF\",\"#FECB52\",\"#636efa\",\"#EF553B\",\"#00cc96\",\"#ab63fa\",\"#FFA15A\",\"#19d3f3\",\"#FF6692\",\"#B6E880\",\"#FF97FF\",\"#FECB52\",\"#636efa\",\"#EF553B\",\"#00cc96\",\"#ab63fa\",\"#ab63fa\",\"#FFA15A\",\"#19d3f3\",\"#FF6692\",\"#B6E880\",\"#FF97FF\",\"#FECB52\",\"#636efa\",\"#EF553B\",\"#00cc96\",\"#ab63fa\",\"#FFA15A\",\"#19d3f3\",\"#FF6692\",\"#B6E880\",\"#FF97FF\",\"#FECB52\",\"#636efa\",\"#EF553B\",\"#00cc96\",\"#ab63fa\",\"#FFA15A\",\"#19d3f3\",\"#FF6692\",\"#FF6692\",\"#FF6692\",\"#FF6692\",\"#FF6692\",\"#FF6692\",\"#FF6692\"]},\"name\":\"\",\"parents\":[\"belleza-y-cuidado-personal\",\"lacteos\",\"congelados\",\"belleza-y-cuidado-personal\",\"congelados\",\"lacteos\",\"lacteos\",\"lacteos\",\"verduras\",\"instantaneos-y-sopas\",\"congelados\",\"comidas-preparadas\",\"belleza-y-cuidado-personal\",\"belleza-y-cuidado-personal\",\"congelados\",\"belleza-y-cuidado-personal\",\"instantaneos-y-sopas\",\"lacteos\",\"lacteos\",\"lacteos\",\"belleza-y-cuidado-personal\",\"belleza-y-cuidado-personal\",\"lacteos\",\"comidas-preparadas\",\"belleza-y-cuidado-personal\",\"belleza-y-cuidado-personal\",\"belleza-y-cuidado-personal\",\"belleza-y-cuidado-personal\",\"congelados\",\"congelados\",\"comidas-preparadas\",\"congelados\",\"belleza-y-cuidado-personal\",\"lacteos\",\"congelados\",\"belleza-y-cuidado-personal\",\"belleza-y-cuidado-personal\",\"congelados\",\"congelados\",\"lacteos\",\"congelados\",\"belleza-y-cuidado-personal\",\"lacteos\",\"belleza-y-cuidado-personal\",\"lacteos\",\"congelados\",\"comidas-preparadas\",\"congelados\",\"belleza-y-cuidado-personal\",\"lacteos\",\"belleza-y-cuidado-personal\",\"lacteos\",\"congelados\",\"lacteos\",\"lacteos\",\"belleza-y-cuidado-personal\",\"belleza-y-cuidado-personal\",\"instantaneos-y-sopas\",\"congelados\",\"belleza-y-cuidado-personal\",\"belleza-y-cuidado-personal\",\"lacteos\",\"lacteos\",\"lacteos\",\"comidas-preparadas\",\"lacteos\",\"belleza-y-cuidado-personal\",\"congelados\",\"lacteos\",\"lacteos\",\"congelados\",\"lacteos\",\"belleza-y-cuidado-personal\",\"lacteos\",\"lacteos\",\"comidas-preparadas\",\"comidas-preparadas\",\"instantaneos-y-sopas\",\"belleza-y-cuidado-personal\",\"belleza-y-cuidado-personal\",\"lacteos\",\"lacteos\",\"congelados\",\"belleza-y-cuidado-personal\",\"congelados\",\"belleza-y-cuidado-personal\",\"lacteos\",\"lacteos\",\"belleza-y-cuidado-personal\",\"lacteos\",\"lacteos\",\"belleza-y-cuidado-personal\",\"belleza-y-cuidado-personal\",\"belleza-y-cuidado-personal\",\"lacteos\",\"lacteos\",\"comidas-preparadas\",\"congelados\",\"instantaneos-y-sopas\",\"instantaneos-y-sopas\",\"congelados\",\"lacteos\",\"belleza-y-cuidado-personal\",\"belleza-y-cuidado-personal\",\"lacteos\",\"frutas\",\"lacteos\",\"lacteos\",\"congelados\",\"belleza-y-cuidado-personal\",\"comidas-preparadas\",\"belleza-y-cuidado-personal\",\"verduras\",\"belleza-y-cuidado-personal\",\"belleza-y-cuidado-personal\",\"lacteos\",\"lacteos\",\"instantaneos-y-sopas\",\"congelados\",\"belleza-y-cuidado-personal\",\"belleza-y-cuidado-personal\",\"belleza-y-cuidado-personal\",\"belleza-y-cuidado-personal\",\"belleza-y-cuidado-personal\",\"congelados\",\"instantaneos-y-sopas\",\"lacteos\",\"lacteos\",\"belleza-y-cuidado-personal\",\"congelados\",\"instantaneos-y-sopas\",\"congelados\",\"lacteos\",\"belleza-y-cuidado-personal\",\"belleza-y-cuidado-personal\",\"congelados\",\"lacteos\",\"lacteos\",\"belleza-y-cuidado-personal\",\"congelados\",\"belleza-y-cuidado-personal\",\"lacteos\",\"lacteos\",\"frutas\",\"verduras\",\"lacteos\",\"verduras\",\"belleza-y-cuidado-personal\",\"congelados\",\"frutas\",\"lacteos\",\"lacteos\",\"belleza-y-cuidado-personal\",\"instantaneos-y-sopas\",\"belleza-y-cuidado-personal\",\"congelados\",\"congelados\",\"belleza-y-cuidado-personal\",\"belleza-y-cuidado-personal\",\"belleza-y-cuidado-personal\",\"belleza-y-cuidado-personal\",\"belleza-y-cuidado-personal\",\"belleza-y-cuidado-personal\",\"congelados\",\"belleza-y-cuidado-personal\",\"belleza-y-cuidado-personal\",\"congelados\",\"\",\"\",\"\",\"\",\"\",\"\",\"\"],\"values\":[304.5,0.0,546.0,0.0,0.0,0.0,0.0,0.0,0.0,0.0,0.0,0.0,123.75,444.6666666666667,0.0,55.166666666666664,0.0,0.0,0.0,0.0,660.0,590.0,0.0,0.0,795.0,660.0,795.0,0.0,0.0,0.0,0.0,0.0,34.083333333333336,0.0,0.0,0.0,797.0,0.0,164.25,0.0,0.0,0.0,0.0,650.0,0.0,0.0,0.0,429.7857142857143,0.0,0.0,0.0,0.0,0.0,0.0,160.0,94.83333333333333,0.0,0.0,357.5,88.55555555555556,0.0,0.0,0.0,0.0,200.0,0.0,117.0952380952381,0.0,0.0,0.0,70.0,0.0,0.0,4.471264367816092,0.0,0.0,0.0,0.0,0.0,0.0,0.0,149.5,0.0,0.0,456.15625,0.0,0.0,0.0,0.0,0.0,0.0,684.8571428571429,0.0,0.0,0.0,0.0,0.0,148.34285714285716,0.0,0.0,955.0,0.0,0.0,300.0,16.318181818181817,0.0,0.0,0.0,657.0,0.0,0.0,0.0,0.0,429.8666666666667,252.25,10.852941176470589,0.0,0.0,19.5,0.0,0.0,0.0,0.0,0.0,0.0,0.0,0.0,0.0,0.0,120.0,0.0,0.0,0.0,0.0,344.3333333333333,0.0,261.0,1.7674418604651163,0.0,0.0,0.0,0.0,0.0,0.0,0.0,0.0,0.0,0.0,0.0,0.0,0.0,869.8,0.0,0.0,0.0,0.0,136.26666666666668,0.0,0.0,0.0,103.45454545454545,0.0,0.0,210.0,0.0,0.0,0.0,8324.412481962481,200.0,4269.801488095238,0.0,0.0,1473.7098292229334,0.0],\"type\":\"treemap\"}],                        {\"template\":{\"data\":{\"histogram2dcontour\":[{\"type\":\"histogram2dcontour\",\"colorbar\":{\"outlinewidth\":0,\"ticks\":\"\"},\"colorscale\":[[0.0,\"#0d0887\"],[0.1111111111111111,\"#46039f\"],[0.2222222222222222,\"#7201a8\"],[0.3333333333333333,\"#9c179e\"],[0.4444444444444444,\"#bd3786\"],[0.5555555555555556,\"#d8576b\"],[0.6666666666666666,\"#ed7953\"],[0.7777777777777778,\"#fb9f3a\"],[0.8888888888888888,\"#fdca26\"],[1.0,\"#f0f921\"]]}],\"choropleth\":[{\"type\":\"choropleth\",\"colorbar\":{\"outlinewidth\":0,\"ticks\":\"\"}}],\"histogram2d\":[{\"type\":\"histogram2d\",\"colorbar\":{\"outlinewidth\":0,\"ticks\":\"\"},\"colorscale\":[[0.0,\"#0d0887\"],[0.1111111111111111,\"#46039f\"],[0.2222222222222222,\"#7201a8\"],[0.3333333333333333,\"#9c179e\"],[0.4444444444444444,\"#bd3786\"],[0.5555555555555556,\"#d8576b\"],[0.6666666666666666,\"#ed7953\"],[0.7777777777777778,\"#fb9f3a\"],[0.8888888888888888,\"#fdca26\"],[1.0,\"#f0f921\"]]}],\"heatmap\":[{\"type\":\"heatmap\",\"colorbar\":{\"outlinewidth\":0,\"ticks\":\"\"},\"colorscale\":[[0.0,\"#0d0887\"],[0.1111111111111111,\"#46039f\"],[0.2222222222222222,\"#7201a8\"],[0.3333333333333333,\"#9c179e\"],[0.4444444444444444,\"#bd3786\"],[0.5555555555555556,\"#d8576b\"],[0.6666666666666666,\"#ed7953\"],[0.7777777777777778,\"#fb9f3a\"],[0.8888888888888888,\"#fdca26\"],[1.0,\"#f0f921\"]]}],\"heatmapgl\":[{\"type\":\"heatmapgl\",\"colorbar\":{\"outlinewidth\":0,\"ticks\":\"\"},\"colorscale\":[[0.0,\"#0d0887\"],[0.1111111111111111,\"#46039f\"],[0.2222222222222222,\"#7201a8\"],[0.3333333333333333,\"#9c179e\"],[0.4444444444444444,\"#bd3786\"],[0.5555555555555556,\"#d8576b\"],[0.6666666666666666,\"#ed7953\"],[0.7777777777777778,\"#fb9f3a\"],[0.8888888888888888,\"#fdca26\"],[1.0,\"#f0f921\"]]}],\"contourcarpet\":[{\"type\":\"contourcarpet\",\"colorbar\":{\"outlinewidth\":0,\"ticks\":\"\"}}],\"contour\":[{\"type\":\"contour\",\"colorbar\":{\"outlinewidth\":0,\"ticks\":\"\"},\"colorscale\":[[0.0,\"#0d0887\"],[0.1111111111111111,\"#46039f\"],[0.2222222222222222,\"#7201a8\"],[0.3333333333333333,\"#9c179e\"],[0.4444444444444444,\"#bd3786\"],[0.5555555555555556,\"#d8576b\"],[0.6666666666666666,\"#ed7953\"],[0.7777777777777778,\"#fb9f3a\"],[0.8888888888888888,\"#fdca26\"],[1.0,\"#f0f921\"]]}],\"surface\":[{\"type\":\"surface\",\"colorbar\":{\"outlinewidth\":0,\"ticks\":\"\"},\"colorscale\":[[0.0,\"#0d0887\"],[0.1111111111111111,\"#46039f\"],[0.2222222222222222,\"#7201a8\"],[0.3333333333333333,\"#9c179e\"],[0.4444444444444444,\"#bd3786\"],[0.5555555555555556,\"#d8576b\"],[0.6666666666666666,\"#ed7953\"],[0.7777777777777778,\"#fb9f3a\"],[0.8888888888888888,\"#fdca26\"],[1.0,\"#f0f921\"]]}],\"mesh3d\":[{\"type\":\"mesh3d\",\"colorbar\":{\"outlinewidth\":0,\"ticks\":\"\"}}],\"scatter\":[{\"fillpattern\":{\"fillmode\":\"overlay\",\"size\":10,\"solidity\":0.2},\"type\":\"scatter\"}],\"parcoords\":[{\"type\":\"parcoords\",\"line\":{\"colorbar\":{\"outlinewidth\":0,\"ticks\":\"\"}}}],\"scatterpolargl\":[{\"type\":\"scatterpolargl\",\"marker\":{\"colorbar\":{\"outlinewidth\":0,\"ticks\":\"\"}}}],\"bar\":[{\"error_x\":{\"color\":\"#2a3f5f\"},\"error_y\":{\"color\":\"#2a3f5f\"},\"marker\":{\"line\":{\"color\":\"#E5ECF6\",\"width\":0.5},\"pattern\":{\"fillmode\":\"overlay\",\"size\":10,\"solidity\":0.2}},\"type\":\"bar\"}],\"scattergeo\":[{\"type\":\"scattergeo\",\"marker\":{\"colorbar\":{\"outlinewidth\":0,\"ticks\":\"\"}}}],\"scatterpolar\":[{\"type\":\"scatterpolar\",\"marker\":{\"colorbar\":{\"outlinewidth\":0,\"ticks\":\"\"}}}],\"histogram\":[{\"marker\":{\"pattern\":{\"fillmode\":\"overlay\",\"size\":10,\"solidity\":0.2}},\"type\":\"histogram\"}],\"scattergl\":[{\"type\":\"scattergl\",\"marker\":{\"colorbar\":{\"outlinewidth\":0,\"ticks\":\"\"}}}],\"scatter3d\":[{\"type\":\"scatter3d\",\"line\":{\"colorbar\":{\"outlinewidth\":0,\"ticks\":\"\"}},\"marker\":{\"colorbar\":{\"outlinewidth\":0,\"ticks\":\"\"}}}],\"scattermapbox\":[{\"type\":\"scattermapbox\",\"marker\":{\"colorbar\":{\"outlinewidth\":0,\"ticks\":\"\"}}}],\"scatterternary\":[{\"type\":\"scatterternary\",\"marker\":{\"colorbar\":{\"outlinewidth\":0,\"ticks\":\"\"}}}],\"scattercarpet\":[{\"type\":\"scattercarpet\",\"marker\":{\"colorbar\":{\"outlinewidth\":0,\"ticks\":\"\"}}}],\"carpet\":[{\"aaxis\":{\"endlinecolor\":\"#2a3f5f\",\"gridcolor\":\"white\",\"linecolor\":\"white\",\"minorgridcolor\":\"white\",\"startlinecolor\":\"#2a3f5f\"},\"baxis\":{\"endlinecolor\":\"#2a3f5f\",\"gridcolor\":\"white\",\"linecolor\":\"white\",\"minorgridcolor\":\"white\",\"startlinecolor\":\"#2a3f5f\"},\"type\":\"carpet\"}],\"table\":[{\"cells\":{\"fill\":{\"color\":\"#EBF0F8\"},\"line\":{\"color\":\"white\"}},\"header\":{\"fill\":{\"color\":\"#C8D4E3\"},\"line\":{\"color\":\"white\"}},\"type\":\"table\"}],\"barpolar\":[{\"marker\":{\"line\":{\"color\":\"#E5ECF6\",\"width\":0.5},\"pattern\":{\"fillmode\":\"overlay\",\"size\":10,\"solidity\":0.2}},\"type\":\"barpolar\"}],\"pie\":[{\"automargin\":true,\"type\":\"pie\"}]},\"layout\":{\"autotypenumbers\":\"strict\",\"colorway\":[\"#636efa\",\"#EF553B\",\"#00cc96\",\"#ab63fa\",\"#FFA15A\",\"#19d3f3\",\"#FF6692\",\"#B6E880\",\"#FF97FF\",\"#FECB52\"],\"font\":{\"color\":\"#2a3f5f\"},\"hovermode\":\"closest\",\"hoverlabel\":{\"align\":\"left\"},\"paper_bgcolor\":\"white\",\"plot_bgcolor\":\"#E5ECF6\",\"polar\":{\"bgcolor\":\"#E5ECF6\",\"angularaxis\":{\"gridcolor\":\"white\",\"linecolor\":\"white\",\"ticks\":\"\"},\"radialaxis\":{\"gridcolor\":\"white\",\"linecolor\":\"white\",\"ticks\":\"\"}},\"ternary\":{\"bgcolor\":\"#E5ECF6\",\"aaxis\":{\"gridcolor\":\"white\",\"linecolor\":\"white\",\"ticks\":\"\"},\"baxis\":{\"gridcolor\":\"white\",\"linecolor\":\"white\",\"ticks\":\"\"},\"caxis\":{\"gridcolor\":\"white\",\"linecolor\":\"white\",\"ticks\":\"\"}},\"coloraxis\":{\"colorbar\":{\"outlinewidth\":0,\"ticks\":\"\"}},\"colorscale\":{\"sequential\":[[0.0,\"#0d0887\"],[0.1111111111111111,\"#46039f\"],[0.2222222222222222,\"#7201a8\"],[0.3333333333333333,\"#9c179e\"],[0.4444444444444444,\"#bd3786\"],[0.5555555555555556,\"#d8576b\"],[0.6666666666666666,\"#ed7953\"],[0.7777777777777778,\"#fb9f3a\"],[0.8888888888888888,\"#fdca26\"],[1.0,\"#f0f921\"]],\"sequentialminus\":[[0.0,\"#0d0887\"],[0.1111111111111111,\"#46039f\"],[0.2222222222222222,\"#7201a8\"],[0.3333333333333333,\"#9c179e\"],[0.4444444444444444,\"#bd3786\"],[0.5555555555555556,\"#d8576b\"],[0.6666666666666666,\"#ed7953\"],[0.7777777777777778,\"#fb9f3a\"],[0.8888888888888888,\"#fdca26\"],[1.0,\"#f0f921\"]],\"diverging\":[[0,\"#8e0152\"],[0.1,\"#c51b7d\"],[0.2,\"#de77ae\"],[0.3,\"#f1b6da\"],[0.4,\"#fde0ef\"],[0.5,\"#f7f7f7\"],[0.6,\"#e6f5d0\"],[0.7,\"#b8e186\"],[0.8,\"#7fbc41\"],[0.9,\"#4d9221\"],[1,\"#276419\"]]},\"xaxis\":{\"gridcolor\":\"white\",\"linecolor\":\"white\",\"ticks\":\"\",\"title\":{\"standoff\":15},\"zerolinecolor\":\"white\",\"automargin\":true,\"zerolinewidth\":2},\"yaxis\":{\"gridcolor\":\"white\",\"linecolor\":\"white\",\"ticks\":\"\",\"title\":{\"standoff\":15},\"zerolinecolor\":\"white\",\"automargin\":true,\"zerolinewidth\":2},\"scene\":{\"xaxis\":{\"backgroundcolor\":\"#E5ECF6\",\"gridcolor\":\"white\",\"linecolor\":\"white\",\"showbackground\":true,\"ticks\":\"\",\"zerolinecolor\":\"white\",\"gridwidth\":2},\"yaxis\":{\"backgroundcolor\":\"#E5ECF6\",\"gridcolor\":\"white\",\"linecolor\":\"white\",\"showbackground\":true,\"ticks\":\"\",\"zerolinecolor\":\"white\",\"gridwidth\":2},\"zaxis\":{\"backgroundcolor\":\"#E5ECF6\",\"gridcolor\":\"white\",\"linecolor\":\"white\",\"showbackground\":true,\"ticks\":\"\",\"zerolinecolor\":\"white\",\"gridwidth\":2}},\"shapedefaults\":{\"line\":{\"color\":\"#2a3f5f\"}},\"annotationdefaults\":{\"arrowcolor\":\"#2a3f5f\",\"arrowhead\":0,\"arrowwidth\":1},\"geo\":{\"bgcolor\":\"white\",\"landcolor\":\"#E5ECF6\",\"subunitcolor\":\"white\",\"showland\":true,\"showlakes\":true,\"lakecolor\":\"white\"},\"title\":{\"x\":0.05},\"mapbox\":{\"style\":\"light\"}}},\"legend\":{\"tracegroupgap\":0},\"title\":{\"text\":\"Desconto por Categoria e Marca\"}},                        {\"responsive\": true}                    ).then(function(){\n",
       "                            \n",
       "var gd = document.getElementById('c07547f5-eb71-4adb-946b-c689a64c0eab');\n",
       "var x = new MutationObserver(function (mutations, observer) {{\n",
       "        var display = window.getComputedStyle(gd).display;\n",
       "        if (!display || display === 'none') {{\n",
       "            console.log([gd, 'removed!']);\n",
       "            Plotly.purge(gd);\n",
       "            observer.disconnect();\n",
       "        }}\n",
       "}});\n",
       "\n",
       "// Listen for the removal of the full notebook cells\n",
       "var notebookContainer = gd.closest('#notebook-container');\n",
       "if (notebookContainer) {{\n",
       "    x.observe(notebookContainer, {childList: true});\n",
       "}}\n",
       "\n",
       "// Listen for the clearing of the current output cell\n",
       "var outputEl = gd.closest('.output');\n",
       "if (outputEl) {{\n",
       "    x.observe(outputEl, {childList: true});\n",
       "}}\n",
       "\n",
       "                        })                };                });            </script>        </div>"
      ]
     },
     "metadata": {},
     "output_type": "display_data"
    }
   ],
   "source": [
    "# Seu código aqui\n",
    "desconto_por_categoria_marca = df.groupby(['Categoria', 'Marca'])['Desconto'].mean().reset_index()\n",
    "\n",
    "fig = px.treemap(desconto_por_categoria_marca,\n",
    "                 path=['Categoria', 'Marca'],\n",
    "                 values='Desconto',\n",
    "                 title='Desconto por Categoria e Marca',\n",
    "                 color='Marca')\n",
    "fig.show()"
   ]
  }
 ],
 "metadata": {
  "colab": {
   "provenance": []
  },
  "kernelspec": {
   "display_name": "Python 3 (ipykernel)",
   "language": "python",
   "name": "python3"
  },
  "language_info": {
   "codemirror_mode": {
    "name": "ipython",
    "version": 3
   },
   "file_extension": ".py",
   "mimetype": "text/x-python",
   "name": "python",
   "nbconvert_exporter": "python",
   "pygments_lexer": "ipython3",
   "version": "3.12.7"
  }
 },
 "nbformat": 4,
 "nbformat_minor": 4
}
